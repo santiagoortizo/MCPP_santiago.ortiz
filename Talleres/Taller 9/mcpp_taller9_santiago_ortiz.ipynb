{
 "cells": [
  {
   "cell_type": "markdown",
   "metadata": {},
   "source": [
    "# Taller 9\n",
    "Métodos Computacionales para Políticas Públicas - URosario\n",
    "\n",
    "**Entrega: viernes 24-abr-2020 11:59 PM**"
   ]
  },
  {
   "cell_type": "markdown",
   "metadata": {},
   "source": [
    "<div class=\"alert alert-success\">\n",
    "    \n",
    "**[Santiago Ortiz Ortiz]** <br><br>\n",
    "    \n",
    "[santiago.ortizo@urosario.edu.co]\n",
    "</div>"
   ]
  },
  {
   "cell_type": "markdown",
   "metadata": {},
   "source": [
    "## Instrucciones:\n",
    "- Guarde una copia de este *Jupyter Notebook* en su computador, idealmente en una carpeta destinada al material del curso.\n",
    "- Modifique el nombre del archivo del *notebook*, agregando al final un guión inferior y su nombre y apellido, separados estos últimos por otro guión inferior. Por ejemplo, mi *notebook* se llamaría: mcpp_taller9_santiago_matallana\n",
    "- Marque el *notebook* con su nombre y e-mail en el bloque verde arriba. Reemplace el texto \"[Su nombre acá]\" con su nombre y apellido. Similar para su e-mail.\n",
    "- Desarrolle la totalidad del taller sobre este *notebook*, insertando las celdas que sea necesario debajo de cada pregunta. Haga buen uso de las celdas para código y de las celdas tipo *markdown* según el caso.\n",
    "- Recuerde salvar periódicamente sus avances.\n",
    "- Cuando termine el taller:\n",
    "    1. Descárguelo en PDF. Si tiene algún problema con la conversión, descárguelo en HTML.\n",
    "    2. Suba todos los archivos a su repositorio en GitHub, en una carpeta destinada exclusivamente para este taller, antes de la fecha y hora límites."
   ]
  },
  {
   "cell_type": "markdown",
   "metadata": {},
   "source": [
    "---"
   ]
  },
  {
   "cell_type": "markdown",
   "metadata": {},
   "source": [
    "NLTK Book (http://www.nltk.org/book/), ejercicios:\n",
    "- Capítulo 1: 22, 26, 28\n",
    "- Capítulo 2: 2, 4, 11"
   ]
  },
  {
   "cell_type": "code",
   "execution_count": null,
   "metadata": {},
   "outputs": [],
   "source": [
    "pip install nltk"
   ]
  },
  {
   "cell_type": "code",
   "execution_count": 1,
   "metadata": {
    "scrolled": false
   },
   "outputs": [],
   "source": [
    "import nltk"
   ]
  },
  {
   "cell_type": "code",
   "execution_count": 4,
   "metadata": {},
   "outputs": [
    {
     "name": "stderr",
     "output_type": "stream",
     "text": [
      "[nltk_data] Downloading package inaugural to\n",
      "[nltk_data]     C:\\Users\\tatoo\\AppData\\Roaming\\nltk_data...\n",
      "[nltk_data]   Unzipping corpora\\inaugural.zip.\n"
     ]
    },
    {
     "data": {
      "text/plain": [
       "True"
      ]
     },
     "execution_count": 4,
     "metadata": {},
     "output_type": "execute_result"
    }
   ],
   "source": [
    "nltk.download('inaugural')"
   ]
  },
  {
   "cell_type": "code",
   "execution_count": 6,
   "metadata": {},
   "outputs": [
    {
     "name": "stderr",
     "output_type": "stream",
     "text": [
      "[nltk_data] Downloading package nps_chat to\n",
      "[nltk_data]     C:\\Users\\tatoo\\AppData\\Roaming\\nltk_data...\n",
      "[nltk_data]   Unzipping corpora\\nps_chat.zip.\n"
     ]
    },
    {
     "data": {
      "text/plain": [
       "True"
      ]
     },
     "execution_count": 6,
     "metadata": {},
     "output_type": "execute_result"
    }
   ],
   "source": [
    "nltk.download('nps_chat')"
   ]
  },
  {
   "cell_type": "code",
   "execution_count": 8,
   "metadata": {
    "scrolled": true
   },
   "outputs": [
    {
     "name": "stderr",
     "output_type": "stream",
     "text": [
      "[nltk_data] Downloading package webtext to\n",
      "[nltk_data]     C:\\Users\\tatoo\\AppData\\Roaming\\nltk_data...\n",
      "[nltk_data]   Unzipping corpora\\webtext.zip.\n"
     ]
    },
    {
     "data": {
      "text/plain": [
       "True"
      ]
     },
     "execution_count": 8,
     "metadata": {},
     "output_type": "execute_result"
    }
   ],
   "source": [
    "nltk.download('webtext')"
   ]
  },
  {
   "cell_type": "code",
   "execution_count": 10,
   "metadata": {},
   "outputs": [
    {
     "name": "stderr",
     "output_type": "stream",
     "text": [
      "[nltk_data] Downloading package treebank to\n",
      "[nltk_data]     C:\\Users\\tatoo\\AppData\\Roaming\\nltk_data...\n",
      "[nltk_data]   Unzipping corpora\\treebank.zip.\n"
     ]
    },
    {
     "data": {
      "text/plain": [
       "True"
      ]
     },
     "execution_count": 10,
     "metadata": {},
     "output_type": "execute_result"
    }
   ],
   "source": [
    "nltk.download('treebank')"
   ]
  },
  {
   "cell_type": "code",
   "execution_count": 11,
   "metadata": {},
   "outputs": [
    {
     "name": "stdout",
     "output_type": "stream",
     "text": [
      "*** Introductory Examples for the NLTK Book ***\n",
      "Loading text1, ..., text9 and sent1, ..., sent9\n",
      "Type the name of the text or sentence to view it.\n",
      "Type: 'texts()' or 'sents()' to list the materials.\n",
      "text1: Moby Dick by Herman Melville 1851\n",
      "text2: Sense and Sensibility by Jane Austen 1811\n",
      "text3: The Book of Genesis\n",
      "text4: Inaugural Address Corpus\n",
      "text5: Chat Corpus\n",
      "text6: Monty Python and the Holy Grail\n",
      "text7: Wall Street Journal\n",
      "text8: Personals Corpus\n",
      "text9: The Man Who Was Thursday by G . K . Chesterton 1908\n"
     ]
    }
   ],
   "source": [
    "from nltk.book import *"
   ]
  },
  {
   "cell_type": "markdown",
   "metadata": {},
   "source": [
    "### Capítulo 1:\n"
   ]
  },
  {
   "cell_type": "markdown",
   "metadata": {},
   "source": [
    "### 22.\n",
    "Find all the four-letter words in the Chat Corpus (text5). With the help of a frequency distribution (FreqDist), show these words in decreasing order of frequency."
   ]
  },
  {
   "cell_type": "code",
   "execution_count": 14,
   "metadata": {},
   "outputs": [
    {
     "name": "stdout",
     "output_type": "stream",
     "text": [
      "<Text: Chat Corpus>\n"
     ]
    }
   ],
   "source": [
    "print(text5)"
   ]
  },
  {
   "cell_type": "code",
   "execution_count": 15,
   "metadata": {},
   "outputs": [],
   "source": [
    "chat_corpus = list(text5)\n",
    "four_letters_word = [w for w in chat_corpus if len(w) == 4]"
   ]
  },
  {
   "cell_type": "code",
   "execution_count": 16,
   "metadata": {},
   "outputs": [
    {
     "data": {
      "text/plain": [
       "['left',\n",
       " 'with',\n",
       " 'this',\n",
       " 'name',\n",
       " 'PART',\n",
       " 'well',\n",
       " 'NICK',\n",
       " 'name',\n",
       " 'U121',\n",
       " 'golf',\n",
       " 'clap',\n",
       " 'JOIN',\n",
       " 'that',\n",
       " 'nice',\n",
       " 'JOIN',\n",
       " 'PART',\n",
       " 'golf',\n",
       " 'clap',\n",
       " 'fuck',\n",
       " 'U121',\n",
       " 'PART',\n",
       " 'PART',\n",
       " 'clap',\n",
       " 'your',\n",
       " 'PART',\n",
       " 'dont',\n",
       " 'even',\n",
       " 'know',\n",
       " 'what',\n",
       " 'that',\n",
       " 'that',\n",
       " 'chat',\n",
       " 'JOIN',\n",
       " 'drew',\n",
       " 'cast',\n",
       " 'PART',\n",
       " 'sexy',\n",
       " 'U115',\n",
       " 'JOIN',\n",
       " 'PART',\n",
       " 'drew',\n",
       " 'girl',\n",
       " 'with',\n",
       " 'legs',\n",
       " 'hope',\n",
       " 'draw',\n",
       " 'PART',\n",
       " 'head',\n",
       " 'legs',\n",
       " 'JOIN',\n",
       " 'JOIN',\n",
       " 'good',\n",
       " 'JOIN',\n",
       " 'PART',\n",
       " 'take',\n",
       " 'have',\n",
       " 'docs',\n",
       " 'Slip',\n",
       " 'away',\n",
       " 'Fade',\n",
       " 'away',\n",
       " 'Days',\n",
       " 'away',\n",
       " 'feel',\n",
       " 'have',\n",
       " 'back',\n",
       " 'U115',\n",
       " 'U129',\n",
       " 'U115',\n",
       " 'chat',\n",
       " 'with',\n",
       " 'PART',\n",
       " 'JOIN',\n",
       " 'JOIN',\n",
       " 'fast',\n",
       " 'U116',\n",
       " 'bowl',\n",
       " 'bong',\n",
       " 'JOIN',\n",
       " 'well',\n",
       " 'glad',\n",
       " 'hard',\n",
       " 'from',\n",
       " 'here',\n",
       " 'back',\n",
       " 'PART',\n",
       " 'PART',\n",
       " 'JOIN',\n",
       " 'U121',\n",
       " 'name',\n",
       " 'hard',\n",
       " 'very',\n",
       " 'fire',\n",
       " 'from',\n",
       " 'here',\n",
       " 'JOIN',\n",
       " 'PART',\n",
       " 'itch',\n",
       " 'JOIN',\n",
       " 'U133',\n",
       " 'ogan',\n",
       " 'male',\n",
       " 'JOIN',\n",
       " 'JOIN',\n",
       " 'show',\n",
       " 'will',\n",
       " 'talk',\n",
       " 'PART',\n",
       " 'haha',\n",
       " 'opps',\n",
       " 'JOIN',\n",
       " 'PART',\n",
       " 'U115',\n",
       " 'nice',\n",
       " 'warm',\n",
       " 'guys',\n",
       " 'with',\n",
       " 'cams',\n",
       " 'play',\n",
       " 'sits',\n",
       " 'JOIN',\n",
       " 'JOIN',\n",
       " 'guyz',\n",
       " 'chat',\n",
       " 'U126',\n",
       " 'PART',\n",
       " 'chat',\n",
       " 'PART',\n",
       " 'gooo',\n",
       " 'sure',\n",
       " 'U126',\n",
       " 'JOIN',\n",
       " 'what',\n",
       " 'feel',\n",
       " 'like',\n",
       " 'room',\n",
       " 'yeee',\n",
       " 'JOIN',\n",
       " 'want',\n",
       " 'pics',\n",
       " 'look',\n",
       " 'U139',\n",
       " 'PART',\n",
       " 'PART',\n",
       " 'JOIN',\n",
       " 'here',\n",
       " 'JOIN',\n",
       " 'PART',\n",
       " 'JOIN',\n",
       " 'U139',\n",
       " 'PART',\n",
       " 'JOIN',\n",
       " 'U138',\n",
       " 'U139',\n",
       " 'make',\n",
       " 'U139',\n",
       " 'that',\n",
       " 'U126',\n",
       " 'late',\n",
       " 'lmao',\n",
       " 'ahah',\n",
       " 'PART',\n",
       " 'U121',\n",
       " 'U121',\n",
       " 'does',\n",
       " 'like',\n",
       " 'that',\n",
       " 'guys',\n",
       " 'male',\n",
       " 'JOIN',\n",
       " 'U139',\n",
       " 'well',\n",
       " 'what',\n",
       " 'yeah',\n",
       " 'know',\n",
       " 'U136',\n",
       " 'hell',\n",
       " 'with',\n",
       " 'U139',\n",
       " 'U101',\n",
       " 'like',\n",
       " 'when',\n",
       " 'plan',\n",
       " 'PART',\n",
       " 'JOIN',\n",
       " 'gold',\n",
       " 'jeep',\n",
       " 'make',\n",
       " 'sure',\n",
       " 'nice',\n",
       " 'ring',\n",
       " 'U115',\n",
       " 'isnt',\n",
       " 'that',\n",
       " 'U136',\n",
       " 'hell',\n",
       " 'have',\n",
       " 'have',\n",
       " 'doin',\n",
       " 'U139',\n",
       " 'U121',\n",
       " 'many',\n",
       " 'Just',\n",
       " 'fine',\n",
       " 'that',\n",
       " 'like',\n",
       " 'PART',\n",
       " 'hiya',\n",
       " 'room',\n",
       " 'lmao',\n",
       " 'doin',\n",
       " 'Deep',\n",
       " 'Show',\n",
       " 'that',\n",
       " 'love',\n",
       " 'that',\n",
       " 'Turn',\n",
       " 'take',\n",
       " 'Hand',\n",
       " 'just',\n",
       " 'even',\n",
       " 'look',\n",
       " 'hang',\n",
       " 'PART',\n",
       " 'that',\n",
       " 'such',\n",
       " 'word',\n",
       " 'U141',\n",
       " 'hear',\n",
       " '!!!!',\n",
       " 'PART',\n",
       " 'JOIN',\n",
       " 'PART',\n",
       " 'deaf',\n",
       " 'here',\n",
       " 'dont',\n",
       " 'U115',\n",
       " 'U115',\n",
       " '....',\n",
       " 'hugs',\n",
       " 'chat',\n",
       " 'with',\n",
       " 'baby',\n",
       " 'Only',\n",
       " 'U121',\n",
       " 'U121',\n",
       " 'PART',\n",
       " 'have',\n",
       " 'away',\n",
       " 'from',\n",
       " 'U121',\n",
       " 'what',\n",
       " 'read',\n",
       " 'here',\n",
       " 'with',\n",
       " 'JOIN',\n",
       " 'read',\n",
       " 'have',\n",
       " 'here',\n",
       " 'JOIN',\n",
       " 'want',\n",
       " 'chat',\n",
       " 'talk',\n",
       " 'U121',\n",
       " 'JOIN',\n",
       " 'U121',\n",
       " 'VBox',\n",
       " 'PART',\n",
       " 'take',\n",
       " 'that',\n",
       " 'JOIN',\n",
       " 'PART',\n",
       " 'hate',\n",
       " 'when',\n",
       " 'U121',\n",
       " 'U115',\n",
       " 'lmao',\n",
       " 'PART',\n",
       " 'your',\n",
       " 'know',\n",
       " 'what',\n",
       " 'your',\n",
       " 'what',\n",
       " 'JOIN',\n",
       " 'love',\n",
       " 'more',\n",
       " 'than',\n",
       " 'ELSE',\n",
       " 'serg',\n",
       " 'well',\n",
       " 'most',\n",
       " 'love',\n",
       " 'JOIN',\n",
       " 'know',\n",
       " 'that',\n",
       " 'what',\n",
       " 'lmao',\n",
       " 'well',\n",
       " 'have',\n",
       " 'eyes',\n",
       " 'lmao',\n",
       " 'know',\n",
       " 'JOIN',\n",
       " 'girl',\n",
       " 'jerk',\n",
       " 'kids',\n",
       " 'guys',\n",
       " 'type',\n",
       " 'much',\n",
       " 'shut',\n",
       " 'fuck',\n",
       " 'girl',\n",
       " 'nice',\n",
       " 'shut',\n",
       " 'fuck',\n",
       " 'PART',\n",
       " 'dont',\n",
       " 'want',\n",
       " 'JOIN',\n",
       " 'want',\n",
       " 'U115',\n",
       " 'what',\n",
       " 'miss',\n",
       " 'much',\n",
       " 'work',\n",
       " 'nice',\n",
       " 'U116',\n",
       " 'PART',\n",
       " 'PART',\n",
       " 'heyy',\n",
       " 'U148',\n",
       " 'hate',\n",
       " 'boys',\n",
       " 'JOIN',\n",
       " 'U148',\n",
       " 'hate',\n",
       " 'what',\n",
       " 'PART',\n",
       " 'hate',\n",
       " 'U121',\n",
       " 'fuck',\n",
       " 'your',\n",
       " 'ugly',\n",
       " 'JOIN',\n",
       " 'bein',\n",
       " 'PART',\n",
       " 'What',\n",
       " 'U115',\n",
       " 'whys',\n",
       " 'that',\n",
       " 'deep',\n",
       " 'U121',\n",
       " 'what',\n",
       " 'JOIN',\n",
       " 'tape',\n",
       " 'Your',\n",
       " 'sexs',\n",
       " 'best',\n",
       " 'phil',\n",
       " 'said',\n",
       " 'ugly',\n",
       " 'PART',\n",
       " 'date',\n",
       " 'feel',\n",
       " 'your',\n",
       " 'they',\n",
       " 'form',\n",
       " 'PART',\n",
       " 'sits',\n",
       " 'JOIN',\n",
       " 'sits',\n",
       " 'with',\n",
       " 'hmph',\n",
       " 'hate',\n",
       " 'does',\n",
       " 'that',\n",
       " 'mean',\n",
       " 'want',\n",
       " 'room',\n",
       " 'this',\n",
       " 'been',\n",
       " 'PART',\n",
       " 'JOIN',\n",
       " 'U115',\n",
       " 'U116',\n",
       " 'your',\n",
       " 'here',\n",
       " 'talk',\n",
       " 'wait',\n",
       " 'that',\n",
       " 'perv',\n",
       " 'lets',\n",
       " 'hope',\n",
       " 'U121',\n",
       " 'PART',\n",
       " 'U115',\n",
       " '!!!!',\n",
       " 'lets',\n",
       " 'chat',\n",
       " 'JOIN',\n",
       " 'rule',\n",
       " 'land',\n",
       " 'wont',\n",
       " 'then',\n",
       " 'find',\n",
       " 'need',\n",
       " 'this',\n",
       " 'HUGE',\n",
       " 'perv',\n",
       " 'that',\n",
       " 'deal',\n",
       " '????',\n",
       " 'JOIN',\n",
       " 'shit',\n",
       " 'hell',\n",
       " 'lmao',\n",
       " 'PART',\n",
       " 'hell',\n",
       " 'JOIN',\n",
       " 'here',\n",
       " 'guys',\n",
       " 'have',\n",
       " 'U121',\n",
       " 'JOIN',\n",
       " 'U155',\n",
       " 'only',\n",
       " 'Poor',\n",
       " 'U121',\n",
       " 'love',\n",
       " 'pick',\n",
       " 'much',\n",
       " 'that',\n",
       " 'PART',\n",
       " 'PART',\n",
       " 'sits',\n",
       " 'with',\n",
       " 'U121',\n",
       " 'nads',\n",
       " 'JOIN',\n",
       " 'from',\n",
       " 'pick',\n",
       " 'your',\n",
       " 'pick',\n",
       " 'your',\n",
       " 'nose',\n",
       " 'pick',\n",
       " 'your',\n",
       " 'nose',\n",
       " 'JOIN',\n",
       " 'face',\n",
       " 'with',\n",
       " 'PART',\n",
       " 'U115',\n",
       " 'owww',\n",
       " 'PART',\n",
       " 'JOIN',\n",
       " 'U116',\n",
       " 'PART',\n",
       " 'does',\n",
       " 'want',\n",
       " 'talk',\n",
       " 'head',\n",
       " 'gags',\n",
       " 'even',\n",
       " 'U121',\n",
       " 'neck',\n",
       " 'Meep',\n",
       " 'U115',\n",
       " 'LAst',\n",
       " 'time',\n",
       " 'that',\n",
       " 'wash',\n",
       " 'your',\n",
       " 'dude',\n",
       " 'gets',\n",
       " 'JOIN',\n",
       " 'U121',\n",
       " 'dang',\n",
       " 'just',\n",
       " \"pm's\",\n",
       " 'that',\n",
       " '1.99',\n",
       " '....',\n",
       " 'yeah',\n",
       " 'nice',\n",
       " 'neck',\n",
       " 'U115',\n",
       " 'like',\n",
       " 'shut',\n",
       " 'free',\n",
       " 'JOIN',\n",
       " 'goes',\n",
       " 'wash',\n",
       " 'lmao',\n",
       " 'Lies',\n",
       " 'lmao',\n",
       " 'U115',\n",
       " 'lick',\n",
       " 'very',\n",
       " 'lmao',\n",
       " 'U115',\n",
       " 'ummm',\n",
       " 'U109',\n",
       " 'dont',\n",
       " 'dead',\n",
       " 'more',\n",
       " 'than',\n",
       " 'call',\n",
       " 'just',\n",
       " 'case',\n",
       " 'dead',\n",
       " 'good',\n",
       " 'neck',\n",
       " 'talk',\n",
       " 'what',\n",
       " 'ummm',\n",
       " 'else',\n",
       " 'wont',\n",
       " 'bite',\n",
       " 'U115',\n",
       " 'yeah',\n",
       " 'wait',\n",
       " 'yeah',\n",
       " 'PART',\n",
       " 'your',\n",
       " 'want',\n",
       " 'have',\n",
       " 'sexy',\n",
       " 'bite',\n",
       " 'lmao',\n",
       " 'call',\n",
       " 'have',\n",
       " 'free',\n",
       " 'call',\n",
       " 'mins',\n",
       " 'JOIN',\n",
       " 'nite',\n",
       " 'lool',\n",
       " 'know',\n",
       " 'that',\n",
       " 'kina',\n",
       " 'give',\n",
       " 'away',\n",
       " 'then',\n",
       " 'room',\n",
       " 'call',\n",
       " 'yeah',\n",
       " 'U155',\n",
       " 'PART',\n",
       " 'U115',\n",
       " 'more',\n",
       " 'U115',\n",
       " 'guys',\n",
       " 'baby',\n",
       " 'U109',\n",
       " 'fuck',\n",
       " 'case',\n",
       " 'know',\n",
       " 'were',\n",
       " 'girl',\n",
       " 'JOIN',\n",
       " 'baby',\n",
       " 'what',\n",
       " 'U109',\n",
       " 'guys',\n",
       " 'chat',\n",
       " 'have',\n",
       " 'have',\n",
       " 'sext',\n",
       " 'piff',\n",
       " 'dont',\n",
       " 'talk',\n",
       " 'read',\n",
       " 'dang',\n",
       " 'lazy',\n",
       " 'dont',\n",
       " 'read',\n",
       " 'PART',\n",
       " 'JOIN',\n",
       " 'mean',\n",
       " 'fine',\n",
       " '....',\n",
       " 'busy',\n",
       " 'work',\n",
       " 'okay',\n",
       " 'dont',\n",
       " 'talk',\n",
       " 'calm',\n",
       " 'down',\n",
       " 'busy',\n",
       " 'busy',\n",
       " 'want',\n",
       " 'chat',\n",
       " 'arms',\n",
       " 'kids',\n",
       " 'name',\n",
       " 'PART',\n",
       " 'sits',\n",
       " 'down',\n",
       " 'eats',\n",
       " 'JOIN',\n",
       " 'hugs',\n",
       " 'want',\n",
       " 'U121',\n",
       " 'near',\n",
       " 'just',\n",
       " 'PART',\n",
       " 'JOIN',\n",
       " 'PART',\n",
       " 'hell',\n",
       " 'yeah',\n",
       " 'U115',\n",
       " 'near',\n",
       " 'near',\n",
       " 'good',\n",
       " 'smax',\n",
       " 'JOIN',\n",
       " 'haha',\n",
       " 'only',\n",
       " '>:->',\n",
       " 'near',\n",
       " 'PART',\n",
       " 'piff',\n",
       " 'VVil',\n",
       " 'JOIN',\n",
       " 'free',\n",
       " 'wont',\n",
       " 'cold',\n",
       " 'U121',\n",
       " 'cell',\n",
       " 'runs',\n",
       " 'thru',\n",
       " 'back',\n",
       " 'hair',\n",
       " 'eyes',\n",
       " 'neck',\n",
       " 'yeah',\n",
       " 'caps',\n",
       " 'PART',\n",
       " 'JOIN',\n",
       " 'PART',\n",
       " 'PART',\n",
       " 'U165',\n",
       " 'jump',\n",
       " 'U165',\n",
       " 'baby',\n",
       " 'here',\n",
       " 'over',\n",
       " 'your',\n",
       " 'good',\n",
       " 'PART',\n",
       " 'that',\n",
       " 'left',\n",
       " 'room',\n",
       " 'este',\n",
       " 'U115',\n",
       " 'will',\n",
       " 'PART',\n",
       " 'U121',\n",
       " 'U165',\n",
       " 'lmao',\n",
       " 'PART',\n",
       " 'PART',\n",
       " 'very',\n",
       " 'guys',\n",
       " 'wana',\n",
       " 'chat',\n",
       " 'chik',\n",
       " 'from',\n",
       " 'mean',\n",
       " 'chat',\n",
       " 'well',\n",
       " 'PART',\n",
       " 'that',\n",
       " 'dont',\n",
       " 'shit',\n",
       " 'U165',\n",
       " 'U165',\n",
       " 'left',\n",
       " 'room',\n",
       " 'with',\n",
       " 'your',\n",
       " 'JOIN',\n",
       " 'U115',\n",
       " 'what',\n",
       " 'list',\n",
       " 'wish',\n",
       " 'cmon',\n",
       " 'U128',\n",
       " 'nice',\n",
       " 'JOIN',\n",
       " 'list',\n",
       " 'PART',\n",
       " 'list',\n",
       " 'U115',\n",
       " 'good',\n",
       " 'lmao',\n",
       " 'U128',\n",
       " 'hehe',\n",
       " 'hows',\n",
       " 'bout',\n",
       " 'good',\n",
       " 'hear',\n",
       " 'U165',\n",
       " 'have',\n",
       " 'JOIN',\n",
       " 'good',\n",
       " 'PART',\n",
       " 'JOIN',\n",
       " 'wats',\n",
       " 'they',\n",
       " 'PART',\n",
       " 'piff',\n",
       " 'aint',\n",
       " 'know',\n",
       " 'shut',\n",
       " 'much',\n",
       " 'good',\n",
       " 'PART',\n",
       " 'JOIN',\n",
       " 'JOIN',\n",
       " 'yeah',\n",
       " 'lost',\n",
       " 'like',\n",
       " 'same',\n",
       " 'well',\n",
       " 'work',\n",
       " 'what',\n",
       " 'Boyz',\n",
       " 'rock',\n",
       " 'what',\n",
       " 'hehe',\n",
       " 'went',\n",
       " 'back',\n",
       " 'some',\n",
       " 'then',\n",
       " 'came',\n",
       " 'back',\n",
       " 'home',\n",
       " 'PART',\n",
       " 'what',\n",
       " 'they',\n",
       " 'coat',\n",
       " 'nice',\n",
       " 'read',\n",
       " 'many',\n",
       " 'nice',\n",
       " 'hehe',\n",
       " 'lmao',\n",
       " 'even',\n",
       " 'JOIN',\n",
       " 'well',\n",
       " 'talk',\n",
       " 'nite',\n",
       " 'what',\n",
       " 'very',\n",
       " 'time',\n",
       " 'What',\n",
       " 'kind',\n",
       " '....',\n",
       " 'nite',\n",
       " 'PART',\n",
       " 'Eyes',\n",
       " 'Dawn',\n",
       " 'last',\n",
       " 'song',\n",
       " 'LIVE',\n",
       " 'cool',\n",
       " 'good',\n",
       " 'nite',\n",
       " 'mauh',\n",
       " 'nite',\n",
       " 'mike',\n",
       " 'keep',\n",
       " 'must',\n",
       " 'girl',\n",
       " 'seem',\n",
       " 'pick',\n",
       " 'else',\n",
       " '....',\n",
       " 'take',\n",
       " 'your',\n",
       " 'your',\n",
       " 'JOIN',\n",
       " 'lmao',\n",
       " 'just',\n",
       " 'days',\n",
       " 'late',\n",
       " 'with',\n",
       " 'room',\n",
       " 'JOIN',\n",
       " 'PART',\n",
       " 'good',\n",
       " 'ques',\n",
       " 'lmao',\n",
       " 'JOIN',\n",
       " 'that',\n",
       " 'like',\n",
       " 'dont',\n",
       " 'quit',\n",
       " 'what',\n",
       " 'your',\n",
       " '4.20',\n",
       " 'PART',\n",
       " 'like',\n",
       " 'mine',\n",
       " 'over',\n",
       " 'cali',\n",
       " 'good',\n",
       " 'this',\n",
       " 'year',\n",
       " 'NICK',\n",
       " 'whoa',\n",
       " 'have',\n",
       " 'have',\n",
       " 'have',\n",
       " 'what',\n",
       " 'boys',\n",
       " 'gosh',\n",
       " 'that',\n",
       " 'ruff',\n",
       " 'what',\n",
       " 'PART',\n",
       " 'hell',\n",
       " 'rock',\n",
       " 'roll',\n",
       " 'PART',\n",
       " 'with',\n",
       " 'like',\n",
       " 'that',\n",
       " 'nope',\n",
       " '....',\n",
       " 'rest',\n",
       " 'rock',\n",
       " 'roll',\n",
       " '....',\n",
       " '....',\n",
       " 'sing',\n",
       " 'from',\n",
       " 'kids',\n",
       " '....',\n",
       " 'mame',\n",
       " 'nada',\n",
       " 'cali',\n",
       " 'here',\n",
       " 'that',\n",
       " 'cool',\n",
       " 'kids',\n",
       " 'cool',\n",
       " 'JOIN',\n",
       " 'with',\n",
       " 'from',\n",
       " 'said',\n",
       " 'alot',\n",
       " 'JOIN',\n",
       " 'year',\n",
       " 'band',\n",
       " 'JOIN',\n",
       " 'NICK',\n",
       " 'cool',\n",
       " 'nice',\n",
       " 'here',\n",
       " 'hair',\n",
       " 'hard',\n",
       " 'what',\n",
       " 'type',\n",
       " 'does',\n",
       " 'your',\n",
       " 'band',\n",
       " 'play',\n",
       " 'hair',\n",
       " 'yeah',\n",
       " 'what',\n",
       " 'doin',\n",
       " '....',\n",
       " 'with',\n",
       " 'hand',\n",
       " 'what',\n",
       " 'JOIN',\n",
       " 'room',\n",
       " '....',\n",
       " 'sexy',\n",
       " 'PART',\n",
       " 'dumb',\n",
       " 'they',\n",
       " 'wont',\n",
       " 'chat',\n",
       " 'with',\n",
       " 'lmao',\n",
       " 'damn',\n",
       " 'what',\n",
       " 'orgy',\n",
       " 'orgy',\n",
       " 'lmao',\n",
       " 'what',\n",
       " 'word',\n",
       " 'some',\n",
       " 'easy',\n",
       " 'PART',\n",
       " 'JOIN',\n",
       " 'back',\n",
       " 'orgy',\n",
       " 'lmao',\n",
       " 'PART',\n",
       " 'lets',\n",
       " 'play',\n",
       " 'room',\n",
       " 'PART',\n",
       " 'JOIN',\n",
       " 'JOIN',\n",
       " 'were',\n",
       " 'damn',\n",
       " 'PART',\n",
       " 'good',\n",
       " 'call',\n",
       " 'what',\n",
       " 'like',\n",
       " 'just',\n",
       " 'late',\n",
       " 'date',\n",
       " 'know',\n",
       " 'push',\n",
       " 'PART',\n",
       " 'lose',\n",
       " 'name',\n",
       " 'shit',\n",
       " 'head',\n",
       " 'long',\n",
       " 'time',\n",
       " 'said',\n",
       " 'shit',\n",
       " 'lost',\n",
       " 'baby',\n",
       " 'then',\n",
       " 'JOIN',\n",
       " 'PART',\n",
       " 'JOIN',\n",
       " 'What',\n",
       " 'sure',\n",
       " 'JOIN',\n",
       " 'sure',\n",
       " 'lmao',\n",
       " 'this',\n",
       " 'room',\n",
       " '....',\n",
       " '....',\n",
       " 'your',\n",
       " '....',\n",
       " 'lmao',\n",
       " 'that',\n",
       " 'yeah',\n",
       " 'have',\n",
       " 'many',\n",
       " 'lmao',\n",
       " 'sexy',\n",
       " 'stay',\n",
       " 'keep',\n",
       " 'lmao',\n",
       " 'with',\n",
       " 'hair',\n",
       " 'like',\n",
       " 'that',\n",
       " '....',\n",
       " 'down',\n",
       " 'door',\n",
       " 'prob',\n",
       " '....',\n",
       " 'hair',\n",
       " 'lmao',\n",
       " 'JOIN',\n",
       " 'sexy',\n",
       " 'just',\n",
       " 'this',\n",
       " 'life',\n",
       " 'just',\n",
       " 'PART',\n",
       " 'room',\n",
       " 'with',\n",
       " 'hair',\n",
       " 'like',\n",
       " 'what',\n",
       " 'from',\n",
       " 'here',\n",
       " 'said',\n",
       " 'wild',\n",
       " '....',\n",
       " 'even',\n",
       " 'from',\n",
       " 'JOIN',\n",
       " 'cool',\n",
       " 'sexy',\n",
       " 'JOIN',\n",
       " 'sexy',\n",
       " 'only',\n",
       " 'none',\n",
       " 'sexy',\n",
       " 'whew',\n",
       " 'sexy',\n",
       " 'hell',\n",
       " 'have',\n",
       " ...]"
      ]
     },
     "execution_count": 16,
     "metadata": {},
     "output_type": "execute_result"
    }
   ],
   "source": [
    "four_letters_word"
   ]
  },
  {
   "cell_type": "code",
   "execution_count": 20,
   "metadata": {},
   "outputs": [],
   "source": [
    "frecuencia = FreqDist(four_letters_word)\n",
    "frecuencia"
   ]
  },
  {
   "cell_type": "code",
   "execution_count": 24,
   "metadata": {},
   "outputs": [
    {
     "data": {
      "text/plain": [
       "[('JOIN', 1021),\n",
       " ('PART', 1016),\n",
       " ('that', 274),\n",
       " ('what', 183),\n",
       " ('here', 181),\n",
       " ('....', 170),\n",
       " ('have', 164),\n",
       " ('like', 156),\n",
       " ('with', 152),\n",
       " ('chat', 142),\n",
       " ('your', 137),\n",
       " ('good', 130),\n",
       " ('just', 125),\n",
       " ('lmao', 107),\n",
       " ('know', 103),\n",
       " ('room', 98),\n",
       " ('from', 92),\n",
       " ('this', 86),\n",
       " ('well', 81),\n",
       " ('back', 78),\n",
       " ('hiya', 78),\n",
       " ('they', 77),\n",
       " ('dont', 75),\n",
       " ('yeah', 75),\n",
       " ('want', 71),\n",
       " ('love', 60),\n",
       " ('guys', 58),\n",
       " ('some', 58),\n",
       " ('been', 57),\n",
       " ('talk', 56),\n",
       " ('nice', 52),\n",
       " ('time', 50),\n",
       " ('when', 48),\n",
       " ('haha', 44),\n",
       " ('make', 44),\n",
       " ('girl', 43),\n",
       " ('need', 43),\n",
       " ('U122', 42),\n",
       " ('MODE', 41),\n",
       " ('will', 40)]"
      ]
     },
     "execution_count": 24,
     "metadata": {},
     "output_type": "execute_result"
    }
   ],
   "source": [
    "frecuencia.most_common(40) # Los cuarenta más comunes"
   ]
  },
  {
   "cell_type": "markdown",
   "metadata": {},
   "source": [
    "### 26.\n",
    "What does the following Python code do? sum(len(w) for w in text1) Can you use it to work out the average word length of a text?"
   ]
  },
  {
   "cell_type": "markdown",
   "metadata": {},
   "source": [
    "- Lo que el comando hace es arrojar el total de caracteres que hay en el text1 (Moby Dick by Herman Melville 1851)"
   ]
  },
  {
   "cell_type": "code",
   "execution_count": 25,
   "metadata": {},
   "outputs": [
    {
     "data": {
      "text/plain": [
       "999044"
      ]
     },
     "execution_count": 25,
     "metadata": {},
     "output_type": "execute_result"
    }
   ],
   "source": [
    "sum(len(w) for w in text1)"
   ]
  },
  {
   "cell_type": "markdown",
   "metadata": {},
   "source": [
    "- Si se puede hacer el promedio. Si se tiene el número total de palabras que tiene el texto."
   ]
  },
  {
   "cell_type": "code",
   "execution_count": 26,
   "metadata": {},
   "outputs": [
    {
     "data": {
      "text/plain": [
       "260819"
      ]
     },
     "execution_count": 26,
     "metadata": {},
     "output_type": "execute_result"
    }
   ],
   "source": [
    "len(text1)"
   ]
  },
  {
   "cell_type": "code",
   "execution_count": 27,
   "metadata": {},
   "outputs": [
    {
     "name": "stdout",
     "output_type": "stream",
     "text": [
      "En promedio cada palabra tiene 3.830411128023649 caracteres\n"
     ]
    }
   ],
   "source": [
    "print(\"En promedio cada palabra tiene\", sum(len(w) for w in text1)/len(text1), \"caracteres\")"
   ]
  },
  {
   "cell_type": "markdown",
   "metadata": {},
   "source": [
    "### 28.\n",
    "Define a function percent(word, text) that calculates how often a given word occurs in a text, and expresses the result as a percentage."
   ]
  },
  {
   "cell_type": "code",
   "execution_count": 29,
   "metadata": {},
   "outputs": [
    {
     "data": {
      "text/plain": [
       "FreqDist({',': 18713, 'the': 13721, '.': 6862, 'of': 6536, 'and': 6024, 'a': 4569, 'to': 4542, ';': 4072, 'in': 3916, 'that': 2982, ...})"
      ]
     },
     "execution_count": 29,
     "metadata": {},
     "output_type": "execute_result"
    }
   ],
   "source": [
    "# 1. ¿Cómo saber la frecuencia de las palabras?\n",
    "frecuencia = FreqDist(text1)\n",
    "frecuencia"
   ]
  },
  {
   "cell_type": "code",
   "execution_count": 30,
   "metadata": {},
   "outputs": [
    {
     "data": {
      "text/plain": [
       "3916"
      ]
     },
     "execution_count": 30,
     "metadata": {},
     "output_type": "execute_result"
    }
   ],
   "source": [
    "# 2. Queremos una palabra específica:\n",
    "frecuencia[\"in\"]"
   ]
  },
  {
   "cell_type": "code",
   "execution_count": 33,
   "metadata": {},
   "outputs": [],
   "source": [
    "def percent(word, text):\n",
    "    freq_by_word = FreqDist(text)\n",
    "    especifica = freq_by_word[word]\n",
    "    total_word = len(text)\n",
    "    porcentaje = (freq_by_word[word]/len(text))*100\n",
    "    print(f\"La palabra {word} aparece en el {porcentaje}% del {text}\")"
   ]
  },
  {
   "cell_type": "code",
   "execution_count": null,
   "metadata": {},
   "outputs": [],
   "source": [
    "percent('whale', text1)"
   ]
  },
  {
   "cell_type": "code",
   "execution_count": 39,
   "metadata": {},
   "outputs": [
    {
     "name": "stdout",
     "output_type": "stream",
     "text": [
      "La palabra stock aparece en el 0.1350868131431523% del <Text: Wall Street Journal>\n"
     ]
    }
   ],
   "source": [
    "percent('stock', text7)"
   ]
  },
  {
   "cell_type": "markdown",
   "metadata": {},
   "source": [
    "### Capítulo 2"
   ]
  },
  {
   "cell_type": "markdown",
   "metadata": {},
   "source": [
    "### 2.\n",
    "Use the corpus module to explore austen-persuasion.txt. How many word tokens does this book have? How many word types?"
   ]
  },
  {
   "cell_type": "code",
   "execution_count": 40,
   "metadata": {},
   "outputs": [],
   "source": [
    "# De esta forma traemos el .txt\n",
    "austen = nltk.corpus.gutenberg.words('austen-persuasion.txt') "
   ]
  },
  {
   "cell_type": "code",
   "execution_count": 43,
   "metadata": {},
   "outputs": [
    {
     "name": "stdout",
     "output_type": "stream",
     "text": [
      "El total de tokes que tiene el texto es de 98171\n",
      "El total de palabras que tiene el texto es de 6132\n"
     ]
    }
   ],
   "source": [
    "# Si queremos ver el número de caracteres que tiene txt\n",
    "print(\"El total de tokes que tiene el texto es de\", len(austen))\n",
    "print(\"El total de palabras que tiene el texto es de\",len(set(austen)))"
   ]
  },
  {
   "cell_type": "markdown",
   "metadata": {},
   "source": [
    "### 4.\n",
    "Read in the texts of the State of the Union addresses, using the state_union corpus reader. Count occurrences of men, women, and people in each document. What has happened to the usage of these words over time?"
   ]
  },
  {
   "cell_type": "code",
   "execution_count": 51,
   "metadata": {},
   "outputs": [
    {
     "name": "stderr",
     "output_type": "stream",
     "text": [
      "[nltk_data] Downloading package state_union to\n",
      "[nltk_data]     C:\\Users\\tatoo\\AppData\\Roaming\\nltk_data...\n",
      "[nltk_data]   Unzipping corpora\\state_union.zip.\n"
     ]
    }
   ],
   "source": [
    "nltk.download('state_union')\n",
    "import matplotlib.pyplot as plt"
   ]
  },
  {
   "cell_type": "code",
   "execution_count": 52,
   "metadata": {},
   "outputs": [],
   "source": [
    "# Palabras que queremos buscar\n",
    "lista=['men', 'women', 'people']\n",
    "## Realizamos la busqueda por año\n",
    "DistF= nltk.ConditionalFreqDist(\n",
    "    (i, fileid[:4])\n",
    "    # Recorremos el texto y buscamos que si cada palabra coincide con las que estamos buscando\n",
    "    for fileid in state_union.fileids()\n",
    "    for j in state_union.words(fileid)\n",
    "    for i in lista\n",
    "    # En caso tal de que si coincida\n",
    "    if j.lower().startswith(i))"
   ]
  },
  {
   "cell_type": "code",
   "execution_count": 53,
   "metadata": {},
   "outputs": [
    {
     "data": {
      "image/png": "[encoded data removed]",
      "text/plain": [
       "<Figure size 1080x720 with 1 Axes>"
      ]
     },
     "metadata": {
      "needs_background": "light"
     },
     "output_type": "display_data"
    },
    {
     "data": {
      "text/plain": [
       "<matplotlib.axes._subplots.AxesSubplot at 0x27711700fc8>"
      ]
     },
     "execution_count": 53,
     "metadata": {},
     "output_type": "execute_result"
    }
   ],
   "source": [
    "plt.figure(figsize=(15,10))\n",
    "DistF.plot()"
   ]
  },
  {
   "cell_type": "markdown",
   "metadata": {},
   "source": [
    "### 11.\n",
    "Investigate the table of modal distributions and look for other patterns. Try to explain them in terms of your own impressionistic understanding of the different genres. Can you find other closed classes of words that exhibit significant differences across different genres?"
   ]
  },
  {
   "cell_type": "code",
   "execution_count": 54,
   "metadata": {},
   "outputs": [
    {
     "name": "stdout",
     "output_type": "stream",
     "text": [
      "                  can could   may might  must  will \n",
      "           news    94    87    93    38    53   389 \n",
      "       religion    84    59    79    12    54    72 \n",
      "        hobbies   276    59   143    22    84   269 \n",
      "science_fiction    16    49     4    12     8    17 \n",
      "        romance    79   195    11    51    46    49 \n",
      "          humor    17    33     8     8     9    13 \n"
     ]
    }
   ],
   "source": [
    "from nltk.corpus import brown\n",
    "## Tomado del libro los modals serian\n",
    "modals = ['can', 'could', 'may', 'might', 'must', 'will']\n",
    "## Tomado del libro\n",
    "genres = ['news', 'religion', 'hobbies', 'science_fiction', 'romance', 'humor']\n",
    "tabla = nltk.ConditionalFreqDist(\n",
    "            (genre, word.lower())                                               \n",
    "            for genre in brown.categories()\n",
    "            for word in brown.words(categories=genre))\n",
    "tabla.tabulate(conditions=genres, samples=modals)"
   ]
  },
  {
   "cell_type": "markdown",
   "metadata": {},
   "source": [
    "- News: Es el que usa mas la palabra will, es comun que una noticia estos indican que sucederá despues del acontecimiento.\n",
    "- Religion: Can, may y will. Tal vez hablan de como Dios puede hacer las cosas y como las hará.\n",
    "- Hobbies: Can, may y will. indica que las personas pueden o realizaran algunas actividades\n",
    "- Romance: Es el que usa mas la palabra \"could\" indicando la posible existencia de diferentes cosas que no son seguras que sucedan en el futuro.\n",
    "- Humor: No utiliza tantos modales. Tal vez es un género más conciso."
   ]
  },
  {
   "cell_type": "code",
   "execution_count": 55,
   "metadata": {},
   "outputs": [
    {
     "name": "stdout",
     "output_type": "stream",
     "text": [
      "                    but    then    also however    thus      so \n",
      "           news     283      73     129      49      10      81 \n",
      "       religion     175      59      57      19      24      99 \n",
      "        hobbies     221      88     110      41      21     121 \n",
      "science_fiction      89      18       2       7       2      26 \n",
      "        romance     387     143      16       2       0     192 \n",
      "          humor     101      37      13      10       5      56 \n"
     ]
    }
   ],
   "source": [
    "# Mis palabras\n",
    "julian_pal = ['but','then','also','however','thus','so']\n",
    "## Tomado del libro\n",
    "genres = ['news', 'religion', 'hobbies', 'science_fiction', 'romance', 'humor']\n",
    "tabla = nltk.ConditionalFreqDist(\n",
    "            (genre, word.lower())                                               \n",
    "            for genre in brown.categories()\n",
    "            for word in brown.words(categories=genre))\n",
    "tabla.tabulate(conditions=genres, samples=julian_pal)"
   ]
  },
  {
   "cell_type": "markdown",
   "metadata": {},
   "source": [
    "- News y romance usan mucho \"but\" seguramente porque siempre se muestran diferentes puntos de vista. \n",
    "\n",
    "- So y Then son usadas en hobbies y romance indicando que dado que paso algo, esto conllevo a que les guste algo o que dos personas se separaran.\n",
    "\n",
    "- En humor tambien se exponen diferentes puntos de vista pero con menor frecuencia"
   ]
  }
 ],
 "metadata": {
  "anaconda-cloud": {},
  "kernelspec": {
   "display_name": "Python 3",
   "language": "python",
   "name": "python3"
  },
  "language_info": {
   "codemirror_mode": {
    "name": "ipython",
    "version": 3
   },
   "file_extension": ".py",
   "mimetype": "text/x-python",
   "name": "python",
   "nbconvert_exporter": "python",
   "pygments_lexer": "ipython3",
   "version": "3.7.4"
  }
 },
 "nbformat": 4,
 "nbformat_minor": 1
}
