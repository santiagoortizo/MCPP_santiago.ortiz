{
 "cells": [
  {
   "cell_type": "markdown",
   "metadata": {},
   "source": [
    "# Taller 8\n",
    "Métodos Computacionales para Políticas Públicas - URosario\n",
    "\n",
    "**Entrega: viernes 10-abr-2020 11:59 PM**"
   ]
  },
  {
   "cell_type": "markdown",
   "metadata": {},
   "source": [
    "\n",
    "<div class=\"alert alert-success\">\n",
    "\n",
    "**[Santiago Ortiz Ortiz]** <br><br>\n",
    "[santiago.ortizo@urosario.edu.co]\n",
    "</div>"
   ]
  },
  {
   "cell_type": "markdown",
   "metadata": {},
   "source": [
    "## Instrucciones:\n",
    "- Guarde una copia de este *Jupyter Notebook* en su computador, idealmente en una carpeta destinada al material del curso.\n",
    "- Modifique el nombre del archivo del *notebook*, agregando al final un guión inferior y su nombre y apellido, separados estos últimos por otro guión inferior. Por ejemplo, mi *notebook* se llamaría: mcpp_taller8_santiago_matallana\n",
    "- Marque el *notebook* con su nombre y e-mail en el bloque verde arriba. Reemplace el texto \"[Su nombre acá]\" con su nombre y apellido. Similar para su e-mail.\n",
    "- Desarrolle la totalidad del taller sobre este *notebook*, insertando las celdas que sea necesario debajo de cada pregunta. Haga buen uso de las celdas para código y de las celdas tipo *markdown* según el caso.\n",
    "- Recuerde salvar periódicamente sus avances.\n",
    "- Cuando termine el taller:\n",
    "    1. Descárguelo en PDF. Si tiene algún problema con la conversión, descárguelo en HTML.\n",
    "    2. Suba todos los archivos a su repositorio en GitHub, en una carpeta destinada exclusivamente para este taller, antes de la fecha y hora límites."
   ]
  },
  {
   "cell_type": "markdown",
   "metadata": {},
   "source": [
    "---"
   ]
  },
  {
   "cell_type": "code",
   "execution_count": null,
   "metadata": {},
   "outputs": [],
   "source": [
    "import re\n",
    "import requests\n",
    "from bs4 import BeautifulSoup\n",
    "import pandas as pd"
   ]
  },
  {
   "cell_type": "markdown",
   "metadata": {},
   "source": [
    "### 1. [1 punto]\n",
    "\n",
    "Usando expresiones regulares extraiga en una lista todos los números presentes en el siguiente objeto de Python:\n",
    "\n",
    "ob1 = \"JEFF BEZOS, the founder of Amazon, has reached a divorce settlement with his wife, MacKenzie. Mr Bezos will keep all the shares in the Washington Post and Blue Origin, a space-exploration firm, as well as 75% of the couple’s Amazon stock. Mrs Bezos will retain a 4% stake in the tech giant, worth nearly $36bn, which is likely to make her the third-richest woman alive when the divorce is finalised.\""
   ]
  },
  {
   "cell_type": "code",
   "execution_count": null,
   "metadata": {},
   "outputs": [],
   "source": [
    "ob1 = \"JEFF BEZOS, the founder of Amazon, has reached a divorce settlement with his wife, MacKenzie. Mr Bezos will keep all the shares in the Washington Post and Blue Origin, a space-exploration firm, as well as 75% of the couple’s Amazon stock. Mrs Bezos will retain a 4% stake in the tech giant, worth nearly $36bn, which is likely to make her the third-richest woman alive when the divorce is finalised.\""
   ]
  },
  {
   "cell_type": "code",
   "execution_count": null,
   "metadata": {},
   "outputs": [],
   "source": [
    "ob1"
   ]
  },
  {
   "cell_type": "markdown",
   "metadata": {},
   "source": [
    "Tenemos dos formas:\n",
    "- La primera solo tomará los números que hayan.\n",
    "- La segunda tomará el número y adicional (como un elemento aparte) tomará el signo que acompaña al número, para saber de que hablamos."
   ]
  },
  {
   "cell_type": "code",
   "execution_count": null,
   "metadata": {},
   "outputs": [],
   "source": [
    "# Solo número\n",
    "patron = \"[\\d]+\"\n",
    "re.findall(patron, ob1)"
   ]
  },
  {
   "cell_type": "code",
   "execution_count": null,
   "metadata": {},
   "outputs": [],
   "source": [
    "# Número más símbolo \n",
    "patron = \"([\\d]+)([\\w%]+)\"\n",
    "re.findall(patron, ob1)"
   ]
  },
  {
   "cell_type": "markdown",
   "metadata": {},
   "source": [
    "### 2. [1 punto]\n",
    "\n",
    "Usando expresiones regulares ahora extraiga de *ob1* sólo los números que correspondan a porcentajes."
   ]
  },
  {
   "cell_type": "code",
   "execution_count": null,
   "metadata": {},
   "outputs": [],
   "source": [
    "patron = \"([\\d]+)[%]+\"\n",
    "re.findall(patron, ob1)"
   ]
  },
  {
   "cell_type": "markdown",
   "metadata": {},
   "source": [
    "### 3. [2 puntos]\n",
    "\n",
    "Usando expresiones regulares, escriba una función de Python que reciba una fecha en formato **Marzo 7, 2019** y retorne la fecha en formato **2019-07-03**"
   ]
  },
  {
   "cell_type": "markdown",
   "metadata": {},
   "source": [
    "###### Pruebas"
   ]
  },
  {
   "cell_type": "code",
   "execution_count": null,
   "metadata": {},
   "outputs": [],
   "source": [
    "# Prueba\n",
    "fecha = \"Marzo 7, 2019\"\n",
    "patron = \"([A-Z][a-z]+)\\s([\\d]+),\\s([\\d]{4})\"\n",
    "re.findall(patron, fecha)[0]"
   ]
  },
  {
   "cell_type": "code",
   "execution_count": null,
   "metadata": {},
   "outputs": [],
   "source": [
    "tupla = re.findall(patron, fecha)[0]\n",
    "print(tupla[0])\n",
    "print(tupla[1])\n",
    "print(tupla[2])"
   ]
  },
  {
   "cell_type": "markdown",
   "metadata": {},
   "source": [
    "#### Solución"
   ]
  },
  {
   "cell_type": "code",
   "execution_count": null,
   "metadata": {},
   "outputs": [],
   "source": [
    "def get_date(fecha):\n",
    "    tupla = re.findall(\"([A-Z][a-z]+)\\s([\\d]+),\\s([\\d]{4})\", fecha)[0] # Me crea algo así: (\"Marzo\", \"7\", \"2019\")\n",
    "    if tupla[0] == \"Enero\":\n",
    "        mes = \"01\"\n",
    "    elif tupla[0] == \"Febrero\":\n",
    "        mes = \"02\"\n",
    "    elif tupla[0] == \"Marzo\":\n",
    "        mes = \"03\"\n",
    "    elif tupla[0] == \"Abril\":\n",
    "        mes = \"04\"\n",
    "    elif tupla[0] == \"Mayo\":\n",
    "        mes = \"05\"\n",
    "    elif tupla[0] == \"Junio\":\n",
    "        mes = \"06\"\n",
    "    elif tupla[0] == \"Julio\":\n",
    "        mes = \"07\"\n",
    "    elif tupla[0] == \"Agosto\":\n",
    "        mes = \"08\"\n",
    "    elif tupla[0] == \"Septiembre\":\n",
    "        mes = \"09\"\n",
    "    elif tupla[0] == \"Octubre\":\n",
    "        mes = \"10\"\n",
    "    elif tupla[0] == \"Noviembre\":\n",
    "        mes = \"11\"\n",
    "    elif tupla[0] == \"Diciembre\":\n",
    "        mes = \"12\"\n",
    "    if len(tupla[1]) == 1:\n",
    "        dia = \"0\" + tupla[1]\n",
    "    else:\n",
    "        dia = tupla[1]\n",
    "    año = tupla[2] \n",
    "    nuevo_formato = año+\"-\"+dia+\"-\"+mes\n",
    "    return nuevo_formato"
   ]
  },
  {
   "cell_type": "code",
   "execution_count": null,
   "metadata": {},
   "outputs": [],
   "source": [
    "fecha = \"Mayo 18, 2009\" # Pruebe con cualquier fecha\n",
    "get_date(fecha)"
   ]
  },
  {
   "cell_type": "markdown",
   "metadata": {},
   "source": [
    "### 4. [3 puntos]\n",
    "\n",
    "*ob2* es un string que reune una lista de clases en una universidad. Use expresiones regulares para extraer los códigos de cada una de las clases. Ejemplo: El código de la clase **COMPSCI 143 (Spring 2012): Machine Learning** es 143.\n",
    "\n",
    "ob2 = \"COMPSCI 270 (Spring 2019): Introduction to Artificial Intelligence.\n",
    "COMPSCI 590.2 (Fall 2018): Computational Microeconomics: Game Theory, Social Choice, and Mechanism Design.\n",
    "COMPSCI 223 (Spring 2018): Computational Microeconomics.\n",
    "COMPSCI 570 (Fall 2017): Artificial Intelligence.\n",
    "COMPSCI 590.3 (Fall 2017) / 590.1 (Spring 2018): Ethics and AI.\n",
    "COMPSCI 590.2 (Spring 2017): Computation, Information, and Learning in Market Design.\n",
    "COMPSCI 590.4 (Spring 2016): Computational Microeconomics: Game Theory, Social Choice, and Mechanism Design.\n",
    "COMPSCI 290.4/590.4 (Spring 2015): Crowdsourcing Societal Tradeoffs.\n",
    "COMPSCI 570 (Fall 2014): Artificial Intelligence.\n",
    "COMPSCI 590.4 (Spring 2014): Computational Microeconomics: Game Theory, Social Choice, and Mechanism Design.\n",
    "COMPSCI 590.1 (Fall 2012): Linear and Integer Programming.\n",
    "COMPSCI 173 (Spring 2012): Computational Microeconomics.\n",
    "COMPSCI 296.1 (Fall 2011): Computational Microeconomics: Game Theory, Social Choice, and Mechanism Design.\n",
    "COMPSCI 296.1 (Fall 2010): Linear and Integer Programming.\n",
    "COMPSCI 173 (Spring 2010): Computational Microeconomics.\n",
    "COMPSCI 196.1/296.1 (Fall 2009): Computational Microeconomics: Game Theory, Social Choice, and Mechanism Design.\n",
    "COMPSCI 170 (Spring 2009): Introduction to Artificial Intelligence.\n",
    "COMPSCI 270 (Fall 2008): Artificial Intelligence.\n",
    "COMPSCI 196/296.2 (Spring 2008): Linear and Integer Programming.\n",
    "COMPSCI 196.2 (Fall 2007): Introduction to Computational Economics.\n",
    "COMPSCI 296.3 (Spring 2007): Topics in Computational Economics.\n",
    "COMPSCI 296.2 (Fall 2006): Computational Game Theory and Mechanism Design.\"\n"
   ]
  },
  {
   "cell_type": "code",
   "execution_count": null,
   "metadata": {},
   "outputs": [],
   "source": [
    "ob2 = \"COMPSCI 270 (Spring 2019): Introduction to Artificial Intelligence. COMPSCI 590.2 (Fall 2018): Computational Microeconomics: Game Theory, Social Choice, and Mechanism Design. COMPSCI 223 (Spring 2018): Computational Microeconomics. COMPSCI 570 (Fall 2017): Artificial Intelligence. COMPSCI 590.3 (Fall 2017) / 590.1 (Spring 2018): Ethics and AI. COMPSCI 590.2 (Spring 2017): Computation, Information, and Learning in Market Design. COMPSCI 590.4 (Spring 2016): Computational Microeconomics: Game Theory, Social Choice, and Mechanism Design. COMPSCI 290.4/590.4 (Spring 2015): Crowdsourcing Societal Tradeoffs. COMPSCI 570 (Fall 2014): Artificial Intelligence. COMPSCI 590.4 (Spring 2014): Computational Microeconomics: Game Theory, Social Choice, and Mechanism Design. COMPSCI 590.1 (Fall 2012): Linear and Integer Programming. COMPSCI 173 (Spring 2012): Computational Microeconomics. COMPSCI 296.1 (Fall 2011): Computational Microeconomics: Game Theory, Social Choice, and Mechanism Design. COMPSCI 296.1 (Fall 2010): Linear and Integer Programming. COMPSCI 173 (Spring 2010): Computational Microeconomics. COMPSCI 196.1/296.1 (Fall 2009): Computational Microeconomics: Game Theory, Social Choice, and Mechanism Design. COMPSCI 170 (Spring 2009): Introduction to Artificial Intelligence. COMPSCI 270 (Fall 2008): Artificial Intelligence. COMPSCI 196/296.2 (Spring 2008): Linear and Integer Programming. COMPSCI 196.2 (Fall 2007): Introduction to Computational Economics. COMPSCI 296.3 (Spring 2007): Topics in Computational Economics. COMPSCI 296.2 (Fall 2006): Computational Game Theory and Mechanism Design.\""
   ]
  },
  {
   "cell_type": "code",
   "execution_count": null,
   "metadata": {
    "scrolled": true
   },
   "outputs": [],
   "source": [
    "ob2"
   ]
  },
  {
   "cell_type": "code",
   "execution_count": null,
   "metadata": {},
   "outputs": [],
   "source": [
    "re.findall(\"COMPSCI\\s([\\d./]+)\\s[(\\w\\s)]+:\\s([A-Za-z\\s]+)\", ob2)"
   ]
  },
  {
   "cell_type": "markdown",
   "metadata": {},
   "source": [
    "### 5. [5 puntos]\n",
    "\n",
    "*ob3* es un string que reune una lista de publicaciones. Use expresiones regulares para extraer todos los *Journals* en los cuales el autor ha publicado. Ejemplo: El paper **Bail, CA. \"The configuration of symbolic boundaries against immigrants in Europe.\" American Sociological Review 73.1 (January 1, 2008): 37-59. Full Text** fue publicado en el Journal *American Sociological Review*\n",
    "\n",
    " ob3 = \"Bail, CA, Argyle, LP, Brown, TW, Bumpus, JP, Chen, H, Hunzaker, MBF, Lee, J, Mann, M, Merhout, F, and Volfovsky, A. \\\"Exposure to opposing views on social media can increase political polarization.\\\" Proceedings of the National Academy of Sciences of the United States of America 115.37 (September 2018): 9216-9221. Full Text Open Access Copy.\\n\",\n",
    "    \"Bail, CA, Merhout, F, and Ding, P. \\\"Using Internet search data to examine the relationship between anti-Muslim and pro-ISIS sentiment in U.S. counties.\\\" Science Advances 4.6 (June 6, 2018): eaao5948-null. Full Text Open Access Copy.\\n\",\n",
    "    \"Bail, CA, Brown, TW, and Mann, M. \\\"Channeling Hearts and Minds: Advocacy Organizations, Cognitive-Emotional Currents, and Public Conversation.\\\" American Sociological Review 82.6 (December 1, 2017): 1188-1213. Full Text.\\n\",\n",
    "    \"Bail, CA. \\\"Taming Big Data: Using App Technology to Study Organizational Behavior on Social Media.\\\" Sociological Methods and Research 46.2 (March 1, 2017): 189-217. Full Text.\\n\",\n",
    "    \"McDonnell, TE, Bail, CA, and Tavory, I. \\\"A Theory of Resonance.\\\" Sociological Theory 35.1 (March 1, 2017): 1-14. Full Text.\\n\",\n",
    "    \"Bail, CA. \\\"Combining natural language processing and network analysis to examine how advocacy organizations stimulate conversation on social media.\\\" Proceedings of the National Academy of Sciences of the United States of America 113.42 (October 2016): 11823-11828. Full Text.\\n\",\n",
    "    \"Bail, CA. \\\"Emotional Feedback and the Viral Spread of Social Media Messages About Autism Spectrum Disorders.\\\" American journal of public health 106.7 (July 2016): 1173-1180. Full Text.\\n\",\n",
    "    \"Bail, CA. \\\"The public life of secrets: Deception, disclosure, and discursive framing in the policy process.\\\" Sociological Theory 33.2 (January 1, 2015): 97-124. Full Text.\\n\",\n",
    "    \"Bail, CA. \\\"The cultural environment: Measuring culture with big data.\\\" Theory and Society 43.3 (January 1, 2014): 465-524. Full Text.\\\"\""
   ]
  },
  {
   "cell_type": "code",
   "execution_count": null,
   "metadata": {},
   "outputs": [],
   "source": [
    "ob3 = '\"Bail, CA, Argyle, LP, Brown, TW, Bumpus, JP, Chen, H, Hunzaker, MBF, Lee, J, Mann, M, Merhout, F, and Volfovsky, A. \"Exposure to opposing views on social media can increase political polarization.\" Proceedings of the National Academy of Sciences of the United States of America 115.37 (September 2018): 9216-9221. Full Text Open Access Copy.\\n\", \"Bail, CA, Merhout, F, and Ding, P. \"Using Internet search data to examine the relationship between anti-Muslim and pro-ISIS sentiment in U.S. counties.\" Science Advances 4.6 (June 6, 2018): eaao5948-null. Full Text Open Access Copy.\\n\", \"Bail, CA, Brown, TW, and Mann, M. \"Channeling Hearts and Minds: Advocacy Organizations, Cognitive-Emotional Currents, and Public Conversation.\" American Sociological Review 82.6 (December 1, 2017): 1188-1213. Full Text.\\n\", \"Bail, CA. \"Taming Big Data: Using App Technology to Study Organizational Behavior on Social Media.\" Sociological Methods and Research 46.2 (March 1, 2017): 189-217. Full Text.\\n\", \"McDonnell, TE, Bail, CA, and Tavory, I. \"A Theory of Resonance.\" Sociological Theory 35.1 (March 1, 2017): 1-14. Full Text.\\n\", \"Bail, CA. \"Combining natural language processing and network analysis to examine how advocacy organizations stimulate conversation on social media.\" Proceedings of the National Academy of Sciences of the United States of America 113.42 (October 2016): 11823-11828. Full Text.\\n\", \"Bail, CA. \"Emotional Feedback and the Viral Spread of Social Media Messages About Autism Spectrum Disorders.\" American journal of public health 106.7 (July 2016): 1173-1180. Full Text.\\n\", \"Bail, CA. \"The public life of secrets: Deception, disclosure, and discursive framing in the policy process.\" Sociological Theory 33.2 (January 1, 2015): 97-124. Full Text.\\n\", \"Bail, CA. \"The cultural environment: Measuring culture with big data.\" Theory and Society 43.3 (January 1, 2014): 465-524. Full Text.\"' "
   ]
  },
  {
   "cell_type": "code",
   "execution_count": null,
   "metadata": {
    "scrolled": true
   },
   "outputs": [],
   "source": [
    "ob3"
   ]
  },
  {
   "cell_type": "code",
   "execution_count": null,
   "metadata": {},
   "outputs": [],
   "source": [
    "re.findall('\"\\s([\\w\\s]+)\\s\\d+', ob3)"
   ]
  },
  {
   "cell_type": "markdown",
   "metadata": {},
   "source": [
    "### 6. [10 puntos]\n",
    "\n",
    "\n",
    "Vamos a hacer \"scraping\" a esta página: https://archive.ics.uci.edu/ml/datasets.php, que contiene un listado de 468 bases de datos que hacen parte del repositorio de la Universidad de California, Irvine."
   ]
  },
  {
   "cell_type": "markdown",
   "metadata": {},
   "source": [
    "\n",
    "Su tarea consiste en crear un \"Pandas dataframe\" que contenga 468 filas (una por base de datos) y las siguientes columnas:\n",
    "- Nombre de la base de datos\n",
    "- Link a la base de datos\n",
    "- Tipo de datos\n",
    "- Tipo de tarea a resolver (default task)\n",
    "- Tipo de las variables\n",
    "- Número de observaciones\n",
    "- Número de variables\n",
    "- Año\n",
    "- Descripción de la base (Pista: Utilice la opción list view: https://archive.ics.uci.edu/ml/datasets.php?format=&task=&att=&area=&numAtt=&numIns=&type=&sort=nameUp&view=list)"
   ]
  },
  {
   "cell_type": "markdown",
   "metadata": {},
   "source": [
    "Diviértase."
   ]
  },
  {
   "cell_type": "code",
   "execution_count": null,
   "metadata": {},
   "outputs": [],
   "source": [
    "html = requests.get(\"https://archive.ics.uci.edu/ml/datasets.php\").text"
   ]
  },
  {
   "cell_type": "code",
   "execution_count": null,
   "metadata": {},
   "outputs": [],
   "source": [
    "html"
   ]
  },
  {
   "cell_type": "code",
   "execution_count": null,
   "metadata": {},
   "outputs": [],
   "source": [
    "soup = BeautifulSoup(html, \"lxml\") "
   ]
  },
  {
   "cell_type": "code",
   "execution_count": null,
   "metadata": {},
   "outputs": [],
   "source": [
    "soup"
   ]
  },
  {
   "cell_type": "markdown",
   "metadata": {},
   "source": [
    "Cuando uno revisa el código HTML y busca la primera base de datos: Abalone, encuentra lo siguiente:\n",
    "href=\"datasets/Abalone\">Abalone.\n",
    "- Es decir, aparece el link y el nombre de la base de datos. Entonces con el comando \"a\" buscamos TODOS los links de la página principal, pero solo utilizaremos aquellos que cumplan con esa caracteristica. Así obtendremos el nombre de la base de datos y una parte del código del link que la acompaña.\n",
    "- Sin embargo, no vienen con: https://archive.ics.uci.edu/ml/ antes. Esto se puede solucionar luego."
   ]
  },
  {
   "cell_type": "code",
   "execution_count": null,
   "metadata": {},
   "outputs": [],
   "source": [
    "links_nombres = soup.find_all(\"a\")"
   ]
  },
  {
   "cell_type": "code",
   "execution_count": null,
   "metadata": {},
   "outputs": [],
   "source": [
    "links_nombres"
   ]
  },
  {
   "cell_type": "code",
   "execution_count": null,
   "metadata": {},
   "outputs": [],
   "source": [
    "re.findall('\"(datasets/[\\w+:%,.¿\\'()-]+)\">([\\w\\s:,.¿\\'%()-]+)', str(links_nombres))\n",
    "# Note que el primer elemento es el link, y el segundo elemento es el nombre de la base de datos."
   ]
  },
  {
   "cell_type": "code",
   "execution_count": null,
   "metadata": {},
   "outputs": [],
   "source": [
    "nombres = re.findall('\"(datasets/[\\w+:%,.¿\\'()-]+)\">([\\w\\s:,.¿\\'%()-]+)', str(links_nombres))"
   ]
  },
  {
   "cell_type": "code",
   "execution_count": null,
   "metadata": {},
   "outputs": [],
   "source": [
    "len(nombres)"
   ]
  },
  {
   "cell_type": "code",
   "execution_count": null,
   "metadata": {
    "scrolled": true
   },
   "outputs": [],
   "source": [
    "nombres"
   ]
  },
  {
   "cell_type": "code",
   "execution_count": null,
   "metadata": {},
   "outputs": [],
   "source": [
    "len(nombres)"
   ]
  },
  {
   "cell_type": "code",
   "execution_count": null,
   "metadata": {},
   "outputs": [],
   "source": [
    "url = []\n",
    "for i in range(len(nombres)):\n",
    "    url.append(nombres[i][0])"
   ]
  },
  {
   "cell_type": "code",
   "execution_count": null,
   "metadata": {
    "scrolled": false
   },
   "outputs": [],
   "source": [
    "url"
   ]
  },
  {
   "cell_type": "code",
   "execution_count": null,
   "metadata": {},
   "outputs": [],
   "source": [
    "url_completa = []\n",
    "for i in range(len(url)):\n",
    "    pedazo = 'https://archive.ics.uci.edu/ml/'+url[i]\n",
    "    url_completa.append(pedazo)"
   ]
  },
  {
   "cell_type": "code",
   "execution_count": null,
   "metadata": {
    "scrolled": true
   },
   "outputs": [],
   "source": [
    "url_completa"
   ]
  },
  {
   "cell_type": "code",
   "execution_count": null,
   "metadata": {},
   "outputs": [],
   "source": [
    "len(url_completa)"
   ]
  },
  {
   "cell_type": "code",
   "execution_count": null,
   "metadata": {},
   "outputs": [],
   "source": [
    "names = []\n",
    "for i in range(len(nombres)):\n",
    "    names.append(nombres[i][1])\n",
    "names"
   ]
  },
  {
   "cell_type": "code",
   "execution_count": null,
   "metadata": {},
   "outputs": [],
   "source": [
    "len(names)"
   ]
  },
  {
   "cell_type": "code",
   "execution_count": null,
   "metadata": {},
   "outputs": [],
   "source": [
    "datos = soup.find_all(\"p\")\n",
    "datos"
   ]
  },
  {
   "cell_type": "code",
   "execution_count": null,
   "metadata": {},
   "outputs": [],
   "source": [
    " re.findall('class=\"normal\">([\\w\\s,-]+)<', str(datos))"
   ]
  },
  {
   "cell_type": "code",
   "execution_count": null,
   "metadata": {},
   "outputs": [],
   "source": [
    "atributos = re.findall('class=\"normal\">([\\w\\s,-]+)<', str(datos))"
   ]
  },
  {
   "cell_type": "code",
   "execution_count": null,
   "metadata": {},
   "outputs": [],
   "source": [
    "atributos.pop(0)"
   ]
  },
  {
   "cell_type": "code",
   "execution_count": null,
   "metadata": {},
   "outputs": [],
   "source": [
    "len(atributos)/6\n",
    "# 1.Tipo de dato, tarea, atributos, variables, obs, año"
   ]
  },
  {
   "cell_type": "code",
   "execution_count": null,
   "metadata": {},
   "outputs": [],
   "source": [
    "atributos"
   ]
  },
  {
   "cell_type": "code",
   "execution_count": null,
   "metadata": {},
   "outputs": [],
   "source": [
    "nuevo_atributos = []\n",
    "for x in atributos:\n",
    "    nuevo_atributos.append(x.replace(\"\\xa0\",\"\"))\n",
    "nuevo_atributos"
   ]
  },
  {
   "cell_type": "code",
   "execution_count": null,
   "metadata": {},
   "outputs": [],
   "source": [
    "elementos = list(range(0,2982,6))\n",
    "data_types = []\n",
    "for i in elementos:\n",
    "    data_types.append(nuevo_atributos[i])\n",
    "data_types"
   ]
  },
  {
   "cell_type": "code",
   "execution_count": null,
   "metadata": {},
   "outputs": [],
   "source": [
    "elementos = list(range(1,2982,6))\n",
    "default_task = []\n",
    "for i in elementos:\n",
    "    default_task.append(nuevo_atributos[i])\n",
    "default_task"
   ]
  },
  {
   "cell_type": "code",
   "execution_count": null,
   "metadata": {},
   "outputs": [],
   "source": [
    "elementos = list(range(2,2982,6))\n",
    "attribute_types = []\n",
    "for i in elementos:\n",
    "    attribute_types.append(nuevo_atributos[i])\n",
    "attribute_types"
   ]
  },
  {
   "cell_type": "code",
   "execution_count": null,
   "metadata": {},
   "outputs": [],
   "source": [
    "elementos = list(range(3,2982,6))\n",
    "obs = []\n",
    "for i in elementos:\n",
    "    obs.append(nuevo_atributos[i])\n",
    "obs"
   ]
  },
  {
   "cell_type": "code",
   "execution_count": null,
   "metadata": {},
   "outputs": [],
   "source": [
    "elementos = list(range(4,2982,6))\n",
    "cols = []\n",
    "for i in elementos:\n",
    "    cols.append(nuevo_atributos[i])\n",
    "cols"
   ]
  },
  {
   "cell_type": "code",
   "execution_count": null,
   "metadata": {},
   "outputs": [],
   "source": [
    "elementos = list(range(5,2982,6))\n",
    "year = []\n",
    "for i in elementos:\n",
    "    year.append(nuevo_atributos[i])\n",
    "year"
   ]
  },
  {
   "cell_type": "code",
   "execution_count": null,
   "metadata": {},
   "outputs": [],
   "source": [
    "table = {\"Name\": names,\n",
    "        \"Data types\": data_types,\n",
    "        \"Default task\": default_task,\n",
    "        \"Attributes types\": attribute_types,\n",
    "        \"# Instances\": obs,\n",
    "        \"# Attributes\": cols,\n",
    "        \"Year\": year,\n",
    "        \"Links\": url_completa}\n",
    "base_de_datos = pd.DataFrame(table)"
   ]
  },
  {
   "cell_type": "code",
   "execution_count": null,
   "metadata": {
    "scrolled": true
   },
   "outputs": [],
   "source": [
    "base_de_datos"
   ]
  },
  {
   "cell_type": "code",
   "execution_count": null,
   "metadata": {},
   "outputs": [],
   "source": [
    "base_de_datos[\"Name\"] = base_de_datos[\"Name\"].str.upper()\n",
    "base_de_datos.sort_values([\"Name\"], axis=0, \n",
    "                 ascending=[True], inplace=True) \n",
    "base_de_datos"
   ]
  },
  {
   "cell_type": "markdown",
   "metadata": {},
   "source": [
    "#### Añadir resumen"
   ]
  },
  {
   "cell_type": "code",
   "execution_count": null,
   "metadata": {},
   "outputs": [],
   "source": [
    "link = requests.get('https://archive.ics.uci.edu/ml/datasets.php?format=&task=&att=&area=&numAtt=&numIns=&type=&sort=nameUp&view=list').text\n",
    "s_link = BeautifulSoup(link, \"lxml\")"
   ]
  },
  {
   "cell_type": "code",
   "execution_count": null,
   "metadata": {},
   "outputs": [],
   "source": [
    "des = re.findall('<b><a href=\"datasets[\\s\\S]*?</p>',str(s_link))\n",
    "des\n",
    ":\\s([\\w\\s:,.¿\\'%()-]+)"
   ]
  },
  {
   "cell_type": "code",
   "execution_count": null,
   "metadata": {},
   "outputs": [],
   "source": [
    "abstract = []\n",
    "for i in des:\n",
    "    abstract.append(re.findall(\":\\s([\\w\\s:,.¿\\'%()-]+)\", i))\n",
    "abstract"
   ]
  },
  {
   "cell_type": "code",
   "execution_count": null,
   "metadata": {},
   "outputs": [],
   "source": [
    "len(abstract)"
   ]
  },
  {
   "cell_type": "code",
   "execution_count": null,
   "metadata": {
    "scrolled": true
   },
   "outputs": [],
   "source": [
    "resumen = []\n",
    "for i in range(len(abstract)):\n",
    "    resumen.append(abstract[i][0])\n",
    "len(resumen)"
   ]
  },
  {
   "cell_type": "code",
   "execution_count": null,
   "metadata": {},
   "outputs": [],
   "source": [
    "base_de_datos[\"Abstract\"] = resumen"
   ]
  },
  {
   "cell_type": "code",
   "execution_count": null,
   "metadata": {},
   "outputs": [],
   "source": [
    "base_de_datos"
   ]
  },
  {
   "cell_type": "markdown",
   "metadata": {},
   "source": [
    "-----"
   ]
  }
 ],
 "metadata": {
  "anaconda-cloud": {},
  "kernelspec": {
   "display_name": "Python 3",
   "language": "python",
   "name": "python3"
  },
  "language_info": {
   "codemirror_mode": {
    "name": "ipython",
    "version": 3
   },
   "file_extension": ".py",
   "mimetype": "text/x-python",
   "name": "python",
   "nbconvert_exporter": "python",
   "pygments_lexer": "ipython3",
   "version": "3.7.4"
  }
 },
 "nbformat": 4,
 "nbformat_minor": 1
}
