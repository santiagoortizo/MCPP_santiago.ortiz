{
 "cells": [
  {
   "cell_type": "markdown",
   "metadata": {},
   "source": [
    "# Taller 4\n",
    "Métodos Computacionales para Políticas Públicas - URosario\n",
    "\n",
    "**Entrega: viernes 28-feb-2020 11:59 PM**"
   ]
  },
  {
   "cell_type": "markdown",
   "metadata": {},
   "source": [
    "<div class=\"alert alert-success\">\n",
    "\n",
    "**[Santiago Ortiz Ortiz]** <br><br>\n",
    "[santiago.ortizo@urosario.edu.co]\n",
    "</div>"
   ]
  },
  {
   "cell_type": "markdown",
   "metadata": {},
   "source": [
    "## Instrucciones:\n",
    "- Guarde una copia de este *Jupyter Notebook* en su computador, idealmente en una carpeta destinada al material del curso.\n",
    "- Modifique el nombre del archivo del *notebook*, agregando al final un guión inferior y su nombre y apellido, separados estos últimos por otro guión inferior. Por ejemplo, mi *notebook* se llamaría: mcpp_taller4_santiago_matallana\n",
    "- Marque el *notebook* con su nombre y e-mail en el bloque verde arriba. Reemplace el texto \"[Su nombre acá]\" con su nombre y apellido. Similar para su e-mail.\n",
    "- Desarrolle la totalidad del taller sobre este *notebook*, insertando las celdas que sea necesario debajo de cada pregunta. Haga buen uso de las celdas para código y de las celdas tipo *markdown* según el caso.\n",
    "- Recuerde salvar periódicamente sus avances.\n",
    "- Cuando termine el taller:\n",
    "    1. Descárguelo en PDF.\n",
    "    2. Suba los dos archivos (.pdf y .ipynb) a su repositorio en GitHub antes de la fecha y hora límites.\n",
    "\n",
    "(Todos los ejercicios tienen el mismo valor.)"
   ]
  },
  {
   "cell_type": "markdown",
   "metadata": {},
   "source": [
    "---"
   ]
  },
  {
   "cell_type": "markdown",
   "metadata": {},
   "source": [
    "## Zelle, Exercises 6.8 (p. 159):\n",
    "\n",
    "- True/False: 1-10\n",
    "- Multiple choice: 2, 3, 6, 7, 10\n",
    "- Programming Exercises: 1, 3, 4, 11, 12, 13"
   ]
  },
  {
   "cell_type": "markdown",
   "metadata": {},
   "source": [
    "## True / False"
   ]
  },
  {
   "cell_type": "markdown",
   "metadata": {},
   "source": [
    "1. Falso\n",
    "2. Falso\n",
    "3. Verdadero\n",
    "4. Verdadero\n",
    "5. Falso\n",
    "6. Falso\n",
    "7. Verdadero\n",
    "8. Verdadero\n",
    "9. Verdadero\n",
    "10. Falso"
   ]
  },
  {
   "cell_type": "markdown",
   "metadata": {},
   "source": [
    "## Multiple  choice"
   ]
  },
  {
   "cell_type": "markdown",
   "metadata": {},
   "source": [
    "2. a)\n",
    "3. a)\n",
    "6. a)\n",
    "7. d)\n",
    "10. a)\n"
   ]
  },
  {
   "cell_type": "markdown",
   "metadata": {},
   "source": [
    "## Programming Exercises"
   ]
  },
  {
   "cell_type": "markdown",
   "metadata": {},
   "source": [
    "1. Escribir un programa en donde aparezca la letra de \"Old MacDonald\" con 5 animales diferentes."
   ]
  },
  {
   "cell_type": "code",
   "execution_count": 39,
   "metadata": {
    "scrolled": true
   },
   "outputs": [
    {
     "name": "stdout",
     "output_type": "stream",
     "text": [
      "Old MacDonald had a farm, Ee-igh, Ee-igh, Oh!\n",
      "And on that farm he had a cow, Ee-igh, Ee-igh, Oh!\n",
      "With a moo, moo here and a moo, moo there\n",
      "Here a moo, there a moo, everywhere a moo, moo\n",
      "Old MacDonald had a farm, Ee-igh, Ee-igh, Oh!\n",
      "----------------------------------\n",
      "Old MacDonald had a farm, Ee-igh, Ee-igh, Oh!\n",
      "And on that farm he had a pig, Ee-igh, Ee-igh, Oh!\n",
      "With a oink, oink here and a oink, oink there\n",
      "Here a oink, there a oink, everywhere a oink, oink\n",
      "Old MacDonald had a farm, Ee-igh, Ee-igh, Oh!\n",
      "----------------------------------\n",
      "Old MacDonald had a farm, Ee-igh, Ee-igh, Oh!\n",
      "And on that farm he had a duck, Ee-igh, Ee-igh, Oh!\n",
      "With a quack, quack here and a quack, quack there\n",
      "Here a quack, there a quack, everywhere a quack, quack\n",
      "Old MacDonald had a farm, Ee-igh, Ee-igh, Oh!\n",
      "----------------------------------\n",
      "Old MacDonald had a farm, Ee-igh, Ee-igh, Oh!\n",
      "And on that farm he had a horse, Ee-igh, Ee-igh, Oh!\n",
      "With a neigh, neigh here and a neigh, neigh there\n",
      "Here a neigh, there a neigh, everywhere a neigh, neigh\n",
      "Old MacDonald had a farm, Ee-igh, Ee-igh, Oh!\n",
      "----------------------------------\n",
      "Old MacDonald had a farm, Ee-igh, Ee-igh, Oh!\n",
      "And on that farm he had a lamb, Ee-igh, Ee-igh, Oh!\n",
      "With a baa, baa here and a baa, baa there\n",
      "Here a baa, there a baa, everywhere a baa, baa\n",
      "Old MacDonald had a farm, Ee-igh, Ee-igh, Oh!\n",
      "----------------------------------\n"
     ]
    }
   ],
   "source": [
    "lista_animales = [\"cow\", \"pig\", \"duck\", \"horse\", \"lamb\"]\n",
    "\n",
    "def animales(animal):\n",
    "    if animal == \"cow\":\n",
    "        sonido = \"moo\"\n",
    "    elif animal == \"pig\":\n",
    "        sonido = \"oink\"\n",
    "    elif animal == \"duck\":\n",
    "        sonido = \"quack\"\n",
    "    elif animal == \"horse\":\n",
    "        sonido = \"neigh\"\n",
    "    elif animal == \"lamb\":\n",
    "        sonido = \"baa\"\n",
    "    print(f\"Old MacDonald had a farm, Ee-igh, Ee-igh, Oh!\")\n",
    "    print(f\"And on that farm he had a {animal}, Ee-igh, Ee-igh, Oh!\")\n",
    "    print(f\"With a {sonido}, {sonido} here and a {sonido}, {sonido} there\")\n",
    "    print(f\"Here a {sonido}, there a {sonido}, everywhere a {sonido}, {sonido}\")\n",
    "    print(f\"Old MacDonald had a farm, Ee-igh, Ee-igh, Oh!\")\n",
    "    \n",
    "for animal in lista_animales:\n",
    "    animales(animal)\n",
    "    print(\"----------------------------------\")"
   ]
  },
  {
   "cell_type": "markdown",
   "metadata": {},
   "source": [
    "3. Áreas y volumenes "
   ]
  },
  {
   "cell_type": "code",
   "execution_count": 15,
   "metadata": {},
   "outputs": [
    {
     "name": "stdout",
     "output_type": "stream",
     "text": [
      "Dígame el radio de la esfera: 6\n",
      "Dígame la unidad de medida: centimetros\n",
      "El área de la esfera es de 452.3893421169302 centimetros cuadrados\n",
      "El volumen de la esfera es de 904.7786842338603 centimetros cúbicos\n"
     ]
    }
   ],
   "source": [
    "# área de una espera: 4 pi r^2\n",
    "# volumén de una espera: 4/3 pi r^3\n",
    "import math\n",
    "\n",
    "radio = float(input(\"Dígame el radio de la esfera: \"))\n",
    "unidad = input(\"Dígame la unidad de medida: \")\n",
    "\n",
    "def area(radio):\n",
    "    area_esfera = 4*math.pi*radio**2\n",
    "    return area_esfera\n",
    "def volumen(radio):\n",
    "    volumen_esfera = (4/3)*math.pi*radio**3\n",
    "    return volumen_esfera\n",
    "print(\"El área de la esfera es de\", area(radio), f\"{unidad} cuadrados\")\n",
    "print(\"El volumen de la esfera es de\", volumen(radio), f\"{unidad} cúbicos\")\n"
   ]
  },
  {
   "cell_type": "markdown",
   "metadata": {},
   "source": [
    "4. Suma sencillas y cúbicas de los números naturales"
   ]
  },
  {
   "cell_type": "code",
   "execution_count": 22,
   "metadata": {},
   "outputs": [
    {
     "name": "stdout",
     "output_type": "stream",
     "text": [
      "Dígame un número natural: 5\n",
      "La suma de los primeros 5 números naturales es 15\n",
      "La suma del cubo de los primeros 5 números naturales es 225\n"
     ]
    }
   ],
   "source": [
    "n = int(input(\"Dígame un número natural: \"))\n",
    "def sumN(n):\n",
    "    m = 0\n",
    "    for i in range(1, n + 1):\n",
    "        m = m + i\n",
    "    return m\n",
    "\n",
    "def sumNcubes(n):\n",
    "    m = 0\n",
    "    for i in range(1, n + 1):\n",
    "        m = m + i**3\n",
    "    return m\n",
    "\n",
    "print(f\"La suma de los primeros {n} números naturales es\", sumN(n))\n",
    "print(f\"La suma del cubo de los primeros {n} números naturales es\", sumNcubes(n))\n"
   ]
  },
  {
   "cell_type": "markdown",
   "metadata": {},
   "source": [
    "11. Raiz cuadrada de los números de la lista"
   ]
  },
  {
   "cell_type": "code",
   "execution_count": 30,
   "metadata": {},
   "outputs": [
    {
     "name": "stdout",
     "output_type": "stream",
     "text": [
      "De que tamaño quiere la lista: 8\n",
      "Ingrese un número POSITIVO: 2\n",
      "Ingrese un número POSITIVO: 4\n",
      "Ingrese un número POSITIVO: 16\n",
      "Ingrese un número POSITIVO: 25\n",
      "Ingrese un número POSITIVO: 26\n",
      "Ingrese un número POSITIVO: 81\n",
      "Ingrese un número POSITIVO: 100\n",
      "Ingrese un número POSITIVO: 125\n",
      "Su lista es: [2.0, 4.0, 16.0, 25.0, 26.0, 81.0, 100.0, 125.0]\n",
      "Su nueva lista es: [1.4142135623730951, 2.0, 4.0, 5.0, 5.0990195135927845, 9.0, 10.0, 11.180339887498949]\n"
     ]
    }
   ],
   "source": [
    "numero = int(input(\"De que tamaño quiere la lista: \"))\n",
    "nums = []\n",
    "for i in range(numero):\n",
    "    elementos = float(input(\"Ingrese un número POSITIVO: \"))\n",
    "    nums.append(elementos)\n",
    "print(f\"Su lista original es: {nums}\")\n",
    "\n",
    "def squareEach(lista):\n",
    "    for i in range(len(lista)):\n",
    "        lista[i] = (lista[i])**(1/2)\n",
    "    return lista\n",
    "print(f\"Su nueva lista es: {squareEach(nums)}\")"
   ]
  },
  {
   "cell_type": "markdown",
   "metadata": {},
   "source": [
    " 12. Retornar la suma de los números de la lista"
   ]
  },
  {
   "cell_type": "code",
   "execution_count": 36,
   "metadata": {},
   "outputs": [
    {
     "name": "stdout",
     "output_type": "stream",
     "text": [
      "De que tamaño quiere la lista: 3\n",
      "Ingrese un número: 100\n",
      "Ingrese un número: 200\n",
      "Ingrese un número: 1\n",
      "Su lista original es: [100.0, 200.0, 1.0]\n",
      "La suma de los números de la lista es 301.0\n"
     ]
    }
   ],
   "source": [
    "# Utilicemos la lista anterior: \n",
    "numero = int(input(\"De que tamaño quiere la lista: \"))\n",
    "nums = []\n",
    "for i in range(numero):\n",
    "    elementos = float(input(\"Ingrese un número: \"))\n",
    "    nums.append(elementos)\n",
    "print(f\"Su lista original es: {nums}\")\n",
    "\n",
    "def sumList(lista):\n",
    "    m = 0\n",
    "    for elemento in lista:\n",
    "        m = m + elemento\n",
    "    return m\n",
    "print(f\"La suma de los números de la lista es {sumList(nums)}\")"
   ]
  },
  {
   "cell_type": "markdown",
   "metadata": {},
   "source": [
    "13. Cree una lista de strings y convierta cada elemento en el número que representa."
   ]
  },
  {
   "cell_type": "code",
   "execution_count": 38,
   "metadata": {},
   "outputs": [
    {
     "name": "stdout",
     "output_type": "stream",
     "text": [
      "Su lista original esta compuesta por los siguientes elementos: ['Uno', 'Dos', 'Tres', 'Cuatro', 'Cinco']\n",
      "La nueva lista es: [1, 2, 3, 4, 5]\n"
     ]
    }
   ],
   "source": [
    "numero = [\"Uno\", \"Dos\", \"Tres\", \"Cuatro\", \"Cinco\"]\n",
    "print(f\"Su lista original esta compuesta por los siguientes elementos: {numero}\")\n",
    "def toNumbers(lista):\n",
    "    for i in range(len(lista)):\n",
    "        if lista[i] == \"Uno\":\n",
    "            lista[i] = 1\n",
    "        elif lista[i] == \"Dos\":\n",
    "            lista[i] = 2\n",
    "        elif lista[i] == \"Tres\":\n",
    "            lista[i] = 3\n",
    "        elif lista[i] == \"Cuatro\":\n",
    "            lista[i] = 4\n",
    "        elif lista[i] == \"Cinco\":\n",
    "            lista[i] = 5\n",
    "    return lista\n",
    "print(f\"La nueva lista es: {toNumbers(numero)}\")"
   ]
  },
  {
   "cell_type": "code",
   "execution_count": null,
   "metadata": {},
   "outputs": [],
   "source": []
  }
 ],
 "metadata": {
  "anaconda-cloud": {},
  "kernelspec": {
   "display_name": "Python 3",
   "language": "python",
   "name": "python3"
  },
  "language_info": {
   "codemirror_mode": {
    "name": "ipython",
    "version": 3
   },
   "file_extension": ".py",
   "mimetype": "text/x-python",
   "name": "python",
   "nbconvert_exporter": "python",
   "pygments_lexer": "ipython3",
   "version": "3.7.4"
  }
 },
 "nbformat": 4,
 "nbformat_minor": 1
}
