{
 "cells": [
  {
   "cell_type": "markdown",
   "metadata": {},
   "source": [
    "# Taller 5\n",
    "Métodos Computacionales para Políticas Públicas - URosario\n",
    "\n",
    "**Entrega: viernes 6-mar-2020 11:59 PM**"
   ]
  },
  {
   "cell_type": "markdown",
   "metadata": {},
   "source": [
    "<div class=\"alert alert-success\">\n",
    "\n",
    "**Santiago Ortiz Ortiz** <br><br>\n",
    "[santiago.ortizo@urosario.edu.co]\n",
    "</div>"
   ]
  },
  {
   "cell_type": "markdown",
   "metadata": {},
   "source": [
    "## Instrucciones:\n",
    "- Guarde una copia de este *Jupyter Notebook* en su computador, idealmente en una carpeta destinada al material del curso.\n",
    "- Modifique el nombre del archivo del *notebook*, agregando al final un guión inferior y su nombre y apellido, separados estos últimos por otro guión inferior. Por ejemplo, mi *notebook* se llamaría: mcpp_taller5_santiago_matallana\n",
    "- Marque el *notebook* con su nombre y e-mail en el bloque verde arriba. Reemplace el texto \"[Su nombre acá]\" con su nombre y apellido. Similar para su e-mail.\n",
    "- Desarrolle la totalidad del taller sobre este *notebook*, insertando las celdas que sea necesario debajo de cada pregunta. Haga buen uso de las celdas para código y de las celdas tipo *markdown* según el caso.\n",
    "- Recuerde salvar periódicamente sus avances.\n",
    "- Cuando termine el taller:\n",
    "    1. Descárguelo en PDF. Si tiene algún problema con la conversión, descárguelo en HTML.\n",
    "    2. Suba los dos archivos (.pdf -o .html- y .ipynb) a su repositorio en GitHub antes de la fecha y hora límites.\n",
    "\n",
    "(Todos los ejercicios tienen el mismo valor.)"
   ]
  },
  {
   "cell_type": "markdown",
   "metadata": {},
   "source": [
    "---"
   ]
  },
  {
   "cell_type": "markdown",
   "metadata": {},
   "source": [
    "### 1\n",
    "Escríba una función que ordene (de forma ascedente y descendente) un diccionario según sus valores."
   ]
  },
  {
   "cell_type": "code",
   "execution_count": 34,
   "metadata": {},
   "outputs": [
    {
     "name": "stdout",
     "output_type": "stream",
     "text": [
      "Ingrese la forma (A/D): A\n",
      "jose -> 10\n",
      "lina -> 16\n",
      "andrea -> 19\n",
      "ramiro -> 20\n"
     ]
    }
   ],
   "source": [
    "diccionario = {\"andrea\": 19, \"ramiro\": 20, \"lina\": 16, \"jose\":10}\n",
    "\n",
    "forma = input(\"Ingrese la forma (A/D): \")\n",
    "\n",
    "def ordenar(forma):\n",
    "    if forma == \"A\":\n",
    "        lista = sorted(diccionario.items(), key = lambda x: x[1], reverse = False)\n",
    "        print(\"Se imprimirá de forma ascendente\")\n",
    "    elif forma == \"D\":\n",
    "        lista = sorted(diccionario.items(), key = lambda x: x[1], reverse = True)\n",
    "        print(\"Se imprimirá de forma descendente\")\n",
    "    for i in lista:\n",
    "        print(i[0], \"->\", i[1])\n",
    "\n",
    "ordenar(forma)"
   ]
  },
  {
   "cell_type": "markdown",
   "metadata": {},
   "source": [
    "##### Explicación del código:\n",
    "El método list(\"lista\".items()) me permite obtener una lista cuyos elementos son tuplas que contienen en la posición 0 la llave y en la posición 1 el valor.\n",
    "\n",
    "Si utilizamos la función sorted() podemos obtener los valores de forma ascendente. Esta función cuenta con una opción \"key =\", en la cual uno ingresa el elemento por el cual quiere que se ordene. Note que en la LISTA creada, los valores son cada tupla, por lo tanto yo quiero que coja CADA tupla pero utilice el VALOR, es decir, la posición 1. La opción reverse, organiza de mayor a menor. "
   ]
  },
  {
   "cell_type": "markdown",
   "metadata": {},
   "source": [
    "### 2\n",
    "Escriba una función que agregue una llave a un diccionario."
   ]
  },
  {
   "cell_type": "code",
   "execution_count": 36,
   "metadata": {},
   "outputs": [
    {
     "name": "stdout",
     "output_type": "stream",
     "text": [
      "Su diccionario inicial es este: {'andrea': 19, 'ramiro': 20, 'lina': 16, 'jose': 10}\n",
      "Ingrese el nombre en minúsculas: irene\n",
      "Ingrese la edad: 10\n",
      "Su diccionario final es este: {'andrea': 19, 'ramiro': 20, 'lina': 16, 'jose': 10, 'irene': 10}\n"
     ]
    }
   ],
   "source": [
    "# Utilizamos el mismo diccionario creado: nombres y edades\n",
    "print(\"Su diccionario inicial es este:\", diccionario)\n",
    "nombre, edad = input(\"Ingrese el nombre en minúsculas: \"), int(input(\"Ingrese la edad: \"))\n",
    "# edad = int(input(\"Ingrese la edad: \"))\n",
    "def agregar(a, b):\n",
    "    diccionario[a] = b\n",
    "\n",
    "agregar(nombre, edad)\n",
    "print(\"Su diccionario final es este:\", diccionario)"
   ]
  },
  {
   "cell_type": "markdown",
   "metadata": {},
   "source": [
    "### 3\n",
    "Escriba un programa que concatene los siguientes tres diccionarios en uno nuevo:"
   ]
  },
  {
   "cell_type": "markdown",
   "metadata": {},
   "source": [
    "dicc1 = {1:10, 2:20} \n",
    "dicc2 = {3:30, 4:40} \n",
    "dicc3 = {5:50,6:60}\n",
    "Resultado esperado: {1: 10, 2: 20, 3: 30, 4: 40, 5: 50, 6: 60}"
   ]
  },
  {
   "cell_type": "code",
   "execution_count": 40,
   "metadata": {},
   "outputs": [
    {
     "name": "stdout",
     "output_type": "stream",
     "text": [
      "Estes es el resultado: {1: 10, 2: 20, 3: 30, 4: 40, 5: 50, 6: 60}\n"
     ]
    }
   ],
   "source": [
    "dicc1 = {1:10, 2:20} \n",
    "dicc2 = {3:30, 4:40} \n",
    "dicc3 = {5:50,6:60} \n",
    "\n",
    "concatenada = {}\n",
    "\n",
    "concatenada.update(dicc1)\n",
    "concatenada.update(dicc2)\n",
    "concatenada.update(dicc3)\n",
    "print(\"Estes es el resultado:\", concatenada)\n"
   ]
  },
  {
   "cell_type": "markdown",
   "metadata": {},
   "source": [
    "### 4\n",
    "Escriba una función que verifique si una determinada llave existe o no en un diccionario."
   ]
  },
  {
   "cell_type": "code",
   "execution_count": 42,
   "metadata": {
    "scrolled": true
   },
   "outputs": [
    {
     "name": "stdout",
     "output_type": "stream",
     "text": [
      "Su diccionario es:  {'andrea': 19, 'ramiro': 20, 'lina': 16, 'jose': 10, 'irene': 10}\n"
     ]
    }
   ],
   "source": [
    "# Utilicemos el diccionario \"diccionario\"\n",
    "print(\"Su diccionario es: \",diccionario)\n"
   ]
  },
  {
   "cell_type": "code",
   "execution_count": 49,
   "metadata": {},
   "outputs": [
    {
     "name": "stdout",
     "output_type": "stream",
     "text": [
      "Ingrese el nombre en minúsculas: julio\n",
      "julio NO se encuentra en el diccionario\n"
     ]
    }
   ],
   "source": [
    "nombre = input(\"Ingrese el nombre en minúsculas: \")\n",
    "def verificar(a):\n",
    "    try:\n",
    "        edad = diccionario[a] \n",
    "        print(a, \"se encuentra en el diccionario\")\n",
    "    except KeyError:\n",
    "        print(a, \"NO se encuentra en el diccionario\")\n",
    "verificar(nombre)\n",
    "        "
   ]
  },
  {
   "cell_type": "markdown",
   "metadata": {},
   "source": [
    "### 5\n",
    "Escriba una función que imprima todos los pares (llave, valor) de un diccionario."
   ]
  },
  {
   "cell_type": "code",
   "execution_count": 52,
   "metadata": {},
   "outputs": [
    {
     "name": "stdout",
     "output_type": "stream",
     "text": [
      "El par (llave,valor) es:  ('andrea', 19) \n",
      " La llave es: andrea \n",
      " El valor es: 19\n",
      "El par (llave,valor) es:  ('ramiro', 20) \n",
      " La llave es: ramiro \n",
      " El valor es: 20\n",
      "El par (llave,valor) es:  ('lina', 16) \n",
      " La llave es: lina \n",
      " El valor es: 16\n",
      "El par (llave,valor) es:  ('jose', 10) \n",
      " La llave es: jose \n",
      " El valor es: 10\n",
      "El par (llave,valor) es:  ('irene', 10) \n",
      " La llave es: irene \n",
      " El valor es: 10\n"
     ]
    }
   ],
   "source": [
    "\n",
    "def tuplas_diccionario(dictionary):\n",
    "    lista_tupas = list(dictionary.items())\n",
    "    for x in range(len(lista_tupas)):\n",
    "        print(\"El par (llave,valor) es: \", lista_tupas[x],\"\\n\", \"La llave es:\", lista_tupas[x][0],\"\\n\",\"El valor es:\", lista_tupas[x][1])\n",
    "tuplas_diccionario(diccionario)        "
   ]
  },
  {
   "cell_type": "markdown",
   "metadata": {},
   "source": [
    "### 6\n",
    "Escriba una función que genere un diccionario con los números enteros entre 1 y n en la forma (x: x**2)."
   ]
  },
  {
   "cell_type": "code",
   "execution_count": 63,
   "metadata": {},
   "outputs": [
    {
     "name": "stdout",
     "output_type": "stream",
     "text": [
      "Ingrese un número entero: 7\n"
     ]
    },
    {
     "data": {
      "text/plain": [
       "{1: 1, 2: 4, 3: 9, 4: 16, 5: 25, 6: 36, 7: 49}"
      ]
     },
     "execution_count": 63,
     "metadata": {},
     "output_type": "execute_result"
    }
   ],
   "source": [
    "numero = int(input(\"Ingrese un número entero: \"))\n",
    "diccionario = {}\n",
    "def square_dict(numero):\n",
    "    for i in range(1, numero + 1):\n",
    "        diccionario[i] = i ** 2\n",
    "    return diccionario\n",
    "square_dict(numero)"
   ]
  },
  {
   "cell_type": "markdown",
   "metadata": {},
   "source": [
    "### 7\n",
    "Escriba una función que sume todas las llaves de un diccionario. (Asuma que son números.)"
   ]
  },
  {
   "cell_type": "code",
   "execution_count": 197,
   "metadata": {
    "scrolled": true
   },
   "outputs": [
    {
     "name": "stdout",
     "output_type": "stream",
     "text": [
      "8\n"
     ]
    }
   ],
   "source": [
    "c = {1 : 2, 2: 3}\n",
    "sum_llaves(c)"
   ]
  },
  {
   "cell_type": "code",
   "execution_count": 73,
   "metadata": {},
   "outputs": [
    {
     "name": "stdout",
     "output_type": "stream",
     "text": [
      "La suma es: 3\n"
     ]
    }
   ],
   "source": [
    "# Llaves y valores \n",
    "from functools import reduce\n",
    "c = {1 : 2, 2 : 3}\n",
    "def sum_llaves(dictionary):\n",
    "    llaves = list(dictionary.keys())\n",
    "    suma = reduce(lambda x, y: x + y, llaves)\n",
    "    return suma\n",
    "print(\"La suma es:\", sum_llaves(c))"
   ]
  },
  {
   "cell_type": "markdown",
   "metadata": {},
   "source": [
    "### 8\n",
    "Escriba una función que sume todos los valores de un diccionario. (Asuma que son números.)"
   ]
  },
  {
   "cell_type": "code",
   "execution_count": 74,
   "metadata": {},
   "outputs": [
    {
     "name": "stdout",
     "output_type": "stream",
     "text": [
      "La suma es: 5\n"
     ]
    }
   ],
   "source": [
    "# Llaves y valores \n",
    "from functools import reduce\n",
    "c = {1 : 2, 2 : 3}\n",
    "def sum_valores(dictionary):\n",
    "    valores = list(dictionary.values())\n",
    "    suma = reduce(lambda x, y: x + y, valores)\n",
    "    return suma\n",
    "print(\"La suma es:\", sum_valores(c))"
   ]
  },
  {
   "cell_type": "markdown",
   "metadata": {},
   "source": [
    "### 9\n",
    "Escriba una función que sume todos los ítems de un diccionario. (Asuma que son números.)"
   ]
  },
  {
   "cell_type": "code",
   "execution_count": 75,
   "metadata": {},
   "outputs": [
    {
     "name": "stdout",
     "output_type": "stream",
     "text": [
      "La suma es: 8\n"
     ]
    }
   ],
   "source": [
    "# Llaves y valores \n",
    "from functools import reduce\n",
    "c = {1 : 2, 2 : 3}\n",
    "def sum_llaves(dictionary):\n",
    "    llaves = list(dictionary.keys())\n",
    "    valores = list(dictionary.values())\n",
    "    llaves_valores = llaves + valores\n",
    "    suma = reduce(lambda x, y: x + y, llaves_valores)\n",
    "    return suma\n",
    "print(\"La suma es:\", sum_llaves(c))"
   ]
  },
  {
   "cell_type": "markdown",
   "metadata": {},
   "source": [
    "### 10\n",
    "Escriba una función que tome dos listas y las mapee a un diccionario por pares. (El primer elemento de la primera lista es la primera llave del diccionario, el primer elemento de la segunda lista es el valor de la primera llave del diccionario, etc.)"
   ]
  },
  {
   "cell_type": "code",
   "execution_count": 90,
   "metadata": {},
   "outputs": [
    {
     "data": {
      "text/plain": [
       "{'sandra': 34, 'margarita': 67, 'sofia': 2}"
      ]
     },
     "execution_count": 90,
     "metadata": {},
     "output_type": "execute_result"
    }
   ],
   "source": [
    "nombres = [\"sandra\", \"margarita\", \"sofia\"]\n",
    "edad = [34, 67, 2]\n",
    "\n",
    "dictionary = {}\n",
    "def diccionario(nombres, edad):\n",
    "    for i,j in zip(range(len(nombres)), range(len(edad))):\n",
    "        dictionary[nombres[i]] = edad[j]\n",
    "    return dictionary\n",
    "diccionario(nombres, edad)\n",
    "    \n",
    "    \n"
   ]
  },
  {
   "cell_type": "markdown",
   "metadata": {},
   "source": [
    "### 11\n",
    "Escriba una función que elimine una llave de un diccionario."
   ]
  },
  {
   "cell_type": "code",
   "execution_count": 89,
   "metadata": {},
   "outputs": [
    {
     "name": "stdout",
     "output_type": "stream",
     "text": [
      "Este es el diccionario inicial: {'margarita': 67, 'sofia': 2}\n",
      "Elija una llave a eliminar: sofia\n",
      "Se ha eliminado la llave sofia\n"
     ]
    },
    {
     "data": {
      "text/plain": [
       "{'margarita': 67}"
      ]
     },
     "execution_count": 89,
     "metadata": {},
     "output_type": "execute_result"
    }
   ],
   "source": [
    "print(\"Este es el diccionario inicial:\", dictionary)\n",
    "eliminable = input(\"Elija una llave a eliminar: \")\n",
    "def eliminar(a):\n",
    "    dictionary.pop(a)\n",
    "    return dictionary\n",
    "print(\"Se ha eliminado la llave\", eliminable)\n",
    "eliminar(eliminable)"
   ]
  },
  {
   "cell_type": "markdown",
   "metadata": {},
   "source": [
    "### 12\n",
    "Escriba una función que arroje los valores mínimo y máximo de un diccionario."
   ]
  },
  {
   "cell_type": "code",
   "execution_count": 100,
   "metadata": {},
   "outputs": [
    {
     "name": "stdout",
     "output_type": "stream",
     "text": [
      "Su diccionario inicial es: {'sandra': 34, 'margarita': 67, 'sofia': 2}\n",
      " margarita es el valor máximo con 67 \n",
      " sofia es el valor mínimo con 2 \n"
     ]
    }
   ],
   "source": [
    "print(\"Su diccionario inicial es:\", dictionary)\n",
    "def max_min(diccionario):\n",
    "    maximo = max(diccionario.keys(), key = lambda i: diccionario[i])\n",
    "    minimo = min(diccionario.keys(), key = lambda i: diccionario[i])\n",
    "    return [maximo, minimo]\n",
    "print(f\" {max_min(dictionary)[0]} es el valor máximo con {dictionary[max_min(dictionary)[0]]}\",\"\\n\",\n",
    "      f\"{max_min(dictionary)[1]} es el valor mínimo con {dictionary[max_min(dictionary)[1]]} \" )\n"
   ]
  },
  {
   "cell_type": "markdown",
   "metadata": {},
   "source": [
    "### 13"
   ]
  },
  {
   "cell_type": "markdown",
   "metadata": {},
   "source": [
    "sentence = \"the quick brown fox jumps over the lazy dog\"\n",
    "words = sentence.split()\n",
    "word_lengths = []\n",
    "for word in words:\n",
    "    if word != \"the\":\n",
    "        word_lengths.append(len(word)) \n",
    " \n",
    "Simplifique el código anterior combinando las líneas 3 a 6 usando list comprehension. Su código final deberá entonces tener tres líneas."
   ]
  },
  {
   "cell_type": "code",
   "execution_count": 114,
   "metadata": {},
   "outputs": [],
   "source": [
    "sentence = \"the quick brown fox jumps over the lazy dog\"\n",
    "words = sentence.split()\n",
    "word_lengths = []\n",
    "for word in words:\n",
    "    if word != \"the\":\n",
    "        word_lengths.append(len(word))"
   ]
  },
  {
   "cell_type": "code",
   "execution_count": 115,
   "metadata": {},
   "outputs": [
    {
     "data": {
      "text/plain": [
       "[5, 5, 3, 5, 4, 4, 3]"
      ]
     },
     "execution_count": 115,
     "metadata": {},
     "output_type": "execute_result"
    }
   ],
   "source": [
    "word_lengths"
   ]
  },
  {
   "cell_type": "code",
   "execution_count": 121,
   "metadata": {},
   "outputs": [
    {
     "data": {
      "text/plain": [
       "[5, 5, 3, 5, 4, 4, 3]"
      ]
     },
     "execution_count": 121,
     "metadata": {},
     "output_type": "execute_result"
    }
   ],
   "source": [
    "sentence = \"the quick brown fox jumps over the lazy dog\"\n",
    "words = sentence.split()\n",
    "word_lengths = [len(word) for word in words if word != \"the\"]\n",
    "word_lengths"
   ]
  },
  {
   "cell_type": "markdown",
   "metadata": {},
   "source": [
    "### 14"
   ]
  },
  {
   "cell_type": "markdown",
   "metadata": {},
   "source": [
    "Escriba UNA línea de código que tome la lista <mark>a</mark> y arroje una nueva lista con solo los elementos pares de <mark>a</mark>."
   ]
  },
  {
   "cell_type": "code",
   "execution_count": 125,
   "metadata": {},
   "outputs": [
    {
     "data": {
      "text/plain": [
       "[2, 4, 6, 8, 10]"
      ]
     },
     "execution_count": 125,
     "metadata": {},
     "output_type": "execute_result"
    }
   ],
   "source": [
    "a = [1,2,3,4,5,6,7,8,9,10]\n",
    "a_prima = list(map(lambda x: x,filter(lambda x: x % 2 == 0, a)))\n",
    "a_prima"
   ]
  },
  {
   "cell_type": "markdown",
   "metadata": {},
   "source": [
    "### 15"
   ]
  },
  {
   "cell_type": "markdown",
   "metadata": {},
   "source": [
    "Escriba UNA línea de código que tome la lista <mark>a</mark> del ejercicio 14 y multiplique todos sus valores."
   ]
  },
  {
   "cell_type": "code",
   "execution_count": 131,
   "metadata": {
    "scrolled": true
   },
   "outputs": [
    {
     "data": {
      "text/plain": [
       "3840"
      ]
     },
     "execution_count": 131,
     "metadata": {},
     "output_type": "execute_result"
    }
   ],
   "source": [
    "reduce(lambda x, y: x*y, a_prima)"
   ]
  },
  {
   "cell_type": "markdown",
   "metadata": {},
   "source": [
    "### 16"
   ]
  },
  {
   "cell_type": "markdown",
   "metadata": {},
   "source": [
    "Usando \"list comprehension\", cree una lista con las 36 combinaciones de un par de dados, como tuplas: [(1,1), (1,2),...,(6,6)]."
   ]
  },
  {
   "cell_type": "code",
   "execution_count": 135,
   "metadata": {},
   "outputs": [
    {
     "data": {
      "text/plain": [
       "[(1, 1),\n",
       " (1, 2),\n",
       " (1, 3),\n",
       " (1, 4),\n",
       " (1, 5),\n",
       " (1, 6),\n",
       " (2, 1),\n",
       " (2, 2),\n",
       " (2, 3),\n",
       " (2, 4),\n",
       " (2, 5),\n",
       " (2, 6),\n",
       " (3, 1),\n",
       " (3, 2),\n",
       " (3, 3),\n",
       " (3, 4),\n",
       " (3, 5),\n",
       " (3, 6),\n",
       " (4, 1),\n",
       " (4, 2),\n",
       " (4, 3),\n",
       " (4, 4),\n",
       " (4, 5),\n",
       " (4, 6),\n",
       " (5, 1),\n",
       " (5, 2),\n",
       " (5, 3),\n",
       " (5, 4),\n",
       " (5, 5),\n",
       " (5, 6),\n",
       " (6, 1),\n",
       " (6, 2),\n",
       " (6, 3),\n",
       " (6, 4),\n",
       " (6, 5),\n",
       " (6, 6)]"
      ]
     },
     "execution_count": 135,
     "metadata": {},
     "output_type": "execute_result"
    }
   ],
   "source": [
    "[(x,y) for x in range(1,7) for y in range(1,7)]"
   ]
  },
  {
   "cell_type": "markdown",
   "metadata": {},
   "source": [
    "---"
   ]
  }
 ],
 "metadata": {
  "anaconda-cloud": {},
  "kernelspec": {
   "display_name": "Python 3",
   "language": "python",
   "name": "python3"
  },
  "language_info": {
   "codemirror_mode": {
    "name": "ipython",
    "version": 3
   },
   "file_extension": ".py",
   "mimetype": "text/x-python",
   "name": "python",
   "nbconvert_exporter": "python",
   "pygments_lexer": "ipython3",
   "version": "3.7.4"
  }
 },
 "nbformat": 4,
 "nbformat_minor": 1
}
