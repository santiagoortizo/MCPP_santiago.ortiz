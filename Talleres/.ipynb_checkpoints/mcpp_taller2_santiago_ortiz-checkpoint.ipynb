{
 "cells": [
  {
   "cell_type": "markdown",
   "metadata": {},
   "source": [
    "# Taller 2\n",
    "Métodos Computacionales para Políticas Públicas - URosario\n",
    "\n",
    "**Entrega: viernes 14-feb-2020 11:59 PM**"
   ]
  },
  {
   "cell_type": "markdown",
   "metadata": {},
   "source": [
    "<div class=\"alert alert-success\">\n",
    "\n",
    "**Santiago Ortiz Ortiz ** <br><br>\n",
    "santiago.ortizo@urosario.edu.co\n",
    "</div>"
   ]
  },
  {
   "cell_type": "markdown",
   "metadata": {},
   "source": [
    "## Instrucciones:\n",
    "- Guarde una copia de este *Jupyter Notebook* en su computador, idealmente en una carpeta destinada al material del curso.\n",
    "- Modifique el nombre del archivo del *notebook*, agregando al final un guión inferior y su nombre y apellido, separados estos últimos por otro guión inferior. Por ejemplo, mi *notebook* se llamaría: mcpp_taller2_santiago_matallana\n",
    "- Marque el *notebook* con su nombre y e-mail en el bloque verde arriba. Reemplace el texto \"[Su nombre acá]\" con su nombre y apellido. Similar para su e-mail.\n",
    "- Desarrolle la totalidad del taller sobre este *notebook*, insertando las celdas que sea necesario debajo de cada pregunta. Haga buen uso de las celdas para código y de las celdas tipo *markdown* según el caso.\n",
    "- Recuerde salvar periódicamente sus avances.\n",
    "- Cuando termine el taller:\n",
    "    1. Descárguelo en PDF.\n",
    "    2. Suba los dos archivos (.pdf y .ipynb) a su repositorio en GitHub antes de la fecha y hora límites.\n",
    "\n",
    "(El valor de cada ejercicio está en corchetes [ ] después del número de ejercicio.)"
   ]
  },
  {
   "cell_type": "markdown",
   "metadata": {},
   "source": [
    "---"
   ]
  },
  {
   "cell_type": "markdown",
   "metadata": {},
   "source": [
    "## 1. [1]\n",
    "\n",
    "[Pensar como un computador] Considere el siguiente código:"
   ]
  },
  {
   "cell_type": "raw",
   "metadata": {},
   "source": [
    "if x > 2:\n",
    "    if y > 2:\n",
    "        z = x + y\n",
    "        print(\"z es\", z)\n",
    "else:\n",
    "    print(x)"
   ]
  },
  {
   "cell_type": "markdown",
   "metadata": {},
   "source": [
    "¿Cuál es el resultado si\n",
    "\n",
    "a)  x = 2, y = 5?\n",
    "\n",
    "b)  x = 3, y = 1?\n",
    "\n",
    "c)  x = 1, y = 1? \n",
    "\n",
    "d)  x = 4, y = 3?"
   ]
  },
  {
   "cell_type": "markdown",
   "metadata": {},
   "source": [
    "##### Respuesta\n",
    "-----\n",
    "a) Como x es igual a 2, el primer \"if\" no lo va a tomar, por lo tanto pasamos de una vez al \"else\". Por lo tanto, la condición que va a cumplir será print(x). Es decir, el resultado será 2.\n",
    "\n",
    "b) Como x es igual a 3, el primer \"if\" lo va a tomar. Sin embargo, no hará nada. Como y = 1, no va a hacer nada en esa parte. Por lo tanto el retorno de ese código no será nada. Solo correrá sin errores.\n",
    "\n",
    "c) Dado que x es 1, el primer condicional no se activará, por lo tanto el resultado es print(x), es decir, 1.\n",
    "\n",
    "d) Dado que se cumple el primer condicional, y adicional a eso, se cumple el condicional que tiene dentro, el print será: z es 7."
   ]
  },
  {
   "cell_type": "markdown",
   "metadata": {},
   "source": [
    "## 2. [1]\n",
    "[Pensar como un computador] ¿Cuál es el resultado del siguiente código y cuántas veces se recorre el loop?"
   ]
  },
  {
   "cell_type": "raw",
   "metadata": {},
   "source": [
    "i = 0\n",
    "while i < 10:\n",
    "    i = i + 1\n",
    "    if i % 2 == 0:\n",
    "        print(i)"
   ]
  },
  {
   "cell_type": "markdown",
   "metadata": {},
   "source": [
    "##### Respuesta\n",
    "---\n",
    "Como i comienza en 0, el while loop comenzará, lo primero que hace es ir aumentando el valor de i. Como la condición \"if\" para imprimir es que el número sea par, el resultado del código será: 2, 4, 6, 8, 10. \n",
    "El loop se recorre 10 veces. La primera cuando i es 0 hasta cuando i es 9. El resultado es un i 10, pero porque en el loop de i 9, aumentan 1. El loop para cuando i es 10, porque el while así lo determina."
   ]
  },
  {
   "cell_type": "markdown",
   "metadata": {},
   "source": [
    "## 3. [1]\n",
    "[Pensar como un computador] ¿Cuál es el resultado del siguiente código y cuántas veces se recorre el loop?"
   ]
  },
  {
   "cell_type": "raw",
   "metadata": {},
   "source": [
    "i = 0\n",
    "while i > 10:\n",
    "    i = i + 1\n",
    "    if i % 2 == 0:\n",
    "        print(i)"
   ]
  },
  {
   "cell_type": "markdown",
   "metadata": {},
   "source": [
    "##### Respuesta\n",
    "---\n",
    "El loop nunca se ejecutará porque i es 0, lo cual es menor a 10. No hay resultado."
   ]
  },
  {
   "cell_type": "markdown",
   "metadata": {},
   "source": [
    "## 4.  [2]\n",
    "Escriba un programa que pida al usuario ingresar un número entero, y que imprima \"par\" si el número es par e \"impar\" si el número es impar. Agregue a su programa un código que genere una advertencia en caso de que el usuario ingrese algo diferente a un número entero: \"Error. El usuario debe ingresar un número entero.\" (Investigue por su cuenta cómo lograr dicha validación y la generación del mensaje.)"
   ]
  },
  {
   "cell_type": "markdown",
   "metadata": {},
   "source": [
    "---"
   ]
  },
  {
   "cell_type": "code",
   "execution_count": 5,
   "metadata": {
    "scrolled": true
   },
   "outputs": [
    {
     "name": "stdout",
     "output_type": "stream",
     "text": [
      "Por favor ingrese un número entero: hola\n",
      "Error. El usuario debe ingresar un número entero.\n",
      "Por favor ingrese un número entero: si\n",
      "Error. El usuario debe ingresar un número entero.\n",
      "Por favor ingrese un número entero: 6.5\n",
      "Error. El usuario debe ingresar un número entero\n",
      "Por favor ingrese un número entero: 5\n",
      "5.0 es impar\n"
     ]
    }
   ],
   "source": [
    "booleano = True\n",
    "while booleano == True:\n",
    "    try:\n",
    "        numero = float(input(\"Por favor ingrese un número entero: \"))\n",
    "        while numero != int(numero):\n",
    "            print(\"Error. El usuario debe ingresar un número entero\")\n",
    "            numero = float(input(\"Por favor ingrese un número entero: \"))\n",
    "        if numero == int(numero):\n",
    "            if numero % 2 == 0:\n",
    "                print(f\"{numero} es par\")\n",
    "                booleano = False\n",
    "            else:\n",
    "                print(f\"{numero} es impar\")\n",
    "                booleano = False\n",
    "    except ValueError:\n",
    "        print(\"Error. El usuario debe ingresar un número entero.\")"
   ]
  },
  {
   "cell_type": "markdown",
   "metadata": {},
   "source": [
    "## 5.  [2]\n",
    "Escriba un <font face=\"consolas\">for</font> loop que imprima todos los múltiplos de 3 desde 40 hasta 0 en orden decreciente. Esto es, 39, 36, 33,..., 3, 0."
   ]
  },
  {
   "cell_type": "code",
   "execution_count": 43,
   "metadata": {
    "scrolled": false
   },
   "outputs": [
    {
     "name": "stdout",
     "output_type": "stream",
     "text": [
      "39\n",
      "36\n",
      "33\n",
      "30\n",
      "27\n",
      "24\n",
      "21\n",
      "18\n",
      "15\n",
      "12\n",
      "9\n",
      "6\n",
      "3\n",
      "0\n"
     ]
    }
   ],
   "source": [
    "for i in range(40,-1,-1):\n",
    "    if i % 3 ==0:\n",
    "        print(i)"
   ]
  },
  {
   "cell_type": "code",
   "execution_count": 20,
   "metadata": {},
   "outputs": [
    {
     "name": "stdout",
     "output_type": "stream",
     "text": [
      "39\n",
      "36\n",
      "33\n",
      "30\n",
      "27\n",
      "24\n",
      "21\n",
      "18\n",
      "15\n",
      "12\n",
      "9\n",
      "6\n",
      "3\n",
      "0\n"
     ]
    }
   ],
   "source": [
    "for i in range(41):\n",
    "    i=40-i\n",
    "    if i % 3 == 0:\n",
    "        print(i)"
   ]
  },
  {
   "cell_type": "markdown",
   "metadata": {},
   "source": [
    "---"
   ]
  },
  {
   "cell_type": "markdown",
   "metadata": {},
   "source": [
    "## 6. [2]\n",
    "Escriba un loop que imprima todos los números entre 6 y 30 que no son divisibles por 2, 3 o 5."
   ]
  },
  {
   "cell_type": "code",
   "execution_count": 3,
   "metadata": {},
   "outputs": [
    {
     "name": "stdout",
     "output_type": "stream",
     "text": [
      "6 NO divisible por 5\n",
      "7 NO divisible por 2\n",
      "7 NO divisible por 3\n",
      "7 NO divisible por 5\n",
      "8 NO divisible por 3\n",
      "8 NO divisible por 5\n",
      "9 NO divisible por 2\n",
      "9 NO divisible por 5\n",
      "10 NO divisible por 3\n",
      "11 NO divisible por 2\n",
      "11 NO divisible por 3\n",
      "11 NO divisible por 5\n",
      "12 NO divisible por 5\n",
      "13 NO divisible por 2\n",
      "13 NO divisible por 3\n",
      "13 NO divisible por 5\n",
      "14 NO divisible por 3\n",
      "14 NO divisible por 5\n",
      "15 NO divisible por 2\n",
      "16 NO divisible por 3\n",
      "16 NO divisible por 5\n",
      "17 NO divisible por 2\n",
      "17 NO divisible por 3\n",
      "17 NO divisible por 5\n",
      "18 NO divisible por 5\n",
      "19 NO divisible por 2\n",
      "19 NO divisible por 3\n",
      "19 NO divisible por 5\n",
      "20 NO divisible por 3\n",
      "21 NO divisible por 2\n",
      "21 NO divisible por 5\n",
      "22 NO divisible por 3\n",
      "22 NO divisible por 5\n",
      "23 NO divisible por 2\n",
      "23 NO divisible por 3\n",
      "23 NO divisible por 5\n",
      "24 NO divisible por 5\n",
      "25 NO divisible por 2\n",
      "25 NO divisible por 3\n",
      "26 NO divisible por 3\n",
      "26 NO divisible por 5\n",
      "27 NO divisible por 2\n",
      "27 NO divisible por 5\n",
      "28 NO divisible por 3\n",
      "28 NO divisible por 5\n",
      "29 NO divisible por 2\n",
      "29 NO divisible por 3\n",
      "29 NO divisible por 5\n"
     ]
    }
   ],
   "source": [
    "divisores = [2,3,5]\n",
    "for j in range(6,31):\n",
    "    for i in divisores:\n",
    "        if j % i != 0:\n",
    "            print(f\"{j} NO divisible por {i}\")"
   ]
  },
  {
   "cell_type": "markdown",
   "metadata": {},
   "source": [
    "---"
   ]
  },
  {
   "cell_type": "markdown",
   "metadata": {},
   "source": [
    "## 7. [4]\n",
    "Escriba un programa llamado \"Adivine ni número\". El computador generará aleatoriamente un entero entre 1 y 100. El usuario digita un número y el computador responde \"Menor\" si el número aleatorio es menor que el escogido por el usuario, \"Mayor\" si el número aleatorio es mayor, y \"¡Correcto!\" si el usuario adivina el número. El jugador puede continuar ingresando números hasta que adivine correctamente.\n",
    "\n",
    "**Ejemplo:**\n",
    "- El número aleatorio es 79.\n",
    "- El computador muestra el texto \"Adivine el número entre 1 y 100:\" y espera a que el usuario lo digite.\n",
    "- El usuario digita el número que está abajo en itálicas.\n",
    "- El computador devuelve uno de tres textos, según el caso: \"Mayor\", \"Menor\", o \"¡Correcto!\"."
   ]
  },
  {
   "cell_type": "markdown",
   "metadata": {},
   "source": [
    "<font color=\"green\">Adivine el número entre 1 y 100: *40*<br>\n",
    "<font face=\"consolas\">Mayor</font><br><br>\n",
    "Adivine el número entre 1 y 100: *70*<br>\n",
    "<font face=\"consolas\">Mayor</font><br><br>\n",
    "Adivine el número entre 1 y 100: *80*<br>\n",
    "<font face=\"consolas\">Menor</font><br><br>\n",
    "Adivine el número entre 1 y 100: *77*<br>\n",
    "<font face=\"consolas\">Mayor</font><br><br>\n",
    "Adivine el número entre 1 y 100: *79*<br>\n",
    "<font face=\"consolas\">¡Correcto!</font></font>"
   ]
  },
  {
   "cell_type": "code",
   "execution_count": 18,
   "metadata": {},
   "outputs": [
    {
     "name": "stdout",
     "output_type": "stream",
     "text": [
      "Adivine el número entre 1 y 100: 7\n",
      "Mayor\n",
      "Adivine el número entre 1 y 100: 90\n",
      "Menor\n",
      "Adivine el número entre 1 y 100: 50\n",
      "Mayor\n",
      "Adivine el número entre 1 y 100: 60\n",
      "Mayor\n",
      "Adivine el número entre 1 y 100: 70\n",
      "Mayor\n",
      "Adivine el número entre 1 y 100: 80\n",
      "Mayor\n",
      "Adivine el número entre 1 y 100: 90\n",
      "Menor\n",
      "Adivine el número entre 1 y 100: 87\n",
      "Mayor\n",
      "Adivine el número entre 1 y 100: 88\n",
      "¡Correcto!\n"
     ]
    }
   ],
   "source": [
    "import random \n",
    "aleatorio = (random.randint(1,100))\n",
    "numero = int(input(\"Adivine el número entre 1 y 100: \"))\n",
    "while aleatorio != numero:\n",
    "    if aleatorio > numero:\n",
    "        print(\"Mayor\")\n",
    "        numero = int(input(\"Adivine el número entre 1 y 100: \"))\n",
    "    if aleatorio < numero:\n",
    "        print(\"Menor\")\n",
    "        numero = int(input(\"Adivine el número entre 1 y 100: \"))\n",
    "if numero == aleatorio:\n",
    "    print(\"¡Correcto!\")"
   ]
  },
  {
   "cell_type": "markdown",
   "metadata": {},
   "source": [
    "**¿Cómo generar números aleatorios en Python?**\n",
    "\n",
    "- Al comienzo de su programa escriba: <font face=\"consolas\" color=\"green\">import random</font>\n",
    "- Para generar un número aleatorio entre 1 y 100 escriba: <font face=\"consolas\" color=\"green\">random.randint(1, 100)</font>\n"
   ]
  },
  {
   "cell_type": "markdown",
   "metadata": {},
   "source": [
    "**Pistas:**\n",
    "\n",
    "- Piense en qué estructuras de control le sirven para resolver el problema.\n",
    "- ¿Cómo determina si el número es mayor, menor o correcto?\n",
    "- ¿Cómo le da turnos adicionales al usuario para adivinar, dependiendo de si en el turno anterior adivinó o no?"
   ]
  },
  {
   "cell_type": "markdown",
   "metadata": {},
   "source": [
    "---"
   ]
  }
 ],
 "metadata": {
  "anaconda-cloud": {},
  "kernelspec": {
   "display_name": "Python 3",
   "language": "python",
   "name": "python3"
  },
  "language_info": {
   "codemirror_mode": {
    "name": "ipython",
    "version": 3
   },
   "file_extension": ".py",
   "mimetype": "text/x-python",
   "name": "python",
   "nbconvert_exporter": "python",
   "pygments_lexer": "ipython3",
   "version": "3.7.4"
  }
 },
 "nbformat": 4,
 "nbformat_minor": 1
}
