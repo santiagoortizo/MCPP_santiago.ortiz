{
 "cells": [
  {
   "cell_type": "markdown",
   "metadata": {},
   "source": [
    "# Métodos Computacionles para las Políticas Públicas\n",
    "# Proyecto Final - Análisis Envolvente de Datos\n",
    "## Santiago Ortiz Ortiz"
   ]
  },
  {
   "cell_type": "markdown",
   "metadata": {},
   "source": [
    "Importamos las librerias necesarias para desarrollar Web Scraping a la página."
   ]
  },
  {
   "cell_type": "code",
   "execution_count": 10,
   "metadata": {},
   "outputs": [],
   "source": [
    "import pandas as pd\n",
    "import re\n",
    "import requests\n",
    "import time\n",
    "from urllib.request import urlopen\n",
    "from bs4 import BeautifulSoup\n",
    "from selenium import webdriver\n",
    "from selenium.webdriver.common.keys import Keys\n",
    "from selenium.webdriver.support.ui import Select\n",
    "from selenium.webdriver.support.select import Select\n",
    "from selenium.webdriver.common.action_chains import ActionChains"
   ]
  },
  {
   "cell_type": "markdown",
   "metadata": {},
   "source": [
    "**Para ingresar al panel principal.**"
   ]
  },
  {
   "cell_type": "markdown",
   "metadata": {},
   "source": [
    "La página web a la que le vamos a hacer WS es Sistema de Gestión Hospitalaria (SIHO).\n",
    "Url principal: https://prestadores.minsalud.gov.co/siho/\n",
    "Está es la URL principal. Sin embargo, cuando uno quiere examinar la página se da cuenta que tiene unas macro que no se muestran de forma tan simple. Por lo tanto, ingresamos a un link secundario que habilita la macro: https://prestadores.minsalud.gov.co/siho/work.aspx\n",
    "\n",
    "Una vez acá, el software nos habilita un usuario de invitado. Este ya está digitado, solo hay que darle click en ingresar."
   ]
  },
  {
   "cell_type": "code",
   "execution_count": 11,
   "metadata": {},
   "outputs": [],
   "source": [
    "# Creamos una variable con la URL de la página.\n",
    "url = \"https://prestadores.minsalud.gov.co/siho/work.aspx\"\n",
    "\n",
    "# Con ayuda del WebDriver de Chrome vamos a abrir la página.\n",
    "browser = webdriver.Chrome(executable_path=r\"C:\\Users\\tatoo\\Desktop\\PhantomJS\\Chrome\\chromedriver.exe\")\n",
    "# A la hora de hacer Web Scraping es importante dejar un periodo de tiempo relativamente largo (algo que aparente ser humano)\n",
    "time.sleep(5)\n",
    "# Con el .get(url), el programa sabe que tiene que ingresar a esa URL\n",
    "browser.get(url)\n",
    "time.sleep(5)\n",
    "# Le pedimos al programa que encuentre un elemento en el código HTML que se llame \"btnIngresar\" y que le dé CLICK\n",
    "boton_submit = browser.find_element_by_name(\"btnIngresar\").click()\n",
    "time.sleep(4)"
   ]
  },
  {
   "cell_type": "markdown",
   "metadata": {},
   "source": [
    "Vamos a crear dos listas, una con los años y otra con los departamentos que tendremos que analizar."
   ]
  },
  {
   "cell_type": "code",
   "execution_count": null,
   "metadata": {},
   "outputs": [],
   "source": [
    "años_ops = [\"2017\",\"2018\"]\n",
    "deptos_ops = [\"Cundinamarca\", \"Guainía\", \"Guaviare\"]"
   ]
  },
  {
   "cell_type": "code",
   "execution_count": 12,
   "metadata": {},
   "outputs": [],
   "source": [
    "años_ops = [\"2002\", \"2003\", \"2004\", \"2005\", \"2006\", \"2007\",\n",
    "            \"2008\", \"2009\", \"2010\", \"2011\", \"2012\", \"2013\",\n",
    "            \"2014\", \"2015\", \"2016\", \"2017\", \"2018\"] # Desde el 2002 hasta el 2018\n",
    "deptos_ops = [\"Amazonas\", \"Antioquia\", \"Arauca\", \"Atlántico\", \"Archipiélago de San Andrés, Providencia y Santa Catalina\",\n",
    "             \"Bogotá, D.C.\", \"Bolívar\", \"Boyacá\", \"Caldas\", \"Caquetá\", \"Casanare\", \"Cauca\", \"Cesar\",\n",
    "             \"Chocó\", \"Córdoba\", \"Cundinamarca\", \"Guainía\", \"Guaviare\", \"Huila\",\n",
    "             \"La Guajira\", \"Magdalena\", \"Meta\", \"Nariño\", \"Norte de Santander\",\n",
    "             \"Putumayo\", \"Quindío\", \"Risaralda\", \"Santander\", \"Sucre\",\n",
    "             \"Tolima\", \"Valle del Cauca\", \"Vaupés\", \"Vichada\"] # 32 Departamentos y el Distrito Capital"
   ]
  },
  {
   "cell_type": "markdown",
   "metadata": {},
   "source": [
    "**Para que Python sepa que esta en otra pestaña**\n",
    "https://stackoverflow.com/questions/17676036/python-webdriver-to-handle-pop-up-browser-windows-which-is-not-an-alert"
   ]
  },
  {
   "cell_type": "markdown",
   "metadata": {},
   "source": [
    "# Distribución Recurso Humano"
   ]
  },
  {
   "cell_type": "code",
   "execution_count": 13,
   "metadata": {},
   "outputs": [],
   "source": [
    "# Fijamos una página principal llamada MAIN\n",
    "main_window_handle = None\n",
    "while not main_window_handle:\n",
    "    main_window_handle = browser.current_window_handle\n",
    "browser.find_element_by_link_text('Distribución Recurso Humano').click()\n",
    "signin_window_handle = None\n",
    "while not signin_window_handle:\n",
    "    for handle in browser.window_handles:\n",
    "        if handle != main_window_handle:\n",
    "            signin_window_handle = handle\n",
    "            break\n",
    "browser.switch_to.window(signin_window_handle)"
   ]
  },
  {
   "cell_type": "code",
   "execution_count": null,
   "metadata": {},
   "outputs": [],
   "source": [
    "browser.page_source # Para comprobar que tenga la nueva forma"
   ]
  },
  {
   "cell_type": "markdown",
   "metadata": {},
   "source": [
    "Lo que hacen los dos códigos siguientes es: \n",
    "- Encontrar las casillas año y departamento. Como ambas son elementos de multiple opción este desplegará unos valores.\n",
    "- Año: 2002 - 2019 (Sin embargo, no hay datos para el 2019)\n",
    "- Depto: Amazonas - Vaupés (+Bogotá DC.)"
   ]
  },
  {
   "cell_type": "markdown",
   "metadata": {},
   "source": [
    "# Creación base del dataframe"
   ]
  },
  {
   "cell_type": "code",
   "execution_count": 5,
   "metadata": {},
   "outputs": [
    {
     "data": {
      "text/html": [
       "<div>\n",
       "<style scoped>\n",
       "    .dataframe tbody tr th:only-of-type {\n",
       "        vertical-align: middle;\n",
       "    }\n",
       "\n",
       "    .dataframe tbody tr th {\n",
       "        vertical-align: top;\n",
       "    }\n",
       "\n",
       "    .dataframe thead th {\n",
       "        text-align: right;\n",
       "    }\n",
       "</style>\n",
       "<table border=\"1\" class=\"dataframe\">\n",
       "  <thead>\n",
       "    <tr style=\"text-align: right;\">\n",
       "      <th></th>\n",
       "      <th>Nivel</th>\n",
       "      <th>Concepto</th>\n",
       "      <th>Cantidad</th>\n",
       "      <th>Departamento</th>\n",
       "      <th>Año</th>\n",
       "      <th>Clase</th>\n",
       "    </tr>\n",
       "  </thead>\n",
       "  <tbody>\n",
       "  </tbody>\n",
       "</table>\n",
       "</div>"
      ],
      "text/plain": [
       "Empty DataFrame\n",
       "Columns: [Nivel, Concepto, Cantidad, Departamento, Año, Clase]\n",
       "Index: []"
      ]
     },
     "execution_count": 5,
     "metadata": {},
     "output_type": "execute_result"
    }
   ],
   "source": [
    "df_base = pd.DataFrame(columns=['Nivel', 'Concepto', 'Cantidad', 'Departamento', 'Año', 'Clase'])\n",
    "df_base"
   ]
  },
  {
   "cell_type": "markdown",
   "metadata": {},
   "source": [
    "# Función para extraer los datos de las páginas"
   ]
  },
  {
   "cell_type": "code",
   "execution_count": 14,
   "metadata": {},
   "outputs": [],
   "source": [
    "def extract_cap(años, departamento, df_base):\n",
    "    # El espacio del año tiene un nombre como el siguiente:\n",
    "    cod_año = browser.find_element_by_name(\"_ctl0:ContentPlaceHolder1:ddano\")\n",
    "    for option in cod_año.find_elements_by_tag_name('option'):\n",
    "        if option.text == años:\n",
    "            option.click() \n",
    "            break\n",
    "    time.sleep(1)\n",
    "    # El espacio del departamento tiene un nombre como el siguiente:\n",
    "    cod_depto = browser.find_element_by_name(\"_ctl0:ContentPlaceHolder1:dddepa_codigo\")\n",
    "    for option in cod_depto.find_elements_by_tag_name('option'):\n",
    "        if option.text == departamento:\n",
    "            option.click() # select() in earlier versions of webdriver\n",
    "            break\n",
    "    time.sleep(2)\n",
    "    # Después de seleccionar los departamentos y los años a Buscar\n",
    "    boton_buscar = browser.find_element_by_name(\"_ctl0:ibBuscarFtr\")\n",
    "    boton_buscar.click()\n",
    "    time.sleep(3)\n",
    "    html = browser.execute_script(\"return document.getElementsByTagName('html')[0].innerHTML\")   \n",
    "    soup = BeautifulSoup(html, \"html.parser\")\n",
    "    time.sleep(2)\n",
    "    agregar = re.findall('<td align=\"center\">(\\d*)</td><td>(.*)</td><td align=\"right\">([\\d.,]*)</td><td align=\"right\">[\\d,.]*</td><td align=\"right\">[\\d,.]*</td>', str(soup))\n",
    "    if len(agregar) == 0:\n",
    "        pass\n",
    "    time.sleep(3)\n",
    "    agregar_base = pd.DataFrame(agregar, columns = ['Nivel', 'Concepto', 'Cantidad']) \n",
    "    time.sleep(1)\n",
    "    depto = []\n",
    "    for i in range(len(agregar_base[\"Nivel\"])):\n",
    "        depto.append(departamento)\n",
    "    agregar_base[\"Departamento\"] = depto\n",
    "    anno = []\n",
    "    for i in range(len(agregar_base[\"Nivel\"])):\n",
    "        anno.append(años)\n",
    "    agregar_base[\"Año\"] = anno\n",
    "    clase = []\n",
    "    for i in range(len(agregar_base[\"Nivel\"])):\n",
    "        clase.append(\"Distribución Recurso Humano\")\n",
    "    agregar_base[\"Clase\"] = clase\n",
    "    df_base = df_base.append(agregar_base, ignore_index=True, sort=False)\n",
    "    return df_base"
   ]
  },
  {
   "cell_type": "code",
   "execution_count": 15,
   "metadata": {},
   "outputs": [],
   "source": [
    "for años in años_ops:\n",
    "    for departamento in deptos_ops:\n",
    "        df_base = extract_cap(años, departamento, df_base)"
   ]
  },
  {
   "cell_type": "code",
   "execution_count": 16,
   "metadata": {
    "scrolled": true
   },
   "outputs": [
    {
     "data": {
      "text/html": [
       "<div>\n",
       "<style scoped>\n",
       "    .dataframe tbody tr th:only-of-type {\n",
       "        vertical-align: middle;\n",
       "    }\n",
       "\n",
       "    .dataframe tbody tr th {\n",
       "        vertical-align: top;\n",
       "    }\n",
       "\n",
       "    .dataframe thead th {\n",
       "        text-align: right;\n",
       "    }\n",
       "</style>\n",
       "<table border=\"1\" class=\"dataframe\">\n",
       "  <thead>\n",
       "    <tr style=\"text-align: right;\">\n",
       "      <th></th>\n",
       "      <th>Nivel</th>\n",
       "      <th>Concepto</th>\n",
       "      <th>Cantidad</th>\n",
       "      <th>Departamento</th>\n",
       "      <th>Año</th>\n",
       "      <th>Clase</th>\n",
       "    </tr>\n",
       "  </thead>\n",
       "  <tbody>\n",
       "    <tr>\n",
       "      <td>0</td>\n",
       "      <td>1</td>\n",
       "      <td>ADMINISTRATIVO</td>\n",
       "      <td>61</td>\n",
       "      <td>Amazonas</td>\n",
       "      <td>2003</td>\n",
       "      <td>Distribución Recurso Humano</td>\n",
       "    </tr>\n",
       "    <tr>\n",
       "      <td>1</td>\n",
       "      <td>2</td>\n",
       "      <td>ADMINISTRATIVO</td>\n",
       "      <td>40</td>\n",
       "      <td>Amazonas</td>\n",
       "      <td>2003</td>\n",
       "      <td>Distribución Recurso Humano</td>\n",
       "    </tr>\n",
       "    <tr>\n",
       "      <td>2</td>\n",
       "      <td>1</td>\n",
       "      <td>ASISTENCIAL</td>\n",
       "      <td>149</td>\n",
       "      <td>Amazonas</td>\n",
       "      <td>2003</td>\n",
       "      <td>Distribución Recurso Humano</td>\n",
       "    </tr>\n",
       "    <tr>\n",
       "      <td>3</td>\n",
       "      <td>2</td>\n",
       "      <td>ASISTENCIAL</td>\n",
       "      <td>52</td>\n",
       "      <td>Amazonas</td>\n",
       "      <td>2003</td>\n",
       "      <td>Distribución Recurso Humano</td>\n",
       "    </tr>\n",
       "    <tr>\n",
       "      <td>4</td>\n",
       "      <td>3</td>\n",
       "      <td>ADMINISTRATIVO</td>\n",
       "      <td>361</td>\n",
       "      <td>Antioquia</td>\n",
       "      <td>2003</td>\n",
       "      <td>Distribución Recurso Humano</td>\n",
       "    </tr>\n",
       "    <tr>\n",
       "      <td>...</td>\n",
       "      <td>...</td>\n",
       "      <td>...</td>\n",
       "      <td>...</td>\n",
       "      <td>...</td>\n",
       "      <td>...</td>\n",
       "      <td>...</td>\n",
       "    </tr>\n",
       "    <tr>\n",
       "      <td>4826</td>\n",
       "      <td>3</td>\n",
       "      <td>OPERATIVO</td>\n",
       "      <td>361</td>\n",
       "      <td>Valle del Cauca</td>\n",
       "      <td>2018</td>\n",
       "      <td>Distribución Recurso Humano</td>\n",
       "    </tr>\n",
       "    <tr>\n",
       "      <td>4827</td>\n",
       "      <td>2</td>\n",
       "      <td>APOYO</td>\n",
       "      <td>20</td>\n",
       "      <td>Vaupés</td>\n",
       "      <td>2018</td>\n",
       "      <td>Distribución Recurso Humano</td>\n",
       "    </tr>\n",
       "    <tr>\n",
       "      <td>4828</td>\n",
       "      <td>2</td>\n",
       "      <td>OPERATIVO</td>\n",
       "      <td>20</td>\n",
       "      <td>Vaupés</td>\n",
       "      <td>2018</td>\n",
       "      <td>Distribución Recurso Humano</td>\n",
       "    </tr>\n",
       "    <tr>\n",
       "      <td>4829</td>\n",
       "      <td>2</td>\n",
       "      <td>APOYO</td>\n",
       "      <td>19</td>\n",
       "      <td>Vichada</td>\n",
       "      <td>2018</td>\n",
       "      <td>Distribución Recurso Humano</td>\n",
       "    </tr>\n",
       "    <tr>\n",
       "      <td>4830</td>\n",
       "      <td>2</td>\n",
       "      <td>OPERATIVO</td>\n",
       "      <td>21</td>\n",
       "      <td>Vichada</td>\n",
       "      <td>2018</td>\n",
       "      <td>Distribución Recurso Humano</td>\n",
       "    </tr>\n",
       "  </tbody>\n",
       "</table>\n",
       "<p>4831 rows × 6 columns</p>\n",
       "</div>"
      ],
      "text/plain": [
       "     Nivel        Concepto Cantidad     Departamento   Año  \\\n",
       "0        1  ADMINISTRATIVO       61         Amazonas  2003   \n",
       "1        2  ADMINISTRATIVO       40         Amazonas  2003   \n",
       "2        1     ASISTENCIAL      149         Amazonas  2003   \n",
       "3        2     ASISTENCIAL       52         Amazonas  2003   \n",
       "4        3  ADMINISTRATIVO      361        Antioquia  2003   \n",
       "...    ...             ...      ...              ...   ...   \n",
       "4826     3       OPERATIVO      361  Valle del Cauca  2018   \n",
       "4827     2           APOYO       20           Vaupés  2018   \n",
       "4828     2       OPERATIVO       20           Vaupés  2018   \n",
       "4829     2           APOYO       19          Vichada  2018   \n",
       "4830     2       OPERATIVO       21          Vichada  2018   \n",
       "\n",
       "                            Clase  \n",
       "0     Distribución Recurso Humano  \n",
       "1     Distribución Recurso Humano  \n",
       "2     Distribución Recurso Humano  \n",
       "3     Distribución Recurso Humano  \n",
       "4     Distribución Recurso Humano  \n",
       "...                           ...  \n",
       "4826  Distribución Recurso Humano  \n",
       "4827  Distribución Recurso Humano  \n",
       "4828  Distribución Recurso Humano  \n",
       "4829  Distribución Recurso Humano  \n",
       "4830  Distribución Recurso Humano  \n",
       "\n",
       "[4831 rows x 6 columns]"
      ]
     },
     "execution_count": 16,
     "metadata": {},
     "output_type": "execute_result"
    }
   ],
   "source": [
    "df_base"
   ]
  },
  {
   "cell_type": "code",
   "execution_count": 17,
   "metadata": {},
   "outputs": [],
   "source": [
    "df_base.to_excel(\"Distribucion_rec_hum.xlsx\", index = False)"
   ]
  },
  {
   "cell_type": "markdown",
   "metadata": {},
   "source": [
    "**Ideas para la base de datos:**\n",
    "- https://thispointer.com/python-pandas-how-to-add-rows-in-a-dataframe-using-dataframe-append-loc-iloc/"
   ]
  },
  {
   "cell_type": "markdown",
   "metadata": {},
   "source": [
    "Hasta acá funciona melo!, pero hay que pensar en una forma de hacer que Python sepa que va a trabajar en la otra ventana\n",
    "- Revisar: https://stackoverflow.com/questions/32858434/switch-to-popup-in-python-using-selenium"
   ]
  }
 ],
 "metadata": {
  "kernelspec": {
   "display_name": "Python 3",
   "language": "python",
   "name": "python3"
  },
  "language_info": {
   "codemirror_mode": {
    "name": "ipython",
    "version": 3
   },
   "file_extension": ".py",
   "mimetype": "text/x-python",
   "name": "python",
   "nbconvert_exporter": "python",
   "pygments_lexer": "ipython3",
   "version": "3.7.4"
  }
 },
 "nbformat": 4,
 "nbformat_minor": 2
}
