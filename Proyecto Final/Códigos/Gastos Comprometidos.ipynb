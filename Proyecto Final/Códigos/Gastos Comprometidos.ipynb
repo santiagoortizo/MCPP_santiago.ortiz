{
 "cells": [
  {
   "cell_type": "markdown",
   "metadata": {},
   "source": [
    "# Métodos Computacionles para las Políticas Públicas\n",
    "# Proyecto Final - Análisis Envolvente de Datos\n",
    "## Santiago Ortiz Ortiz"
   ]
  },
  {
   "cell_type": "markdown",
   "metadata": {},
   "source": [
    "Importamos las librerias necesarias para desarrollar Web Scraping a la página."
   ]
  },
  {
   "cell_type": "code",
   "execution_count": 8,
   "metadata": {},
   "outputs": [],
   "source": [
    "import pandas as pd\n",
    "import re\n",
    "import requests\n",
    "import time\n",
    "from urllib.request import urlopen\n",
    "from bs4 import BeautifulSoup\n",
    "from selenium import webdriver\n",
    "from selenium.webdriver.common.keys import Keys\n",
    "from selenium.webdriver.support.ui import Select\n",
    "from selenium.webdriver.support.select import Select\n",
    "from selenium.webdriver.common.action_chains import ActionChains"
   ]
  },
  {
   "cell_type": "markdown",
   "metadata": {},
   "source": [
    "**Para ingresar al panel principal.**"
   ]
  },
  {
   "cell_type": "markdown",
   "metadata": {},
   "source": [
    "La página web a la que le vamos a hacer WS es Sistema de Gestión Hospitalaria (SIHO).\n",
    "Url principal: https://prestadores.minsalud.gov.co/siho/\n",
    "Está es la URL principal. Sin embargo, cuando uno quiere examinar la página se da cuenta que tiene unas macro que no se muestran de forma tan simple. Por lo tanto, ingresamos a un link secundario que habilita la macro: https://prestadores.minsalud.gov.co/siho/work.aspx\n",
    "\n",
    "Una vez acá, el software nos habilita un usuario de invitado. Este ya está digitado, solo hay que darle click en ingresar."
   ]
  },
  {
   "cell_type": "code",
   "execution_count": 9,
   "metadata": {},
   "outputs": [],
   "source": [
    "# Creamos una variable con la URL de la página.\n",
    "url = \"https://prestadores.minsalud.gov.co/siho/work.aspx\"\n",
    "\n",
    "# Con ayuda del WebDriver de Chrome vamos a abrir la página.\n",
    "browser = webdriver.Chrome(executable_path=r\"C:\\Users\\tatoo\\Desktop\\PhantomJS\\Chrome\\chromedriver.exe\")\n",
    "# A la hora de hacer Web Scraping es importante dejar un periodo de tiempo relativamente largo (algo que aparente ser humano)\n",
    "time.sleep(5)\n",
    "# Con el .get(url), el programa sabe que tiene que ingresar a esa URL\n",
    "browser.get(url)\n",
    "time.sleep(5)\n",
    "# Le pedimos al programa que encuentre un elemento en el código HTML que se llame \"btnIngresar\" y que le dé CLICK\n",
    "boton_submit = browser.find_element_by_name(\"btnIngresar\").click()\n",
    "time.sleep(4)"
   ]
  },
  {
   "cell_type": "markdown",
   "metadata": {},
   "source": [
    "Vamos a crear dos listas, una con los años y otra con los departamentos que tendremos que analizar."
   ]
  },
  {
   "cell_type": "code",
   "execution_count": 3,
   "metadata": {},
   "outputs": [],
   "source": [
    "años_ops = [\"2017\",\"2018\"]\n",
    "deptos_ops = [\"Cundinamarca\", \"Guainía\", \"Guaviare\"]"
   ]
  },
  {
   "cell_type": "code",
   "execution_count": 10,
   "metadata": {},
   "outputs": [],
   "source": [
    "años_ops = [\"2002\", \"2003\", \"2004\", \"2005\", \"2006\", \"2007\",\n",
    "            \"2008\", \"2009\", \"2010\", \"2011\", \"2012\", \"2013\",\n",
    "            \"2014\", \"2015\", \"2016\", \"2017\", \"2018\"] # Desde el 2002 hasta el 2018\n",
    "deptos_ops = [\"Amazonas\", \"Antioquia\", \"Arauca\", \"Atlántico\", \"Archipiélago de San Andrés, Providencia y Santa Catalina\",\n",
    "             \"Bogotá, D.C.\", \"Bolívar\", \"Boyacá\", \"Caldas\", \"Caquetá\", \"Casanare\", \"Cauca\", \"Cesar\",\n",
    "             \"Chocó\", \"Córdoba\", \"Cundinamarca\", \"Guainía\", \"Guaviare\", \"Huila\",\n",
    "             \"La Guajira\", \"Magdalena\", \"Meta\", \"Nariño\", \"Norte de Santander\",\n",
    "             \"Putumayo\", \"Quindío\", \"Risaralda\", \"Santander\", \"Sucre\",\n",
    "             \"Tolima\", \"Valle del Cauca\", \"Vaupés\", \"Vichada\"] # 32 Departamentos y el Distrito Capital"
   ]
  },
  {
   "cell_type": "markdown",
   "metadata": {},
   "source": [
    "**Para que Python sepa que esta en otra pestaña**\n",
    "https://stackoverflow.com/questions/17676036/python-webdriver-to-handle-pop-up-browser-windows-which-is-not-an-alert"
   ]
  },
  {
   "cell_type": "markdown",
   "metadata": {},
   "source": [
    "# Capacidad instalada"
   ]
  },
  {
   "cell_type": "code",
   "execution_count": 11,
   "metadata": {},
   "outputs": [],
   "source": [
    "# Fijamos una página principal llamada MAIN\n",
    "main_window_handle = None\n",
    "while not main_window_handle:\n",
    "    main_window_handle = browser.current_window_handle\n",
    "browser.find_element_by_link_text('Gastos Comprometidos').click()\n",
    "signin_window_handle = None\n",
    "while not signin_window_handle:\n",
    "    for handle in browser.window_handles:\n",
    "        if handle != main_window_handle:\n",
    "            signin_window_handle = handle\n",
    "            break\n",
    "browser.switch_to.window(signin_window_handle)"
   ]
  },
  {
   "cell_type": "code",
   "execution_count": 21,
   "metadata": {},
   "outputs": [
    {
     "data": {
      "text/plain": [
       "'<html xmlns=\"http://www.w3.org/1999/xhtml\"><head><title>\\n\\tCapacidad Instalada\\n</title><link href=\"../includes/appestilos.css\" rel=\"stylesheet\"></head>\\n<body bgcolor=\"#ffffff\">\\n    <form name=\"aspnetForm\" method=\"post\" action=\"./capacidadinstaladanacional.aspx?pageTitle=Capacidad+Instalada&amp;pageHlp=%2fSIHO%2fayudas%2finformes%2fcapacidad.pdf\" id=\"aspnetForm\">\\n<input type=\"hidden\" name=\"__VIEWSTATE\" id=\"__VIEWSTATE\" value=\"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\">\\n\\n<input type=\"hidden\" name=\"__VIEWSTATEGENERATOR\" id=\"__VIEWSTATEGENERATOR\" value=\"CDDFEAAA\">\\n<input type=\"hidden\" name=\"__EVENTVALIDATION\" id=\"__EVENTVALIDATION\" value=\"/wEdAD1pALiD0PDaIUUdrblQ9y5U9f09lK5A3efx5e+2zoL0c8MnqKGR0rClTZ0V6RZIWXig9AnBtjjkg/VEAneC+d99h9tMfU8e9v1WYol5vWdJI6JRYX1r1HLm+1P+bJpa0Q6UtlKt+I6s0dFKPk1bR4R9/JIrGPbk0YKa3eocll4hPutj5xR1YFL/Uf8mgGvAvIZpdd4Y9hshvYycAsBkL5AK5qJlx/8+plToCkMvNhEfOvf09LlGgOEl7GJZyGi1Xbq7XLALwelQXA89io1tXN2xhYq3aYptZkHdp2HTQZR2OrxPibIic1qF/zAVkz9LJob1CSS9ilBgrPzOwalKkKiDH0gUP3oU716ueOS5MxO7R2aiCUlMlbsxPslWNuO4QO0XbmQLAuYoDFu+QjGv9Tw7Bs/H9MzvYxe4fd6/b3uqlbFjP/RfzZ9mH8XqnyTiIGqOzwSpDegbgEWThrj900Tr6u93BoO0Jr2aHejoJ6d4Wu/OxG9jepiD/hwWS86FL2GurwaY3N3EdD7Hz01Y4ZL4XzXFNzxPfSYY7jSjxzGGkU3bxOSbX/eTuvnN65FKn9HLp6Tt2BaDM85pGPnzn3vWmSglbWxg1YXZev2Jj6nF8xXNjbuMoPoMGZ+1ZAtDHC1NyW5q8+xkgObj2PT+A8/kG7J4zUbTeSDrveEUKEjh8YuZnV0N1cuwhlkNAk5kYtOY8xxPXqUF+0k4n7+ojQcpzGqJxLyMt6HJwJ+yv3chGaSOOTJzaDJ0BhQg3ZgJLrP9b28sRPTcicSwS2pI1x2DR3zgTXYrfd+3Kg9dp+FDhLp4u6c2yyQwM9wxCOG0Urz4yzYEvxRQ88w705O7NHtre8ibj2hq0tbFVtLTZYYEb8V6k0bzpodaS8ZAQLsJMGYK0/O4WEbbjLOYwfMJ8+l/Grh3rSE8y6796+XW6xgkS6R2ls+4MIfqh2NyIlFSNuWK/I0aBmZYY70goYRWeZhbuavhykLZkQpRHPnx23aEcjwdIH8McVR7IkkVGzWwscz0KXOaoyp6Yntlw4BMz/6ZECXQ8q6VHCoeAsGM7si4C8zHXnyoKE3dIQ6sjXAtUXWHEapxT8b/bSh3UVuDFkPtCBUGIFYSXRGMdO2kJxMCYjm62ZJ2SpAsXwQqLSdFux//YaDilxkHBmTr3NSPFVClw7BX5ZepAbZMn2a1ANAUM7xaUamB/xboOyDJ4Le1FsIlyyki/LdPAD09gTTjgrQDJLLdkwMEVh/tVnmhOBccF18HpD/9nnThZoc1US6pj5KrfZvkjYC8r20ztDAf2lL3LoLGvKp7xk403e5Hy5Kev/L7qa5fvnAAWjceL516/aA=\">\\n    <div>\\n        <table border=\"0\" cellpadding=\"0\" cellspacing=\"0\">\\n            <tbody><tr>\\n                <td>\\n                    </td>\\n                <td>\\n                    <img id=\"_ctl0_iGrabarHdr\" src=\"../images/grabar_dis.jpg\" align=\"bottom\" style=\"border-width:0px;\"></td>\\n                <td>\\n                    <input type=\"image\" name=\"_ctl0:ibNuevoHdr\" id=\"_ctl0_ibNuevoHdr\" src=\"../images/nuevo.jpg\" alt=\"Nuevo\" align=\"top\" style=\"border-width:0px;\"></td>\\n                <td>\\n                    <input type=\"image\" name=\"_ctl0:ibBuscarHdr\" id=\"_ctl0_ibBuscarHdr\" src=\"../images/buscar.jpg\" alt=\"Buscar\" align=\"bottom\" style=\"border-width:0px;\"></td>\\n                <td>\\n                    </td>\\n                <td>\\n                    </td>\\n                <td>\\n                    <img id=\"_ctl0_iEliminarHdr\" src=\"../images/eliminar_dis.jpg\" align=\"bottom\" style=\"border-width:0px;\"></td>\\n                <td>\\n                    <a id=\"_ctl0_hlAyudaHdr\" title=\"Ayuda\" href=\"/SIHO/ayudas/informes/capacidad.pdf\" target=\"_blank\" style=\"border-width:0px;\"><img title=\"Ayuda\" src=\"../images/ayuda.jpg\" alt=\"HyperLink\" border=\"0\"></a></td>\\n            </tr>\\n        </tbody></table>\\n        <br>\\n        <span id=\"_ctl0_lblTitulo\" class=\"titulo3\">Capacidad Instalada</span><br>\\n        <br>\\n        \\n<table id=\"Table1\" cellspacing=\"0\" cellpadding=\"0\" width=\"90%\" border=\"0\">\\n\\t<tbody><tr>\\n\\t\\t<td>\\n\\t\\t\\t<table id=\"_ctl0_ContentPlaceHolder1_tabForm\" cellspacing=\"0\" cellpadding=\"1\" border=\"0\">\\n\\t<tbody><tr>\\n\\t\\t<td bgcolor=\"#0094C7\">\\n\\t\\t\\t\\t\\t\\t<table id=\"Table2\" cellspacing=\"0\" cellpadding=\"0\" border=\"0\">\\n\\t\\t\\t\\t\\t\\t\\t<tbody><tr>\\n\\t\\t\\t\\t\\t\\t\\t\\t<td bgcolor=\"#ffffff\">\\n\\t\\t\\t\\t\\t\\t\\t\\t\\t<table id=\"Table3\" cellspacing=\"0\" cellpadding=\"2\" align=\"center\" border=\"0\">\\n\\t\\t\\t\\t\\t\\t\\t\\t\\t\\t<tbody><tr>\\n\\t\\t\\t\\t\\t\\t\\t\\t\\t\\t\\t<td>Año</td>\\n\\t\\t\\t\\t\\t\\t\\t\\t\\t\\t\\t<td>\\n\\t\\t\\t\\t\\t\\t\\t\\t\\t\\t\\t\\t<select name=\"_ctl0:ContentPlaceHolder1:ddano\" id=\"_ctl0_ContentPlaceHolder1_ddano\" style=\"width:80px;\">\\n\\t\\t\\t<option value=\"2002\">2002</option>\\n\\t\\t\\t<option value=\"2003\">2003</option>\\n\\t\\t\\t<option value=\"2004\">2004</option>\\n\\t\\t\\t<option value=\"2005\">2005</option>\\n\\t\\t\\t<option value=\"2006\">2006</option>\\n\\t\\t\\t<option value=\"2007\">2007</option>\\n\\t\\t\\t<option value=\"2008\">2008</option>\\n\\t\\t\\t<option value=\"2009\">2009</option>\\n\\t\\t\\t<option value=\"2010\">2010</option>\\n\\t\\t\\t<option value=\"2011\">2011</option>\\n\\t\\t\\t<option value=\"2012\">2012</option>\\n\\t\\t\\t<option value=\"2013\">2013</option>\\n\\t\\t\\t<option value=\"2014\">2014</option>\\n\\t\\t\\t<option value=\"2015\">2015</option>\\n\\t\\t\\t<option value=\"2016\">2016</option>\\n\\t\\t\\t<option value=\"2017\">2017</option>\\n\\t\\t\\t<option selected=\"selected\" value=\"2018\">2018</option>\\n\\t\\t\\t<option value=\"2019\">2019</option>\\n\\n\\t\\t</select></td>\\n\\t\\t\\t\\t\\t\\t\\t\\t\\t\\t</tr>\\n\\t\\t\\t\\t\\t\\t\\t\\t\\t\\t<tr>\\n\\t\\t\\t\\t\\t\\t\\t\\t\\t\\t\\t<td>Departamento</td>\\n\\t\\t\\t\\t\\t\\t\\t\\t\\t\\t\\t<td>\\n\\t\\t\\t\\t\\t\\t\\t\\t\\t\\t\\t\\t<select name=\"_ctl0:ContentPlaceHolder1:dddepa_codigo\" id=\"_ctl0_ContentPlaceHolder1_dddepa_codigo\" style=\"width:140px;\">\\n\\t\\t\\t<option value=\"\"></option>\\n\\t\\t\\t<option value=\"91\">Amazonas</option>\\n\\t\\t\\t<option value=\"05\">Antioquia</option>\\n\\t\\t\\t<option value=\"81\">Arauca</option>\\n\\t\\t\\t<option value=\"88\">Archipiélago de San Andrés, Providencia y Santa Catalina</option>\\n\\t\\t\\t<option value=\"08\">Atlántico</option>\\n\\t\\t\\t<option value=\"09\">Barranquilla Distritro Especial</option>\\n\\t\\t\\t<option value=\"11\">Bogotá, D.C.</option>\\n\\t\\t\\t<option value=\"13\">Bolívar</option>\\n\\t\\t\\t<option value=\"15\">Boyacá</option>\\n\\t\\t\\t<option value=\"77\">Buenaventura Distrito Especial</option>\\n\\t\\t\\t<option value=\"17\">Caldas</option>\\n\\t\\t\\t<option value=\"18\">Caquetá</option>\\n\\t\\t\\t<option value=\"14\">Cartagena Distrito Especial</option>\\n\\t\\t\\t<option value=\"85\">Casanare</option>\\n\\t\\t\\t<option value=\"19\">Cauca</option>\\n\\t\\t\\t<option value=\"20\">Cesar</option>\\n\\t\\t\\t<option value=\"27\">Chocó</option>\\n\\t\\t\\t<option value=\"23\">Córdoba</option>\\n\\t\\t\\t<option value=\"25\">Cundinamarca</option>\\n\\t\\t\\t<option value=\"94\">Guainía</option>\\n\\t\\t\\t<option selected=\"selected\" value=\"95\">Guaviare</option>\\n\\t\\t\\t<option value=\"41\">Huila</option>\\n\\t\\t\\t<option value=\"44\">La Guajira</option>\\n\\t\\t\\t<option value=\"47\">Magdalena</option>\\n\\t\\t\\t<option value=\"50\">Meta</option>\\n\\t\\t\\t<option value=\"52\">Nariño</option>\\n\\t\\t\\t<option value=\"54\">Norte de Santander</option>\\n\\t\\t\\t<option value=\"86\">Putumayo</option>\\n\\t\\t\\t<option value=\"63\">Quindío</option>\\n\\t\\t\\t<option value=\"66\">Risaralda</option>\\n\\t\\t\\t<option value=\"48\">Santa Marta Distrito Especial</option>\\n\\t\\t\\t<option value=\"68\">Santander</option>\\n\\t\\t\\t<option value=\"70\">Sucre</option>\\n\\t\\t\\t<option value=\"73\">Tolima</option>\\n\\t\\t\\t<option value=\"76\">Valle del Cauca</option>\\n\\t\\t\\t<option value=\"97\">Vaupés</option>\\n\\t\\t\\t<option value=\"99\">Vichada</option>\\n\\n\\t\\t</select></td>\\n\\t\\t\\t\\t\\t\\t\\t\\t\\t\\t</tr>\\n\\t\\t\\t\\t\\t\\t\\t\\t\\t\\t<tr>\\n\\t\\t\\t\\t\\t\\t\\t\\t\\t\\t\\t<td colspan=\"2\">&nbsp;</td>\\n\\t\\t\\t\\t\\t\\t\\t\\t\\t\\t</tr>\\n\\t\\t\\t\\t\\t\\t\\t\\t\\t\\t<tr>\\n\\t\\t\\t\\t\\t\\t\\t\\t\\t\\t\\t<td align=\"center\" colspan=\"2\"></td>\\n\\t\\t\\t\\t\\t\\t\\t\\t\\t\\t</tr>\\n\\t\\t\\t\\t\\t\\t\\t\\t\\t</tbody></table>\\n\\t\\t\\t\\t\\t\\t\\t\\t</td>\\n\\t\\t\\t\\t\\t\\t\\t</tr>\\n\\t\\t\\t\\t\\t\\t</tbody></table>\\n\\t\\t\\t\\t\\t</td>\\n\\t</tr>\\n</tbody></table>\\n\\n\\t\\t</td>\\n\\t</tr>\\n\\t<tr>\\n\\t\\t<td>&nbsp;</td>\\n\\t</tr>\\n\\t<tr>\\n\\t\\t<td>\\n\\t\\t\\t<table id=\"_ctl0_ContentPlaceHolder1_tabGrid\" style=\"DISPLAY: block;\" cellspacing=\"0\" cellpadding=\"1\" border=\"0\">\\n\\t<tbody><tr>\\n\\t\\t<td class=\"titulo3\">Capacidad instaladA\\n\\t\\t\\t\\t\\t\\t<span id=\"_ctl0_ContentPlaceHolder1_lblConsulta\" class=\"titulo3\">Guaviare</span></td>\\n\\t</tr>\\n\\t<tr>\\n\\t\\t<td>\\n\\t\\t\\t\\t\\t\\t<table cellspacing=\"0\" rules=\"all\" bordercolor=\"#0094C7\" border=\"1\" id=\"_ctl0_ContentPlaceHolder1_dgInforme1\" style=\"background-color:White;border-color:#0094C7;border-collapse:collapse;\">\\n\\t\\t\\t<tbody><tr class=\"tfolder\" align=\"center\" style=\"color:#FFFFEE;\">\\n\\t\\t\\t\\t<td>Concepto</td><td>Cantidad</td>\\n\\t\\t\\t</tr><tr>\\n\\t\\t\\t\\t<td>Camas de hospitalización</td><td align=\"right\">106</td>\\n\\t\\t\\t</tr><tr>\\n\\t\\t\\t\\t<td>Camas de observación</td><td align=\"right\">9</td>\\n\\t\\t\\t</tr><tr>\\n\\t\\t\\t\\t<td>Consultorios de consulta externa</td><td align=\"right\">32</td>\\n\\t\\t\\t</tr><tr>\\n\\t\\t\\t\\t<td>Consultorios en el servicio de urgencias</td><td align=\"right\">6</td>\\n\\t\\t\\t</tr><tr>\\n\\t\\t\\t\\t<td>Salas de quirófanos</td><td align=\"right\">2</td>\\n\\t\\t\\t</tr><tr>\\n\\t\\t\\t\\t<td>Mesas de partos</td><td align=\"right\">4</td>\\n\\t\\t\\t</tr><tr>\\n\\t\\t\\t\\t<td>Número de unidades de odontología</td><td align=\"right\">13</td>\\n\\t\\t\\t</tr>\\n\\t\\t</tbody></table></td>\\n\\t</tr>\\n\\t<tr>\\n\\t\\t<td>&nbsp;</td>\\n\\t</tr>\\n\\t<tr>\\n\\t\\t<td class=\"titulo3\">capacidad instalada por nivel</td>\\n\\t</tr>\\n\\t<tr>\\n\\t\\t<td>\\n\\t\\t\\t\\t\\t\\t<table cellspacing=\"0\" rules=\"all\" bordercolor=\"#0094C7\" border=\"1\" id=\"_ctl0_ContentPlaceHolder1_dgInforme2\" style=\"background-color:White;border-color:#0094C7;border-collapse:collapse;\">\\n\\t\\t\\t<tbody><tr class=\"tfolder\" align=\"center\" style=\"color:#FFFFEE;\">\\n\\t\\t\\t\\t<td>Nivel</td><td>Concepto</td><td>Cantidad</td><td>Porcentaje</td><td>Promedio</td>\\n\\t\\t\\t</tr><tr>\\n\\t\\t\\t\\t<td align=\"center\">1</td><td>Camas de hospitalización</td><td align=\"right\">25</td><td align=\"right\">0,10</td><td align=\"right\">25,00</td>\\n\\t\\t\\t</tr><tr>\\n\\t\\t\\t\\t<td align=\"center\">2</td><td>Camas de hospitalización</td><td align=\"right\">81</td><td align=\"right\">0,31</td><td align=\"right\">81,00</td>\\n\\t\\t\\t</tr><tr>\\n\\t\\t\\t\\t<td align=\"center\">1</td><td>Camas de observación</td><td align=\"right\">9</td><td align=\"right\">0,10</td><td align=\"right\">9,00</td>\\n\\t\\t\\t</tr><tr>\\n\\t\\t\\t\\t<td align=\"center\">2</td><td>Camas de observación</td><td align=\"right\">0</td><td align=\"right\">0,00</td><td align=\"right\">0,00</td>\\n\\t\\t\\t</tr><tr>\\n\\t\\t\\t\\t<td align=\"center\">1</td><td>Consultorios de consulta externa</td><td align=\"right\">22</td><td align=\"right\">0,21</td><td align=\"right\">22,00</td>\\n\\t\\t\\t</tr><tr>\\n\\t\\t\\t\\t<td align=\"center\">2</td><td>Consultorios de consulta externa</td><td align=\"right\">10</td><td align=\"right\">0,10</td><td align=\"right\">10,00</td>\\n\\t\\t\\t</tr><tr>\\n\\t\\t\\t\\t<td align=\"center\">1</td><td>Consultorios en el servicio de urgencias</td><td align=\"right\">3</td><td align=\"right\">0,15</td><td align=\"right\">3,00</td>\\n\\t\\t\\t</tr><tr>\\n\\t\\t\\t\\t<td align=\"center\">2</td><td>Consultorios en el servicio de urgencias</td><td align=\"right\">3</td><td align=\"right\">0,15</td><td align=\"right\">3,00</td>\\n\\t\\t\\t</tr><tr>\\n\\t\\t\\t\\t<td align=\"center\">1</td><td>Salas de quirófanos</td><td align=\"right\">0</td><td align=\"right\">0,00</td><td align=\"right\">0,00</td>\\n\\t\\t\\t</tr><tr>\\n\\t\\t\\t\\t<td align=\"center\">2</td><td>Salas de quirófanos</td><td align=\"right\">2</td><td align=\"right\">0,37</td><td align=\"right\">2,00</td>\\n\\t\\t\\t</tr><tr>\\n\\t\\t\\t\\t<td align=\"center\">1</td><td>Mesas de partos</td><td align=\"right\">3</td><td align=\"right\">0,26</td><td align=\"right\">3,00</td>\\n\\t\\t\\t</tr><tr>\\n\\t\\t\\t\\t<td align=\"center\">2</td><td>Mesas de partos</td><td align=\"right\">1</td><td align=\"right\">0,09</td><td align=\"right\">1,00</td>\\n\\t\\t\\t</tr><tr>\\n\\t\\t\\t\\t<td align=\"center\">1</td><td>Número de unidades de odontología</td><td align=\"right\">13</td><td align=\"right\">0,34</td><td align=\"right\">13,00</td>\\n\\t\\t\\t</tr><tr>\\n\\t\\t\\t\\t<td align=\"center\">2</td><td>Número de unidades de odontología</td><td align=\"right\">0</td><td align=\"right\">0,00</td><td align=\"right\">0,00</td>\\n\\t\\t\\t</tr>\\n\\t\\t</tbody></table></td>\\n\\t</tr>\\n</tbody></table>\\n\\n\\t\\t</td>\\n\\t</tr>\\n    <tr>\\n        <td>\\n            <span id=\"_ctl0_ContentPlaceHolder1_lblWarning\" class=\"labelNormal\"></span></td>\\n    </tr>\\n</tbody></table>\\n\\n        <br>\\n        <table border=\"0\" cellpadding=\"0\" cellspacing=\"0\">\\n            <tbody><tr>\\n                <td>\\n                    </td>\\n                <td>\\n                    <img id=\"_ctl0_iGrabarFtr\" src=\"../images/grabar_dis.jpg\" align=\"bottom\" style=\"border-width:0px;\"></td>\\n                <td>\\n                    <input type=\"image\" name=\"_ctl0:ibNuevoFtr\" id=\"_ctl0_ibNuevoFtr\" src=\"../images/nuevo.jpg\" alt=\"Nuevo\" align=\"top\" style=\"border-width:0px;\"></td>\\n                <td>\\n                    <input type=\"image\" name=\"_ctl0:ibBuscarFtr\" id=\"_ctl0_ibBuscarFtr\" src=\"../images/buscar.jpg\" alt=\"Buscar\" align=\"bottom\" style=\"border-width:0px;\"></td>\\n                <td>\\n                    </td>\\n                <td>\\n                    </td>\\n                <td>\\n                    <img id=\"_ctl0_iEliminarFtr\" src=\"../images/eliminar_dis.jpg\" align=\"bottom\" style=\"border-width:0px;\"></td>\\n                <td>\\n                    <a id=\"_ctl0_hlAyudaFtr\" title=\"Ayuda\" href=\"/SIHO/ayudas/informes/capacidad.pdf\" target=\"_blank\" style=\"border-width:0px;\"><img title=\"Ayuda\" src=\"../images/ayuda.jpg\" alt=\"HyperLink\" border=\"0\"></a></td>\\n            </tr>\\n        </tbody></table>\\n    </div>\\n    </form>\\n\\n\\n</body></html>'"
      ]
     },
     "execution_count": 21,
     "metadata": {},
     "output_type": "execute_result"
    }
   ],
   "source": [
    "browser.page_source # Para comprobar que tenga la nueva forma"
   ]
  },
  {
   "cell_type": "markdown",
   "metadata": {},
   "source": [
    "Lo que hacen los dos códigos siguientes es: \n",
    "- Encontrar las casillas año y departamento. Como ambas son elementos de multiple opción este desplegará unos valores.\n",
    "- Año: 2002 - 2019 (Sin embargo, no hay datos para el 2019)\n",
    "- Depto: Amazonas - Vaupés (+Bogotá DC.)"
   ]
  },
  {
   "cell_type": "markdown",
   "metadata": {},
   "source": [
    "# Creación base del dataframe"
   ]
  },
  {
   "cell_type": "code",
   "execution_count": 12,
   "metadata": {},
   "outputs": [
    {
     "data": {
      "text/html": [
       "<div>\n",
       "<style scoped>\n",
       "    .dataframe tbody tr th:only-of-type {\n",
       "        vertical-align: middle;\n",
       "    }\n",
       "\n",
       "    .dataframe tbody tr th {\n",
       "        vertical-align: top;\n",
       "    }\n",
       "\n",
       "    .dataframe thead th {\n",
       "        text-align: right;\n",
       "    }\n",
       "</style>\n",
       "<table border=\"1\" class=\"dataframe\">\n",
       "  <thead>\n",
       "    <tr style=\"text-align: right;\">\n",
       "      <th></th>\n",
       "      <th>Nivel</th>\n",
       "      <th>Concepto</th>\n",
       "      <th>Cantidad</th>\n",
       "      <th>Departamento</th>\n",
       "      <th>Año</th>\n",
       "      <th>Clase</th>\n",
       "    </tr>\n",
       "  </thead>\n",
       "  <tbody>\n",
       "  </tbody>\n",
       "</table>\n",
       "</div>"
      ],
      "text/plain": [
       "Empty DataFrame\n",
       "Columns: [Nivel, Concepto, Cantidad, Departamento, Año, Clase]\n",
       "Index: []"
      ]
     },
     "execution_count": 12,
     "metadata": {},
     "output_type": "execute_result"
    }
   ],
   "source": [
    "df_base = pd.DataFrame(columns=['Nivel', 'Concepto', 'Cantidad', 'Departamento', 'Año', 'Clase'])\n",
    "df_base"
   ]
  },
  {
   "cell_type": "markdown",
   "metadata": {},
   "source": [
    "# Función para extraer los datos de las páginas"
   ]
  },
  {
   "cell_type": "code",
   "execution_count": 13,
   "metadata": {},
   "outputs": [],
   "source": [
    "def extract_cap(años, departamento, df_base):\n",
    "    # El espacio del año tiene un nombre como el siguiente:\n",
    "    cod_año = browser.find_element_by_name(\"_ctl0:ContentPlaceHolder1:ddano\")\n",
    "    for option in cod_año.find_elements_by_tag_name('option'):\n",
    "        if option.text == años:\n",
    "            option.click() \n",
    "            break\n",
    "    time.sleep(1)\n",
    "    # El espacio del departamento tiene un nombre como el siguiente:\n",
    "    cod_depto = browser.find_element_by_name(\"_ctl0:ContentPlaceHolder1:dddepa_codigo\")\n",
    "    for option in cod_depto.find_elements_by_tag_name('option'):\n",
    "        if option.text == departamento:\n",
    "            option.click() # select() in earlier versions of webdriver\n",
    "            break\n",
    "    time.sleep(2)\n",
    "    # Después de seleccionar los departamentos y los años a Buscar\n",
    "    boton_buscar = browser.find_element_by_name(\"_ctl0:ibBuscarFtr\")\n",
    "    boton_buscar.click()\n",
    "    time.sleep(3)\n",
    "    html = browser.execute_script(\"return document.getElementsByTagName('html')[0].innerHTML\")   \n",
    "    soup = BeautifulSoup(html, \"html.parser\")\n",
    "    time.sleep(2)\n",
    "    agregar = re.findall('<td align=\"center\">(\\d*)</td><td>(.*)</td><td align=\"right\">([\\d.]*)</td><td align=\"right\">[\\d,.]*</td><td align=\"right\">[\\d,.]*</td>', str(soup))\n",
    "    if len(agregar) == 0:\n",
    "        pass\n",
    "    time.sleep(3)\n",
    "    agregar_base = pd.DataFrame(agregar, columns = ['Nivel', 'Concepto', 'Cantidad']) \n",
    "    time.sleep(1)\n",
    "    depto = []\n",
    "    for i in range(len(agregar_base[\"Nivel\"])):\n",
    "        depto.append(departamento)\n",
    "    agregar_base[\"Departamento\"] = depto\n",
    "    anno = []\n",
    "    for i in range(len(agregar_base[\"Nivel\"])):\n",
    "        anno.append(años)\n",
    "    agregar_base[\"Año\"] = anno\n",
    "    clase = []\n",
    "    for i in range(len(agregar_base[\"Nivel\"])):\n",
    "        clase.append(\"Gastos Comprometidos\")\n",
    "    agregar_base[\"Clase\"] = clase\n",
    "    df_base = df_base.append(agregar_base, ignore_index=True, sort=False)\n",
    "    return df_base"
   ]
  },
  {
   "cell_type": "code",
   "execution_count": 14,
   "metadata": {},
   "outputs": [],
   "source": [
    "for años in años_ops:\n",
    "    for departamento in deptos_ops:\n",
    "        df_base = extract_cap(años, departamento, df_base)"
   ]
  },
  {
   "cell_type": "code",
   "execution_count": 15,
   "metadata": {
    "scrolled": true
   },
   "outputs": [
    {
     "data": {
      "text/html": [
       "<div>\n",
       "<style scoped>\n",
       "    .dataframe tbody tr th:only-of-type {\n",
       "        vertical-align: middle;\n",
       "    }\n",
       "\n",
       "    .dataframe tbody tr th {\n",
       "        vertical-align: top;\n",
       "    }\n",
       "\n",
       "    .dataframe thead th {\n",
       "        text-align: right;\n",
       "    }\n",
       "</style>\n",
       "<table border=\"1\" class=\"dataframe\">\n",
       "  <thead>\n",
       "    <tr style=\"text-align: right;\">\n",
       "      <th></th>\n",
       "      <th>Nivel</th>\n",
       "      <th>Concepto</th>\n",
       "      <th>Cantidad</th>\n",
       "      <th>Departamento</th>\n",
       "      <th>Año</th>\n",
       "      <th>Clase</th>\n",
       "    </tr>\n",
       "  </thead>\n",
       "  <tbody>\n",
       "    <tr>\n",
       "      <td>0</td>\n",
       "      <td>1</td>\n",
       "      <td>GASTOS DE FUNCIONAMIENTO</td>\n",
       "      <td>3.107.993.933</td>\n",
       "      <td>Amazonas</td>\n",
       "      <td>2002</td>\n",
       "      <td>Gastos Comprometidos</td>\n",
       "    </tr>\n",
       "    <tr>\n",
       "      <td>1</td>\n",
       "      <td>2</td>\n",
       "      <td>GASTOS DE FUNCIONAMIENTO</td>\n",
       "      <td>7.439.449.765</td>\n",
       "      <td>Amazonas</td>\n",
       "      <td>2002</td>\n",
       "      <td>Gastos Comprometidos</td>\n",
       "    </tr>\n",
       "    <tr>\n",
       "      <td>2</td>\n",
       "      <td>1</td>\n",
       "      <td>...GASTOS DE PERSONAL</td>\n",
       "      <td>1.764.172.132</td>\n",
       "      <td>Amazonas</td>\n",
       "      <td>2002</td>\n",
       "      <td>Gastos Comprometidos</td>\n",
       "    </tr>\n",
       "    <tr>\n",
       "      <td>3</td>\n",
       "      <td>2</td>\n",
       "      <td>...GASTOS DE PERSONAL</td>\n",
       "      <td>6.595.126.121</td>\n",
       "      <td>Amazonas</td>\n",
       "      <td>2002</td>\n",
       "      <td>Gastos Comprometidos</td>\n",
       "    </tr>\n",
       "    <tr>\n",
       "      <td>4</td>\n",
       "      <td>1</td>\n",
       "      <td>.........Servicios personales asociados a la n...</td>\n",
       "      <td>1.137.240.113</td>\n",
       "      <td>Amazonas</td>\n",
       "      <td>2002</td>\n",
       "      <td>Gastos Comprometidos</td>\n",
       "    </tr>\n",
       "    <tr>\n",
       "      <td>...</td>\n",
       "      <td>...</td>\n",
       "      <td>...</td>\n",
       "      <td>...</td>\n",
       "      <td>...</td>\n",
       "      <td>...</td>\n",
       "      <td>...</td>\n",
       "    </tr>\n",
       "    <tr>\n",
       "      <td>35295</td>\n",
       "      <td>2</td>\n",
       "      <td>......Gastos de Personal de Planta</td>\n",
       "      <td>2.835.087.987</td>\n",
       "      <td>Vichada</td>\n",
       "      <td>2018</td>\n",
       "      <td>Gastos Comprometidos</td>\n",
       "    </tr>\n",
       "    <tr>\n",
       "      <td>35296</td>\n",
       "      <td>2</td>\n",
       "      <td>...De comercialización (compra de ByS para la ...</td>\n",
       "      <td>0</td>\n",
       "      <td>Vichada</td>\n",
       "      <td>2018</td>\n",
       "      <td>Gastos Comprometidos</td>\n",
       "    </tr>\n",
       "    <tr>\n",
       "      <td>35297</td>\n",
       "      <td>2</td>\n",
       "      <td>...De prestación de servicios (compra de ByS p...</td>\n",
       "      <td>1.945.746.879</td>\n",
       "      <td>Vichada</td>\n",
       "      <td>2018</td>\n",
       "      <td>Gastos Comprometidos</td>\n",
       "    </tr>\n",
       "    <tr>\n",
       "      <td>35298</td>\n",
       "      <td>2</td>\n",
       "      <td>......Impuestos y Multas</td>\n",
       "      <td>0</td>\n",
       "      <td>Vichada</td>\n",
       "      <td>2018</td>\n",
       "      <td>Gastos Comprometidos</td>\n",
       "    </tr>\n",
       "    <tr>\n",
       "      <td>35299</td>\n",
       "      <td>2</td>\n",
       "      <td>Disponibilidad Final</td>\n",
       "      <td>6.063.103.884</td>\n",
       "      <td>Vichada</td>\n",
       "      <td>2018</td>\n",
       "      <td>Gastos Comprometidos</td>\n",
       "    </tr>\n",
       "  </tbody>\n",
       "</table>\n",
       "<p>35300 rows × 6 columns</p>\n",
       "</div>"
      ],
      "text/plain": [
       "      Nivel                                           Concepto       Cantidad  \\\n",
       "0         1                           GASTOS DE FUNCIONAMIENTO  3.107.993.933   \n",
       "1         2                           GASTOS DE FUNCIONAMIENTO  7.439.449.765   \n",
       "2         1                              ...GASTOS DE PERSONAL  1.764.172.132   \n",
       "3         2                              ...GASTOS DE PERSONAL  6.595.126.121   \n",
       "4         1  .........Servicios personales asociados a la n...  1.137.240.113   \n",
       "...     ...                                                ...            ...   \n",
       "35295     2                 ......Gastos de Personal de Planta  2.835.087.987   \n",
       "35296     2  ...De comercialización (compra de ByS para la ...              0   \n",
       "35297     2  ...De prestación de servicios (compra de ByS p...  1.945.746.879   \n",
       "35298     2                           ......Impuestos y Multas              0   \n",
       "35299     2                               Disponibilidad Final  6.063.103.884   \n",
       "\n",
       "      Departamento   Año                 Clase  \n",
       "0         Amazonas  2002  Gastos Comprometidos  \n",
       "1         Amazonas  2002  Gastos Comprometidos  \n",
       "2         Amazonas  2002  Gastos Comprometidos  \n",
       "3         Amazonas  2002  Gastos Comprometidos  \n",
       "4         Amazonas  2002  Gastos Comprometidos  \n",
       "...            ...   ...                   ...  \n",
       "35295      Vichada  2018  Gastos Comprometidos  \n",
       "35296      Vichada  2018  Gastos Comprometidos  \n",
       "35297      Vichada  2018  Gastos Comprometidos  \n",
       "35298      Vichada  2018  Gastos Comprometidos  \n",
       "35299      Vichada  2018  Gastos Comprometidos  \n",
       "\n",
       "[35300 rows x 6 columns]"
      ]
     },
     "execution_count": 15,
     "metadata": {},
     "output_type": "execute_result"
    }
   ],
   "source": [
    "df_base"
   ]
  },
  {
   "cell_type": "code",
   "execution_count": 16,
   "metadata": {},
   "outputs": [],
   "source": [
    "df_base.to_excel(\"Gastos_comprometidos.xlsx\", index = False)"
   ]
  },
  {
   "cell_type": "markdown",
   "metadata": {},
   "source": [
    "**Ideas para la base de datos:**\n",
    "- https://thispointer.com/python-pandas-how-to-add-rows-in-a-dataframe-using-dataframe-append-loc-iloc/"
   ]
  },
  {
   "cell_type": "markdown",
   "metadata": {},
   "source": [
    "Hasta acá funciona melo!, pero hay que pensar en una forma de hacer que Python sepa que va a trabajar en la otra ventana\n",
    "- Revisar: https://stackoverflow.com/questions/32858434/switch-to-popup-in-python-using-selenium"
   ]
  }
 ],
 "metadata": {
  "kernelspec": {
   "display_name": "Python 3",
   "language": "python",
   "name": "python3"
  },
  "language_info": {
   "codemirror_mode": {
    "name": "ipython",
    "version": 3
   },
   "file_extension": ".py",
   "mimetype": "text/x-python",
   "name": "python",
   "nbconvert_exporter": "python",
   "pygments_lexer": "ipython3",
   "version": "3.7.4"
  }
 },
 "nbformat": 4,
 "nbformat_minor": 2
}
