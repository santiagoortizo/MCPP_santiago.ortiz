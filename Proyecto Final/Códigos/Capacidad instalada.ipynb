{
 "cells": [
  {
   "cell_type": "markdown",
   "metadata": {},
   "source": [
    "# Métodos Computacionles para las Políticas Públicas\n",
    "# Proyecto Final - Análisis Envolvente de Datos\n",
    "## Santiago Ortiz Ortiz"
   ]
  },
  {
   "cell_type": "markdown",
   "metadata": {},
   "source": [
    "Importamos las librerias necesarias para desarrollar Web Scraping a la página."
   ]
  },
  {
   "cell_type": "code",
   "execution_count": 1,
   "metadata": {},
   "outputs": [],
   "source": [
    "import pandas as pd\n",
    "import re\n",
    "import requests\n",
    "import time\n",
    "from urllib.request import urlopen\n",
    "from bs4 import BeautifulSoup\n",
    "from selenium import webdriver\n",
    "from selenium.webdriver.common.keys import Keys\n",
    "from selenium.webdriver.support.ui import Select\n",
    "from selenium.webdriver.support.select import Select\n",
    "from selenium.webdriver.common.action_chains import ActionChains"
   ]
  },
  {
   "cell_type": "markdown",
   "metadata": {},
   "source": [
    "**Para ingresar al panel principal.**"
   ]
  },
  {
   "cell_type": "markdown",
   "metadata": {},
   "source": [
    "La página web a la que le vamos a hacer WS es Sistema de Gestión Hospitalaria (SIHO).\n",
    "Url principal: https://prestadores.minsalud.gov.co/siho/\n",
    "Está es la URL principal. Sin embargo, cuando uno quiere examinar la página se da cuenta que tiene unas macro que no se muestran de forma tan simple. Por lo tanto, ingresamos a un link secundario que habilita la macro: https://prestadores.minsalud.gov.co/siho/work.aspx\n",
    "\n",
    "Una vez acá, el software nos habilita un usuario de invitado. Este ya está digitado, solo hay que darle click en ingresar."
   ]
  },
  {
   "cell_type": "code",
   "execution_count": 2,
   "metadata": {},
   "outputs": [],
   "source": [
    "# Creamos una variable con la URL de la página.\n",
    "url = \"https://prestadores.minsalud.gov.co/siho/work.aspx\"\n",
    "\n",
    "# Con ayuda del WebDriver de Chrome vamos a abrir la página.\n",
    "browser = webdriver.Chrome(executable_path=r\"C:\\Users\\tatoo\\Desktop\\PhantomJS\\Chrome\\chromedriver.exe\")\n",
    "# A la hora de hacer Web Scraping es importante dejar un periodo de tiempo relativamente largo (algo que aparente ser humano)\n",
    "time.sleep(5)\n",
    "# Con el .get(url), el programa sabe que tiene que ingresar a esa URL\n",
    "browser.get(url)\n",
    "time.sleep(5)\n",
    "# Le pedimos al programa que encuentre un elemento en el código HTML que se llame \"btnIngresar\" y que le dé CLICK\n",
    "boton_submit = browser.find_element_by_name(\"btnIngresar\").click()\n",
    "time.sleep(4)"
   ]
  },
  {
   "cell_type": "markdown",
   "metadata": {},
   "source": [
    "Vamos a crear dos listas, una con los años y otra con los departamentos que tendremos que analizar."
   ]
  },
  {
   "cell_type": "code",
   "execution_count": 3,
   "metadata": {},
   "outputs": [],
   "source": [
    "años_ops = [\"2002\", \"2003\", \"2004\", \"2005\", \"2006\", \"2007\",\n",
    "            \"2008\", \"2009\", \"2010\", \"2011\", \"2012\", \"2013\",\n",
    "            \"2014\", \"2015\", \"2016\", \"2017\", \"2018\"] # Desde el 2002 hasta el 2018\n",
    "deptos_ops = [\"Amazonas\", \"Antioquia\", \"Arauca\", \"Atlántico\", \"Archipiélago de San Andrés, Providencia y Santa Catalina\",\n",
    "             \"Bogotá, D.C.\", \"Bolívar\", \"Boyacá\", \"Caldas\", \"Caquetá\", \"Casanare\", \"Cauca\", \"Cesar\",\n",
    "             \"Chocó\", \"Córdoba\", \"Cundinamarca\", \"Guainía\", \"Guaviare\", \"Huila\",\n",
    "             \"La Guajira\", \"Magdalena\", \"Meta\", \"Nariño\", \"Norte de Santander\",\n",
    "             \"Putumayo\", \"Quindío\", \"Risaralda\", \"Santander\", \"Sucre\",\n",
    "             \"Tolima\", \"Valle del Cauca\", \"Vaupés\", \"Vichada\"] # 32 Departamentos y el Distrito Capital"
   ]
  },
  {
   "cell_type": "markdown",
   "metadata": {},
   "source": [
    "**Para que Python sepa que esta en otra pestaña**\n",
    "https://stackoverflow.com/questions/17676036/python-webdriver-to-handle-pop-up-browser-windows-which-is-not-an-alert"
   ]
  },
  {
   "cell_type": "markdown",
   "metadata": {},
   "source": [
    "# Capacidad instalada"
   ]
  },
  {
   "cell_type": "code",
   "execution_count": 4,
   "metadata": {},
   "outputs": [],
   "source": [
    "# Fijamos una página principal llamada MAIN\n",
    "main_window_handle = None\n",
    "while not main_window_handle:\n",
    "    main_window_handle = browser.current_window_handle\n",
    "browser.find_element_by_link_text('Capacidad Instalada').click()\n",
    "signin_window_handle = None\n",
    "while not signin_window_handle:\n",
    "    for handle in browser.window_handles:\n",
    "        if handle != main_window_handle:\n",
    "            signin_window_handle = handle\n",
    "            break\n",
    "browser.switch_to.window(signin_window_handle)"
   ]
  },
  {
   "cell_type": "code",
   "execution_count": null,
   "metadata": {},
   "outputs": [],
   "source": [
    "browser.page_source # Para comprobar que tenga la nueva forma"
   ]
  },
  {
   "cell_type": "markdown",
   "metadata": {},
   "source": [
    "Lo que hacen los dos códigos siguientes es: \n",
    "- Encontrar las casillas año y departamento. Como ambas son elementos de multiple opción este desplegará unos valores.\n",
    "- Año: 2002 - 2019 (Sin embargo, no hay datos para el 2019)\n",
    "- Depto: Amazonas - Vaupés (+Bogotá DC.)"
   ]
  },
  {
   "cell_type": "markdown",
   "metadata": {},
   "source": [
    "# Creación base del dataframe"
   ]
  },
  {
   "cell_type": "code",
   "execution_count": 5,
   "metadata": {},
   "outputs": [
    {
     "data": {
      "text/html": [
       "<div>\n",
       "<style scoped>\n",
       "    .dataframe tbody tr th:only-of-type {\n",
       "        vertical-align: middle;\n",
       "    }\n",
       "\n",
       "    .dataframe tbody tr th {\n",
       "        vertical-align: top;\n",
       "    }\n",
       "\n",
       "    .dataframe thead th {\n",
       "        text-align: right;\n",
       "    }\n",
       "</style>\n",
       "<table border=\"1\" class=\"dataframe\">\n",
       "  <thead>\n",
       "    <tr style=\"text-align: right;\">\n",
       "      <th></th>\n",
       "      <th>Nivel</th>\n",
       "      <th>Concepto</th>\n",
       "      <th>Cantidad</th>\n",
       "      <th>Departamento</th>\n",
       "      <th>Año</th>\n",
       "      <th>Clase</th>\n",
       "    </tr>\n",
       "  </thead>\n",
       "  <tbody>\n",
       "  </tbody>\n",
       "</table>\n",
       "</div>"
      ],
      "text/plain": [
       "Empty DataFrame\n",
       "Columns: [Nivel, Concepto, Cantidad, Departamento, Año, Clase]\n",
       "Index: []"
      ]
     },
     "execution_count": 5,
     "metadata": {},
     "output_type": "execute_result"
    }
   ],
   "source": [
    "df_base = pd.DataFrame(columns=['Nivel', 'Concepto', 'Cantidad', 'Departamento', 'Año', 'Clase'])\n",
    "df_base"
   ]
  },
  {
   "cell_type": "markdown",
   "metadata": {},
   "source": [
    "# Función para extraer los datos de las páginas"
   ]
  },
  {
   "cell_type": "code",
   "execution_count": 6,
   "metadata": {},
   "outputs": [],
   "source": [
    "def extract_cap(años, departamento, df_base):\n",
    "    # El espacio del año tiene un nombre como el siguiente:\n",
    "    cod_año = browser.find_element_by_name(\"_ctl0:ContentPlaceHolder1:ddano\")\n",
    "    for option in cod_año.find_elements_by_tag_name('option'):\n",
    "        if option.text == años:\n",
    "            option.click() \n",
    "            break\n",
    "    time.sleep(1)\n",
    "    # El espacio del departamento tiene un nombre como el siguiente:\n",
    "    cod_depto = browser.find_element_by_name(\"_ctl0:ContentPlaceHolder1:dddepa_codigo\")\n",
    "    for option in cod_depto.find_elements_by_tag_name('option'):\n",
    "        if option.text == departamento:\n",
    "            option.click() # select() in earlier versions of webdriver\n",
    "            break\n",
    "    time.sleep(1)\n",
    "    # Después de seleccionar los departamentos y los años a Buscar\n",
    "    boton_buscar = browser.find_element_by_name(\"_ctl0:ibBuscarFtr\")\n",
    "    boton_buscar.click()\n",
    "    time.sleep(3)\n",
    "    html = browser.execute_script(\"return document.getElementsByTagName('html')[0].innerHTML\")   \n",
    "    soup = BeautifulSoup(html, \"html.parser\")\n",
    "    time.sleep(1)\n",
    "    agregar = re.findall('<td align=\"center\">(\\d*)</td><td>(.*)</td><td align=\"right\">([\\d.]*)</td><td align=\"right\">[\\d,]*</td><td align=\"right\">[\\d.,]*</td>', str(soup))\n",
    "    if len(agregar) == 0:\n",
    "        pass\n",
    "    time.sleep(3)\n",
    "    agregar_base = pd.DataFrame(agregar, columns = ['Nivel', 'Concepto', 'Cantidad']) \n",
    "    time.sleep(1)\n",
    "    depto = []\n",
    "    for i in range(len(agregar_base[\"Nivel\"])):\n",
    "        depto.append(departamento)\n",
    "    agregar_base[\"Departamento\"] = depto\n",
    "    anno = []\n",
    "    for i in range(len(agregar_base[\"Nivel\"])):\n",
    "        anno.append(años)\n",
    "    agregar_base[\"Año\"] = anno\n",
    "    clase = []\n",
    "    for i in range(len(agregar_base[\"Nivel\"])):\n",
    "        clase.append(\"Capacidad Instalada\")\n",
    "    agregar_base[\"Clase\"] = clase\n",
    "    df_base = df_base.append(agregar_base, ignore_index=True, sort=False)\n",
    "    return df_base"
   ]
  },
  {
   "cell_type": "code",
   "execution_count": 7,
   "metadata": {},
   "outputs": [],
   "source": [
    "for años in años_ops:\n",
    "    for departamento in deptos_ops:\n",
    "        df_base = extract_cap(años, departamento, df_base)"
   ]
  },
  {
   "cell_type": "code",
   "execution_count": 8,
   "metadata": {
    "scrolled": true
   },
   "outputs": [
    {
     "data": {
      "text/html": [
       "<div>\n",
       "<style scoped>\n",
       "    .dataframe tbody tr th:only-of-type {\n",
       "        vertical-align: middle;\n",
       "    }\n",
       "\n",
       "    .dataframe tbody tr th {\n",
       "        vertical-align: top;\n",
       "    }\n",
       "\n",
       "    .dataframe thead th {\n",
       "        text-align: right;\n",
       "    }\n",
       "</style>\n",
       "<table border=\"1\" class=\"dataframe\">\n",
       "  <thead>\n",
       "    <tr style=\"text-align: right;\">\n",
       "      <th></th>\n",
       "      <th>Nivel</th>\n",
       "      <th>Concepto</th>\n",
       "      <th>Cantidad</th>\n",
       "      <th>Departamento</th>\n",
       "      <th>Año</th>\n",
       "      <th>Clase</th>\n",
       "    </tr>\n",
       "  </thead>\n",
       "  <tbody>\n",
       "    <tr>\n",
       "      <td>0</td>\n",
       "      <td>1</td>\n",
       "      <td>Camas de hospitalización</td>\n",
       "      <td>47</td>\n",
       "      <td>Amazonas</td>\n",
       "      <td>2002</td>\n",
       "      <td>Capacidad Instalada</td>\n",
       "    </tr>\n",
       "    <tr>\n",
       "      <td>1</td>\n",
       "      <td>2</td>\n",
       "      <td>Camas de hospitalización</td>\n",
       "      <td>68</td>\n",
       "      <td>Amazonas</td>\n",
       "      <td>2002</td>\n",
       "      <td>Capacidad Instalada</td>\n",
       "    </tr>\n",
       "    <tr>\n",
       "      <td>2</td>\n",
       "      <td>1</td>\n",
       "      <td>Camas de observación</td>\n",
       "      <td>8</td>\n",
       "      <td>Amazonas</td>\n",
       "      <td>2002</td>\n",
       "      <td>Capacidad Instalada</td>\n",
       "    </tr>\n",
       "    <tr>\n",
       "      <td>3</td>\n",
       "      <td>2</td>\n",
       "      <td>Camas de observación</td>\n",
       "      <td>0</td>\n",
       "      <td>Amazonas</td>\n",
       "      <td>2002</td>\n",
       "      <td>Capacidad Instalada</td>\n",
       "    </tr>\n",
       "    <tr>\n",
       "      <td>4</td>\n",
       "      <td>1</td>\n",
       "      <td>Consultorios de consulta externa</td>\n",
       "      <td>11</td>\n",
       "      <td>Amazonas</td>\n",
       "      <td>2002</td>\n",
       "      <td>Capacidad Instalada</td>\n",
       "    </tr>\n",
       "    <tr>\n",
       "      <td>...</td>\n",
       "      <td>...</td>\n",
       "      <td>...</td>\n",
       "      <td>...</td>\n",
       "      <td>...</td>\n",
       "      <td>...</td>\n",
       "      <td>...</td>\n",
       "    </tr>\n",
       "    <tr>\n",
       "      <td>9293</td>\n",
       "      <td>2</td>\n",
       "      <td>Consultorios de consulta externa</td>\n",
       "      <td>16</td>\n",
       "      <td>Vichada</td>\n",
       "      <td>2018</td>\n",
       "      <td>Capacidad Instalada</td>\n",
       "    </tr>\n",
       "    <tr>\n",
       "      <td>9294</td>\n",
       "      <td>2</td>\n",
       "      <td>Consultorios en el servicio de urgencias</td>\n",
       "      <td>5</td>\n",
       "      <td>Vichada</td>\n",
       "      <td>2018</td>\n",
       "      <td>Capacidad Instalada</td>\n",
       "    </tr>\n",
       "    <tr>\n",
       "      <td>9295</td>\n",
       "      <td>2</td>\n",
       "      <td>Salas de quirófanos</td>\n",
       "      <td>2</td>\n",
       "      <td>Vichada</td>\n",
       "      <td>2018</td>\n",
       "      <td>Capacidad Instalada</td>\n",
       "    </tr>\n",
       "    <tr>\n",
       "      <td>9296</td>\n",
       "      <td>2</td>\n",
       "      <td>Mesas de partos</td>\n",
       "      <td>5</td>\n",
       "      <td>Vichada</td>\n",
       "      <td>2018</td>\n",
       "      <td>Capacidad Instalada</td>\n",
       "    </tr>\n",
       "    <tr>\n",
       "      <td>9297</td>\n",
       "      <td>2</td>\n",
       "      <td>Número de unidades de odontología</td>\n",
       "      <td>6</td>\n",
       "      <td>Vichada</td>\n",
       "      <td>2018</td>\n",
       "      <td>Capacidad Instalada</td>\n",
       "    </tr>\n",
       "  </tbody>\n",
       "</table>\n",
       "<p>9298 rows × 6 columns</p>\n",
       "</div>"
      ],
      "text/plain": [
       "     Nivel                                  Concepto Cantidad Departamento  \\\n",
       "0        1                  Camas de hospitalización       47     Amazonas   \n",
       "1        2                  Camas de hospitalización       68     Amazonas   \n",
       "2        1                      Camas de observación        8     Amazonas   \n",
       "3        2                      Camas de observación        0     Amazonas   \n",
       "4        1          Consultorios de consulta externa       11     Amazonas   \n",
       "...    ...                                       ...      ...          ...   \n",
       "9293     2          Consultorios de consulta externa       16      Vichada   \n",
       "9294     2  Consultorios en el servicio de urgencias        5      Vichada   \n",
       "9295     2                       Salas de quirófanos        2      Vichada   \n",
       "9296     2                           Mesas de partos        5      Vichada   \n",
       "9297     2         Número de unidades de odontología        6      Vichada   \n",
       "\n",
       "       Año                Clase  \n",
       "0     2002  Capacidad Instalada  \n",
       "1     2002  Capacidad Instalada  \n",
       "2     2002  Capacidad Instalada  \n",
       "3     2002  Capacidad Instalada  \n",
       "4     2002  Capacidad Instalada  \n",
       "...    ...                  ...  \n",
       "9293  2018  Capacidad Instalada  \n",
       "9294  2018  Capacidad Instalada  \n",
       "9295  2018  Capacidad Instalada  \n",
       "9296  2018  Capacidad Instalada  \n",
       "9297  2018  Capacidad Instalada  \n",
       "\n",
       "[9298 rows x 6 columns]"
      ]
     },
     "execution_count": 8,
     "metadata": {},
     "output_type": "execute_result"
    }
   ],
   "source": [
    "df_base"
   ]
  },
  {
   "cell_type": "code",
   "execution_count": 9,
   "metadata": {},
   "outputs": [],
   "source": [
    "df_base.to_excel(\"Capacidad_instalada.xlsx\", index = False)"
   ]
  },
  {
   "cell_type": "markdown",
   "metadata": {},
   "source": [
    "**Ideas para la base de datos:**\n",
    "- https://thispointer.com/python-pandas-how-to-add-rows-in-a-dataframe-using-dataframe-append-loc-iloc/"
   ]
  },
  {
   "cell_type": "markdown",
   "metadata": {},
   "source": [
    "Hasta acá funciona melo!, pero hay que pensar en una forma de hacer que Python sepa que va a trabajar en la otra ventana\n",
    "- Revisar: https://stackoverflow.com/questions/32858434/switch-to-popup-in-python-using-selenium"
   ]
  }
 ],
 "metadata": {
  "kernelspec": {
   "display_name": "Python 3",
   "language": "python",
   "name": "python3"
  },
  "language_info": {
   "codemirror_mode": {
    "name": "ipython",
    "version": 3
   },
   "file_extension": ".py",
   "mimetype": "text/x-python",
   "name": "python",
   "nbconvert_exporter": "python",
   "pygments_lexer": "ipython3",
   "version": "3.7.4"
  }
 },
 "nbformat": 4,
 "nbformat_minor": 2
}
