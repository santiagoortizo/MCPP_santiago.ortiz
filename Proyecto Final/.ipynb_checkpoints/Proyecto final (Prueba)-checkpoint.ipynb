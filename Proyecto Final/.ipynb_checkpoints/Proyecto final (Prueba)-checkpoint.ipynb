{
 "cells": [
  {
   "cell_type": "markdown",
   "metadata": {},
   "source": [
    "# Métodos Computacionles para las Políticas Públicas\n",
    "# Proyecto Final - Análisis Envolvente de Datos\n",
    "## Santiago Ortiz Ortiz"
   ]
  },
  {
   "cell_type": "markdown",
   "metadata": {},
   "source": [
    "Importamos las librerias necesarias para desarrollar Web Scraping a la página."
   ]
  },
  {
   "cell_type": "code",
   "execution_count": 1,
   "metadata": {},
   "outputs": [],
   "source": [
    "import pandas as pd\n",
    "import re\n",
    "import requests\n",
    "import time\n",
    "from urllib.request import urlopen\n",
    "from bs4 import BeautifulSoup\n",
    "from selenium import webdriver\n",
    "from selenium.webdriver.common.keys import Keys\n",
    "from selenium.webdriver.support.ui import Select\n",
    "from selenium.webdriver.support.select import Select\n",
    "from selenium.webdriver.common.action_chains import ActionChains"
   ]
  },
  {
   "cell_type": "markdown",
   "metadata": {},
   "source": [
    "**Para ingresar al panel principal.**"
   ]
  },
  {
   "cell_type": "markdown",
   "metadata": {},
   "source": [
    "La página web a la que le vamos a hacer WS es Sistema de Gestión Hospitalaria (SIHO).\n",
    "Url principal: https://prestadores.minsalud.gov.co/siho/\n",
    "Está es la URL principal. Sin embargo, cuando uno quiere examinar la página se da cuenta que tiene unas macro que no se muestran de forma tan simple. Por lo tanto, ingresamos a un link secundario que habilita la macro: https://prestadores.minsalud.gov.co/siho/work.aspx\n",
    "\n",
    "Una vez acá, el software nos habilita un usuario de invitado. Este ya está digitado, solo hay que darle click en ingresar."
   ]
  },
  {
   "cell_type": "code",
   "execution_count": 2,
   "metadata": {},
   "outputs": [],
   "source": [
    "# Creamos una variable con la URL de la página.\n",
    "url = \"https://prestadores.minsalud.gov.co/siho/work.aspx\"\n",
    "\n",
    "# Con ayuda del WebDriver de Chrome vamos a abrir la página.\n",
    "browser = webdriver.Chrome(executable_path=r\"C:\\Users\\tatoo\\Desktop\\PhantomJS\\Chrome\\chromedriver.exe\")\n",
    "# A la hora de hacer Web Scraping es importante dejar un periodo de tiempo relativamente largo (algo que aparente ser humano)\n",
    "time.sleep(5)\n",
    "# Con el .get(url), el programa sabe que tiene que ingresar a esa URL\n",
    "browser.get(url)\n",
    "time.sleep(5)\n",
    "# Le pedimos al programa que encuentre un elemento en el código HTML que se llame \"btnIngresar\" y que le dé CLICK\n",
    "boton_submit = browser.find_element_by_name(\"btnIngresar\").click()\n",
    "time.sleep(4)"
   ]
  },
  {
   "cell_type": "markdown",
   "metadata": {},
   "source": [
    "**Para que Python sepa que esta en otra pestaña**\n",
    "https://stackoverflow.com/questions/17676036/python-webdriver-to-handle-pop-up-browser-windows-which-is-not-an-alert"
   ]
  },
  {
   "cell_type": "code",
   "execution_count": 3,
   "metadata": {},
   "outputs": [],
   "source": [
    "# Fijamos una página principal llamada MAIN\n",
    "main_window_handle = None\n",
    "while not main_window_handle:\n",
    "    main_window_handle = browser.current_window_handle\n",
    "browser.find_element_by_link_text('Capacidad Instalada').click()\n",
    "signin_window_handle = None\n",
    "while not signin_window_handle:\n",
    "    for handle in browser.window_handles:\n",
    "        if handle != main_window_handle:\n",
    "            signin_window_handle = handle\n",
    "            break\n",
    "browser.switch_to.window(signin_window_handle)"
   ]
  },
  {
   "cell_type": "code",
   "execution_count": null,
   "metadata": {},
   "outputs": [],
   "source": [
    "browser.page_source # Para comprobar que tenga la nueva forma"
   ]
  },
  {
   "cell_type": "markdown",
   "metadata": {},
   "source": [
    "Lo que hacen los dos códigos siguientes es: \n",
    "- Encontrar las casillas año y departamento. Como ambas son elementos de multiple opción este desplegará unos valores.\n",
    "- Año: 2002 - 2019 (Sin embargo, no hay datos para el 2019)\n",
    "- Depto: Amazonas - Vaupés (+Bogotá DC.)"
   ]
  },
  {
   "cell_type": "code",
   "execution_count": 4,
   "metadata": {},
   "outputs": [],
   "source": [
    "# El espacio del año tiene un nombre como el siguiente:\n",
    "cod_año = browser.find_element_by_name(\"_ctl0:ContentPlaceHolder1:ddano\")\n",
    "for option in cod_año.find_elements_by_tag_name('option'):\n",
    "    if option.text == '2003':\n",
    "        option.click() \n",
    "        break"
   ]
  },
  {
   "cell_type": "code",
   "execution_count": 5,
   "metadata": {},
   "outputs": [],
   "source": [
    "# El espacio del departamento tiene un nombre como el siguiente:\n",
    "cod_depto = browser.find_element_by_name(\"_ctl0:ContentPlaceHolder1:dddepa_codigo\")\n",
    "for option in cod_depto.find_elements_by_tag_name('option'):\n",
    "    if option.text == 'Antioquia':\n",
    "        option.click() # select() in earlier versions of webdriver\n",
    "        break"
   ]
  },
  {
   "cell_type": "code",
   "execution_count": 6,
   "metadata": {},
   "outputs": [],
   "source": [
    "# Después de seleccionar los departamentoS Y LOS AÑOS LE DAMOS CLICK a Buscar\n",
    "boton_buscar = browser.find_element_by_name(\"_ctl0:ibBuscarFtr\")\n",
    "boton_buscar.click()"
   ]
  },
  {
   "cell_type": "code",
   "execution_count": 7,
   "metadata": {},
   "outputs": [],
   "source": [
    "html = browser.execute_script(\"return document.getElementsByTagName('html')[0].innerHTML\")   \n",
    "soup = BeautifulSoup(html, \"html.parser\")"
   ]
  },
  {
   "cell_type": "code",
   "execution_count": 8,
   "metadata": {},
   "outputs": [
    {
     "data": {
      "text/plain": [
       "<head><title>\n",
       "\tCapacidad Instalada\n",
       "</title><link href=\"../includes/appestilos.css\" rel=\"stylesheet\"/></head>\n",
       "<body bgcolor=\"#ffffff\">\n",
       "<form action=\"./capacidadinstaladanacional.aspx?pageTitle=Capacidad+Instalada&amp;pageHlp=%2fSIHO%2fayudas%2finformes%2fcapacidad.pdf\" id=\"aspnetForm\" method=\"post\" name=\"aspnetForm\">\n",
       "<input id=\"__VIEWSTATE\" name=\"__VIEWSTATE\" type=\"hidden\" value=\"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\"/>\n",
       "<input id=\"__VIEWSTATEGENERATOR\" name=\"__VIEWSTATEGENERATOR\" type=\"hidden\" value=\"CDDFEAAA\"/>\n",
       "<input id=\"__EVENTVALIDATION\" name=\"__EVENTVALIDATION\" type=\"hidden\" value=\"/wEdAD0F60s3T05CfPdSlqNu4Lh69f09lK5A3efx5e+2zoL0c8MnqKGR0rClTZ0V6RZIWXig9AnBtjjkg/VEAneC+d99h9tMfU8e9v1WYol5vWdJI6JRYX1r1HLm+1P+bJpa0Q6UtlKt+I6s0dFKPk1bR4R9/JIrGPbk0YKa3eocll4hPutj5xR1YFL/Uf8mgGvAvIZpdd4Y9hshvYycAsBkL5AK5qJlx/8+plToCkMvNhEfOvf09LlGgOEl7GJZyGi1Xbq7XLALwelQXA89io1tXN2xhYq3aYptZkHdp2HTQZR2OrxPibIic1qF/zAVkz9LJob1CSS9ilBgrPzOwalKkKiDH0gUP3oU716ueOS5MxO7R2aiCUlMlbsxPslWNuO4QO0XbmQLAuYoDFu+QjGv9Tw7Bs/H9MzvYxe4fd6/b3uqlbFjP/RfzZ9mH8XqnyTiIGqOzwSpDegbgEWThrj900Tr6u93BoO0Jr2aHejoJ6d4Wu/OxG9jepiD/hwWS86FL2GurwaY3N3EdD7Hz01Y4ZL4XzXFNzxPfSYY7jSjxzGGkU3bxOSbX/eTuvnN65FKn9HLp6Tt2BaDM85pGPnzn3vWmSglbWxg1YXZev2Jj6nF8xXNjbuMoPoMGZ+1ZAtDHC1NyW5q8+xkgObj2PT+A8/kG7J4zUbTeSDrveEUKEjh8YuZnV0N1cuwhlkNAk5kYtOY8xxPXqUF+0k4n7+ojQcpzGqJxLyMt6HJwJ+yv3chGaSOOTJzaDJ0BhQg3ZgJLrP9b28sRPTcicSwS2pI1x2DR3zgTXYrfd+3Kg9dp+FDhLp4u6c2yyQwM9wxCOG0Urz4yzYEvxRQ88w705O7NHtre8ibj2hq0tbFVtLTZYYEb8V6k0bzpodaS8ZAQLsJMGYK0/O4WEbbjLOYwfMJ8+l/Grh3rSE8y6796+XW6xgkS6R2ls+4MIfqh2NyIlFSNuWK/I0aBmZYY70goYRWeZhbuavhykLZkQpRHPnx23aEcjwdIH8McVR7IkkVGzWwscz0KXOaoyp6Yntlw4BMz/6ZECXQ8q6VHCoeAsGM7si4C8zHXnyoKE3dIQ6sjXAtUXWHEapxT8b/bSh3UVuDFkPtCBUGIFYSXRGMdO2kJxMCYjm62ZJ2SpAsXwQqLSdFux//YaDilxkHBmTr3NSPFVClw7BX5ZepAbZMn2a1ANAUM7xaUamB/xboOyDJ4Le1FsIlyyki/LdPAD09gTTjgrQDJLLdkwMEVh/tVnmhOBccF18HpD/9nnThZoc1US6pj5KrfZvkjYC8r20ztDAf2lL3+iKEqlnZcBUN3ZbWoq0O3Ol3nxj8clhp2n+phEA2+6U=\"/>\n",
       "<div>\n",
       "<table border=\"0\" cellpadding=\"0\" cellspacing=\"0\">\n",
       "<tbody><tr>\n",
       "<td>\n",
       "</td>\n",
       "<td>\n",
       "<img align=\"bottom\" id=\"_ctl0_iGrabarHdr\" src=\"../images/grabar_dis.jpg\" style=\"border-width:0px;\"/></td>\n",
       "<td>\n",
       "<input align=\"top\" alt=\"Nuevo\" id=\"_ctl0_ibNuevoHdr\" name=\"_ctl0:ibNuevoHdr\" src=\"../images/nuevo.jpg\" style=\"border-width:0px;\" type=\"image\"/></td>\n",
       "<td>\n",
       "<input align=\"bottom\" alt=\"Buscar\" id=\"_ctl0_ibBuscarHdr\" name=\"_ctl0:ibBuscarHdr\" src=\"../images/buscar.jpg\" style=\"border-width:0px;\" type=\"image\"/></td>\n",
       "<td>\n",
       "</td>\n",
       "<td>\n",
       "</td>\n",
       "<td>\n",
       "<img align=\"bottom\" id=\"_ctl0_iEliminarHdr\" src=\"../images/eliminar_dis.jpg\" style=\"border-width:0px;\"/></td>\n",
       "<td>\n",
       "<a href=\"/SIHO/ayudas/informes/capacidad.pdf\" id=\"_ctl0_hlAyudaHdr\" style=\"border-width:0px;\" target=\"_blank\" title=\"Ayuda\"><img alt=\"HyperLink\" border=\"0\" src=\"../images/ayuda.jpg\" title=\"Ayuda\"/></a></td>\n",
       "</tr>\n",
       "</tbody></table>\n",
       "<br/>\n",
       "<span class=\"titulo3\" id=\"_ctl0_lblTitulo\">Capacidad Instalada</span><br/>\n",
       "<br/>\n",
       "<table border=\"0\" cellpadding=\"0\" cellspacing=\"0\" id=\"Table1\" width=\"90%\">\n",
       "<tbody><tr>\n",
       "<td>\n",
       "<table border=\"0\" cellpadding=\"1\" cellspacing=\"0\" id=\"_ctl0_ContentPlaceHolder1_tabForm\">\n",
       "<tbody><tr>\n",
       "<td bgcolor=\"#0094C7\">\n",
       "<table border=\"0\" cellpadding=\"0\" cellspacing=\"0\" id=\"Table2\">\n",
       "<tbody><tr>\n",
       "<td bgcolor=\"#ffffff\">\n",
       "<table align=\"center\" border=\"0\" cellpadding=\"2\" cellspacing=\"0\" id=\"Table3\">\n",
       "<tbody><tr>\n",
       "<td>Año</td>\n",
       "<td>\n",
       "<select id=\"_ctl0_ContentPlaceHolder1_ddano\" name=\"_ctl0:ContentPlaceHolder1:ddano\" style=\"width:80px;\">\n",
       "<option value=\"2002\">2002</option>\n",
       "<option selected=\"selected\" value=\"2003\">2003</option>\n",
       "<option value=\"2004\">2004</option>\n",
       "<option value=\"2005\">2005</option>\n",
       "<option value=\"2006\">2006</option>\n",
       "<option value=\"2007\">2007</option>\n",
       "<option value=\"2008\">2008</option>\n",
       "<option value=\"2009\">2009</option>\n",
       "<option value=\"2010\">2010</option>\n",
       "<option value=\"2011\">2011</option>\n",
       "<option value=\"2012\">2012</option>\n",
       "<option value=\"2013\">2013</option>\n",
       "<option value=\"2014\">2014</option>\n",
       "<option value=\"2015\">2015</option>\n",
       "<option value=\"2016\">2016</option>\n",
       "<option value=\"2017\">2017</option>\n",
       "<option value=\"2018\">2018</option>\n",
       "<option value=\"2019\">2019</option>\n",
       "</select></td>\n",
       "</tr>\n",
       "<tr>\n",
       "<td>Departamento</td>\n",
       "<td>\n",
       "<select id=\"_ctl0_ContentPlaceHolder1_dddepa_codigo\" name=\"_ctl0:ContentPlaceHolder1:dddepa_codigo\" style=\"width:140px;\">\n",
       "<option value=\"\"></option>\n",
       "<option value=\"91\">Amazonas</option>\n",
       "<option selected=\"selected\" value=\"05\">Antioquia</option>\n",
       "<option value=\"81\">Arauca</option>\n",
       "<option value=\"88\">Archipiélago de San Andrés, Providencia y Santa Catalina</option>\n",
       "<option value=\"08\">Atlántico</option>\n",
       "<option value=\"09\">Barranquilla Distritro Especial</option>\n",
       "<option value=\"11\">Bogotá, D.C.</option>\n",
       "<option value=\"13\">Bolívar</option>\n",
       "<option value=\"15\">Boyacá</option>\n",
       "<option value=\"77\">Buenaventura Distrito Especial</option>\n",
       "<option value=\"17\">Caldas</option>\n",
       "<option value=\"18\">Caquetá</option>\n",
       "<option value=\"14\">Cartagena Distrito Especial</option>\n",
       "<option value=\"85\">Casanare</option>\n",
       "<option value=\"19\">Cauca</option>\n",
       "<option value=\"20\">Cesar</option>\n",
       "<option value=\"27\">Chocó</option>\n",
       "<option value=\"23\">Córdoba</option>\n",
       "<option value=\"25\">Cundinamarca</option>\n",
       "<option value=\"94\">Guainía</option>\n",
       "<option value=\"95\">Guaviare</option>\n",
       "<option value=\"41\">Huila</option>\n",
       "<option value=\"44\">La Guajira</option>\n",
       "<option value=\"47\">Magdalena</option>\n",
       "<option value=\"50\">Meta</option>\n",
       "<option value=\"52\">Nariño</option>\n",
       "<option value=\"54\">Norte de Santander</option>\n",
       "<option value=\"86\">Putumayo</option>\n",
       "<option value=\"63\">Quindío</option>\n",
       "<option value=\"66\">Risaralda</option>\n",
       "<option value=\"48\">Santa Marta Distrito Especial</option>\n",
       "<option value=\"68\">Santander</option>\n",
       "<option value=\"70\">Sucre</option>\n",
       "<option value=\"73\">Tolima</option>\n",
       "<option value=\"76\">Valle del Cauca</option>\n",
       "<option value=\"97\">Vaupés</option>\n",
       "<option value=\"99\">Vichada</option>\n",
       "</select></td>\n",
       "</tr>\n",
       "<tr>\n",
       "<td colspan=\"2\"> </td>\n",
       "</tr>\n",
       "<tr>\n",
       "<td align=\"center\" colspan=\"2\"></td>\n",
       "</tr>\n",
       "</tbody></table>\n",
       "</td>\n",
       "</tr>\n",
       "</tbody></table>\n",
       "</td>\n",
       "</tr>\n",
       "</tbody></table>\n",
       "</td>\n",
       "</tr>\n",
       "<tr>\n",
       "<td> </td>\n",
       "</tr>\n",
       "<tr>\n",
       "<td>\n",
       "<table border=\"0\" cellpadding=\"1\" cellspacing=\"0\" id=\"_ctl0_ContentPlaceHolder1_tabGrid\" style=\"DISPLAY: block;\">\n",
       "<tbody><tr>\n",
       "<td class=\"titulo3\">Capacidad instaladA\n",
       "\t\t\t\t\t\t<span class=\"titulo3\" id=\"_ctl0_ContentPlaceHolder1_lblConsulta\">Antioquia</span></td>\n",
       "</tr>\n",
       "<tr>\n",
       "<td>\n",
       "<table border=\"1\" bordercolor=\"#0094C7\" cellspacing=\"0\" id=\"_ctl0_ContentPlaceHolder1_dgInforme1\" rules=\"all\" style=\"background-color:White;border-color:#0094C7;border-collapse:collapse;\">\n",
       "<tbody><tr align=\"center\" class=\"tfolder\" style=\"color:#FFFFEE;\">\n",
       "<td>Concepto</td><td>Cantidad</td>\n",
       "</tr><tr>\n",
       "<td>Camas de hospitalización</td><td align=\"right\">2.740</td>\n",
       "</tr><tr>\n",
       "<td>Camas de observación</td><td align=\"right\">555</td>\n",
       "</tr><tr>\n",
       "<td>Consultorios de consulta externa</td><td align=\"right\">941</td>\n",
       "</tr><tr>\n",
       "<td>Consultorios en el servicio de urgencias</td><td align=\"right\">184</td>\n",
       "</tr><tr>\n",
       "<td>Salas de quirófanos</td><td align=\"right\">114</td>\n",
       "</tr><tr>\n",
       "<td>Mesas de partos</td><td align=\"right\">187</td>\n",
       "</tr><tr>\n",
       "<td>Número de unidades de odontología</td><td align=\"right\">428</td>\n",
       "</tr>\n",
       "</tbody></table></td>\n",
       "</tr>\n",
       "<tr>\n",
       "<td> </td>\n",
       "</tr>\n",
       "<tr>\n",
       "<td class=\"titulo3\">capacidad instalada por nivel</td>\n",
       "</tr>\n",
       "<tr>\n",
       "<td>\n",
       "<table border=\"1\" bordercolor=\"#0094C7\" cellspacing=\"0\" id=\"_ctl0_ContentPlaceHolder1_dgInforme2\" rules=\"all\" style=\"background-color:White;border-color:#0094C7;border-collapse:collapse;\">\n",
       "<tbody><tr align=\"center\" class=\"tfolder\" style=\"color:#FFFFEE;\">\n",
       "<td>Nivel</td><td>Concepto</td><td>Cantidad</td><td>Porcentaje</td><td>Promedio</td>\n",
       "</tr><tr>\n",
       "<td align=\"center\">1</td><td>Camas de hospitalización</td><td align=\"right\">966</td><td align=\"right\">3,83</td><td align=\"right\">8,40</td>\n",
       "</tr><tr>\n",
       "<td align=\"center\">2</td><td>Camas de hospitalización</td><td align=\"right\">1.299</td><td align=\"right\">5,15</td><td align=\"right\">86,60</td>\n",
       "</tr><tr>\n",
       "<td align=\"center\">3</td><td>Camas de hospitalización</td><td align=\"right\">475</td><td align=\"right\">1,88</td><td align=\"right\">158,33</td>\n",
       "</tr><tr>\n",
       "<td align=\"center\">1</td><td>Camas de observación</td><td align=\"right\">249</td><td align=\"right\">4,76</td><td align=\"right\">2,17</td>\n",
       "</tr><tr>\n",
       "<td align=\"center\">2</td><td>Camas de observación</td><td align=\"right\">228</td><td align=\"right\">4,36</td><td align=\"right\">15,20</td>\n",
       "</tr><tr>\n",
       "<td align=\"center\">3</td><td>Camas de observación</td><td align=\"right\">78</td><td align=\"right\">1,49</td><td align=\"right\">26,00</td>\n",
       "</tr><tr>\n",
       "<td align=\"center\">1</td><td>Consultorios de consulta externa</td><td align=\"right\">465</td><td align=\"right\">7,02</td><td align=\"right\">4,04</td>\n",
       "</tr><tr>\n",
       "<td align=\"center\">2</td><td>Consultorios de consulta externa</td><td align=\"right\">439</td><td align=\"right\">6,62</td><td align=\"right\">29,27</td>\n",
       "</tr><tr>\n",
       "<td align=\"center\">3</td><td>Consultorios de consulta externa</td><td align=\"right\">37</td><td align=\"right\">0,56</td><td align=\"right\">12,33</td>\n",
       "</tr><tr>\n",
       "<td align=\"center\">1</td><td>Consultorios en el servicio de urgencias</td><td align=\"right\">127</td><td align=\"right\">7,79</td><td align=\"right\">1,11</td>\n",
       "</tr><tr>\n",
       "<td align=\"center\">2</td><td>Consultorios en el servicio de urgencias</td><td align=\"right\">44</td><td align=\"right\">2,70</td><td align=\"right\">2,93</td>\n",
       "</tr><tr>\n",
       "<td align=\"center\">3</td><td>Consultorios en el servicio de urgencias</td><td align=\"right\">13</td><td align=\"right\">0,80</td><td align=\"right\">4,33</td>\n",
       "</tr><tr>\n",
       "<td align=\"center\">1</td><td>Salas de quirófanos</td><td align=\"right\">66</td><td align=\"right\">8,00</td><td align=\"right\">0,64</td>\n",
       "</tr><tr>\n",
       "<td align=\"center\">2</td><td>Salas de quirófanos</td><td align=\"right\">34</td><td align=\"right\">4,12</td><td align=\"right\">2,43</td>\n",
       "</tr><tr>\n",
       "<td align=\"center\">3</td><td>Salas de quirófanos</td><td align=\"right\">14</td><td align=\"right\">1,70</td><td align=\"right\">4,67</td>\n",
       "</tr><tr>\n",
       "<td align=\"center\">1</td><td>Mesas de partos</td><td align=\"right\">152</td><td align=\"right\">9,69</td><td align=\"right\">1,32</td>\n",
       "</tr><tr>\n",
       "<td align=\"center\">2</td><td>Mesas de partos</td><td align=\"right\">30</td><td align=\"right\">1,91</td><td align=\"right\">2,14</td>\n",
       "</tr><tr>\n",
       "<td align=\"center\">3</td><td>Mesas de partos</td><td align=\"right\">5</td><td align=\"right\">0,32</td><td align=\"right\">1,67</td>\n",
       "</tr><tr>\n",
       "<td align=\"center\">1</td><td>Número de unidades de odontología</td><td align=\"right\">268</td><td align=\"right\">8,77</td><td align=\"right\">2,33</td>\n",
       "</tr><tr>\n",
       "<td align=\"center\">2</td><td>Número de unidades de odontología</td><td align=\"right\">158</td><td align=\"right\">5,17</td><td align=\"right\">11,29</td>\n",
       "</tr><tr>\n",
       "<td align=\"center\">3</td><td>Número de unidades de odontología</td><td align=\"right\">2</td><td align=\"right\">0,07</td><td align=\"right\">0,67</td>\n",
       "</tr>\n",
       "</tbody></table></td>\n",
       "</tr>\n",
       "</tbody></table>\n",
       "</td>\n",
       "</tr>\n",
       "<tr>\n",
       "<td>\n",
       "<span class=\"labelNormal\" id=\"_ctl0_ContentPlaceHolder1_lblWarning\"></span></td>\n",
       "</tr>\n",
       "</tbody></table>\n",
       "<br/>\n",
       "<table border=\"0\" cellpadding=\"0\" cellspacing=\"0\">\n",
       "<tbody><tr>\n",
       "<td>\n",
       "</td>\n",
       "<td>\n",
       "<img align=\"bottom\" id=\"_ctl0_iGrabarFtr\" src=\"../images/grabar_dis.jpg\" style=\"border-width:0px;\"/></td>\n",
       "<td>\n",
       "<input align=\"top\" alt=\"Nuevo\" id=\"_ctl0_ibNuevoFtr\" name=\"_ctl0:ibNuevoFtr\" src=\"../images/nuevo.jpg\" style=\"border-width:0px;\" type=\"image\"/></td>\n",
       "<td>\n",
       "<input align=\"bottom\" alt=\"Buscar\" id=\"_ctl0_ibBuscarFtr\" name=\"_ctl0:ibBuscarFtr\" src=\"../images/buscar.jpg\" style=\"border-width:0px;\" type=\"image\"/></td>\n",
       "<td>\n",
       "</td>\n",
       "<td>\n",
       "</td>\n",
       "<td>\n",
       "<img align=\"bottom\" id=\"_ctl0_iEliminarFtr\" src=\"../images/eliminar_dis.jpg\" style=\"border-width:0px;\"/></td>\n",
       "<td>\n",
       "<a href=\"/SIHO/ayudas/informes/capacidad.pdf\" id=\"_ctl0_hlAyudaFtr\" style=\"border-width:0px;\" target=\"_blank\" title=\"Ayuda\"><img alt=\"HyperLink\" border=\"0\" src=\"../images/ayuda.jpg\" title=\"Ayuda\"/></a></td>\n",
       "</tr>\n",
       "</tbody></table>\n",
       "</div>\n",
       "</form>\n",
       "</body>"
      ]
     },
     "execution_count": 8,
     "metadata": {},
     "output_type": "execute_result"
    }
   ],
   "source": [
    "soup"
   ]
  },
  {
   "cell_type": "code",
   "execution_count": null,
   "metadata": {},
   "outputs": [],
   "source": [
    "re.findall('<td align=\"center\">(\\d*)</td><td>(.*)</td><td align=\"right\">(\\d*)</td><td align=\"right\">[\\d,]*</td><td align=\"right\">[\\d,]*</td>', str(soup))"
   ]
  },
  {
   "cell_type": "code",
   "execution_count": null,
   "metadata": {},
   "outputs": [],
   "source": [
    "agregar = re.findall('<td align=\"center\">(\\d*)</td><td>(.*)</td><td align=\"right\">(\\d*)</td><td align=\"right\">[\\d,]*</td><td align=\"right\">[\\d,]*</td>', str(soup))"
   ]
  },
  {
   "cell_type": "markdown",
   "metadata": {},
   "source": [
    "**Ideas para la base de datos:**\n",
    "- https://thispointer.com/python-pandas-how-to-add-rows-in-a-dataframe-using-dataframe-append-loc-iloc/"
   ]
  },
  {
   "cell_type": "code",
   "execution_count": null,
   "metadata": {},
   "outputs": [],
   "source": [
    "df_base = pd.DataFrame(columns=['Nivel', 'Concepto', 'Cantidad', 'Departamento', 'Año', 'Clase'])\n",
    "df_base"
   ]
  },
  {
   "cell_type": "code",
   "execution_count": null,
   "metadata": {},
   "outputs": [],
   "source": [
    "agregar_base = pd.DataFrame(agregar, columns = ['Nivel', 'Concepto', 'Cantidad']) \n",
    "agregar_base"
   ]
  },
  {
   "cell_type": "code",
   "execution_count": null,
   "metadata": {},
   "outputs": [],
   "source": [
    "len(agregar_base[\"Nivel\"]) # Esta siempre aparece, para ver cuantos datos son "
   ]
  },
  {
   "cell_type": "code",
   "execution_count": null,
   "metadata": {
    "scrolled": true
   },
   "outputs": [],
   "source": [
    "depto = []\n",
    "for i in range(len(agregar_base[\"Nivel\"])):\n",
    "    depto.append(\"Chocó\")\n",
    "depto"
   ]
  },
  {
   "cell_type": "code",
   "execution_count": null,
   "metadata": {},
   "outputs": [],
   "source": [
    "agregar_base[\"Departamento\"] = depto\n",
    "agregar_base"
   ]
  },
  {
   "cell_type": "code",
   "execution_count": null,
   "metadata": {},
   "outputs": [],
   "source": [
    "anno = []\n",
    "for i in range(len(agregar_base[\"Nivel\"])):\n",
    "    anno.append(\"2003\")\n",
    "anno"
   ]
  },
  {
   "cell_type": "code",
   "execution_count": null,
   "metadata": {},
   "outputs": [],
   "source": [
    "agregar_base[\"Año\"] = anno\n",
    "agregar_base"
   ]
  },
  {
   "cell_type": "code",
   "execution_count": null,
   "metadata": {},
   "outputs": [],
   "source": [
    "clase = []\n",
    "for i in range(len(agregar_base[\"Nivel\"])):\n",
    "    clase.append(\"Capacidad instalada\")\n",
    "clase"
   ]
  },
  {
   "cell_type": "code",
   "execution_count": null,
   "metadata": {},
   "outputs": [],
   "source": [
    "agregar_base[\"Clase\"] = clase\n",
    "agregar_base"
   ]
  },
  {
   "cell_type": "code",
   "execution_count": null,
   "metadata": {},
   "outputs": [],
   "source": [
    "df_base = df_base.append(agregar_base, ignore_index=True, sort=False)"
   ]
  },
  {
   "cell_type": "code",
   "execution_count": null,
   "metadata": {},
   "outputs": [],
   "source": [
    "df_base"
   ]
  },
  {
   "cell_type": "code",
   "execution_count": null,
   "metadata": {},
   "outputs": [],
   "source": [
    "base = base.append(prueba, columns = ['Nivel', 'Concepto', 'Cantidad']) "
   ]
  },
  {
   "cell_type": "markdown",
   "metadata": {},
   "source": [
    "Hasta acá funciona melo!, pero hay que pensar en una forma de hacer que Python sepa que va a trabajar en la otra ventana\n",
    "- Revisar: https://stackoverflow.com/questions/32858434/switch-to-popup-in-python-using-selenium"
   ]
  },
  {
   "cell_type": "code",
   "execution_count": null,
   "metadata": {},
   "outputs": [],
   "source": [
    "vacia = []\n",
    "if len(vacia) == 0:\n",
    "    vacia = [(\"NA\",\"NA\",\"NA\")]\n",
    "vacia"
   ]
  },
  {
   "cell_type": "code",
   "execution_count": null,
   "metadata": {},
   "outputs": [],
   "source": []
  }
 ],
 "metadata": {
  "kernelspec": {
   "display_name": "Python 3",
   "language": "python",
   "name": "python3"
  },
  "language_info": {
   "codemirror_mode": {
    "name": "ipython",
    "version": 3
   },
   "file_extension": ".py",
   "mimetype": "text/x-python",
   "name": "python",
   "nbconvert_exporter": "python",
   "pygments_lexer": "ipython3",
   "version": "3.7.4"
  }
 },
 "nbformat": 4,
 "nbformat_minor": 2
}
