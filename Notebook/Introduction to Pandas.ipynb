{
 "cells": [
  {
   "cell_type": "markdown",
   "metadata": {},
   "source": [
    "## 10 minutes to Pandas"
   ]
  },
  {
   "cell_type": "code",
   "execution_count": 1,
   "metadata": {},
   "outputs": [],
   "source": [
    "import numpy as np\n",
    "import pandas as pd"
   ]
  },
  {
   "cell_type": "code",
   "execution_count": 2,
   "metadata": {},
   "outputs": [],
   "source": [
    "# Vamos a crear una serie. Es decir un vector de números\n",
    "s = pd.Series([1,3,5,np.nan,6,8]) # Note que usamos la fun pd y el método .Series\n",
    "# La sintaxis que se usa es como una lista. .nan es es NA"
   ]
  },
  {
   "cell_type": "code",
   "execution_count": 3,
   "metadata": {},
   "outputs": [
    {
     "data": {
      "text/plain": [
       "0    1.0\n",
       "1    3.0\n",
       "2    5.0\n",
       "3    NaN\n",
       "4    6.0\n",
       "5    8.0\n",
       "dtype: float64"
      ]
     },
     "execution_count": 3,
     "metadata": {},
     "output_type": "execute_result"
    }
   ],
   "source": [
    "s"
   ]
  },
  {
   "cell_type": "code",
   "execution_count": 4,
   "metadata": {},
   "outputs": [],
   "source": [
    "# Vamos a crear un df con fechas.\n",
    "dates = pd.date_range(\"20130101\", periods = 7) #fecha inicial y cuantos periodos más"
   ]
  },
  {
   "cell_type": "code",
   "execution_count": 5,
   "metadata": {},
   "outputs": [
    {
     "data": {
      "text/plain": [
       "DatetimeIndex(['2013-01-01', '2013-01-02', '2013-01-03', '2013-01-04',\n",
       "               '2013-01-05', '2013-01-06', '2013-01-07'],\n",
       "              dtype='datetime64[ns]', freq='D')"
      ]
     },
     "execution_count": 5,
     "metadata": {},
     "output_type": "execute_result"
    }
   ],
   "source": [
    "dates"
   ]
  },
  {
   "cell_type": "code",
   "execution_count": 9,
   "metadata": {},
   "outputs": [],
   "source": [
    "df = pd.DataFrame(np.random.randn(7,4), index = dates, columns = list(\"ABCD\"))\n",
    "# Lo que hace este codigo es crearme un df cuyos valores en filas columnas sean una distribución normal. En cuyas filas vayan las fechas\n"
   ]
  },
  {
   "cell_type": "code",
   "execution_count": 10,
   "metadata": {},
   "outputs": [
    {
     "data": {
      "text/html": [
       "<div>\n",
       "<style scoped>\n",
       "    .dataframe tbody tr th:only-of-type {\n",
       "        vertical-align: middle;\n",
       "    }\n",
       "\n",
       "    .dataframe tbody tr th {\n",
       "        vertical-align: top;\n",
       "    }\n",
       "\n",
       "    .dataframe thead th {\n",
       "        text-align: right;\n",
       "    }\n",
       "</style>\n",
       "<table border=\"1\" class=\"dataframe\">\n",
       "  <thead>\n",
       "    <tr style=\"text-align: right;\">\n",
       "      <th></th>\n",
       "      <th>A</th>\n",
       "      <th>B</th>\n",
       "      <th>C</th>\n",
       "      <th>D</th>\n",
       "    </tr>\n",
       "  </thead>\n",
       "  <tbody>\n",
       "    <tr>\n",
       "      <td>2013-01-01</td>\n",
       "      <td>-0.804211</td>\n",
       "      <td>0.543670</td>\n",
       "      <td>0.029362</td>\n",
       "      <td>-1.014812</td>\n",
       "    </tr>\n",
       "    <tr>\n",
       "      <td>2013-01-02</td>\n",
       "      <td>-1.607454</td>\n",
       "      <td>-2.013982</td>\n",
       "      <td>-0.932116</td>\n",
       "      <td>0.274283</td>\n",
       "    </tr>\n",
       "    <tr>\n",
       "      <td>2013-01-03</td>\n",
       "      <td>-0.340127</td>\n",
       "      <td>0.111824</td>\n",
       "      <td>0.602054</td>\n",
       "      <td>-0.300200</td>\n",
       "    </tr>\n",
       "    <tr>\n",
       "      <td>2013-01-04</td>\n",
       "      <td>0.574136</td>\n",
       "      <td>-0.062247</td>\n",
       "      <td>0.051862</td>\n",
       "      <td>1.412656</td>\n",
       "    </tr>\n",
       "    <tr>\n",
       "      <td>2013-01-05</td>\n",
       "      <td>1.437022</td>\n",
       "      <td>0.366983</td>\n",
       "      <td>0.074115</td>\n",
       "      <td>-0.745942</td>\n",
       "    </tr>\n",
       "    <tr>\n",
       "      <td>2013-01-06</td>\n",
       "      <td>-0.411261</td>\n",
       "      <td>-0.292227</td>\n",
       "      <td>0.854349</td>\n",
       "      <td>0.493675</td>\n",
       "    </tr>\n",
       "    <tr>\n",
       "      <td>2013-01-07</td>\n",
       "      <td>0.860853</td>\n",
       "      <td>-0.200088</td>\n",
       "      <td>-1.597366</td>\n",
       "      <td>0.446899</td>\n",
       "    </tr>\n",
       "  </tbody>\n",
       "</table>\n",
       "</div>"
      ],
      "text/plain": [
       "                   A         B         C         D\n",
       "2013-01-01 -0.804211  0.543670  0.029362 -1.014812\n",
       "2013-01-02 -1.607454 -2.013982 -0.932116  0.274283\n",
       "2013-01-03 -0.340127  0.111824  0.602054 -0.300200\n",
       "2013-01-04  0.574136 -0.062247  0.051862  1.412656\n",
       "2013-01-05  1.437022  0.366983  0.074115 -0.745942\n",
       "2013-01-06 -0.411261 -0.292227  0.854349  0.493675\n",
       "2013-01-07  0.860853 -0.200088 -1.597366  0.446899"
      ]
     },
     "execution_count": 10,
     "metadata": {},
     "output_type": "execute_result"
    }
   ],
   "source": [
    "df"
   ]
  },
  {
   "cell_type": "code",
   "execution_count": 11,
   "metadata": {},
   "outputs": [],
   "source": [
    "# Se pueden trabajar como diccionarios.\n",
    "# Cada llave es una columna.\n",
    "df2 = pd.DataFrame({'A': 1.,\n",
    "                    'B': pd.Timestamp('20130102'), # crea la misma fecha\n",
    "                    'C': pd.Series(1, index=list(range(4)), dtype='float32'), # Para poner el mismo número\n",
    "                    'D': np.array([3] * 4, dtype='int32'), # Para poner el mismo número\n",
    "                    'E': pd.Categorical([\"test\", \"train\", \"test\", \"train\"]), # Difrentes valores\n",
    "                    'F': 'foo'}) # El mismo valor"
   ]
  },
  {
   "cell_type": "code",
   "execution_count": 12,
   "metadata": {},
   "outputs": [
    {
     "data": {
      "text/plain": [
       "A           float64\n",
       "B    datetime64[ns]\n",
       "C           float32\n",
       "D             int32\n",
       "E          category\n",
       "F            object\n",
       "dtype: object"
      ]
     },
     "execution_count": 12,
     "metadata": {},
     "output_type": "execute_result"
    }
   ],
   "source": [
    "df2.dtypes # Es como un describe en Stata. Me dice el tipo de tipos."
   ]
  },
  {
   "cell_type": "markdown",
   "metadata": {},
   "source": [
    "### Visualizar datos"
   ]
  },
  {
   "cell_type": "code",
   "execution_count": 13,
   "metadata": {},
   "outputs": [
    {
     "data": {
      "text/html": [
       "<div>\n",
       "<style scoped>\n",
       "    .dataframe tbody tr th:only-of-type {\n",
       "        vertical-align: middle;\n",
       "    }\n",
       "\n",
       "    .dataframe tbody tr th {\n",
       "        vertical-align: top;\n",
       "    }\n",
       "\n",
       "    .dataframe thead th {\n",
       "        text-align: right;\n",
       "    }\n",
       "</style>\n",
       "<table border=\"1\" class=\"dataframe\">\n",
       "  <thead>\n",
       "    <tr style=\"text-align: right;\">\n",
       "      <th></th>\n",
       "      <th>A</th>\n",
       "      <th>B</th>\n",
       "      <th>C</th>\n",
       "      <th>D</th>\n",
       "    </tr>\n",
       "  </thead>\n",
       "  <tbody>\n",
       "    <tr>\n",
       "      <td>2013-01-01</td>\n",
       "      <td>-0.804211</td>\n",
       "      <td>0.543670</td>\n",
       "      <td>0.029362</td>\n",
       "      <td>-1.014812</td>\n",
       "    </tr>\n",
       "    <tr>\n",
       "      <td>2013-01-02</td>\n",
       "      <td>-1.607454</td>\n",
       "      <td>-2.013982</td>\n",
       "      <td>-0.932116</td>\n",
       "      <td>0.274283</td>\n",
       "    </tr>\n",
       "    <tr>\n",
       "      <td>2013-01-03</td>\n",
       "      <td>-0.340127</td>\n",
       "      <td>0.111824</td>\n",
       "      <td>0.602054</td>\n",
       "      <td>-0.300200</td>\n",
       "    </tr>\n",
       "    <tr>\n",
       "      <td>2013-01-04</td>\n",
       "      <td>0.574136</td>\n",
       "      <td>-0.062247</td>\n",
       "      <td>0.051862</td>\n",
       "      <td>1.412656</td>\n",
       "    </tr>\n",
       "    <tr>\n",
       "      <td>2013-01-05</td>\n",
       "      <td>1.437022</td>\n",
       "      <td>0.366983</td>\n",
       "      <td>0.074115</td>\n",
       "      <td>-0.745942</td>\n",
       "    </tr>\n",
       "  </tbody>\n",
       "</table>\n",
       "</div>"
      ],
      "text/plain": [
       "                   A         B         C         D\n",
       "2013-01-01 -0.804211  0.543670  0.029362 -1.014812\n",
       "2013-01-02 -1.607454 -2.013982 -0.932116  0.274283\n",
       "2013-01-03 -0.340127  0.111824  0.602054 -0.300200\n",
       "2013-01-04  0.574136 -0.062247  0.051862  1.412656\n",
       "2013-01-05  1.437022  0.366983  0.074115 -0.745942"
      ]
     },
     "execution_count": 13,
     "metadata": {},
     "output_type": "execute_result"
    }
   ],
   "source": [
    "df.head() # Los primeros 5 por defecto, pero puedo poner el número que quiera"
   ]
  },
  {
   "cell_type": "code",
   "execution_count": 14,
   "metadata": {},
   "outputs": [
    {
     "data": {
      "text/html": [
       "<div>\n",
       "<style scoped>\n",
       "    .dataframe tbody tr th:only-of-type {\n",
       "        vertical-align: middle;\n",
       "    }\n",
       "\n",
       "    .dataframe tbody tr th {\n",
       "        vertical-align: top;\n",
       "    }\n",
       "\n",
       "    .dataframe thead th {\n",
       "        text-align: right;\n",
       "    }\n",
       "</style>\n",
       "<table border=\"1\" class=\"dataframe\">\n",
       "  <thead>\n",
       "    <tr style=\"text-align: right;\">\n",
       "      <th></th>\n",
       "      <th>A</th>\n",
       "      <th>B</th>\n",
       "      <th>C</th>\n",
       "      <th>D</th>\n",
       "    </tr>\n",
       "  </thead>\n",
       "  <tbody>\n",
       "    <tr>\n",
       "      <td>2013-01-04</td>\n",
       "      <td>0.574136</td>\n",
       "      <td>-0.062247</td>\n",
       "      <td>0.051862</td>\n",
       "      <td>1.412656</td>\n",
       "    </tr>\n",
       "    <tr>\n",
       "      <td>2013-01-05</td>\n",
       "      <td>1.437022</td>\n",
       "      <td>0.366983</td>\n",
       "      <td>0.074115</td>\n",
       "      <td>-0.745942</td>\n",
       "    </tr>\n",
       "    <tr>\n",
       "      <td>2013-01-06</td>\n",
       "      <td>-0.411261</td>\n",
       "      <td>-0.292227</td>\n",
       "      <td>0.854349</td>\n",
       "      <td>0.493675</td>\n",
       "    </tr>\n",
       "    <tr>\n",
       "      <td>2013-01-07</td>\n",
       "      <td>0.860853</td>\n",
       "      <td>-0.200088</td>\n",
       "      <td>-1.597366</td>\n",
       "      <td>0.446899</td>\n",
       "    </tr>\n",
       "  </tbody>\n",
       "</table>\n",
       "</div>"
      ],
      "text/plain": [
       "                   A         B         C         D\n",
       "2013-01-04  0.574136 -0.062247  0.051862  1.412656\n",
       "2013-01-05  1.437022  0.366983  0.074115 -0.745942\n",
       "2013-01-06 -0.411261 -0.292227  0.854349  0.493675\n",
       "2013-01-07  0.860853 -0.200088 -1.597366  0.446899"
      ]
     },
     "execution_count": 14,
     "metadata": {},
     "output_type": "execute_result"
    }
   ],
   "source": [
    "df.tail(4) # Los últimos 4"
   ]
  },
  {
   "cell_type": "code",
   "execution_count": 15,
   "metadata": {},
   "outputs": [
    {
     "data": {
      "text/plain": [
       "DatetimeIndex(['2013-01-01', '2013-01-02', '2013-01-03', '2013-01-04',\n",
       "               '2013-01-05', '2013-01-06', '2013-01-07'],\n",
       "              dtype='datetime64[ns]', freq='D')"
      ]
     },
     "execution_count": 15,
     "metadata": {},
     "output_type": "execute_result"
    }
   ],
   "source": [
    "# ¿Cuáles son las filas? o El nombre de las filas\n",
    "df.index"
   ]
  },
  {
   "cell_type": "code",
   "execution_count": 16,
   "metadata": {},
   "outputs": [
    {
     "data": {
      "text/plain": [
       "Index(['A', 'B', 'C', 'D'], dtype='object')"
      ]
     },
     "execution_count": 16,
     "metadata": {},
     "output_type": "execute_result"
    }
   ],
   "source": [
    "# ¿Cuáles son las columnas? o El nombre de las columnas\n",
    "df.columns"
   ]
  },
  {
   "cell_type": "code",
   "execution_count": 17,
   "metadata": {},
   "outputs": [
    {
     "data": {
      "text/plain": [
       "array([[-0.8042108 ,  0.54367033,  0.02936152, -1.01481168],\n",
       "       [-1.60745401, -2.01398177, -0.93211579,  0.27428338],\n",
       "       [-0.34012737,  0.11182438,  0.60205397, -0.30020042],\n",
       "       [ 0.57413587, -0.06224747,  0.05186226,  1.41265593],\n",
       "       [ 1.43702213,  0.36698279,  0.07411473, -0.74594238],\n",
       "       [-0.41126095, -0.29222653,  0.85434914,  0.49367539],\n",
       "       [ 0.86085285, -0.20008838, -1.59736608,  0.44689909]])"
      ]
     },
     "execution_count": 17,
     "metadata": {},
     "output_type": "execute_result"
    }
   ],
   "source": [
    "# Se pueden pasar los datos de un dataframe a numpy\n",
    "df.to_numpy()"
   ]
  },
  {
   "cell_type": "code",
   "execution_count": 18,
   "metadata": {},
   "outputs": [
    {
     "data": {
      "text/plain": [
       "array([[1.0, Timestamp('2013-01-02 00:00:00'), 1.0, 3, 'test', 'foo'],\n",
       "       [1.0, Timestamp('2013-01-02 00:00:00'), 1.0, 3, 'train', 'foo'],\n",
       "       [1.0, Timestamp('2013-01-02 00:00:00'), 1.0, 3, 'test', 'foo'],\n",
       "       [1.0, Timestamp('2013-01-02 00:00:00'), 1.0, 3, 'train', 'foo']],\n",
       "      dtype=object)"
      ]
     },
     "execution_count": 18,
     "metadata": {},
     "output_type": "execute_result"
    }
   ],
   "source": [
    "df2.to_numpy() # Note que es más grande."
   ]
  },
  {
   "cell_type": "markdown",
   "metadata": {},
   "source": [
    "#### Summary of my data"
   ]
  },
  {
   "cell_type": "code",
   "execution_count": 19,
   "metadata": {},
   "outputs": [
    {
     "data": {
      "text/html": [
       "<div>\n",
       "<style scoped>\n",
       "    .dataframe tbody tr th:only-of-type {\n",
       "        vertical-align: middle;\n",
       "    }\n",
       "\n",
       "    .dataframe tbody tr th {\n",
       "        vertical-align: top;\n",
       "    }\n",
       "\n",
       "    .dataframe thead th {\n",
       "        text-align: right;\n",
       "    }\n",
       "</style>\n",
       "<table border=\"1\" class=\"dataframe\">\n",
       "  <thead>\n",
       "    <tr style=\"text-align: right;\">\n",
       "      <th></th>\n",
       "      <th>A</th>\n",
       "      <th>B</th>\n",
       "      <th>C</th>\n",
       "      <th>D</th>\n",
       "    </tr>\n",
       "  </thead>\n",
       "  <tbody>\n",
       "    <tr>\n",
       "      <td>count</td>\n",
       "      <td>7.000000</td>\n",
       "      <td>7.000000</td>\n",
       "      <td>7.000000</td>\n",
       "      <td>7.000000</td>\n",
       "    </tr>\n",
       "    <tr>\n",
       "      <td>mean</td>\n",
       "      <td>-0.041577</td>\n",
       "      <td>-0.220867</td>\n",
       "      <td>-0.131106</td>\n",
       "      <td>0.080937</td>\n",
       "    </tr>\n",
       "    <tr>\n",
       "      <td>std</td>\n",
       "      <td>1.051912</td>\n",
       "      <td>0.845253</td>\n",
       "      <td>0.856497</td>\n",
       "      <td>0.831144</td>\n",
       "    </tr>\n",
       "    <tr>\n",
       "      <td>min</td>\n",
       "      <td>-1.607454</td>\n",
       "      <td>-2.013982</td>\n",
       "      <td>-1.597366</td>\n",
       "      <td>-1.014812</td>\n",
       "    </tr>\n",
       "    <tr>\n",
       "      <td>25%</td>\n",
       "      <td>-0.607736</td>\n",
       "      <td>-0.246157</td>\n",
       "      <td>-0.451377</td>\n",
       "      <td>-0.523071</td>\n",
       "    </tr>\n",
       "    <tr>\n",
       "      <td>50%</td>\n",
       "      <td>-0.340127</td>\n",
       "      <td>-0.062247</td>\n",
       "      <td>0.051862</td>\n",
       "      <td>0.274283</td>\n",
       "    </tr>\n",
       "    <tr>\n",
       "      <td>75%</td>\n",
       "      <td>0.717494</td>\n",
       "      <td>0.239404</td>\n",
       "      <td>0.338084</td>\n",
       "      <td>0.470287</td>\n",
       "    </tr>\n",
       "    <tr>\n",
       "      <td>max</td>\n",
       "      <td>1.437022</td>\n",
       "      <td>0.543670</td>\n",
       "      <td>0.854349</td>\n",
       "      <td>1.412656</td>\n",
       "    </tr>\n",
       "  </tbody>\n",
       "</table>\n",
       "</div>"
      ],
      "text/plain": [
       "              A         B         C         D\n",
       "count  7.000000  7.000000  7.000000  7.000000\n",
       "mean  -0.041577 -0.220867 -0.131106  0.080937\n",
       "std    1.051912  0.845253  0.856497  0.831144\n",
       "min   -1.607454 -2.013982 -1.597366 -1.014812\n",
       "25%   -0.607736 -0.246157 -0.451377 -0.523071\n",
       "50%   -0.340127 -0.062247  0.051862  0.274283\n",
       "75%    0.717494  0.239404  0.338084  0.470287\n",
       "max    1.437022  0.543670  0.854349  1.412656"
      ]
     },
     "execution_count": 19,
     "metadata": {},
     "output_type": "execute_result"
    }
   ],
   "source": [
    "df.describe() # Estadística descriptiva básica."
   ]
  },
  {
   "cell_type": "code",
   "execution_count": 20,
   "metadata": {},
   "outputs": [
    {
     "data": {
      "text/html": [
       "<div>\n",
       "<style scoped>\n",
       "    .dataframe tbody tr th:only-of-type {\n",
       "        vertical-align: middle;\n",
       "    }\n",
       "\n",
       "    .dataframe tbody tr th {\n",
       "        vertical-align: top;\n",
       "    }\n",
       "\n",
       "    .dataframe thead th {\n",
       "        text-align: right;\n",
       "    }\n",
       "</style>\n",
       "<table border=\"1\" class=\"dataframe\">\n",
       "  <thead>\n",
       "    <tr style=\"text-align: right;\">\n",
       "      <th></th>\n",
       "      <th>2013-01-01</th>\n",
       "      <th>2013-01-02</th>\n",
       "      <th>2013-01-03</th>\n",
       "      <th>2013-01-04</th>\n",
       "      <th>2013-01-05</th>\n",
       "      <th>2013-01-06</th>\n",
       "      <th>2013-01-07</th>\n",
       "    </tr>\n",
       "  </thead>\n",
       "  <tbody>\n",
       "    <tr>\n",
       "      <td>A</td>\n",
       "      <td>-0.804211</td>\n",
       "      <td>-1.607454</td>\n",
       "      <td>-0.340127</td>\n",
       "      <td>0.574136</td>\n",
       "      <td>1.437022</td>\n",
       "      <td>-0.411261</td>\n",
       "      <td>0.860853</td>\n",
       "    </tr>\n",
       "    <tr>\n",
       "      <td>B</td>\n",
       "      <td>0.543670</td>\n",
       "      <td>-2.013982</td>\n",
       "      <td>0.111824</td>\n",
       "      <td>-0.062247</td>\n",
       "      <td>0.366983</td>\n",
       "      <td>-0.292227</td>\n",
       "      <td>-0.200088</td>\n",
       "    </tr>\n",
       "    <tr>\n",
       "      <td>C</td>\n",
       "      <td>0.029362</td>\n",
       "      <td>-0.932116</td>\n",
       "      <td>0.602054</td>\n",
       "      <td>0.051862</td>\n",
       "      <td>0.074115</td>\n",
       "      <td>0.854349</td>\n",
       "      <td>-1.597366</td>\n",
       "    </tr>\n",
       "    <tr>\n",
       "      <td>D</td>\n",
       "      <td>-1.014812</td>\n",
       "      <td>0.274283</td>\n",
       "      <td>-0.300200</td>\n",
       "      <td>1.412656</td>\n",
       "      <td>-0.745942</td>\n",
       "      <td>0.493675</td>\n",
       "      <td>0.446899</td>\n",
       "    </tr>\n",
       "  </tbody>\n",
       "</table>\n",
       "</div>"
      ],
      "text/plain": [
       "   2013-01-01  2013-01-02  2013-01-03  2013-01-04  2013-01-05  2013-01-06  \\\n",
       "A   -0.804211   -1.607454   -0.340127    0.574136    1.437022   -0.411261   \n",
       "B    0.543670   -2.013982    0.111824   -0.062247    0.366983   -0.292227   \n",
       "C    0.029362   -0.932116    0.602054    0.051862    0.074115    0.854349   \n",
       "D   -1.014812    0.274283   -0.300200    1.412656   -0.745942    0.493675   \n",
       "\n",
       "   2013-01-07  \n",
       "A    0.860853  \n",
       "B   -0.200088  \n",
       "C   -1.597366  \n",
       "D    0.446899  "
      ]
     },
     "execution_count": 20,
     "metadata": {},
     "output_type": "execute_result"
    }
   ],
   "source": [
    "# Transponer\n",
    "df.T"
   ]
  },
  {
   "cell_type": "code",
   "execution_count": 21,
   "metadata": {},
   "outputs": [
    {
     "data": {
      "text/html": [
       "<div>\n",
       "<style scoped>\n",
       "    .dataframe tbody tr th:only-of-type {\n",
       "        vertical-align: middle;\n",
       "    }\n",
       "\n",
       "    .dataframe tbody tr th {\n",
       "        vertical-align: top;\n",
       "    }\n",
       "\n",
       "    .dataframe thead th {\n",
       "        text-align: right;\n",
       "    }\n",
       "</style>\n",
       "<table border=\"1\" class=\"dataframe\">\n",
       "  <thead>\n",
       "    <tr style=\"text-align: right;\">\n",
       "      <th></th>\n",
       "      <th>D</th>\n",
       "      <th>C</th>\n",
       "      <th>B</th>\n",
       "      <th>A</th>\n",
       "    </tr>\n",
       "  </thead>\n",
       "  <tbody>\n",
       "    <tr>\n",
       "      <td>2013-01-01</td>\n",
       "      <td>-1.014812</td>\n",
       "      <td>0.029362</td>\n",
       "      <td>0.543670</td>\n",
       "      <td>-0.804211</td>\n",
       "    </tr>\n",
       "    <tr>\n",
       "      <td>2013-01-02</td>\n",
       "      <td>0.274283</td>\n",
       "      <td>-0.932116</td>\n",
       "      <td>-2.013982</td>\n",
       "      <td>-1.607454</td>\n",
       "    </tr>\n",
       "    <tr>\n",
       "      <td>2013-01-03</td>\n",
       "      <td>-0.300200</td>\n",
       "      <td>0.602054</td>\n",
       "      <td>0.111824</td>\n",
       "      <td>-0.340127</td>\n",
       "    </tr>\n",
       "    <tr>\n",
       "      <td>2013-01-04</td>\n",
       "      <td>1.412656</td>\n",
       "      <td>0.051862</td>\n",
       "      <td>-0.062247</td>\n",
       "      <td>0.574136</td>\n",
       "    </tr>\n",
       "    <tr>\n",
       "      <td>2013-01-05</td>\n",
       "      <td>-0.745942</td>\n",
       "      <td>0.074115</td>\n",
       "      <td>0.366983</td>\n",
       "      <td>1.437022</td>\n",
       "    </tr>\n",
       "    <tr>\n",
       "      <td>2013-01-06</td>\n",
       "      <td>0.493675</td>\n",
       "      <td>0.854349</td>\n",
       "      <td>-0.292227</td>\n",
       "      <td>-0.411261</td>\n",
       "    </tr>\n",
       "    <tr>\n",
       "      <td>2013-01-07</td>\n",
       "      <td>0.446899</td>\n",
       "      <td>-1.597366</td>\n",
       "      <td>-0.200088</td>\n",
       "      <td>0.860853</td>\n",
       "    </tr>\n",
       "  </tbody>\n",
       "</table>\n",
       "</div>"
      ],
      "text/plain": [
       "                   D         C         B         A\n",
       "2013-01-01 -1.014812  0.029362  0.543670 -0.804211\n",
       "2013-01-02  0.274283 -0.932116 -2.013982 -1.607454\n",
       "2013-01-03 -0.300200  0.602054  0.111824 -0.340127\n",
       "2013-01-04  1.412656  0.051862 -0.062247  0.574136\n",
       "2013-01-05 -0.745942  0.074115  0.366983  1.437022\n",
       "2013-01-06  0.493675  0.854349 -0.292227 -0.411261\n",
       "2013-01-07  0.446899 -1.597366 -0.200088  0.860853"
      ]
     },
     "execution_count": 21,
     "metadata": {},
     "output_type": "execute_result"
    }
   ],
   "source": [
    "# Ordenera\n",
    "df.sort_index(axis = 1, ascending = False) # 1 para Col 0 para Filas"
   ]
  },
  {
   "cell_type": "code",
   "execution_count": 22,
   "metadata": {},
   "outputs": [
    {
     "data": {
      "text/html": [
       "<div>\n",
       "<style scoped>\n",
       "    .dataframe tbody tr th:only-of-type {\n",
       "        vertical-align: middle;\n",
       "    }\n",
       "\n",
       "    .dataframe tbody tr th {\n",
       "        vertical-align: top;\n",
       "    }\n",
       "\n",
       "    .dataframe thead th {\n",
       "        text-align: right;\n",
       "    }\n",
       "</style>\n",
       "<table border=\"1\" class=\"dataframe\">\n",
       "  <thead>\n",
       "    <tr style=\"text-align: right;\">\n",
       "      <th></th>\n",
       "      <th>A</th>\n",
       "      <th>B</th>\n",
       "      <th>C</th>\n",
       "      <th>D</th>\n",
       "    </tr>\n",
       "  </thead>\n",
       "  <tbody>\n",
       "    <tr>\n",
       "      <td>2013-01-02</td>\n",
       "      <td>-1.607454</td>\n",
       "      <td>-2.013982</td>\n",
       "      <td>-0.932116</td>\n",
       "      <td>0.274283</td>\n",
       "    </tr>\n",
       "    <tr>\n",
       "      <td>2013-01-06</td>\n",
       "      <td>-0.411261</td>\n",
       "      <td>-0.292227</td>\n",
       "      <td>0.854349</td>\n",
       "      <td>0.493675</td>\n",
       "    </tr>\n",
       "    <tr>\n",
       "      <td>2013-01-07</td>\n",
       "      <td>0.860853</td>\n",
       "      <td>-0.200088</td>\n",
       "      <td>-1.597366</td>\n",
       "      <td>0.446899</td>\n",
       "    </tr>\n",
       "    <tr>\n",
       "      <td>2013-01-04</td>\n",
       "      <td>0.574136</td>\n",
       "      <td>-0.062247</td>\n",
       "      <td>0.051862</td>\n",
       "      <td>1.412656</td>\n",
       "    </tr>\n",
       "    <tr>\n",
       "      <td>2013-01-03</td>\n",
       "      <td>-0.340127</td>\n",
       "      <td>0.111824</td>\n",
       "      <td>0.602054</td>\n",
       "      <td>-0.300200</td>\n",
       "    </tr>\n",
       "    <tr>\n",
       "      <td>2013-01-05</td>\n",
       "      <td>1.437022</td>\n",
       "      <td>0.366983</td>\n",
       "      <td>0.074115</td>\n",
       "      <td>-0.745942</td>\n",
       "    </tr>\n",
       "    <tr>\n",
       "      <td>2013-01-01</td>\n",
       "      <td>-0.804211</td>\n",
       "      <td>0.543670</td>\n",
       "      <td>0.029362</td>\n",
       "      <td>-1.014812</td>\n",
       "    </tr>\n",
       "  </tbody>\n",
       "</table>\n",
       "</div>"
      ],
      "text/plain": [
       "                   A         B         C         D\n",
       "2013-01-02 -1.607454 -2.013982 -0.932116  0.274283\n",
       "2013-01-06 -0.411261 -0.292227  0.854349  0.493675\n",
       "2013-01-07  0.860853 -0.200088 -1.597366  0.446899\n",
       "2013-01-04  0.574136 -0.062247  0.051862  1.412656\n",
       "2013-01-03 -0.340127  0.111824  0.602054 -0.300200\n",
       "2013-01-05  1.437022  0.366983  0.074115 -0.745942\n",
       "2013-01-01 -0.804211  0.543670  0.029362 -1.014812"
      ]
     },
     "execution_count": 22,
     "metadata": {},
     "output_type": "execute_result"
    }
   ],
   "source": [
    "df.sort_values(by='B') # Por defecto lo hacer ascendente"
   ]
  },
  {
   "cell_type": "markdown",
   "metadata": {},
   "source": [
    "### Seleccionar"
   ]
  },
  {
   "cell_type": "code",
   "execution_count": 23,
   "metadata": {},
   "outputs": [
    {
     "data": {
      "text/plain": [
       "2013-01-01   -0.804211\n",
       "2013-01-02   -1.607454\n",
       "2013-01-03   -0.340127\n",
       "2013-01-04    0.574136\n",
       "2013-01-05    1.437022\n",
       "2013-01-06   -0.411261\n",
       "2013-01-07    0.860853\n",
       "Freq: D, Name: A, dtype: float64"
      ]
     },
     "execution_count": 23,
     "metadata": {},
     "output_type": "execute_result"
    }
   ],
   "source": [
    "df[\"A\"] # El indice siempre se queda, lo que vamos a seleccionar son las otras columnas."
   ]
  },
  {
   "cell_type": "code",
   "execution_count": 25,
   "metadata": {},
   "outputs": [
    {
     "data": {
      "text/html": [
       "<div>\n",
       "<style scoped>\n",
       "    .dataframe tbody tr th:only-of-type {\n",
       "        vertical-align: middle;\n",
       "    }\n",
       "\n",
       "    .dataframe tbody tr th {\n",
       "        vertical-align: top;\n",
       "    }\n",
       "\n",
       "    .dataframe thead th {\n",
       "        text-align: right;\n",
       "    }\n",
       "</style>\n",
       "<table border=\"1\" class=\"dataframe\">\n",
       "  <thead>\n",
       "    <tr style=\"text-align: right;\">\n",
       "      <th></th>\n",
       "      <th>A</th>\n",
       "      <th>B</th>\n",
       "      <th>C</th>\n",
       "      <th>D</th>\n",
       "    </tr>\n",
       "  </thead>\n",
       "  <tbody>\n",
       "    <tr>\n",
       "      <td>2013-01-01</td>\n",
       "      <td>-0.804211</td>\n",
       "      <td>0.543670</td>\n",
       "      <td>0.029362</td>\n",
       "      <td>-1.014812</td>\n",
       "    </tr>\n",
       "    <tr>\n",
       "      <td>2013-01-02</td>\n",
       "      <td>-1.607454</td>\n",
       "      <td>-2.013982</td>\n",
       "      <td>-0.932116</td>\n",
       "      <td>0.274283</td>\n",
       "    </tr>\n",
       "    <tr>\n",
       "      <td>2013-01-03</td>\n",
       "      <td>-0.340127</td>\n",
       "      <td>0.111824</td>\n",
       "      <td>0.602054</td>\n",
       "      <td>-0.300200</td>\n",
       "    </tr>\n",
       "  </tbody>\n",
       "</table>\n",
       "</div>"
      ],
      "text/plain": [
       "                   A         B         C         D\n",
       "2013-01-01 -0.804211  0.543670  0.029362 -1.014812\n",
       "2013-01-02 -1.607454 -2.013982 -0.932116  0.274283\n",
       "2013-01-03 -0.340127  0.111824  0.602054 -0.300200"
      ]
     },
     "execution_count": 25,
     "metadata": {},
     "output_type": "execute_result"
    }
   ],
   "source": [
    "df[0:3] # Filas. "
   ]
  },
  {
   "cell_type": "code",
   "execution_count": 26,
   "metadata": {},
   "outputs": [
    {
     "data": {
      "text/plain": [
       "A   -0.804211\n",
       "B    0.543670\n",
       "C    0.029362\n",
       "D   -1.014812\n",
       "Name: 2013-01-01 00:00:00, dtype: float64"
      ]
     },
     "execution_count": 26,
     "metadata": {},
     "output_type": "execute_result"
    }
   ],
   "source": [
    "df.loc[dates[0]] # Todos los valores cuando dates[0]"
   ]
  },
  {
   "cell_type": "code",
   "execution_count": 28,
   "metadata": {},
   "outputs": [
    {
     "data": {
      "text/html": [
       "<div>\n",
       "<style scoped>\n",
       "    .dataframe tbody tr th:only-of-type {\n",
       "        vertical-align: middle;\n",
       "    }\n",
       "\n",
       "    .dataframe tbody tr th {\n",
       "        vertical-align: top;\n",
       "    }\n",
       "\n",
       "    .dataframe thead th {\n",
       "        text-align: right;\n",
       "    }\n",
       "</style>\n",
       "<table border=\"1\" class=\"dataframe\">\n",
       "  <thead>\n",
       "    <tr style=\"text-align: right;\">\n",
       "      <th></th>\n",
       "      <th>A</th>\n",
       "      <th>B</th>\n",
       "    </tr>\n",
       "  </thead>\n",
       "  <tbody>\n",
       "    <tr>\n",
       "      <td>2013-01-02</td>\n",
       "      <td>-1.607454</td>\n",
       "      <td>-2.013982</td>\n",
       "    </tr>\n",
       "    <tr>\n",
       "      <td>2013-01-03</td>\n",
       "      <td>-0.340127</td>\n",
       "      <td>0.111824</td>\n",
       "    </tr>\n",
       "    <tr>\n",
       "      <td>2013-01-04</td>\n",
       "      <td>0.574136</td>\n",
       "      <td>-0.062247</td>\n",
       "    </tr>\n",
       "  </tbody>\n",
       "</table>\n",
       "</div>"
      ],
      "text/plain": [
       "                   A         B\n",
       "2013-01-02 -1.607454 -2.013982\n",
       "2013-01-03 -0.340127  0.111824\n",
       "2013-01-04  0.574136 -0.062247"
      ]
     },
     "execution_count": 28,
     "metadata": {},
     "output_type": "execute_result"
    }
   ],
   "source": [
    " df.loc['20130102':'20130104', ['A', 'B']]"
   ]
  },
  {
   "cell_type": "code",
   "execution_count": 29,
   "metadata": {},
   "outputs": [
    {
     "data": {
      "text/plain": [
       "A   -1.607454\n",
       "B   -2.013982\n",
       "Name: 2013-01-02 00:00:00, dtype: float64"
      ]
     },
     "execution_count": 29,
     "metadata": {},
     "output_type": "execute_result"
    }
   ],
   "source": [
    "df.loc['20130102', ['A', 'B']]"
   ]
  },
  {
   "cell_type": "code",
   "execution_count": 30,
   "metadata": {},
   "outputs": [
    {
     "data": {
      "text/html": [
       "<div>\n",
       "<style scoped>\n",
       "    .dataframe tbody tr th:only-of-type {\n",
       "        vertical-align: middle;\n",
       "    }\n",
       "\n",
       "    .dataframe tbody tr th {\n",
       "        vertical-align: top;\n",
       "    }\n",
       "\n",
       "    .dataframe thead th {\n",
       "        text-align: right;\n",
       "    }\n",
       "</style>\n",
       "<table border=\"1\" class=\"dataframe\">\n",
       "  <thead>\n",
       "    <tr style=\"text-align: right;\">\n",
       "      <th></th>\n",
       "      <th>A</th>\n",
       "      <th>B</th>\n",
       "    </tr>\n",
       "  </thead>\n",
       "  <tbody>\n",
       "    <tr>\n",
       "      <td>2013-01-04</td>\n",
       "      <td>0.574136</td>\n",
       "      <td>-0.062247</td>\n",
       "    </tr>\n",
       "    <tr>\n",
       "      <td>2013-01-05</td>\n",
       "      <td>1.437022</td>\n",
       "      <td>0.366983</td>\n",
       "    </tr>\n",
       "  </tbody>\n",
       "</table>\n",
       "</div>"
      ],
      "text/plain": [
       "                   A         B\n",
       "2013-01-04  0.574136 -0.062247\n",
       "2013-01-05  1.437022  0.366983"
      ]
     },
     "execution_count": 30,
     "metadata": {},
     "output_type": "execute_result"
    }
   ],
   "source": [
    "# Seleccionar por posición\n",
    "df.iloc[3:5,0:2]"
   ]
  },
  {
   "cell_type": "code",
   "execution_count": 34,
   "metadata": {},
   "outputs": [
    {
     "data": {
      "text/html": [
       "<div>\n",
       "<style scoped>\n",
       "    .dataframe tbody tr th:only-of-type {\n",
       "        vertical-align: middle;\n",
       "    }\n",
       "\n",
       "    .dataframe tbody tr th {\n",
       "        vertical-align: top;\n",
       "    }\n",
       "\n",
       "    .dataframe thead th {\n",
       "        text-align: right;\n",
       "    }\n",
       "</style>\n",
       "<table border=\"1\" class=\"dataframe\">\n",
       "  <thead>\n",
       "    <tr style=\"text-align: right;\">\n",
       "      <th></th>\n",
       "      <th>A</th>\n",
       "      <th>B</th>\n",
       "      <th>C</th>\n",
       "      <th>D</th>\n",
       "    </tr>\n",
       "  </thead>\n",
       "  <tbody>\n",
       "    <tr>\n",
       "      <td>2013-01-04</td>\n",
       "      <td>0.574136</td>\n",
       "      <td>-0.062247</td>\n",
       "      <td>0.051862</td>\n",
       "      <td>1.412656</td>\n",
       "    </tr>\n",
       "  </tbody>\n",
       "</table>\n",
       "</div>"
      ],
      "text/plain": [
       "                   A         B         C         D\n",
       "2013-01-04  0.574136 -0.062247  0.051862  1.412656"
      ]
     },
     "execution_count": 34,
     "metadata": {},
     "output_type": "execute_result"
    }
   ],
   "source": [
    "df.iloc[3:4]"
   ]
  },
  {
   "cell_type": "code",
   "execution_count": 35,
   "metadata": {},
   "outputs": [
    {
     "data": {
      "text/html": [
       "<div>\n",
       "<style scoped>\n",
       "    .dataframe tbody tr th:only-of-type {\n",
       "        vertical-align: middle;\n",
       "    }\n",
       "\n",
       "    .dataframe tbody tr th {\n",
       "        vertical-align: top;\n",
       "    }\n",
       "\n",
       "    .dataframe thead th {\n",
       "        text-align: right;\n",
       "    }\n",
       "</style>\n",
       "<table border=\"1\" class=\"dataframe\">\n",
       "  <thead>\n",
       "    <tr style=\"text-align: right;\">\n",
       "      <th></th>\n",
       "      <th>A</th>\n",
       "      <th>C</th>\n",
       "    </tr>\n",
       "  </thead>\n",
       "  <tbody>\n",
       "    <tr>\n",
       "      <td>2013-01-02</td>\n",
       "      <td>-1.607454</td>\n",
       "      <td>-0.932116</td>\n",
       "    </tr>\n",
       "    <tr>\n",
       "      <td>2013-01-03</td>\n",
       "      <td>-0.340127</td>\n",
       "      <td>0.602054</td>\n",
       "    </tr>\n",
       "    <tr>\n",
       "      <td>2013-01-05</td>\n",
       "      <td>1.437022</td>\n",
       "      <td>0.074115</td>\n",
       "    </tr>\n",
       "  </tbody>\n",
       "</table>\n",
       "</div>"
      ],
      "text/plain": [
       "                   A         C\n",
       "2013-01-02 -1.607454 -0.932116\n",
       "2013-01-03 -0.340127  0.602054\n",
       "2013-01-05  1.437022  0.074115"
      ]
     },
     "execution_count": 35,
     "metadata": {},
     "output_type": "execute_result"
    }
   ],
   "source": [
    "df.iloc[[1, 2, 4], [0, 2]]"
   ]
  },
  {
   "cell_type": "code",
   "execution_count": 36,
   "metadata": {},
   "outputs": [
    {
     "data": {
      "text/html": [
       "<div>\n",
       "<style scoped>\n",
       "    .dataframe tbody tr th:only-of-type {\n",
       "        vertical-align: middle;\n",
       "    }\n",
       "\n",
       "    .dataframe tbody tr th {\n",
       "        vertical-align: top;\n",
       "    }\n",
       "\n",
       "    .dataframe thead th {\n",
       "        text-align: right;\n",
       "    }\n",
       "</style>\n",
       "<table border=\"1\" class=\"dataframe\">\n",
       "  <thead>\n",
       "    <tr style=\"text-align: right;\">\n",
       "      <th></th>\n",
       "      <th>A</th>\n",
       "      <th>B</th>\n",
       "      <th>C</th>\n",
       "      <th>D</th>\n",
       "    </tr>\n",
       "  </thead>\n",
       "  <tbody>\n",
       "    <tr>\n",
       "      <td>2013-01-02</td>\n",
       "      <td>-1.607454</td>\n",
       "      <td>-2.013982</td>\n",
       "      <td>-0.932116</td>\n",
       "      <td>0.274283</td>\n",
       "    </tr>\n",
       "    <tr>\n",
       "      <td>2013-01-03</td>\n",
       "      <td>-0.340127</td>\n",
       "      <td>0.111824</td>\n",
       "      <td>0.602054</td>\n",
       "      <td>-0.300200</td>\n",
       "    </tr>\n",
       "  </tbody>\n",
       "</table>\n",
       "</div>"
      ],
      "text/plain": [
       "                   A         B         C         D\n",
       "2013-01-02 -1.607454 -2.013982 -0.932116  0.274283\n",
       "2013-01-03 -0.340127  0.111824  0.602054 -0.300200"
      ]
     },
     "execution_count": 36,
     "metadata": {},
     "output_type": "execute_result"
    }
   ],
   "source": [
    "df.iloc[1:3, :]"
   ]
  },
  {
   "cell_type": "code",
   "execution_count": 37,
   "metadata": {},
   "outputs": [
    {
     "data": {
      "text/html": [
       "<div>\n",
       "<style scoped>\n",
       "    .dataframe tbody tr th:only-of-type {\n",
       "        vertical-align: middle;\n",
       "    }\n",
       "\n",
       "    .dataframe tbody tr th {\n",
       "        vertical-align: top;\n",
       "    }\n",
       "\n",
       "    .dataframe thead th {\n",
       "        text-align: right;\n",
       "    }\n",
       "</style>\n",
       "<table border=\"1\" class=\"dataframe\">\n",
       "  <thead>\n",
       "    <tr style=\"text-align: right;\">\n",
       "      <th></th>\n",
       "      <th>B</th>\n",
       "      <th>C</th>\n",
       "    </tr>\n",
       "  </thead>\n",
       "  <tbody>\n",
       "    <tr>\n",
       "      <td>2013-01-01</td>\n",
       "      <td>0.543670</td>\n",
       "      <td>0.029362</td>\n",
       "    </tr>\n",
       "    <tr>\n",
       "      <td>2013-01-02</td>\n",
       "      <td>-2.013982</td>\n",
       "      <td>-0.932116</td>\n",
       "    </tr>\n",
       "    <tr>\n",
       "      <td>2013-01-03</td>\n",
       "      <td>0.111824</td>\n",
       "      <td>0.602054</td>\n",
       "    </tr>\n",
       "    <tr>\n",
       "      <td>2013-01-04</td>\n",
       "      <td>-0.062247</td>\n",
       "      <td>0.051862</td>\n",
       "    </tr>\n",
       "    <tr>\n",
       "      <td>2013-01-05</td>\n",
       "      <td>0.366983</td>\n",
       "      <td>0.074115</td>\n",
       "    </tr>\n",
       "    <tr>\n",
       "      <td>2013-01-06</td>\n",
       "      <td>-0.292227</td>\n",
       "      <td>0.854349</td>\n",
       "    </tr>\n",
       "    <tr>\n",
       "      <td>2013-01-07</td>\n",
       "      <td>-0.200088</td>\n",
       "      <td>-1.597366</td>\n",
       "    </tr>\n",
       "  </tbody>\n",
       "</table>\n",
       "</div>"
      ],
      "text/plain": [
       "                   B         C\n",
       "2013-01-01  0.543670  0.029362\n",
       "2013-01-02 -2.013982 -0.932116\n",
       "2013-01-03  0.111824  0.602054\n",
       "2013-01-04 -0.062247  0.051862\n",
       "2013-01-05  0.366983  0.074115\n",
       "2013-01-06 -0.292227  0.854349\n",
       "2013-01-07 -0.200088 -1.597366"
      ]
     },
     "execution_count": 37,
     "metadata": {},
     "output_type": "execute_result"
    }
   ],
   "source": [
    "df.iloc[:, 1:3]"
   ]
  },
  {
   "cell_type": "code",
   "execution_count": 38,
   "metadata": {},
   "outputs": [
    {
     "data": {
      "text/plain": [
       "-2.013981772509375"
      ]
     },
     "execution_count": 38,
     "metadata": {},
     "output_type": "execute_result"
    }
   ],
   "source": [
    "df.iloc[1, 1]"
   ]
  },
  {
   "cell_type": "code",
   "execution_count": 39,
   "metadata": {},
   "outputs": [
    {
     "data": {
      "text/plain": [
       "-2.013981772509375"
      ]
     },
     "execution_count": 39,
     "metadata": {},
     "output_type": "execute_result"
    }
   ],
   "source": [
    "df.iat[1, 1]"
   ]
  },
  {
   "cell_type": "code",
   "execution_count": 40,
   "metadata": {},
   "outputs": [
    {
     "data": {
      "text/html": [
       "<div>\n",
       "<style scoped>\n",
       "    .dataframe tbody tr th:only-of-type {\n",
       "        vertical-align: middle;\n",
       "    }\n",
       "\n",
       "    .dataframe tbody tr th {\n",
       "        vertical-align: top;\n",
       "    }\n",
       "\n",
       "    .dataframe thead th {\n",
       "        text-align: right;\n",
       "    }\n",
       "</style>\n",
       "<table border=\"1\" class=\"dataframe\">\n",
       "  <thead>\n",
       "    <tr style=\"text-align: right;\">\n",
       "      <th></th>\n",
       "      <th>A</th>\n",
       "      <th>B</th>\n",
       "      <th>C</th>\n",
       "      <th>D</th>\n",
       "    </tr>\n",
       "  </thead>\n",
       "  <tbody>\n",
       "    <tr>\n",
       "      <td>2013-01-04</td>\n",
       "      <td>0.574136</td>\n",
       "      <td>-0.062247</td>\n",
       "      <td>0.051862</td>\n",
       "      <td>1.412656</td>\n",
       "    </tr>\n",
       "    <tr>\n",
       "      <td>2013-01-05</td>\n",
       "      <td>1.437022</td>\n",
       "      <td>0.366983</td>\n",
       "      <td>0.074115</td>\n",
       "      <td>-0.745942</td>\n",
       "    </tr>\n",
       "    <tr>\n",
       "      <td>2013-01-07</td>\n",
       "      <td>0.860853</td>\n",
       "      <td>-0.200088</td>\n",
       "      <td>-1.597366</td>\n",
       "      <td>0.446899</td>\n",
       "    </tr>\n",
       "  </tbody>\n",
       "</table>\n",
       "</div>"
      ],
      "text/plain": [
       "                   A         B         C         D\n",
       "2013-01-04  0.574136 -0.062247  0.051862  1.412656\n",
       "2013-01-05  1.437022  0.366983  0.074115 -0.745942\n",
       "2013-01-07  0.860853 -0.200088 -1.597366  0.446899"
      ]
     },
     "execution_count": 40,
     "metadata": {},
     "output_type": "execute_result"
    }
   ],
   "source": [
    "# Condicionales\n",
    "df[df['A'] > 0] # Me muestra los que son > en A"
   ]
  },
  {
   "cell_type": "code",
   "execution_count": 41,
   "metadata": {},
   "outputs": [
    {
     "data": {
      "text/html": [
       "<div>\n",
       "<style scoped>\n",
       "    .dataframe tbody tr th:only-of-type {\n",
       "        vertical-align: middle;\n",
       "    }\n",
       "\n",
       "    .dataframe tbody tr th {\n",
       "        vertical-align: top;\n",
       "    }\n",
       "\n",
       "    .dataframe thead th {\n",
       "        text-align: right;\n",
       "    }\n",
       "</style>\n",
       "<table border=\"1\" class=\"dataframe\">\n",
       "  <thead>\n",
       "    <tr style=\"text-align: right;\">\n",
       "      <th></th>\n",
       "      <th>A</th>\n",
       "      <th>B</th>\n",
       "      <th>C</th>\n",
       "      <th>D</th>\n",
       "    </tr>\n",
       "  </thead>\n",
       "  <tbody>\n",
       "    <tr>\n",
       "      <td>2013-01-01</td>\n",
       "      <td>NaN</td>\n",
       "      <td>0.543670</td>\n",
       "      <td>0.029362</td>\n",
       "      <td>NaN</td>\n",
       "    </tr>\n",
       "    <tr>\n",
       "      <td>2013-01-02</td>\n",
       "      <td>NaN</td>\n",
       "      <td>NaN</td>\n",
       "      <td>NaN</td>\n",
       "      <td>0.274283</td>\n",
       "    </tr>\n",
       "    <tr>\n",
       "      <td>2013-01-03</td>\n",
       "      <td>NaN</td>\n",
       "      <td>0.111824</td>\n",
       "      <td>0.602054</td>\n",
       "      <td>NaN</td>\n",
       "    </tr>\n",
       "    <tr>\n",
       "      <td>2013-01-04</td>\n",
       "      <td>0.574136</td>\n",
       "      <td>NaN</td>\n",
       "      <td>0.051862</td>\n",
       "      <td>1.412656</td>\n",
       "    </tr>\n",
       "    <tr>\n",
       "      <td>2013-01-05</td>\n",
       "      <td>1.437022</td>\n",
       "      <td>0.366983</td>\n",
       "      <td>0.074115</td>\n",
       "      <td>NaN</td>\n",
       "    </tr>\n",
       "    <tr>\n",
       "      <td>2013-01-06</td>\n",
       "      <td>NaN</td>\n",
       "      <td>NaN</td>\n",
       "      <td>0.854349</td>\n",
       "      <td>0.493675</td>\n",
       "    </tr>\n",
       "    <tr>\n",
       "      <td>2013-01-07</td>\n",
       "      <td>0.860853</td>\n",
       "      <td>NaN</td>\n",
       "      <td>NaN</td>\n",
       "      <td>0.446899</td>\n",
       "    </tr>\n",
       "  </tbody>\n",
       "</table>\n",
       "</div>"
      ],
      "text/plain": [
       "                   A         B         C         D\n",
       "2013-01-01       NaN  0.543670  0.029362       NaN\n",
       "2013-01-02       NaN       NaN       NaN  0.274283\n",
       "2013-01-03       NaN  0.111824  0.602054       NaN\n",
       "2013-01-04  0.574136       NaN  0.051862  1.412656\n",
       "2013-01-05  1.437022  0.366983  0.074115       NaN\n",
       "2013-01-06       NaN       NaN  0.854349  0.493675\n",
       "2013-01-07  0.860853       NaN       NaN  0.446899"
      ]
     },
     "execution_count": 41,
     "metadata": {},
     "output_type": "execute_result"
    }
   ],
   "source": [
    "df[df > 0] # Solo aparecen los de la base de datos, el resto Na"
   ]
  },
  {
   "cell_type": "code",
   "execution_count": 44,
   "metadata": {},
   "outputs": [
    {
     "data": {
      "text/html": [
       "<div>\n",
       "<style scoped>\n",
       "    .dataframe tbody tr th:only-of-type {\n",
       "        vertical-align: middle;\n",
       "    }\n",
       "\n",
       "    .dataframe tbody tr th {\n",
       "        vertical-align: top;\n",
       "    }\n",
       "\n",
       "    .dataframe thead th {\n",
       "        text-align: right;\n",
       "    }\n",
       "</style>\n",
       "<table border=\"1\" class=\"dataframe\">\n",
       "  <thead>\n",
       "    <tr style=\"text-align: right;\">\n",
       "      <th></th>\n",
       "      <th>A</th>\n",
       "      <th>B</th>\n",
       "      <th>C</th>\n",
       "      <th>D</th>\n",
       "      <th>E</th>\n",
       "    </tr>\n",
       "  </thead>\n",
       "  <tbody>\n",
       "    <tr>\n",
       "      <td>2013-01-01</td>\n",
       "      <td>-0.804211</td>\n",
       "      <td>0.543670</td>\n",
       "      <td>0.029362</td>\n",
       "      <td>-1.014812</td>\n",
       "      <td>one</td>\n",
       "    </tr>\n",
       "    <tr>\n",
       "      <td>2013-01-02</td>\n",
       "      <td>-1.607454</td>\n",
       "      <td>-2.013982</td>\n",
       "      <td>-0.932116</td>\n",
       "      <td>0.274283</td>\n",
       "      <td>one</td>\n",
       "    </tr>\n",
       "    <tr>\n",
       "      <td>2013-01-03</td>\n",
       "      <td>-0.340127</td>\n",
       "      <td>0.111824</td>\n",
       "      <td>0.602054</td>\n",
       "      <td>-0.300200</td>\n",
       "      <td>two</td>\n",
       "    </tr>\n",
       "    <tr>\n",
       "      <td>2013-01-04</td>\n",
       "      <td>0.574136</td>\n",
       "      <td>-0.062247</td>\n",
       "      <td>0.051862</td>\n",
       "      <td>1.412656</td>\n",
       "      <td>three</td>\n",
       "    </tr>\n",
       "    <tr>\n",
       "      <td>2013-01-05</td>\n",
       "      <td>1.437022</td>\n",
       "      <td>0.366983</td>\n",
       "      <td>0.074115</td>\n",
       "      <td>-0.745942</td>\n",
       "      <td>four</td>\n",
       "    </tr>\n",
       "    <tr>\n",
       "      <td>2013-01-06</td>\n",
       "      <td>-0.411261</td>\n",
       "      <td>-0.292227</td>\n",
       "      <td>0.854349</td>\n",
       "      <td>0.493675</td>\n",
       "      <td>three</td>\n",
       "    </tr>\n",
       "    <tr>\n",
       "      <td>2013-01-07</td>\n",
       "      <td>0.860853</td>\n",
       "      <td>-0.200088</td>\n",
       "      <td>-1.597366</td>\n",
       "      <td>0.446899</td>\n",
       "      <td>five</td>\n",
       "    </tr>\n",
       "  </tbody>\n",
       "</table>\n",
       "</div>"
      ],
      "text/plain": [
       "                   A         B         C         D      E\n",
       "2013-01-01 -0.804211  0.543670  0.029362 -1.014812    one\n",
       "2013-01-02 -1.607454 -2.013982 -0.932116  0.274283    one\n",
       "2013-01-03 -0.340127  0.111824  0.602054 -0.300200    two\n",
       "2013-01-04  0.574136 -0.062247  0.051862  1.412656  three\n",
       "2013-01-05  1.437022  0.366983  0.074115 -0.745942   four\n",
       "2013-01-06 -0.411261 -0.292227  0.854349  0.493675  three\n",
       "2013-01-07  0.860853 -0.200088 -1.597366  0.446899   five"
      ]
     },
     "execution_count": 44,
     "metadata": {},
     "output_type": "execute_result"
    }
   ],
   "source": [
    "df2 = df.copy()\n",
    "df2['E'] = ['one', 'one', 'two', 'three', 'four', 'three',\"five\"]\n",
    "df2"
   ]
  },
  {
   "cell_type": "code",
   "execution_count": 45,
   "metadata": {},
   "outputs": [
    {
     "data": {
      "text/html": [
       "<div>\n",
       "<style scoped>\n",
       "    .dataframe tbody tr th:only-of-type {\n",
       "        vertical-align: middle;\n",
       "    }\n",
       "\n",
       "    .dataframe tbody tr th {\n",
       "        vertical-align: top;\n",
       "    }\n",
       "\n",
       "    .dataframe thead th {\n",
       "        text-align: right;\n",
       "    }\n",
       "</style>\n",
       "<table border=\"1\" class=\"dataframe\">\n",
       "  <thead>\n",
       "    <tr style=\"text-align: right;\">\n",
       "      <th></th>\n",
       "      <th>A</th>\n",
       "      <th>B</th>\n",
       "      <th>C</th>\n",
       "      <th>D</th>\n",
       "      <th>E</th>\n",
       "    </tr>\n",
       "  </thead>\n",
       "  <tbody>\n",
       "    <tr>\n",
       "      <td>2013-01-03</td>\n",
       "      <td>-0.340127</td>\n",
       "      <td>0.111824</td>\n",
       "      <td>0.602054</td>\n",
       "      <td>-0.300200</td>\n",
       "      <td>two</td>\n",
       "    </tr>\n",
       "    <tr>\n",
       "      <td>2013-01-05</td>\n",
       "      <td>1.437022</td>\n",
       "      <td>0.366983</td>\n",
       "      <td>0.074115</td>\n",
       "      <td>-0.745942</td>\n",
       "      <td>four</td>\n",
       "    </tr>\n",
       "  </tbody>\n",
       "</table>\n",
       "</div>"
      ],
      "text/plain": [
       "                   A         B         C         D     E\n",
       "2013-01-03 -0.340127  0.111824  0.602054 -0.300200   two\n",
       "2013-01-05  1.437022  0.366983  0.074115 -0.745942  four"
      ]
     },
     "execution_count": 45,
     "metadata": {},
     "output_type": "execute_result"
    }
   ],
   "source": [
    "df2[df2['E'].isin(['two', 'four'])] # Si la columna E es igual a _ _"
   ]
  },
  {
   "cell_type": "code",
   "execution_count": 46,
   "metadata": {},
   "outputs": [],
   "source": [
    "df.at[dates[0], 'A'] = 0 # Cambiar valores"
   ]
  },
  {
   "cell_type": "code",
   "execution_count": 47,
   "metadata": {},
   "outputs": [],
   "source": [
    "df.iat[0, 1] = 0"
   ]
  },
  {
   "cell_type": "code",
   "execution_count": null,
   "metadata": {},
   "outputs": [],
   "source": []
  }
 ],
 "metadata": {
  "kernelspec": {
   "display_name": "Python 3",
   "language": "python",
   "name": "python3"
  },
  "language_info": {
   "codemirror_mode": {
    "name": "ipython",
    "version": 3
   },
   "file_extension": ".py",
   "mimetype": "text/x-python",
   "name": "python",
   "nbconvert_exporter": "python",
   "pygments_lexer": "ipython3",
   "version": "3.7.4"
  }
 },
 "nbformat": 4,
 "nbformat_minor": 2
}
