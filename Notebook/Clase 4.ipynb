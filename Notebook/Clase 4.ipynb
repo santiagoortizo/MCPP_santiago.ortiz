{
 "cells": [
  {
   "cell_type": "markdown",
   "metadata": {},
   "source": [
    "# FUNCIONES"
   ]
  },
  {
   "cell_type": "markdown",
   "metadata": {},
   "source": [
    "Sirven para evitar duplicidad en el código (acortar y simplificar)"
   ]
  },
  {
   "cell_type": "code",
   "execution_count": 1,
   "metadata": {},
   "outputs": [],
   "source": [
    "#El comando def para definir, luego el nombre de la función y los argumentos.\n",
    "\n",
    "def multiply(a, b):\n",
    "    n = a * b\n",
    "    print(n) # Muestra n en pantalla,, solo imprime. "
   ]
  },
  {
   "cell_type": "code",
   "execution_count": 2,
   "metadata": {},
   "outputs": [
    {
     "name": "stdout",
     "output_type": "stream",
     "text": [
      "20\n"
     ]
    }
   ],
   "source": [
    "multiply(4,5)"
   ]
  },
  {
   "cell_type": "code",
   "execution_count": 3,
   "metadata": {},
   "outputs": [],
   "source": [
    "def multiply(a, b):\n",
    "    n = a * b\n",
    "    return n # Regresa n, retorna un objeto. El retorno es asignable a un objeto. Lo puedo guardar."
   ]
  },
  {
   "cell_type": "code",
   "execution_count": 4,
   "metadata": {},
   "outputs": [
    {
     "data": {
      "text/plain": [
       "8"
      ]
     },
     "execution_count": 4,
     "metadata": {},
     "output_type": "execute_result"
    }
   ],
   "source": [
    "multiply(2,4)"
   ]
  },
  {
   "cell_type": "code",
   "execution_count": 7,
   "metadata": {},
   "outputs": [],
   "source": [
    "def multiply(a, b):\n",
    "    n = a * b"
   ]
  },
  {
   "cell_type": "code",
   "execution_count": 8,
   "metadata": {},
   "outputs": [],
   "source": [
    "multiply(2,4) # No veo nada por la forma en la que la función está definida."
   ]
  },
  {
   "cell_type": "markdown",
   "metadata": {},
   "source": [
    "Diferencia entre \"return\" y \"print\""
   ]
  },
  {
   "cell_type": "code",
   "execution_count": 9,
   "metadata": {},
   "outputs": [],
   "source": [
    "def multiply(a, b):\n",
    "    n = a * b\n",
    "    return n"
   ]
  },
  {
   "cell_type": "code",
   "execution_count": 16,
   "metadata": {},
   "outputs": [
    {
     "name": "stdout",
     "output_type": "stream",
     "text": [
      "8\n"
     ]
    }
   ],
   "source": [
    "m = multiply(2,4)"
   ]
  },
  {
   "cell_type": "code",
   "execution_count": null,
   "metadata": {},
   "outputs": [],
   "source": [
    "print(m)"
   ]
  },
  {
   "cell_type": "code",
   "execution_count": 14,
   "metadata": {},
   "outputs": [],
   "source": [
    "def multiply(a, b):\n",
    "    n = a * b\n",
    "    print(n)"
   ]
  },
  {
   "cell_type": "code",
   "execution_count": 15,
   "metadata": {},
   "outputs": [
    {
     "name": "stdout",
     "output_type": "stream",
     "text": [
      "8\n"
     ]
    }
   ],
   "source": [
    "m = multiply(2,4) # Es asignable"
   ]
  },
  {
   "cell_type": "code",
   "execution_count": 13,
   "metadata": {},
   "outputs": [
    {
     "name": "stdout",
     "output_type": "stream",
     "text": [
      "None\n"
     ]
    }
   ],
   "source": [
    "print(m) # Como tiene un print statement no queda guardado. "
   ]
  },
  {
   "cell_type": "markdown",
   "metadata": {},
   "source": [
    "---------------"
   ]
  },
  {
   "cell_type": "code",
   "execution_count": 20,
   "metadata": {},
   "outputs": [],
   "source": [
    "def multiply(a, b):\n",
    "    n = a * b\n",
    "    return n"
   ]
  },
  {
   "cell_type": "code",
   "execution_count": 21,
   "metadata": {},
   "outputs": [
    {
     "name": "stdout",
     "output_type": "stream",
     "text": [
      "30\n"
     ]
    }
   ],
   "source": [
    "x = 5\n",
    "y = 6\n",
    "z = multiply(x,y)\n",
    "print(z)"
   ]
  },
  {
   "cell_type": "code",
   "execution_count": 23,
   "metadata": {},
   "outputs": [
    {
     "data": {
      "text/plain": [
       "7.5"
      ]
     },
     "execution_count": 23,
     "metadata": {},
     "output_type": "execute_result"
    }
   ],
   "source": [
    "multiply(2.5,3.0)"
   ]
  },
  {
   "cell_type": "code",
   "execution_count": 24,
   "metadata": {},
   "outputs": [
    {
     "data": {
      "text/plain": [
       "0"
      ]
     },
     "execution_count": 24,
     "metadata": {},
     "output_type": "execute_result"
    }
   ],
   "source": [
    "multiply(True,False) # True = 1 y False =  0"
   ]
  },
  {
   "cell_type": "code",
   "execution_count": 25,
   "metadata": {},
   "outputs": [
    {
     "data": {
      "text/plain": [
       "1"
      ]
     },
     "execution_count": 25,
     "metadata": {},
     "output_type": "execute_result"
    }
   ],
   "source": [
    "multiply(True,True)"
   ]
  },
  {
   "cell_type": "markdown",
   "metadata": {},
   "source": [
    "No es necesario que las funciones tengan argumentos"
   ]
  },
  {
   "cell_type": "code",
   "execution_count": 26,
   "metadata": {},
   "outputs": [],
   "source": [
    "def saludo(): # Debe tener los parentesis vacios sin argumento\n",
    "    print(\"Buenos días.\")"
   ]
  },
  {
   "cell_type": "code",
   "execution_count": 28,
   "metadata": {},
   "outputs": [
    {
     "name": "stdout",
     "output_type": "stream",
     "text": [
      "Buenos días.\n"
     ]
    }
   ],
   "source": [
    "saludo()"
   ]
  },
  {
   "cell_type": "markdown",
   "metadata": {},
   "source": [
    "¿Es posible que una función llame a otra?"
   ]
  },
  {
   "cell_type": "code",
   "execution_count": 29,
   "metadata": {},
   "outputs": [],
   "source": [
    "def multiply(a,b):\n",
    "    n = a * b\n",
    "    return n\n",
    "\n",
    "#Definimos una función main la cual tiene dentro la función multiply.\n",
    "def main():\n",
    "    x = 5\n",
    "    y = 4\n",
    "    z = multiply(x,y)\n",
    "    print(\"Valor de z es:\", z)"
   ]
  },
  {
   "cell_type": "code",
   "execution_count": 30,
   "metadata": {},
   "outputs": [
    {
     "name": "stdout",
     "output_type": "stream",
     "text": [
      "Valor de z es: 20\n"
     ]
    }
   ],
   "source": [
    "main()"
   ]
  },
  {
   "cell_type": "code",
   "execution_count": 31,
   "metadata": {},
   "outputs": [],
   "source": [
    "def multiply(a,b):\n",
    "    print(\"       Inicio de función multiply(a,b) \")\n",
    "    n = a * b\n",
    "    print(\"       Fin de función multiply(a,b) \")\n",
    "    return n\n",
    "\n",
    "#Definimos una función main la cual tiene dentro la función multiply.\n",
    "def main():\n",
    "    x = 5\n",
    "    y = 4\n",
    "    print(\"       Llamando función multiply(x,y) \")\n",
    "    z = multiply(x,y)\n",
    "    print(\"Retornado de multiply(x,y)\")\n",
    "    print(\"Valor de z es:\", z)"
   ]
  },
  {
   "cell_type": "code",
   "execution_count": 32,
   "metadata": {},
   "outputs": [
    {
     "name": "stdout",
     "output_type": "stream",
     "text": [
      "       Llamando función multiply(x,y) \n",
      "       Inicio de función multiply(a,b) \n",
      "       Fin de función multiply(a,b) \n",
      "Retornado de multiply(x,y)\n",
      "Valor de z es: 20\n"
     ]
    }
   ],
   "source": [
    "main()"
   ]
  },
  {
   "cell_type": "markdown",
   "metadata": {},
   "source": [
    "Ejemplo de una abstracción simple"
   ]
  },
  {
   "cell_type": "code",
   "execution_count": 34,
   "metadata": {},
   "outputs": [
    {
     "name": "stdout",
     "output_type": "stream",
     "text": [
      "7 True\n"
     ]
    }
   ],
   "source": [
    "is_prime = True\n",
    "n = 7\n",
    "for i in range(2,n):\n",
    "    if n % i == 0:\n",
    "        is_prime = False\n",
    "        break\n",
    "print(n, is_prime)       "
   ]
  },
  {
   "cell_type": "code",
   "execution_count": 36,
   "metadata": {},
   "outputs": [
    {
     "name": "stdout",
     "output_type": "stream",
     "text": [
      "2 True\n",
      "3 True\n",
      "4 False\n",
      "5 True\n",
      "6 False\n",
      "7 True\n",
      "8 False\n",
      "9 False\n",
      "10 False\n",
      "11 True\n",
      "12 False\n",
      "13 True\n",
      "14 False\n",
      "15 False\n",
      "16 False\n",
      "17 True\n",
      "18 False\n",
      "19 True\n",
      "20 False\n"
     ]
    }
   ],
   "source": [
    "N = 20\n",
    "for n in range(2, N+1):\n",
    "    is_prime = True\n",
    "    for i in range(2,n):\n",
    "        if n % i == 0:\n",
    "            is_prime = False\n",
    "            break\n",
    "    print(n, is_prime)"
   ]
  },
  {
   "cell_type": "code",
   "execution_count": 41,
   "metadata": {},
   "outputs": [],
   "source": [
    "def is_prime(n):\n",
    "    rv = True # Return Value, es la variable que quiero que la función retorne. \n",
    "    for i in range(2,n):\n",
    "        if n % i == 0:\n",
    "            rv = False\n",
    "            break\n",
    "    return rv # Solamente retorna True O False"
   ]
  },
  {
   "cell_type": "code",
   "execution_count": 42,
   "metadata": {},
   "outputs": [
    {
     "name": "stdout",
     "output_type": "stream",
     "text": [
      "2 True\n",
      "3 True\n",
      "4 False\n",
      "5 True\n",
      "6 False\n",
      "7 True\n",
      "8 False\n",
      "9 False\n",
      "10 False\n",
      "11 True\n",
      "12 False\n",
      "13 True\n",
      "14 False\n",
      "15 False\n",
      "16 False\n",
      "17 True\n",
      "18 False\n",
      "19 True\n",
      "20 False\n"
     ]
    }
   ],
   "source": [
    "N = 20\n",
    "for n in range(2, N+1):\n",
    "    print(n, is_prime(n))"
   ]
  },
  {
   "cell_type": "code",
   "execution_count": 45,
   "metadata": {},
   "outputs": [],
   "source": [
    "def print_prime_table(N):\n",
    "    for n in range(1, N+1):\n",
    "        if is_prime(n) ==  True:\n",
    "            print(n, \"PRIME\")\n",
    "        else:\n",
    "            print(n)"
   ]
  },
  {
   "cell_type": "code",
   "execution_count": 46,
   "metadata": {},
   "outputs": [
    {
     "name": "stdout",
     "output_type": "stream",
     "text": [
      "1 PRIME\n",
      "2 PRIME\n",
      "3 PRIME\n",
      "4\n",
      "5 PRIME\n",
      "6\n",
      "7 PRIME\n",
      "8\n",
      "9\n",
      "10\n",
      "11 PRIME\n",
      "12\n",
      "13 PRIME\n",
      "14\n",
      "15\n",
      "16\n",
      "17 PRIME\n",
      "18\n",
      "19 PRIME\n",
      "20\n"
     ]
    }
   ],
   "source": [
    "print_prime_table(20)"
   ]
  },
  {
   "cell_type": "markdown",
   "metadata": {},
   "source": [
    "Uno no es ni primo y compuesto"
   ]
  },
  {
   "cell_type": "code",
   "execution_count": 47,
   "metadata": {},
   "outputs": [],
   "source": [
    "def print_prime_table(N):\n",
    "    print(1, \"No es ni primo ni compuesto\")\n",
    "    for n in range(2, N+1):\n",
    "        if is_prime(n) ==  True:\n",
    "            print(n, \"PRIME\")\n",
    "        else:\n",
    "            print(n)"
   ]
  },
  {
   "cell_type": "code",
   "execution_count": 48,
   "metadata": {},
   "outputs": [
    {
     "name": "stdout",
     "output_type": "stream",
     "text": [
      "1 No es ni primo ni compuesto\n",
      "2 PRIME\n",
      "3 PRIME\n",
      "4\n",
      "5 PRIME\n",
      "6\n",
      "7 PRIME\n",
      "8\n",
      "9\n",
      "10\n",
      "11 PRIME\n",
      "12\n",
      "13 PRIME\n",
      "14\n",
      "15\n",
      "16\n",
      "17 PRIME\n",
      "18\n",
      "19 PRIME\n",
      "20\n"
     ]
    }
   ],
   "source": [
    "print_prime_table(20)"
   ]
  },
  {
   "cell_type": "code",
   "execution_count": 54,
   "metadata": {},
   "outputs": [],
   "source": [
    "def print_prime_table(N):\n",
    "    for n in range(1, N+1):\n",
    "        if is_prime(n) ==  True:\n",
    "            print(n, \"PRIME\")\n",
    "        else:\n",
    "            print(n)\n",
    "            \n",
    "def is_prime(n):\n",
    "    if n == 1:\n",
    "        return False\n",
    "    rv = True # Return Value, es la variable que quiero que la función retorne. \n",
    "    for i in range(2,n):\n",
    "        if n % i == 0:\n",
    "            rv = False\n",
    "            break\n",
    "    return rv"
   ]
  },
  {
   "cell_type": "code",
   "execution_count": 55,
   "metadata": {},
   "outputs": [
    {
     "name": "stdout",
     "output_type": "stream",
     "text": [
      "1\n",
      "2 PRIME\n",
      "3 PRIME\n",
      "4\n",
      "5 PRIME\n",
      "6\n",
      "7 PRIME\n",
      "8\n",
      "9\n",
      "10\n",
      "11 PRIME\n",
      "12\n",
      "13 PRIME\n",
      "14\n",
      "15\n",
      "16\n",
      "17 PRIME\n",
      "18\n",
      "19 PRIME\n",
      "20\n"
     ]
    }
   ],
   "source": [
    "print_prime_table(20)"
   ]
  },
  {
   "cell_type": "markdown",
   "metadata": {},
   "source": [
    "## Return Statements"
   ]
  },
  {
   "cell_type": "code",
   "execution_count": 49,
   "metadata": {},
   "outputs": [],
   "source": [
    "def absolute(x):\n",
    "    if x < 0:\n",
    "        return -x\n",
    "    else:\n",
    "        return x"
   ]
  },
  {
   "cell_type": "code",
   "execution_count": 50,
   "metadata": {},
   "outputs": [
    {
     "data": {
      "text/plain": [
       "3"
      ]
     },
     "execution_count": 50,
     "metadata": {},
     "output_type": "execute_result"
    }
   ],
   "source": [
    "absolute(3)"
   ]
  },
  {
   "cell_type": "code",
   "execution_count": 51,
   "metadata": {},
   "outputs": [
    {
     "data": {
      "text/plain": [
       "3"
      ]
     },
     "execution_count": 51,
     "metadata": {},
     "output_type": "execute_result"
    }
   ],
   "source": [
    "absolute(-3)"
   ]
  },
  {
   "cell_type": "code",
   "execution_count": 56,
   "metadata": {},
   "outputs": [
    {
     "data": {
      "text/plain": [
       "function"
      ]
     },
     "execution_count": 56,
     "metadata": {},
     "output_type": "execute_result"
    }
   ],
   "source": [
    "type(is_prime)"
   ]
  },
  {
   "cell_type": "markdown",
   "metadata": {},
   "source": [
    "## Parámetros"
   ]
  },
  {
   "cell_type": "code",
   "execution_count": 57,
   "metadata": {},
   "outputs": [],
   "source": [
    "import random\n",
    "\n",
    "def gen_randint(n, lb, ub):\n",
    "    '''\n",
    "    Genera números aleatorios.\n",
    "    Inputs:\n",
    "        n: número de enteros\n",
    "        lb: cota inferior\n",
    "        ub: cota superior\n",
    "    Outputs: Una lista de numeros generados\n",
    "    ''' ## Para crear documentación\n",
    "    rv = []\n",
    "    for i in range(n):\n",
    "        rv.append(random.randint(lb,ub))\n",
    "    return rv"
   ]
  },
  {
   "cell_type": "code",
   "execution_count": 59,
   "metadata": {},
   "outputs": [
    {
     "data": {
      "text/plain": [
       "[22, 81, 19, 31, 34, 19, 35, 21, 27, 30]"
      ]
     },
     "execution_count": 59,
     "metadata": {},
     "output_type": "execute_result"
    }
   ],
   "source": [
    "gen_randint(10,0,100)"
   ]
  },
  {
   "cell_type": "code",
   "execution_count": 60,
   "metadata": {},
   "outputs": [
    {
     "name": "stdout",
     "output_type": "stream",
     "text": [
      "Help on function gen_randint in module __main__:\n",
      "\n",
      "gen_randint(n, lb, ub)\n",
      "    Genera números aleatorios.\n",
      "    Inputs:\n",
      "        n: número de enteros\n",
      "        lb: cota inferior\n",
      "        ub: cota superior\n",
      "    Outputs: Una lista de numeros generados\n",
      "\n"
     ]
    }
   ],
   "source": [
    "help(gen_randint)"
   ]
  },
  {
   "cell_type": "code",
   "execution_count": 61,
   "metadata": {},
   "outputs": [],
   "source": [
    "# Los parámetros que no tengan default deben ir primero\n",
    "def gen_randint(n, lb = 0, ub = 100):\n",
    "    '''\n",
    "    Genera números aleatorios.\n",
    "    Inputs:\n",
    "        n: número de enteros\n",
    "        lb: cota inferior\n",
    "        ub: cota superior\n",
    "    Outputs: Una lista de numeros generados\n",
    "    ''' ## Para crear documentación\n",
    "    rv = []\n",
    "    for i in range(n):\n",
    "        rv.append(random.randint(lb,ub))\n",
    "    return rv"
   ]
  },
  {
   "cell_type": "code",
   "execution_count": 62,
   "metadata": {},
   "outputs": [
    {
     "data": {
      "text/plain": [
       "[44, 57, 41, 98, 24, 33, 30, 6, 76, 8]"
      ]
     },
     "execution_count": 62,
     "metadata": {},
     "output_type": "execute_result"
    }
   ],
   "source": [
    "gen_randint(10)"
   ]
  },
  {
   "cell_type": "code",
   "execution_count": 63,
   "metadata": {},
   "outputs": [
    {
     "data": {
      "text/plain": [
       "[5, 10, 0, 5, 4, 3, 7, 2, 10, 7, 0, 8, 1, 0, 5, 6, 8, 10, 4, 9, 5, 0, 3, 3, 3]"
      ]
     },
     "execution_count": 63,
     "metadata": {},
     "output_type": "execute_result"
    }
   ],
   "source": [
    "gen_randint(25,0,10) # Que estén predefinidos no es impedimento de edición "
   ]
  },
  {
   "cell_type": "code",
   "execution_count": 65,
   "metadata": {},
   "outputs": [
    {
     "data": {
      "text/plain": [
       "[80, 70, 72, 75, 85, 97, 100, 82, 92, 77]"
      ]
     },
     "execution_count": 65,
     "metadata": {},
     "output_type": "execute_result"
    }
   ],
   "source": [
    "gen_randint(10,70) # Puedo poner la cota inferior y por defecto el otro."
   ]
  },
  {
   "cell_type": "code",
   "execution_count": 67,
   "metadata": {},
   "outputs": [
    {
     "data": {
      "text/plain": [
       "[7, 28, 31, 37, 39, 18, 47, 9, 39, 35]"
      ]
     },
     "execution_count": 67,
     "metadata": {},
     "output_type": "execute_result"
    }
   ],
   "source": [
    "gen_randint(10, ub=50) # Si quiero cambiar un parametro en específico puedo llamarlo por mi mismo."
   ]
  },
  {
   "cell_type": "markdown",
   "metadata": {},
   "source": [
    "### Más de return Statement"
   ]
  },
  {
   "cell_type": "code",
   "execution_count": 75,
   "metadata": {},
   "outputs": [],
   "source": [
    "def bound(lista):\n",
    "    min_value = min(lista)\n",
    "    max_value = max(lista)\n",
    "    \n",
    "    return min_value, max_value # Si lo pongo de esta forma me lo bota como tupla"
   ]
  },
  {
   "cell_type": "code",
   "execution_count": 76,
   "metadata": {},
   "outputs": [
    {
     "data": {
      "text/plain": [
       "(-2, 24)"
      ]
     },
     "execution_count": 76,
     "metadata": {},
     "output_type": "execute_result"
    }
   ],
   "source": [
    "bound([7, 9, -2, 8, 24, 5])"
   ]
  },
  {
   "cell_type": "code",
   "execution_count": 77,
   "metadata": {},
   "outputs": [
    {
     "data": {
      "text/plain": [
       "tuple"
      ]
     },
     "execution_count": 77,
     "metadata": {},
     "output_type": "execute_result"
    }
   ],
   "source": [
    "type(bound([7, 9, -2, 8, 24, 5]))"
   ]
  },
  {
   "cell_type": "code",
   "execution_count": 78,
   "metadata": {},
   "outputs": [],
   "source": [
    "def bound(lista):\n",
    "    min_value = min(lista)\n",
    "    max_value = max(lista)\n",
    "    \n",
    "    return [min_value, max_value] # Note que ahora me lo guarda como una lista. "
   ]
  },
  {
   "cell_type": "code",
   "execution_count": 79,
   "metadata": {},
   "outputs": [
    {
     "data": {
      "text/plain": [
       "[-2, 24]"
      ]
     },
     "execution_count": 79,
     "metadata": {},
     "output_type": "execute_result"
    }
   ],
   "source": [
    "bound([7, 9, -2, 8, 24, 5])"
   ]
  },
  {
   "cell_type": "code",
   "execution_count": 80,
   "metadata": {},
   "outputs": [
    {
     "data": {
      "text/plain": [
       "list"
      ]
     },
     "execution_count": 80,
     "metadata": {},
     "output_type": "execute_result"
    }
   ],
   "source": [
    "type(bound([7, 9, -2, 8, 24, 5]))"
   ]
  },
  {
   "cell_type": "code",
   "execution_count": 81,
   "metadata": {},
   "outputs": [],
   "source": [
    "lb, ub = bound([7, 9, -2, 8, 24, 5])"
   ]
  },
  {
   "cell_type": "code",
   "execution_count": 82,
   "metadata": {},
   "outputs": [
    {
     "data": {
      "text/plain": [
       "-2"
      ]
     },
     "execution_count": 82,
     "metadata": {},
     "output_type": "execute_result"
    }
   ],
   "source": [
    "lb"
   ]
  },
  {
   "cell_type": "code",
   "execution_count": 83,
   "metadata": {},
   "outputs": [
    {
     "data": {
      "text/plain": [
       "24"
      ]
     },
     "execution_count": 83,
     "metadata": {},
     "output_type": "execute_result"
    }
   ],
   "source": [
    "ub "
   ]
  },
  {
   "cell_type": "markdown",
   "metadata": {},
   "source": [
    "## Scoping"
   ]
  },
  {
   "cell_type": "markdown",
   "metadata": {},
   "source": [
    "Donde está ubicada la variable "
   ]
  },
  {
   "cell_type": "code",
   "execution_count": 86,
   "metadata": {},
   "outputs": [],
   "source": [
    "def incr(ñ):\n",
    "    one = 1\n",
    "    return ñ + one"
   ]
  },
  {
   "cell_type": "code",
   "execution_count": 85,
   "metadata": {},
   "outputs": [
    {
     "data": {
      "text/plain": [
       "6"
      ]
     },
     "execution_count": 85,
     "metadata": {},
     "output_type": "execute_result"
    }
   ],
   "source": [
    "incr(5)"
   ]
  },
  {
   "cell_type": "code",
   "execution_count": 87,
   "metadata": {},
   "outputs": [
    {
     "ename": "NameError",
     "evalue": "name 'ñ' is not defined",
     "output_type": "error",
     "traceback": [
      "\u001b[1;31m---------------------------------------------------------------------------\u001b[0m",
      "\u001b[1;31mNameError\u001b[0m                                 Traceback (most recent call last)",
      "\u001b[1;32m<ipython-input-87-0e25055f3025>\u001b[0m in \u001b[0;36m<module>\u001b[1;34m\u001b[0m\n\u001b[1;32m----> 1\u001b[1;33m \u001b[0mprint\u001b[0m\u001b[1;33m(\u001b[0m\u001b[0mñ\u001b[0m\u001b[1;33m)\u001b[0m\u001b[1;33m\u001b[0m\u001b[1;33m\u001b[0m\u001b[0m\n\u001b[0m",
      "\u001b[1;31mNameError\u001b[0m: name 'ñ' is not defined"
     ]
    }
   ],
   "source": [
    "print(ñ)"
   ]
  },
  {
   "cell_type": "code",
   "execution_count": 89,
   "metadata": {},
   "outputs": [],
   "source": [
    "def f(i):\n",
    "    i = i + 1\n",
    "    return i \n",
    "def g(i):\n",
    "    j = h(i * 5)\n",
    "    return j\n",
    "def h(i):\n",
    "    return i + 1\n",
    "def main():\n",
    "    i = 7\n",
    "    j = k = l = 0\n",
    "    j = f(i)\n",
    "    k = f(j * 3)\n",
    "    l = g(i)\n",
    "    \n",
    "    return i, j, k, l"
   ]
  },
  {
   "cell_type": "code",
   "execution_count": 90,
   "metadata": {},
   "outputs": [
    {
     "data": {
      "text/plain": [
       "(7, 8, 25, 36)"
      ]
     },
     "execution_count": 90,
     "metadata": {},
     "output_type": "execute_result"
    }
   ],
   "source": [
    "main()"
   ]
  },
  {
   "cell_type": "code",
   "execution_count": 100,
   "metadata": {},
   "outputs": [],
   "source": [
    "def increment_first_inplace(lista):\n",
    "    lista[0] = lista[0] + 1\n",
    "    return lista"
   ]
  },
  {
   "cell_type": "code",
   "execution_count": 101,
   "metadata": {},
   "outputs": [],
   "source": [
    "nums = [5, 7, 10, 9]"
   ]
  },
  {
   "cell_type": "code",
   "execution_count": 102,
   "metadata": {},
   "outputs": [
    {
     "data": {
      "text/plain": [
       "[6, 7, 10, 9]"
      ]
     },
     "execution_count": 102,
     "metadata": {},
     "output_type": "execute_result"
    }
   ],
   "source": [
    "increment_first_inplace(nums) # Aumenta el número"
   ]
  },
  {
   "cell_type": "code",
   "execution_count": 103,
   "metadata": {},
   "outputs": [
    {
     "data": {
      "text/plain": [
       "[6, 7, 10, 9]"
      ]
     },
     "execution_count": 103,
     "metadata": {},
     "output_type": "execute_result"
    }
   ],
   "source": [
    "nums # Pero me cambia la variable."
   ]
  },
  {
   "cell_type": "code",
   "execution_count": 97,
   "metadata": {},
   "outputs": [],
   "source": [
    "def increment_first(lista):\n",
    "    lista2 = lista[:] # Crea una copia de la lista\n",
    "    lista2[0] = lista2[0] + 1 \n",
    "    return lista2"
   ]
  },
  {
   "cell_type": "code",
   "execution_count": 98,
   "metadata": {},
   "outputs": [
    {
     "data": {
      "text/plain": [
       "[6, 7, 10, 9]"
      ]
     },
     "execution_count": 98,
     "metadata": {},
     "output_type": "execute_result"
    }
   ],
   "source": [
    "increment_first(nums) # Note que me hace el incremento del primer elemento."
   ]
  },
  {
   "cell_type": "code",
   "execution_count": 99,
   "metadata": {},
   "outputs": [
    {
     "data": {
      "text/plain": [
       "[5, 7, 10, 9]"
      ]
     },
     "execution_count": 99,
     "metadata": {},
     "output_type": "execute_result"
    }
   ],
   "source": [
    "nums # Pero no lo modifico!"
   ]
  },
  {
   "cell_type": "markdown",
   "metadata": {},
   "source": [
    "### Variables globales"
   ]
  },
  {
   "cell_type": "code",
   "execution_count": null,
   "metadata": {},
   "outputs": [],
   "source": []
  },
  {
   "cell_type": "markdown",
   "metadata": {},
   "source": [
    "## Ejercicios de clase"
   ]
  },
  {
   "cell_type": "code",
   "execution_count": 110,
   "metadata": {},
   "outputs": [],
   "source": [
    "numeros = [1,2,3,4,5,6,7,8,9,10]\n",
    "pares = []\n",
    "impares = []\n",
    "def separar(lista):\n",
    "    for i in lista:\n",
    "        if i % 2 == 0:\n",
    "            numero = i\n",
    "            pares.append(numero)\n",
    "        else:\n",
    "            numero = i\n",
    "            impares.append(numero)\n",
    "        pares.sort() #Para organizarlos\n",
    "        impares.sort()\n",
    "    return pares, impares\n",
    "num_pares, num_impares = separar(numeros)"
   ]
  },
  {
   "cell_type": "code",
   "execution_count": 112,
   "metadata": {},
   "outputs": [
    {
     "data": {
      "text/plain": [
       "[2, 4, 6, 8, 10]"
      ]
     },
     "execution_count": 112,
     "metadata": {},
     "output_type": "execute_result"
    }
   ],
   "source": [
    "num_pares"
   ]
  },
  {
   "cell_type": "code",
   "execution_count": 4,
   "metadata": {},
   "outputs": [
    {
     "name": "stdout",
     "output_type": "stream",
     "text": [
      "Ingrese su decisión (Piedra, Papel, Tijera): Piedra\n",
      "¡Ganaste! El computador elegió Tijera y tu Piedra\n"
     ]
    }
   ],
   "source": [
    "import random\n",
    "\n",
    "computador = random.randint(0,2)\n",
    "decision_usuario = input(\"Ingrese su decisión (Piedra, Papel, Tijera): \")\n",
    "def convertidor():\n",
    "    if computador == 0:\n",
    "        decision = \"Piedra\"\n",
    "        return decision\n",
    "    elif computador == 1:\n",
    "        decision = \"Papel\"\n",
    "        return decision\n",
    "    elif computador == 2:\n",
    "        decision = \"Tijera\"\n",
    "        return decision\n",
    "decision_pc = convertidor()\n",
    "def resultado(decision_pc, decision_usuario):\n",
    "    if decision_pc == \"Piedra\" and decision_usuario == \"Piedra\":\n",
    "        print(f\"¡Empate! El computador elegió {decision_pc} y tu {decision_usuario}\")\n",
    "    elif decision_pc == \"Papel\" and decision_usuario == \"Papel\":\n",
    "        print(f\"¡Empate! El computador elegió {decision_pc} y tu {decision_usuario}\")\n",
    "    elif decision_pc == \"Tijera\" and decision_usuario == \"Tijera\":\n",
    "        print(f\"¡Empate! El computador elegió {decision_pc} y tu {decision_usuario}\")\n",
    "    elif decision_pc == \"Piedra\" and decision_usuario == \"Papel\":\n",
    "        print(f\"¡Ganaste! El computador elegió {decision_pc} y tu {decision_usuario}\")\n",
    "    elif decision_pc == \"Piedra\" and decision_usuario == \"Tijera\":\n",
    "        print(f\"¡Perdiste! El computador elegió {decision_pc} y tu {decision_usuario}\")\n",
    "    elif decision_pc == \"Tijera\" and decision_usuario == \"Papel\":\n",
    "        print(f\"¡Perdiste! El computador elegió {decision_pc} y tu {decision_usuario}\")\n",
    "    elif decision_pc == \"Tijera\" and decision_usuario == \"Piedra\":\n",
    "        print(f\"¡Ganaste! El computador elegió {decision_pc} y tu {decision_usuario}\")\n",
    "    elif decision_pc == \"Papel\" and decision_usuario == \"Piedra\":\n",
    "        print(f\"¡Perdiste! El computador elegió {decision_pc} y tu {decision_usuario}\")\n",
    "    elif decision_pc == \"Papel\" and decision_usuario == \"Tijera\":\n",
    "        print(f\"¡Ganaste! El computador elegió {decision_pc} y tu {decision_usuario}\")\n",
    "resultado(decision_pc, decision_usuario)\n",
    "   \n",
    "        "
   ]
  },
  {
   "cell_type": "code",
   "execution_count": null,
   "metadata": {},
   "outputs": [],
   "source": []
  }
 ],
 "metadata": {
  "kernelspec": {
   "display_name": "Python 3",
   "language": "python",
   "name": "python3"
  },
  "language_info": {
   "codemirror_mode": {
    "name": "ipython",
    "version": 3
   },
   "file_extension": ".py",
   "mimetype": "text/x-python",
   "name": "python",
   "nbconvert_exporter": "python",
   "pygments_lexer": "ipython3",
   "version": "3.7.4"
  }
 },
 "nbformat": 4,
 "nbformat_minor": 2
}
