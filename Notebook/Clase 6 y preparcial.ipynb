{
 "cells": [
  {
   "cell_type": "markdown",
   "metadata": {},
   "source": [
    "# Trabajar con archivos de texto"
   ]
  },
  {
   "cell_type": "markdown",
   "metadata": {},
   "source": [
    "Abrir archivos en Python."
   ]
  },
  {
   "cell_type": "code",
   "execution_count": null,
   "metadata": {},
   "outputs": [],
   "source": [
    "f = open(\"email.txt\") # Permite abrir un archivo de texto plano. "
   ]
  },
  {
   "cell_type": "code",
   "execution_count": null,
   "metadata": {},
   "outputs": [],
   "source": [
    "f # No sirve para ver los archivos"
   ]
  },
  {
   "cell_type": "code",
   "execution_count": null,
   "metadata": {},
   "outputs": [],
   "source": [
    "type(f) # Tienen un tipo de dato diferente"
   ]
  },
  {
   "cell_type": "code",
   "execution_count": null,
   "metadata": {},
   "outputs": [],
   "source": [
    "list(f) # Para ver que datos contene. \n",
    "        # Sin embargo, hay un \\n entre las lineas."
   ]
  },
  {
   "cell_type": "code",
   "execution_count": null,
   "metadata": {},
   "outputs": [],
   "source": [
    "f = open(\"email.txt\") # En Python la lectura de un archivo se hace una sola vez. Es como si fuera una variable local.\n",
    "emails = f.read() # Pone todo como una sola línea "
   ]
  },
  {
   "cell_type": "code",
   "execution_count": null,
   "metadata": {},
   "outputs": [],
   "source": [
    "print(emails)"
   ]
  },
  {
   "cell_type": "code",
   "execution_count": null,
   "metadata": {},
   "outputs": [],
   "source": [
    "emails.split()"
   ]
  },
  {
   "cell_type": "markdown",
   "metadata": {},
   "source": [
    "### Cerrar archivos"
   ]
  },
  {
   "cell_type": "code",
   "execution_count": null,
   "metadata": {},
   "outputs": [],
   "source": [
    "f.close() # Si lo cierro queda guardado. "
   ]
  },
  {
   "cell_type": "markdown",
   "metadata": {},
   "source": [
    "### Abrir archivos de forma eficiente."
   ]
  },
  {
   "cell_type": "code",
   "execution_count": null,
   "metadata": {},
   "outputs": [],
   "source": [
    "with open(\"email.txt\") as f:\n",
    "    email = f.read()\n",
    "    print(emails.split())\n"
   ]
  },
  {
   "cell_type": "code",
   "execution_count": null,
   "metadata": {},
   "outputs": [],
   "source": [
    "with open(\"email.txt\") as f:\n",
    "    for line in f:\n",
    "        print(line)"
   ]
  },
  {
   "cell_type": "code",
   "execution_count": null,
   "metadata": {},
   "outputs": [],
   "source": [
    "with open(\"email.txt\") as f:\n",
    "    for line in f:\n",
    "        print(line.strip())"
   ]
  },
  {
   "cell_type": "markdown",
   "metadata": {},
   "source": [
    "### Crear un archivo en Python"
   ]
  },
  {
   "cell_type": "code",
   "execution_count": 1,
   "metadata": {},
   "outputs": [],
   "source": [
    "with open(\"descripciones.txt\", \"w\") as f:\n",
    "    f.write(\"Métodos Comptacionales para políticas públicas\\n\")\n",
    "    f.write(\"Univeridad del Rosario\\n\")\n",
    "    f.write(\"Santiago Ortiz \\n\")\n",
    "    "
   ]
  },
  {
   "cell_type": "markdown",
   "metadata": {},
   "source": [
    "# Parcial"
   ]
  },
  {
   "cell_type": "code",
   "execution_count": 14,
   "metadata": {},
   "outputs": [
    {
     "name": "stdout",
     "output_type": "stream",
     "text": [
      "Apellido,Nombre,Edad,Profesion,PromedioMCPP,PeorNota,MejorNota\n",
      "\n",
      "Rojas,Daniel,26,Economista,4.2,3.9,4.5\n",
      "\n",
      "Ramirez,Natalia,35,Abogada,3.9,3.2,4.7\n",
      "\n",
      "Matallana,Santiago,32,Economista,4.5,4.0,5.0\n",
      "\n",
      "Serrano,Natalia,25,Ingeniera,2.0,1.0,3.0\n",
      "\n",
      "Roman,Arturo,26,Economista,4.2,3.9,4.5\n",
      "\n",
      "Ramirez,Camila,35,Abogada,3.9,3.2,4.7\n",
      "\n",
      "Matallana,Monica,32,Economista,4.5,4.0,5.0\n",
      "\n",
      "Serrano,Raul,25,Ingeniera,2.0,1.0,3.0\n",
      "\n",
      "Quijano,Arturo,26,Economista,4.2,3.9,4.5\n",
      "\n",
      "Manrrique,Camila,35,Abogada,3.9,3.2,4.7\n",
      "\n",
      "Torres,Monica,32,Economista,4.5,4.0,5.0\n",
      "\n",
      "Vergara,Raul,25,Ingeniera,2.0,1.0,3.0\n",
      "\n",
      "Roman,Diego,26,Economista,4.2,3.9,4.5\n",
      "\n",
      "Ramirez,Luis,35,Abogada,3.9,3.2,4.7\n",
      "\n",
      "Matallana,Cristhian,32,Economista,4.5,4.0,5.0\n",
      "\n",
      "Serrano,Silvia,25,Ingeniera,2.0,1.0,3.0\n",
      "\n",
      "Larrota,Arturo,26,Economista,4.2,3.9,4.5\n",
      "\n",
      "Ferrer,Camila,35,Abogada,3.9,3.2,4.7\n",
      "\n",
      "Moreno,Monica,32,Economista,4.5,4.0,5.0\n",
      "\n",
      "Guerrero,Raul,25,Ingeniera,2.0,1.0,3.0\n",
      "\n",
      "Roman,Lizeth,26,Economista,4.2,3.9,4.5\n",
      "\n",
      "Ramirez,Tatiana,35,Abogada,3.9,3.2,4.7\n",
      "\n",
      "Matallana,Stefanny,32,Economista,4.5,4.0,5.0\n",
      "\n",
      "Serrano,Sandra,25,Ingeniera,2.0,1.0,3.0\n",
      "\n"
     ]
    }
   ],
   "source": [
    "with open(\"archivo.txt\") as f:\n",
    "    for line in f:\n",
    "        print(line)"
   ]
  },
  {
   "cell_type": "code",
   "execution_count": 16,
   "metadata": {},
   "outputs": [],
   "source": [
    "with open(\"archivo.txt\") as f:\n",
    "    data = f.read()"
   ]
  },
  {
   "cell_type": "code",
   "execution_count": 17,
   "metadata": {
    "scrolled": true
   },
   "outputs": [
    {
     "data": {
      "text/plain": [
       "'Apellido,Nombre,Edad,Profesion,PromedioMCPP,PeorNota,MejorNota\\nRojas,Daniel,26,Economista,4.2,3.9,4.5\\nRamirez,Natalia,35,Abogada,3.9,3.2,4.7\\nMatallana,Santiago,32,Economista,4.5,4.0,5.0\\nSerrano,Natalia,25,Ingeniera,2.0,1.0,3.0\\nRoman,Arturo,26,Economista,4.2,3.9,4.5\\nRamirez,Camila,35,Abogada,3.9,3.2,4.7\\nMatallana,Monica,32,Economista,4.5,4.0,5.0\\nSerrano,Raul,25,Ingeniera,2.0,1.0,3.0\\nQuijano,Arturo,26,Economista,4.2,3.9,4.5\\nManrrique,Camila,35,Abogada,3.9,3.2,4.7\\nTorres,Monica,32,Economista,4.5,4.0,5.0\\nVergara,Raul,25,Ingeniera,2.0,1.0,3.0\\nRoman,Diego,26,Economista,4.2,3.9,4.5\\nRamirez,Luis,35,Abogada,3.9,3.2,4.7\\nMatallana,Cristhian,32,Economista,4.5,4.0,5.0\\nSerrano,Silvia,25,Ingeniera,2.0,1.0,3.0\\nLarrota,Arturo,26,Economista,4.2,3.9,4.5\\nFerrer,Camila,35,Abogada,3.9,3.2,4.7\\nMoreno,Monica,32,Economista,4.5,4.0,5.0\\nGuerrero,Raul,25,Ingeniera,2.0,1.0,3.0\\nRoman,Lizeth,26,Economista,4.2,3.9,4.5\\nRamirez,Tatiana,35,Abogada,3.9,3.2,4.7\\nMatallana,Stefanny,32,Economista,4.5,4.0,5.0\\nSerrano,Sandra,25,Ingeniera,2.0,1.0,3.0\\n'"
      ]
     },
     "execution_count": 17,
     "metadata": {},
     "output_type": "execute_result"
    }
   ],
   "source": [
    "data"
   ]
  },
  {
   "cell_type": "code",
   "execution_count": 18,
   "metadata": {},
   "outputs": [],
   "source": [
    "data = data.split()"
   ]
  },
  {
   "cell_type": "code",
   "execution_count": 19,
   "metadata": {
    "scrolled": false
   },
   "outputs": [
    {
     "data": {
      "text/plain": [
       "['Apellido,Nombre,Edad,Profesion,PromedioMCPP,PeorNota,MejorNota',\n",
       " 'Rojas,Daniel,26,Economista,4.2,3.9,4.5',\n",
       " 'Ramirez,Natalia,35,Abogada,3.9,3.2,4.7',\n",
       " 'Matallana,Santiago,32,Economista,4.5,4.0,5.0',\n",
       " 'Serrano,Natalia,25,Ingeniera,2.0,1.0,3.0',\n",
       " 'Roman,Arturo,26,Economista,4.2,3.9,4.5',\n",
       " 'Ramirez,Camila,35,Abogada,3.9,3.2,4.7',\n",
       " 'Matallana,Monica,32,Economista,4.5,4.0,5.0',\n",
       " 'Serrano,Raul,25,Ingeniera,2.0,1.0,3.0',\n",
       " 'Quijano,Arturo,26,Economista,4.2,3.9,4.5',\n",
       " 'Manrrique,Camila,35,Abogada,3.9,3.2,4.7',\n",
       " 'Torres,Monica,32,Economista,4.5,4.0,5.0',\n",
       " 'Vergara,Raul,25,Ingeniera,2.0,1.0,3.0',\n",
       " 'Roman,Diego,26,Economista,4.2,3.9,4.5',\n",
       " 'Ramirez,Luis,35,Abogada,3.9,3.2,4.7',\n",
       " 'Matallana,Cristhian,32,Economista,4.5,4.0,5.0',\n",
       " 'Serrano,Silvia,25,Ingeniera,2.0,1.0,3.0',\n",
       " 'Larrota,Arturo,26,Economista,4.2,3.9,4.5',\n",
       " 'Ferrer,Camila,35,Abogada,3.9,3.2,4.7',\n",
       " 'Moreno,Monica,32,Economista,4.5,4.0,5.0',\n",
       " 'Guerrero,Raul,25,Ingeniera,2.0,1.0,3.0',\n",
       " 'Roman,Lizeth,26,Economista,4.2,3.9,4.5',\n",
       " 'Ramirez,Tatiana,35,Abogada,3.9,3.2,4.7',\n",
       " 'Matallana,Stefanny,32,Economista,4.5,4.0,5.0',\n",
       " 'Serrano,Sandra,25,Ingeniera,2.0,1.0,3.0']"
      ]
     },
     "execution_count": 19,
     "metadata": {},
     "output_type": "execute_result"
    }
   ],
   "source": [
    "data"
   ]
  },
  {
   "cell_type": "code",
   "execution_count": 31,
   "metadata": {},
   "outputs": [],
   "source": [
    "df = []\n",
    "for line in data:\n",
    "    df.append(line.split(\",\"))"
   ]
  },
  {
   "cell_type": "code",
   "execution_count": 32,
   "metadata": {
    "scrolled": true
   },
   "outputs": [
    {
     "data": {
      "text/plain": [
       "[['Apellido',\n",
       "  'Nombre',\n",
       "  'Edad',\n",
       "  'Profesion',\n",
       "  'PromedioMCPP',\n",
       "  'PeorNota',\n",
       "  'MejorNota'],\n",
       " ['Rojas', 'Daniel', '26', 'Economista', '4.2', '3.9', '4.5'],\n",
       " ['Ramirez', 'Natalia', '35', 'Abogada', '3.9', '3.2', '4.7'],\n",
       " ['Matallana', 'Santiago', '32', 'Economista', '4.5', '4.0', '5.0'],\n",
       " ['Serrano', 'Natalia', '25', 'Ingeniera', '2.0', '1.0', '3.0'],\n",
       " ['Roman', 'Arturo', '26', 'Economista', '4.2', '3.9', '4.5'],\n",
       " ['Ramirez', 'Camila', '35', 'Abogada', '3.9', '3.2', '4.7'],\n",
       " ['Matallana', 'Monica', '32', 'Economista', '4.5', '4.0', '5.0'],\n",
       " ['Serrano', 'Raul', '25', 'Ingeniera', '2.0', '1.0', '3.0'],\n",
       " ['Quijano', 'Arturo', '26', 'Economista', '4.2', '3.9', '4.5'],\n",
       " ['Manrrique', 'Camila', '35', 'Abogada', '3.9', '3.2', '4.7'],\n",
       " ['Torres', 'Monica', '32', 'Economista', '4.5', '4.0', '5.0'],\n",
       " ['Vergara', 'Raul', '25', 'Ingeniera', '2.0', '1.0', '3.0'],\n",
       " ['Roman', 'Diego', '26', 'Economista', '4.2', '3.9', '4.5'],\n",
       " ['Ramirez', 'Luis', '35', 'Abogada', '3.9', '3.2', '4.7'],\n",
       " ['Matallana', 'Cristhian', '32', 'Economista', '4.5', '4.0', '5.0'],\n",
       " ['Serrano', 'Silvia', '25', 'Ingeniera', '2.0', '1.0', '3.0'],\n",
       " ['Larrota', 'Arturo', '26', 'Economista', '4.2', '3.9', '4.5'],\n",
       " ['Ferrer', 'Camila', '35', 'Abogada', '3.9', '3.2', '4.7'],\n",
       " ['Moreno', 'Monica', '32', 'Economista', '4.5', '4.0', '5.0'],\n",
       " ['Guerrero', 'Raul', '25', 'Ingeniera', '2.0', '1.0', '3.0'],\n",
       " ['Roman', 'Lizeth', '26', 'Economista', '4.2', '3.9', '4.5'],\n",
       " ['Ramirez', 'Tatiana', '35', 'Abogada', '3.9', '3.2', '4.7'],\n",
       " ['Matallana', 'Stefanny', '32', 'Economista', '4.5', '4.0', '5.0'],\n",
       " ['Serrano', 'Sandra', '25', 'Ingeniera', '2.0', '1.0', '3.0']]"
      ]
     },
     "execution_count": 32,
     "metadata": {},
     "output_type": "execute_result"
    }
   ],
   "source": [
    "df"
   ]
  },
  {
   "cell_type": "code",
   "execution_count": 35,
   "metadata": {},
   "outputs": [
    {
     "data": {
      "text/plain": [
       "'Economista'"
      ]
     },
     "execution_count": 35,
     "metadata": {},
     "output_type": "execute_result"
    }
   ],
   "source": [
    "df[1][3]"
   ]
  },
  {
   "cell_type": "code",
   "execution_count": 46,
   "metadata": {},
   "outputs": [
    {
     "name": "stdout",
     "output_type": "stream",
     "text": [
      "Indique la nota promedio: 4.2\n",
      "Los estudiantes que tienen este promedio son: \n",
      "Daniel Rojas\n",
      "Arturo Roman\n",
      "Arturo Quijano\n",
      "Diego Roman\n",
      "Arturo Larrota\n",
      "Lizeth Roman\n",
      "No hay nadie con esa nota\n"
     ]
    }
   ],
   "source": [
    "nota_prom = input(\"Indique la nota promedio: \")\n",
    "def nota_promedio(nota):\n",
    "    print(\"Los estudiantes que tienen este promedio son: \")\n",
    "    for i in range(len(df)):\n",
    "        if df[i][4] == nota:\n",
    "            print(df[i][1], df[i][0])\n",
    "nota_promedio(nota_prom)"
   ]
  },
  {
   "cell_type": "code",
   "execution_count": 49,
   "metadata": {},
   "outputs": [
    {
     "name": "stdout",
     "output_type": "stream",
     "text": [
      "Ingrese el apellido: suare\n",
      "No hay nadie con ese apellido\n"
     ]
    }
   ],
   "source": [
    "apellido = input(\"Ingrese el apellido: \")\n",
    "def informacion(apellido):\n",
    "    if apellido not in df:\n",
    "        print(\"No hay nadie con ese apellido\")\n",
    "    for i in range(len(df)):\n",
    "        if df[i][0] == apellido:\n",
    "            print(f\"Apellido: {df[i][0]}\")\n",
    "            print(f\"Nombre: {df[i][1]}\")\n",
    "            print(f\"Edad: {df[i][2]}\")\n",
    "            print(f\"Profesión: {df[i][3]}\")\n",
    "            print(f\"Nota promedio: {df[i][4]}\")\n",
    "            print(f\"Peor nota: {df[i][5]}\")\n",
    "            print(f\"Mejor nota: {df[i][6]}\")\n",
    "            print(\"-----------------------------------------\")\n",
    "informacion(apellido)"
   ]
  },
  {
   "cell_type": "markdown",
   "metadata": {},
   "source": [
    "#### OTRA FORMA"
   ]
  },
  {
   "cell_type": "code",
   "execution_count": 29,
   "metadata": {},
   "outputs": [],
   "source": [
    "base_de_datos = []\n",
    "with open(\"archivo.txt\") as f:\n",
    "    for line in f:\n",
    "        base_de_datos.append(line.strip())\n",
    "        \n",
    "        "
   ]
  },
  {
   "cell_type": "code",
   "execution_count": 30,
   "metadata": {
    "scrolled": true
   },
   "outputs": [
    {
     "data": {
      "text/plain": [
       "['Apellido,Nombre,Edad,Profesion,PromedioMCPP,PeorNota,MejorNota',\n",
       " 'Rojas,Daniel,26,Economista,4.2,3.9,4.5',\n",
       " 'Ramirez,Natalia,35,Abogada,3.9,3.2,4.7',\n",
       " 'Matallana,Santiago,32,Economista,4.5,4.0,5.0',\n",
       " 'Serrano,Natalia,25,Ingeniera,2.0,1.0,3.0',\n",
       " 'Roman,Arturo,26,Economista,4.2,3.9,4.5',\n",
       " 'Ramirez,Camila,35,Abogada,3.9,3.2,4.7',\n",
       " 'Matallana,Monica,32,Economista,4.5,4.0,5.0',\n",
       " 'Serrano,Raul,25,Ingeniera,2.0,1.0,3.0',\n",
       " 'Quijano,Arturo,26,Economista,4.2,3.9,4.5',\n",
       " 'Manrrique,Camila,35,Abogada,3.9,3.2,4.7',\n",
       " 'Torres,Monica,32,Economista,4.5,4.0,5.0',\n",
       " 'Vergara,Raul,25,Ingeniera,2.0,1.0,3.0',\n",
       " 'Roman,Diego,26,Economista,4.2,3.9,4.5',\n",
       " 'Ramirez,Luis,35,Abogada,3.9,3.2,4.7',\n",
       " 'Matallana,Cristhian,32,Economista,4.5,4.0,5.0',\n",
       " 'Serrano,Silvia,25,Ingeniera,2.0,1.0,3.0',\n",
       " 'Larrota,Arturo,26,Economista,4.2,3.9,4.5',\n",
       " 'Ferrer,Camila,35,Abogada,3.9,3.2,4.7',\n",
       " 'Moreno,Monica,32,Economista,4.5,4.0,5.0',\n",
       " 'Guerrero,Raul,25,Ingeniera,2.0,1.0,3.0',\n",
       " 'Roman,Lizeth,26,Economista,4.2,3.9,4.5',\n",
       " 'Ramirez,Tatiana,35,Abogada,3.9,3.2,4.7',\n",
       " 'Matallana,Stefanny,32,Economista,4.5,4.0,5.0',\n",
       " 'Serrano,Sandra,25,Ingeniera,2.0,1.0,3.0']"
      ]
     },
     "execution_count": 30,
     "metadata": {},
     "output_type": "execute_result"
    }
   ],
   "source": [
    "base_de_datos"
   ]
  },
  {
   "cell_type": "markdown",
   "metadata": {},
   "source": [
    "# Supletorio"
   ]
  },
  {
   "cell_type": "code",
   "execution_count": 54,
   "metadata": {},
   "outputs": [
    {
     "name": "stdout",
     "output_type": "stream",
     "text": [
      "Dígame en que vaso quiere ubicar la bolita inicialmente (1/2/3): 2\n",
      "Dígame en que vaso cree que terminará la bolita (1/2/3): 2\n",
      "Lo sentimos. Ha perdido.\n"
     ]
    }
   ],
   "source": [
    "def buscar_bolita(inicial, final):\n",
    "    \n",
    "    if inicial == \"1\" and final == \"1\" or inicial == \"2\" and final == \"3\" or inicial == \"3\" and final == \"2\":\n",
    "        print(\"Felicitaciones. ¡Ganó!\")\n",
    "    else:\n",
    "        print(\"Lo sentimos. Ha perdido.\")\n",
    "inicial = input(\"Dígame en que vaso quiere ubicar la bolita inicialmente (1/2/3): \")\n",
    "final = input(\"Dígame en que vaso cree que terminará la bolita (1/2/3): \")\n",
    "buscar_bolita(inicial, final)"
   ]
  },
  {
   "cell_type": "code",
   "execution_count": null,
   "metadata": {},
   "outputs": [],
   "source": []
  }
 ],
 "metadata": {
  "kernelspec": {
   "display_name": "Python 3",
   "language": "python",
   "name": "python3"
  },
  "language_info": {
   "codemirror_mode": {
    "name": "ipython",
    "version": 3
   },
   "file_extension": ".py",
   "mimetype": "text/x-python",
   "name": "python",
   "nbconvert_exporter": "python",
   "pygments_lexer": "ipython3",
   "version": "3.7.4"
  }
 },
 "nbformat": 4,
 "nbformat_minor": 2
}
