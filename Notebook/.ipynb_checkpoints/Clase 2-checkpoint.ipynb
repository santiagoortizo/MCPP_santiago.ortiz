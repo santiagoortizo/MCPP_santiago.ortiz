{
 "cells": [
  {
   "cell_type": "markdown",
   "metadata": {},
   "source": [
    "# Estructuras de control"
   ]
  },
  {
   "cell_type": "markdown",
   "metadata": {},
   "source": [
    "## Condicionales"
   ]
  },
  {
   "cell_type": "code",
   "execution_count": 2,
   "metadata": {},
   "outputs": [
    {
     "name": "stdout",
     "output_type": "stream",
     "text": [
      "Menor a siete\n"
     ]
    }
   ],
   "source": [
    "a = 5 #Defino variable igual a 5\n",
    "if a < 7:\n",
    "    print(\"Menor a siete\") # Note que el codigo tiene un :, esos : es un entonces.\n",
    "                           # Note la importancia de la identación. Es la orden que le estoy dando.\n",
    "    "
   ]
  },
  {
   "cell_type": "markdown",
   "metadata": {},
   "source": [
    "#### Operadores lógicos o de comparación"
   ]
  },
  {
   "cell_type": "markdown",
   "metadata": {},
   "source": [
    "Recuerde que == es igual, <, >, <=, >= y !="
   ]
  },
  {
   "cell_type": "code",
   "execution_count": 3,
   "metadata": {},
   "outputs": [
    {
     "data": {
      "text/plain": [
       "True"
      ]
     },
     "execution_count": 3,
     "metadata": {},
     "output_type": "execute_result"
    }
   ],
   "source": [
    "a != 10 # Valida si a es diferente de 10"
   ]
  },
  {
   "cell_type": "markdown",
   "metadata": {},
   "source": [
    "#### Volviendo a los condicionales"
   ]
  },
  {
   "cell_type": "code",
   "execution_count": 4,
   "metadata": {},
   "outputs": [
    {
     "name": "stdout",
     "output_type": "stream",
     "text": [
      "El riesgo del paciente es alto\n",
      "Asigne paciente a grupo A\n",
      "Llame de inmediato a contacto de emergencia\n",
      "Diagnóstico finalizado\n"
     ]
    }
   ],
   "source": [
    "# Supongamos un programa para hacer triage en sala de emergencia.\n",
    "riesgo = \"alto\"\n",
    "if riesgo == \"alto\":\n",
    "    print(\"El riesgo del paciente es\", riesgo)\n",
    "    print(\"Asigne paciente a grupo A\")\n",
    "    print(\"Llame de inmediato a contacto de emergencia\")\n",
    "print(\"Diagnóstico finalizado\") # Note que esta parte no esta identada, es que no pertenece al cuerpo del condicional (bloque)"
   ]
  },
  {
   "cell_type": "code",
   "execution_count": 5,
   "metadata": {},
   "outputs": [
    {
     "name": "stdout",
     "output_type": "stream",
     "text": [
      "El riesgo del paciente es medio\n",
      "Asigne paciente a grupo B\n",
      "Diagnóstico finalizado\n"
     ]
    }
   ],
   "source": [
    "riesgo = \"medio\"\n",
    "if riesgo == \"alto\": # Las lineas solo se ejecutan si es True\n",
    "    print(\"El riesgo del paciente es\", riesgo)\n",
    "    print(\"Asigne paciente a grupo A\")\n",
    "    print(\"Llame de inmediato a contacto de emergencia\")\n",
    "elif riesgo == \"medio\":\n",
    "    print(\"El riesgo del paciente es\", riesgo)\n",
    "    print(\"Asigne paciente a grupo B\")\n",
    "else:\n",
    "    print(\"El riesgo del paciente es\", riesgo)\n",
    "    print(\"Asigne paciente a grupo C\")\n",
    "print(\"Diagnóstico finalizado\")"
   ]
  },
  {
   "cell_type": "markdown",
   "metadata": {},
   "source": [
    "Diferencia entre if y elif"
   ]
  },
  {
   "cell_type": "code",
   "execution_count": 6,
   "metadata": {},
   "outputs": [
    {
     "name": "stdout",
     "output_type": "stream",
     "text": [
      "Menor a 10\n",
      "Menor a 5\n"
     ]
    }
   ],
   "source": [
    "x = 3\n",
    "if x < 10:\n",
    "    print(\"Menor a 10\")\n",
    "if x < 5:\n",
    "    print(\"Menor a 5\")\n",
    "# Cada if abre un bloque condicional diferente\n"
   ]
  },
  {
   "cell_type": "code",
   "execution_count": 8,
   "metadata": {},
   "outputs": [
    {
     "name": "stdout",
     "output_type": "stream",
     "text": [
      "Menor a 10\n",
      "Menor a 20\n"
     ]
    }
   ],
   "source": [
    "x = 3\n",
    "if x < 10:\n",
    "    print(\"Menor a 10\")\n",
    "elif x < 5:\n",
    "    print(\"Menor a 5\") # Como se cumple el primer camino y es verdadero no tiene necesidad de mirar otros\n",
    "if x < 20:\n",
    "    print(\"Menor a 20\")"
   ]
  },
  {
   "cell_type": "code",
   "execution_count": 9,
   "metadata": {},
   "outputs": [],
   "source": [
    "x = 35\n",
    "if x < 10:\n",
    "    print(\"Menor a 10\")\n",
    "elif x < 5:\n",
    "    print(\"Menor a 5\")"
   ]
  },
  {
   "cell_type": "code",
   "execution_count": 10,
   "metadata": {},
   "outputs": [
    {
     "name": "stdout",
     "output_type": "stream",
     "text": [
      "El número es muy grande\n"
     ]
    }
   ],
   "source": [
    "x = 35\n",
    "if x < 10:\n",
    "    print(\"Menor a 10\")\n",
    "elif x < 5:\n",
    "    print(\"Menor a 5\")\n",
    "else:\n",
    "    print(\"El número es muy grande\")"
   ]
  },
  {
   "cell_type": "markdown",
   "metadata": {},
   "source": [
    " ### FOR loops"
   ]
  },
  {
   "cell_type": "code",
   "execution_count": 11,
   "metadata": {},
   "outputs": [],
   "source": [
    "nums = [1, 4, 8, 9, 11] # Conjunto discreto de números"
   ]
  },
  {
   "cell_type": "code",
   "execution_count": 13,
   "metadata": {},
   "outputs": [
    {
     "name": "stdout",
     "output_type": "stream",
     "text": [
      "1\n",
      "4\n",
      "8\n",
      "9\n",
      "11\n"
     ]
    }
   ],
   "source": [
    "for i in nums:\n",
    "    print(i) # Para cada i (elemento) del conjunto nums, imprima i (el elemento)"
   ]
  },
  {
   "cell_type": "code",
   "execution_count": 15,
   "metadata": {},
   "outputs": [
    {
     "name": "stdout",
     "output_type": "stream",
     "text": [
      "El número es: 1\n",
      "El número es: 4\n",
      "El número es: 8\n",
      "El número es: 9\n",
      "El número es: 11\n"
     ]
    }
   ],
   "source": [
    "for número in nums:\n",
    "    print(\"El número es:\", número) # Puedo utilizar cualquier palabra como contador"
   ]
  },
  {
   "cell_type": "code",
   "execution_count": 16,
   "metadata": {},
   "outputs": [
    {
     "name": "stdout",
     "output_type": "stream",
     "text": [
      "1 es impar\n",
      "4 es par\n",
      "8 es par\n",
      "9 es impar\n",
      "11 es impar\n"
     ]
    }
   ],
   "source": [
    "for i in nums:\n",
    "    if (i % 2) == 1: #Si al dividir por 2, el residuo es 1, el número es impar.\n",
    "        print(i, \"es impar\")\n",
    "    else:\n",
    "        print(i, \"es par\")"
   ]
  },
  {
   "cell_type": "code",
   "execution_count": 17,
   "metadata": {},
   "outputs": [],
   "source": [
    "nums = [1, 2, 3, 4, 5, 6, 7, 8, 9, 10, 11, 12, 13, 14, 15, 16, 17, 18, 19, 20]"
   ]
  },
  {
   "cell_type": "code",
   "execution_count": 18,
   "metadata": {},
   "outputs": [
    {
     "name": "stdout",
     "output_type": "stream",
     "text": [
      "1 es impar\n",
      "2 es par\n",
      "3 es impar\n",
      "4 es par\n",
      "5 es impar\n",
      "6 es par\n",
      "7 es impar\n",
      "8 es par\n",
      "9 es impar\n",
      "10 es par\n",
      "11 es impar\n",
      "12 es par\n",
      "13 es impar\n",
      "14 es par\n",
      "15 es impar\n",
      "16 es par\n",
      "17 es impar\n",
      "18 es par\n",
      "19 es impar\n",
      "20 es par\n"
     ]
    }
   ],
   "source": [
    "for ñ in nums:\n",
    "    if (ñ % 2) == 1: #Si al dividir por 2, el residuo es 1, el número es impar.\n",
    "        print(ñ, \"es impar\")\n",
    "    else:\n",
    "        print(ñ, \"es par\")"
   ]
  },
  {
   "cell_type": "code",
   "execution_count": 19,
   "metadata": {},
   "outputs": [
    {
     "name": "stdout",
     "output_type": "stream",
     "text": [
      "1 es impar\n",
      "2 es par\n",
      "3 es impar\n",
      "4 es par\n",
      "5 es impar\n",
      "6 es par\n",
      "7 es impar\n",
      "8 es par\n",
      "9 es impar\n",
      "10 es par\n",
      "11 es impar\n",
      "12 es par\n",
      "13 es impar\n",
      "14 es par\n",
      "15 es impar\n",
      "16 es par\n",
      "17 es impar\n",
      "18 es par\n",
      "19 es impar\n"
     ]
    }
   ],
   "source": [
    "for x in range(1,20): # range(i,j) va desde el primer argumento hasta el j-1. range itera enteros.\n",
    "    if (x % 2) == 1: \n",
    "        print(x, \"es impar\")\n",
    "    else:\n",
    "        print(x, \"es par\")"
   ]
  },
  {
   "cell_type": "code",
   "execution_count": 20,
   "metadata": {},
   "outputs": [
    {
     "data": {
      "text/plain": [
       "range(1, 20)"
      ]
     },
     "execution_count": 20,
     "metadata": {},
     "output_type": "execute_result"
    }
   ],
   "source": [
    "range(1,20)"
   ]
  },
  {
   "cell_type": "code",
   "execution_count": 22,
   "metadata": {},
   "outputs": [
    {
     "name": "stdout",
     "output_type": "stream",
     "text": [
      "range(1, 20)\n"
     ]
    }
   ],
   "source": [
    "print(range(1,20))"
   ]
  },
  {
   "cell_type": "code",
   "execution_count": 23,
   "metadata": {},
   "outputs": [
    {
     "data": {
      "text/plain": [
       "[1, 2, 3, 4, 5, 6, 7, 8, 9, 10, 11, 12, 13, 14, 15, 16, 17, 18, 19]"
      ]
     },
     "execution_count": 23,
     "metadata": {},
     "output_type": "execute_result"
    }
   ],
   "source": [
    "list(range(1,20))"
   ]
  },
  {
   "cell_type": "code",
   "execution_count": 25,
   "metadata": {},
   "outputs": [
    {
     "data": {
      "text/plain": [
       "[1, 2, 3, 4, 5, 6, 7, 8, 9, 10, 11, 12, 13, 14, 15, 16, 17, 18, 19, 20]"
      ]
     },
     "execution_count": 25,
     "metadata": {},
     "output_type": "execute_result"
    }
   ],
   "source": [
    "list(range(1,21))"
   ]
  },
  {
   "cell_type": "code",
   "execution_count": 30,
   "metadata": {},
   "outputs": [
    {
     "name": "stdout",
     "output_type": "stream",
     "text": [
      "7 True\n"
     ]
    }
   ],
   "source": [
    "es_primo = True\n",
    "n = 7\n",
    "for i in range(2,n):\n",
    "    if n % i == 0:\n",
    "        es_primo = False    \n",
    "print(n, es_primo)"
   ]
  },
  {
   "cell_type": "code",
   "execution_count": 31,
   "metadata": {},
   "outputs": [
    {
     "name": "stdout",
     "output_type": "stream",
     "text": [
      "15 False\n"
     ]
    }
   ],
   "source": [
    "es_primo = True\n",
    "n = 15\n",
    "for i in range(2,n):\n",
    "    if n % i == 0:\n",
    "        es_primo = False    \n",
    "print(n, es_primo)\n",
    "\n",
    "# Note que empieza siendo primo, solo va a cambiar el valor de es_primo, cuando n%i == 0.\n",
    "# Necesitamos volver el código eficiente. Si el computador encontró un contra ejemplo, debemos parar el código.\n",
    "# Con las booleanas normalmente comenzamos con una condición"
   ]
  },
  {
   "cell_type": "code",
   "execution_count": 35,
   "metadata": {},
   "outputs": [
    {
     "name": "stdout",
     "output_type": "stream",
     "text": [
      "i = 2 - es_primo True\n",
      "i = 3 - es_primo True\n",
      "15 False\n"
     ]
    }
   ],
   "source": [
    "es_primo = True\n",
    "n = 15\n",
    "for i in range(2,n):\n",
    "    print(\"i =\", i, \"- es_primo\", es_primo) # print statements, para poder entender como funciona el código.\n",
    "    if n % i == 0:\n",
    "        es_primo = False \n",
    "        break # palabra reservada para que deje de hacer una tarea puntual en el punto donde esta la palabra. \n",
    "print(n, es_primo)"
   ]
  },
  {
   "cell_type": "markdown",
   "metadata": {},
   "source": [
    "### While loops"
   ]
  },
  {
   "cell_type": "code",
   "execution_count": 36,
   "metadata": {},
   "outputs": [
    {
     "name": "stdout",
     "output_type": "stream",
     "text": [
      "0\n",
      "1\n",
      "2\n",
      "3\n",
      "4\n",
      "5\n",
      "6\n",
      "7\n",
      "8\n",
      "9\n"
     ]
    }
   ],
   "source": [
    "#Se ejecutan mientras que una condición sea verdadera. \n",
    "i = 0\n",
    "N = 10\n",
    "while i < N:\n",
    "    print(i)\n",
    "    i=i+1"
   ]
  },
  {
   "cell_type": "code",
   "execution_count": 37,
   "metadata": {},
   "outputs": [
    {
     "name": "stdout",
     "output_type": "stream",
     "text": [
      "10\n"
     ]
    }
   ],
   "source": [
    "print(i)"
   ]
  },
  {
   "cell_type": "code",
   "execution_count": null,
   "metadata": {},
   "outputs": [],
   "source": []
  }
 ],
 "metadata": {
  "kernelspec": {
   "display_name": "Python 3",
   "language": "python",
   "name": "python3"
  },
  "language_info": {
   "codemirror_mode": {
    "name": "ipython",
    "version": 3
   },
   "file_extension": ".py",
   "mimetype": "text/x-python",
   "name": "python",
   "nbconvert_exporter": "python",
   "pygments_lexer": "ipython3",
   "version": "3.7.4"
  }
 },
 "nbformat": 4,
 "nbformat_minor": 2
}
