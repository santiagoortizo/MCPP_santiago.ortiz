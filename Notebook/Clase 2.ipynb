{
 "cells": [
  {
   "cell_type": "markdown",
   "metadata": {},
   "source": [
    "# Estructuras de control"
   ]
  },
  {
   "cell_type": "markdown",
   "metadata": {},
   "source": [
    "## Condicionales"
   ]
  },
  {
   "cell_type": "code",
   "execution_count": null,
   "metadata": {},
   "outputs": [],
   "source": [
    "a = 5 #Defino variable igual a 5\n",
    "if a < 7:\n",
    "    print(\"Menor a siete\") # Note que el codigo tiene un :, esos : es un entonces.\n",
    "                           # Note la importancia de la identación. Es la orden que le estoy dando.\n",
    "    "
   ]
  },
  {
   "cell_type": "markdown",
   "metadata": {},
   "source": [
    "#### Operadores lógicos o de comparación"
   ]
  },
  {
   "cell_type": "markdown",
   "metadata": {},
   "source": [
    "Recuerde que == es igual, <, >, <=, >= y !="
   ]
  },
  {
   "cell_type": "code",
   "execution_count": null,
   "metadata": {},
   "outputs": [],
   "source": [
    "a != 10 # Valida si a es diferente de 10"
   ]
  },
  {
   "cell_type": "markdown",
   "metadata": {},
   "source": [
    "#### Volviendo a los condicionales"
   ]
  },
  {
   "cell_type": "code",
   "execution_count": null,
   "metadata": {},
   "outputs": [],
   "source": [
    "# Supongamos un programa para hacer triage en sala de emergencia.\n",
    "riesgo = \"alto\"\n",
    "if riesgo == \"alto\":\n",
    "    print(\"El riesgo del paciente es\", riesgo)\n",
    "    print(\"Asigne paciente a grupo A\")\n",
    "    print(\"Llame de inmediato a contacto de emergencia\")\n",
    "print(\"Diagnóstico finalizado\") # Note que esta parte no esta identada, es que no pertenece al cuerpo del condicional (bloque)"
   ]
  },
  {
   "cell_type": "code",
   "execution_count": null,
   "metadata": {},
   "outputs": [],
   "source": [
    "riesgo = \"medio\"\n",
    "if riesgo == \"alto\": # Las lineas solo se ejecutan si es True\n",
    "    print(\"El riesgo del paciente es\", riesgo)\n",
    "    print(\"Asigne paciente a grupo A\")\n",
    "    print(\"Llame de inmediato a contacto de emergencia\")\n",
    "elif riesgo == \"medio\":\n",
    "    print(\"El riesgo del paciente es\", riesgo)\n",
    "    print(\"Asigne paciente a grupo B\")\n",
    "else:\n",
    "    print(\"El riesgo del paciente es\", riesgo)\n",
    "    print(\"Asigne paciente a grupo C\")\n",
    "print(\"Diagnóstico finalizado\")"
   ]
  },
  {
   "cell_type": "markdown",
   "metadata": {},
   "source": [
    "Diferencia entre if y elif"
   ]
  },
  {
   "cell_type": "code",
   "execution_count": null,
   "metadata": {},
   "outputs": [],
   "source": [
    "x = 3\n",
    "if x < 10:\n",
    "    print(\"Menor a 10\")\n",
    "if x < 5:\n",
    "    print(\"Menor a 5\")\n",
    "# Cada if abre un bloque condicional diferente\n"
   ]
  },
  {
   "cell_type": "code",
   "execution_count": null,
   "metadata": {},
   "outputs": [],
   "source": [
    "x = 3\n",
    "if x < 10:\n",
    "    print(\"Menor a 10\")\n",
    "elif x < 5:\n",
    "    print(\"Menor a 5\") # Como se cumple el primer camino y es verdadero no tiene necesidad de mirar otros\n",
    "if x < 20:\n",
    "    print(\"Menor a 20\")"
   ]
  },
  {
   "cell_type": "code",
   "execution_count": null,
   "metadata": {},
   "outputs": [],
   "source": [
    "x = 35\n",
    "if x < 10:\n",
    "    print(\"Menor a 10\")\n",
    "elif x < 5:\n",
    "    print(\"Menor a 5\")"
   ]
  },
  {
   "cell_type": "code",
   "execution_count": null,
   "metadata": {},
   "outputs": [],
   "source": [
    "x = 35\n",
    "if x < 10:\n",
    "    print(\"Menor a 10\")\n",
    "elif x < 5:\n",
    "    print(\"Menor a 5\")\n",
    "else:\n",
    "    print(\"El número es muy grande\")"
   ]
  },
  {
   "cell_type": "markdown",
   "metadata": {},
   "source": [
    " ### FOR loops"
   ]
  },
  {
   "cell_type": "code",
   "execution_count": null,
   "metadata": {},
   "outputs": [],
   "source": [
    "nums = [1, 4, 8, 9, 11] # Conjunto discreto de números"
   ]
  },
  {
   "cell_type": "code",
   "execution_count": null,
   "metadata": {},
   "outputs": [],
   "source": [
    "for i in nums:\n",
    "    print(i) # Para cada i (elemento) del conjunto nums, imprima i (el elemento)"
   ]
  },
  {
   "cell_type": "code",
   "execution_count": null,
   "metadata": {},
   "outputs": [],
   "source": [
    "for número in nums:\n",
    "    print(\"El número es:\", número) # Puedo utilizar cualquier palabra como contador"
   ]
  },
  {
   "cell_type": "code",
   "execution_count": null,
   "metadata": {},
   "outputs": [],
   "source": [
    "for i in nums:\n",
    "    if (i % 2) == 1: #Si al dividir por 2, el residuo es 1, el número es impar.\n",
    "        print(i, \"es impar\")\n",
    "    else:\n",
    "        print(i, \"es par\")"
   ]
  },
  {
   "cell_type": "code",
   "execution_count": null,
   "metadata": {},
   "outputs": [],
   "source": [
    "nums = [1, 2, 3, 4, 5, 6, 7, 8, 9, 10, 11, 12, 13, 14, 15, 16, 17, 18, 19, 20]"
   ]
  },
  {
   "cell_type": "code",
   "execution_count": null,
   "metadata": {},
   "outputs": [],
   "source": [
    "for ñ in nums:\n",
    "    if (ñ % 2) == 1: #Si al dividir por 2, el residuo es 1, el número es impar.\n",
    "        print(ñ, \"es impar\")\n",
    "    else:\n",
    "        print(ñ, \"es par\")"
   ]
  },
  {
   "cell_type": "code",
   "execution_count": null,
   "metadata": {},
   "outputs": [],
   "source": [
    "for x in range(1,20): # range(i,j) va desde el primer argumento hasta el j-1. range itera enteros.\n",
    "    if (x % 2) == 1: \n",
    "        print(x, \"es impar\")\n",
    "    else:\n",
    "        print(x, \"es par\")"
   ]
  },
  {
   "cell_type": "code",
   "execution_count": 1,
   "metadata": {},
   "outputs": [
    {
     "data": {
      "text/plain": [
       "range(1, 20)"
      ]
     },
     "execution_count": 1,
     "metadata": {},
     "output_type": "execute_result"
    }
   ],
   "source": [
    "range(1,20)"
   ]
  },
  {
   "cell_type": "code",
   "execution_count": 2,
   "metadata": {},
   "outputs": [
    {
     "name": "stdout",
     "output_type": "stream",
     "text": [
      "range(1, 20)\n"
     ]
    }
   ],
   "source": [
    "print(range(1,20))"
   ]
  },
  {
   "cell_type": "code",
   "execution_count": 3,
   "metadata": {},
   "outputs": [
    {
     "data": {
      "text/plain": [
       "[1, 2, 3, 4, 5, 6, 7, 8, 9, 10, 11, 12, 13, 14, 15, 16, 17, 18, 19]"
      ]
     },
     "execution_count": 3,
     "metadata": {},
     "output_type": "execute_result"
    }
   ],
   "source": [
    "list(range(1,20))"
   ]
  },
  {
   "cell_type": "code",
   "execution_count": null,
   "metadata": {},
   "outputs": [],
   "source": [
    "list(range(1,21))"
   ]
  },
  {
   "cell_type": "code",
   "execution_count": null,
   "metadata": {},
   "outputs": [],
   "source": [
    "es_primo = True\n",
    "n = 7\n",
    "for i in range(2,n):\n",
    "    if n % i == 0:\n",
    "        es_primo = False    \n",
    "print(n, es_primo)"
   ]
  },
  {
   "cell_type": "code",
   "execution_count": null,
   "metadata": {},
   "outputs": [],
   "source": [
    "es_primo = True\n",
    "n = 15\n",
    "for i in range(2,n):\n",
    "    if n % i == 0:\n",
    "        es_primo = False    \n",
    "print(n, es_primo)\n",
    "\n",
    "# Note que empieza siendo primo, solo va a cambiar el valor de es_primo, cuando n%i == 0.\n",
    "# Necesitamos volver el código eficiente. Si el computador encontró un contra ejemplo, debemos parar el código.\n",
    "# Con las booleanas normalmente comenzamos con una condición"
   ]
  },
  {
   "cell_type": "code",
   "execution_count": 36,
   "metadata": {},
   "outputs": [
    {
     "name": "stdout",
     "output_type": "stream",
     "text": [
      "i = 2 - es_primo True\n",
      "i = 3 - es_primo True\n",
      "15 False\n"
     ]
    }
   ],
   "source": [
    "es_primo = True\n",
    "n = 15\n",
    "for i in range(2,n):\n",
    "    print(\"i =\", i, \"- es_primo\", es_primo) # print statements, para poder entender como funciona el código.\n",
    "    if n % i == 0:\n",
    "        es_primo = False \n",
    "        break # palabra reservada para que deje de hacer una tarea puntual en el punto donde esta la palabra. \n",
    "print(n, es_primo)"
   ]
  },
  {
   "cell_type": "markdown",
   "metadata": {},
   "source": [
    "### While loops"
   ]
  },
  {
   "cell_type": "code",
   "execution_count": null,
   "metadata": {},
   "outputs": [],
   "source": [
    "#Se ejecutan mientras que una condición sea verdadera. \n",
    "i = 0\n",
    "N = 10\n",
    "while i < N:\n",
    "    print(i)\n",
    "    i=i+1"
   ]
  },
  {
   "cell_type": "code",
   "execution_count": null,
   "metadata": {},
   "outputs": [],
   "source": [
    "print(i)"
   ]
  },
  {
   "cell_type": "markdown",
   "metadata": {},
   "source": [
    "# Ejercicios en clase"
   ]
  },
  {
   "cell_type": "markdown",
   "metadata": {},
   "source": [
    "#### Primer ejercicio"
   ]
  },
  {
   "cell_type": "code",
   "execution_count": 35,
   "metadata": {},
   "outputs": [
    {
     "name": "stdout",
     "output_type": "stream",
     "text": [
      "Escriba un número: 5\n",
      "Escriba un número mayor a 5: 4\n",
      "4 no es mayor a 5: 4\n",
      "4 no es mayor a 5: 4\n",
      "4 no es mayor a 5: 5\n",
      "5 no es mayor a 5: 6\n",
      "Sus números fueron: 5 y 6\n"
     ]
    }
   ],
   "source": [
    "primer_numero = int(input(\"Escriba un número: \"))\n",
    "segundo_numero = int(input(f\"Escriba un número mayor a {primer_numero}: \"))\n",
    "while segundo_numero <= primer_numero:\n",
    "    segundo_numero = int(input(f\"{segundo_numero} no es mayor a {primer_numero}: \"))\n",
    "print(f\"Sus números fueron: {primer_numero} y {segundo_numero}\")"
   ]
  },
  {
   "cell_type": "markdown",
   "metadata": {},
   "source": [
    "#### Segundo ejercicio"
   ]
  },
  {
   "cell_type": "code",
   "execution_count": 37,
   "metadata": {},
   "outputs": [
    {
     "name": "stdout",
     "output_type": "stream",
     "text": [
      "Altura del triángulo: 67\n",
      "*\n",
      "**\n",
      "***\n",
      "****\n",
      "*****\n",
      "******\n",
      "*******\n",
      "********\n",
      "*********\n",
      "**********\n",
      "***********\n",
      "************\n",
      "*************\n",
      "**************\n",
      "***************\n",
      "****************\n",
      "*****************\n",
      "******************\n",
      "*******************\n",
      "********************\n",
      "*********************\n",
      "**********************\n",
      "***********************\n",
      "************************\n",
      "*************************\n",
      "**************************\n",
      "***************************\n",
      "****************************\n",
      "*****************************\n",
      "******************************\n",
      "*******************************\n",
      "********************************\n",
      "*********************************\n",
      "**********************************\n",
      "***********************************\n",
      "************************************\n",
      "*************************************\n",
      "**************************************\n",
      "***************************************\n",
      "****************************************\n",
      "*****************************************\n",
      "******************************************\n",
      "*******************************************\n",
      "********************************************\n",
      "*********************************************\n",
      "**********************************************\n",
      "***********************************************\n",
      "************************************************\n",
      "*************************************************\n",
      "**************************************************\n",
      "***************************************************\n",
      "****************************************************\n",
      "*****************************************************\n",
      "******************************************************\n",
      "*******************************************************\n",
      "********************************************************\n",
      "*********************************************************\n",
      "**********************************************************\n",
      "***********************************************************\n",
      "************************************************************\n",
      "*************************************************************\n",
      "**************************************************************\n",
      "***************************************************************\n",
      "****************************************************************\n",
      "*****************************************************************\n",
      "******************************************************************\n",
      "*******************************************************************\n",
      "********************************************************************\n",
      "*******************************************************************\n",
      "******************************************************************\n",
      "*****************************************************************\n",
      "****************************************************************\n",
      "***************************************************************\n",
      "**************************************************************\n",
      "*************************************************************\n",
      "************************************************************\n",
      "***********************************************************\n",
      "**********************************************************\n",
      "*********************************************************\n",
      "********************************************************\n",
      "*******************************************************\n",
      "******************************************************\n",
      "*****************************************************\n",
      "****************************************************\n",
      "***************************************************\n",
      "**************************************************\n",
      "*************************************************\n",
      "************************************************\n",
      "***********************************************\n",
      "**********************************************\n",
      "*********************************************\n",
      "********************************************\n",
      "*******************************************\n",
      "******************************************\n",
      "*****************************************\n",
      "****************************************\n",
      "***************************************\n",
      "**************************************\n",
      "*************************************\n",
      "************************************\n",
      "***********************************\n",
      "**********************************\n",
      "*********************************\n",
      "********************************\n",
      "*******************************\n",
      "******************************\n",
      "*****************************\n",
      "****************************\n",
      "***************************\n",
      "**************************\n",
      "*************************\n",
      "************************\n",
      "***********************\n",
      "**********************\n",
      "*********************\n",
      "********************\n",
      "*******************\n",
      "******************\n",
      "*****************\n",
      "****************\n",
      "***************\n",
      "**************\n",
      "*************\n",
      "************\n",
      "***********\n",
      "**********\n",
      "*********\n",
      "********\n",
      "*******\n",
      "******\n",
      "*****\n",
      "****\n",
      "***\n",
      "**\n",
      "*\n"
     ]
    }
   ],
   "source": [
    "veces = int(input(\"Altura del triángulo: \"))\n",
    "for i in range(1,veces+1):\n",
    "    print((\"*\")*i)\n",
    "for i in range(veces+1,0,-1): # Note que range inverso es fin, inicio (recordando que coge uno más) n+1\n",
    "    print((\"*\")*i)"
   ]
  },
  {
   "cell_type": "code",
   "execution_count": 12,
   "metadata": {},
   "outputs": [
    {
     "name": "stdout",
     "output_type": "stream",
     "text": [
      "Altura del triángulo: 10\n",
      "\n",
      "*\n",
      "**\n",
      "***\n",
      "****\n",
      "*****\n",
      "******\n",
      "*******\n",
      "********\n",
      "*********\n",
      "**********\n",
      "*********\n",
      "********\n",
      "*******\n",
      "******\n",
      "*****\n",
      "****\n",
      "***\n",
      "**\n",
      "*\n"
     ]
    }
   ],
   "source": [
    "veces = int(input(\"Altura del triángulo: \"))\n",
    "for i in range(veces):\n",
    "    print(\"*\"*i)\n",
    "for i in range(veces): # El range se lo coge desde 0 hasta n-1\n",
    "    print(\"*\"*(veces-i)) #Este veces si lo coge como es"
   ]
  },
  {
   "cell_type": "code",
   "execution_count": 13,
   "metadata": {},
   "outputs": [
    {
     "name": "stdout",
     "output_type": "stream",
     "text": [
      "Anchura: 10\n",
      "*\n",
      "**\n",
      "***\n",
      "****\n",
      "*****\n",
      "******\n",
      "*******\n",
      "********\n",
      "*********\n",
      "**********\n",
      "*********\n",
      "********\n",
      "*******\n",
      "******\n",
      "*****\n",
      "****\n",
      "***\n",
      "**\n",
      "*\n"
     ]
    }
   ],
   "source": [
    "anchura=int(input(\"Anchura: \"))\n",
    "\n",
    "for i in range(1, anchura + 1):\n",
    "    for j in range(i):\n",
    "        print(\"*\", end = \"\")\n",
    "    print()\n",
    "for i in range(1, anchura):\n",
    "    for j in range(anchura - i):\n",
    "        print(\"*\", end = \"\")\n",
    "    print()\n"
   ]
  },
  {
   "cell_type": "code",
   "execution_count": 38,
   "metadata": {},
   "outputs": [
    {
     "name": "stdout",
     "output_type": "stream",
     "text": [
      "Altura del triángulo: 8\n",
      "       * \n",
      "      * * \n",
      "     * * * \n",
      "    * * * * \n",
      "   * * * * * \n",
      "  * * * * * * \n",
      " * * * * * * * \n",
      "* * * * * * * * \n",
      " * * * * * * * \n",
      "  * * * * * * \n",
      "   * * * * * \n",
      "    * * * * \n",
      "     * * * \n",
      "      * * \n",
      "       * \n"
     ]
    }
   ],
   "source": [
    "# Ejercicio 2.5. Hacer un rombo\n",
    "veces = int(input(\"Altura del triángulo: \"))\n",
    "for i in range(1,veces+1):\n",
    "    print((\" \"*(veces-i))+(\"* \"*i))\n",
    "for i in range(veces-1,0,-1): \n",
    "    print((\" \"*(veces-i))+(\"* \"*i))\n"
   ]
  },
  {
   "cell_type": "markdown",
   "metadata": {},
   "source": [
    "#### Tercer ejercicio"
   ]
  },
  {
   "cell_type": "code",
   "execution_count": 18,
   "metadata": {},
   "outputs": [
    {
     "name": "stdout",
     "output_type": "stream",
     "text": [
      "Escriba el dividendo: 15\n",
      "Escriba el divisor: 4\n",
      "La división es no es exacta. El cociente es 3 y el residuo es  3\n"
     ]
    }
   ],
   "source": [
    "dividendo = int(input(\"Escriba el dividendo: \"))\n",
    "divisor = int(input(\"Escriba el divisor: \"))\n",
    "cociente = dividendo // divisor\n",
    "if dividendo % divisor == 0:\n",
    "    print(f\"La división es exacta. El cociente es {cociente}\")\n",
    "else:\n",
    "    print(f\"La división es no es exacta. El cociente es {cociente} y el residuo es \", dividendo % divisor)"
   ]
  },
  {
   "cell_type": "markdown",
   "metadata": {},
   "source": [
    "#### Cuarto ejercicio"
   ]
  },
  {
   "cell_type": "code",
   "execution_count": 27,
   "metadata": {},
   "outputs": [
    {
     "name": "stdout",
     "output_type": "stream",
     "text": [
      "Escriba el primer año: 2012\n",
      "Escriba el segundo año: 2000\n",
      "Han pasado 12 años desde el año 2000 hasta el año 2012\n"
     ]
    }
   ],
   "source": [
    "año_1 = int(input(\"Escriba el primer año: \"))\n",
    "año_2 = int(input(\"Escriba el segundo año: \"))\n",
    "if año_1 > año_2:\n",
    "    print(\"Han pasado\", año_1 - año_2, \"años desde el año\", año_2, \"hasta el año\", año_1)\n",
    "else:\n",
    "    print(\"Faltan\", año_2 - año_1, \"años desde el año\", año_1, \"hasta el año\", año_2)\n"
   ]
  },
  {
   "cell_type": "code",
   "execution_count": null,
   "metadata": {},
   "outputs": [],
   "source": []
  }
 ],
 "metadata": {
  "kernelspec": {
   "display_name": "Python 3",
   "language": "python",
   "name": "python3"
  },
  "language_info": {
   "codemirror_mode": {
    "name": "ipython",
    "version": 3
   },
   "file_extension": ".py",
   "mimetype": "text/x-python",
   "name": "python",
   "nbconvert_exporter": "python",
   "pygments_lexer": "ipython3",
   "version": "3.7.4"
  }
 },
 "nbformat": 4,
 "nbformat_minor": 2
}
