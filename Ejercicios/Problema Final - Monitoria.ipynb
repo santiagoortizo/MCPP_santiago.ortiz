{
 "cells": [
  {
   "cell_type": "markdown",
   "metadata": {},
   "source": [
    "## Problema Final\n",
    "Debido a la gran crisis del 2020 denominada COVID-19, Banco BanBog ha estado recibiendo múltiples intentos de robos por internet y anoche usted recibió una lista de tarjetas de crédito sospechosas y saben que usted está tomando clases de python y conoce de expresiones regulares por lo que el VP de Tecnologia requiere verificar si los números de tarjeta de crédito son válidos o no y que usted diseñe un algoritmo para tal tarea.\n",
    "\n",
    "Una tarjeta de crédito válida de BanBog tiene las siguientes características:\n",
    "\n",
    "Debe comenzar con 4, 5 o 6.\n",
    "Debe contener exactamente 16 dígitos.\n",
    "Solo debe constar de dígitos (0-9).\n",
    "Puede tener dígitos en grupos de 4, separados por un guión \"-\".\n",
    "NO debe usar ningún otro separador como '', '_', etc.\n",
    "NO debe tener 4 o más dígitos repetidos consecutivos.\n",
    "##### Tarjetas de crédito válidas\n",
    "4253625879615786\n",
    "\n",
    "4424424424442444\n",
    "\n",
    "5122-2368-7954-3214\n",
    "\n",
    "##### Tarjetas de crédito inválidas:\n",
    "42536258796157867 #17 dígitos en una tarjeta de credito → Invalid\n",
    "\n",
    "4424444424442444 #Los dígitos consecutivos se repiten 4 o más veces → Invalid\n",
    "\n",
    "5122-2368-7954 - 3214 #Se utilizaron seperadores diferentes a solamente \"-\" → Invalid\n",
    "\n",
    "44244x4424442444 #Contiene caracteres que no son dígitos → Invalid\n",
    "\n",
    "0525362587961578 #No comienza con 4, 5 o 6 → Invalid"
   ]
  },
  {
   "cell_type": "code",
   "execution_count": 7,
   "metadata": {},
   "outputs": [],
   "source": [
    "import re"
   ]
  },
  {
   "cell_type": "markdown",
   "metadata": {},
   "source": [
    "### Solución"
   ]
  },
  {
   "cell_type": "code",
   "execution_count": 47,
   "metadata": {},
   "outputs": [
    {
     "name": "stdout",
     "output_type": "stream",
     "text": [
      "Ingrese el número de la tarjeta de crédito: 0525362587961578\n"
     ]
    }
   ],
   "source": [
    "t_c = input(\"Ingrese el número de la tarjeta de crédito: \")"
   ]
  },
  {
   "cell_type": "code",
   "execution_count": 54,
   "metadata": {},
   "outputs": [],
   "source": [
    "def validar_tc(t_c):\n",
    "    print(\"Tarjeta de crédito número:\", t_c)\n",
    "    valida = True\n",
    "    while valida == True:\n",
    "        if len(t_c)==16 or len(t_c)==19: # Todas las TC tiene 16 dígitos. Pero pueden haber hasta 19 caracteres y se separan por un -\n",
    "            valida = True\n",
    "            print(\"Tiene 16 o 19 caracteres\")\n",
    "        else:\n",
    "            valida = False\n",
    "            print(\"NO tiene 16 o 19 caracteres\")\n",
    "            break\n",
    "        if t_c[0] == \"4\" or t_c[0] == \"5\" or t_c[0] == \"6\": # Todas las TC deben empezar por esos números. Tomamos solo el primer caracter\n",
    "            valida = True\n",
    "            print(\"Empieza con 4, 5 o 6\")\n",
    "        else:\n",
    "            valida = False\n",
    "            print(\"No empieza con 4, 5 o 6\")    \n",
    "            break\n",
    "        patron_numeros = \"[\\d]{1}\" # Ese patrón me coge SOLO los números de forma individual. Deben haber 16 números. Por lo tanto, 16 elementos en la lista.\n",
    "        a = re.findall(patron_numeros, t_c)    \n",
    "        if len(a)==16:\n",
    "            valida = True\n",
    "            print(\"Tiene 16 números\")\n",
    "        else:\n",
    "            valida = False\n",
    "            print(\"NO tiene 16 números\")\n",
    "            break \n",
    "        patron_letras = \"[a-zA-Z]+\" # Busca alguna letra en la TC. Si no encuentra nada, la lista es vacia. \n",
    "        b = re.findall(patron_letras, t_c)\n",
    "        if len(b)==0:\n",
    "            valida = True\n",
    "            print(\"No hay ninguna letra\")\n",
    "        else:\n",
    "            valida = False\n",
    "            print(\"HAY letras\")\n",
    "            break\n",
    "        patron_guion = \"[\\d]{4}([\\D])\" # Busca todo lo que no sea número. Si no hay nada sigue. Si hay tres cosas diferentes a números,\n",
    "                              # revisa que sean guiones. Si no, alerta. \n",
    "        c = re.findall(patron_guion, t_c)\n",
    "        if len(c)==0:\n",
    "            valida = True\n",
    "            print(\"No esta separado\")\n",
    "        elif len(c)==3:\n",
    "            for i in range(len(c)):\n",
    "                if c[i]== \"-\":\n",
    "                    valida = True\n",
    "                    print(\"Esta separado por -\")\n",
    "                else:\n",
    "                    valida = False\n",
    "                    print(\"No esta separado por -\")\n",
    "                    break\n",
    "            break         \n",
    "        else:\n",
    "            valida = False\n",
    "            break    \n",
    "        no_separado = t_c.replace(\"-\",\"\")\n",
    "        patron_repetido = \"[0]{4}|[1]{4}[2]{4}|[3]{4}|[4]{4}|[5]{4}[6]{4}|[7]{4}[8]{4}|[9]{4}\"\n",
    "        d = re.findall(patron_repetido, no_separado)\n",
    "        if len(d)==0:\n",
    "            valida = True\n",
    "            print(\"NO tiene números repetidos\")\n",
    "        else:\n",
    "            valida = False\n",
    "            print(\"Tiene números repetidos\")\n",
    "            break\n",
    "        break    \n",
    "    return valida"
   ]
  },
  {
   "cell_type": "code",
   "execution_count": 49,
   "metadata": {},
   "outputs": [
    {
     "name": "stdout",
     "output_type": "stream",
     "text": [
      "Tiene 16 o 19 caracteres\n",
      "No empieza con 4, 5 o 6\n",
      "La tarjeta de crédito es válida: False\n"
     ]
    }
   ],
   "source": [
    "print(\"La tarjeta de crédito es válida:\", validar_tc(t_c))"
   ]
  },
  {
   "cell_type": "code",
   "execution_count": 55,
   "metadata": {},
   "outputs": [
    {
     "name": "stdout",
     "output_type": "stream",
     "text": [
      "Tarjeta de crédito número: 4253625879615786\n",
      "Tiene 16 o 19 caracteres\n",
      "Empieza con 4, 5 o 6\n",
      "Tiene 16 números\n",
      "No hay ninguna letra\n",
      "No esta separado\n",
      "NO tiene números repetidos\n",
      "¿La tarjeta de crédito 4253625879615786 es válida? True\n",
      "----------------------------------------------------------\n",
      "Tarjeta de crédito número: 4424424424442444\n",
      "Tiene 16 o 19 caracteres\n",
      "Empieza con 4, 5 o 6\n",
      "Tiene 16 números\n",
      "No hay ninguna letra\n",
      "No esta separado\n",
      "NO tiene números repetidos\n",
      "¿La tarjeta de crédito 4424424424442444 es válida? True\n",
      "----------------------------------------------------------\n",
      "Tarjeta de crédito número: 5122-2368-7954-3214\n",
      "Tiene 16 o 19 caracteres\n",
      "Empieza con 4, 5 o 6\n",
      "Tiene 16 números\n",
      "No hay ninguna letra\n",
      "Esta separado por -\n",
      "Esta separado por -\n",
      "Esta separado por -\n",
      "¿La tarjeta de crédito 5122-2368-7954-3214 es válida? True\n",
      "----------------------------------------------------------\n",
      "Tarjeta de crédito número: 42536258796157867\n",
      "NO tiene 16 o 19 caracteres\n",
      "¿La tarjeta de crédito 42536258796157867 es válida? False\n",
      "----------------------------------------------------------\n",
      "Tarjeta de crédito número: 4424444424442444\n",
      "Tiene 16 o 19 caracteres\n",
      "Empieza con 4, 5 o 6\n",
      "Tiene 16 números\n",
      "No hay ninguna letra\n",
      "No esta separado\n",
      "Tiene números repetidos\n",
      "¿La tarjeta de crédito 4424444424442444 es válida? False\n",
      "----------------------------------------------------------\n",
      "Tarjeta de crédito número: 5122-2368-7954 - 3214\n",
      "NO tiene 16 o 19 caracteres\n",
      "¿La tarjeta de crédito 5122-2368-7954 - 3214 es válida? False\n",
      "----------------------------------------------------------\n",
      "Tarjeta de crédito número: 44244x4424442444\n",
      "Tiene 16 o 19 caracteres\n",
      "Empieza con 4, 5 o 6\n",
      "NO tiene 16 números\n",
      "¿La tarjeta de crédito 44244x4424442444 es válida? False\n",
      "----------------------------------------------------------\n",
      "Tarjeta de crédito número: 0525362587961578\n",
      "Tiene 16 o 19 caracteres\n",
      "No empieza con 4, 5 o 6\n",
      "¿La tarjeta de crédito 0525362587961578 es válida? False\n",
      "----------------------------------------------------------\n"
     ]
    }
   ],
   "source": [
    "tarjetas = [\"4253625879615786\", \"4424424424442444\", \"5122-2368-7954-3214\", \"42536258796157867\", \"4424444424442444\",\n",
    "            \"5122-2368-7954 - 3214\", \"44244x4424442444\", \"0525362587961578\"]\n",
    "for i in tarjetas:\n",
    "    print(f\"¿La tarjeta de crédito\", i, \"es válida?\", validar_tc(i))\n",
    "    print(\"----------------------------------------------------------\")"
   ]
  },
  {
   "cell_type": "code",
   "execution_count": null,
   "metadata": {},
   "outputs": [],
   "source": []
  }
 ],
 "metadata": {
  "kernelspec": {
   "display_name": "Python 3",
   "language": "python",
   "name": "python3"
  },
  "language_info": {
   "codemirror_mode": {
    "name": "ipython",
    "version": 3
   },
   "file_extension": ".py",
   "mimetype": "text/x-python",
   "name": "python",
   "nbconvert_exporter": "python",
   "pygments_lexer": "ipython3",
   "version": "3.7.4"
  }
 },
 "nbformat": 4,
 "nbformat_minor": 2
}
