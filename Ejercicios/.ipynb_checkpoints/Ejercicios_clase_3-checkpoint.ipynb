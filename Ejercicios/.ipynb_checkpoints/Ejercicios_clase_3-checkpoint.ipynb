{
 "cells": [
  {
   "cell_type": "markdown",
   "metadata": {},
   "source": [
    "1. Haga un algoritmo que, utlizando listas, dibuje un rombo sin espacios entre los astericos y que funcione solo con números impares (si el usuario introduce un número par, le indique que debe ser impar y que lo vuelva a intentar)."
   ]
  },
  {
   "cell_type": "code",
   "execution_count": 1,
   "metadata": {
    "scrolled": true
   },
   "outputs": [
    {
     "name": "stdout",
     "output_type": "stream",
     "text": [
      "Digite un número que sea impar: 7\n",
      "     *\n",
      "    ***\n",
      "   *****\n",
      "  *******\n",
      "   *****\n",
      "    ***\n",
      "     *\n"
     ]
    }
   ],
   "source": [
    "a = int(input(\"Digite un número que sea impar: \"))\n",
    "while a%2==0:\n",
    "    a = int(input(\"Por favor que sea un número impar!!: \"))\n",
    "aa = []\n",
    "x = a-1\n",
    "for i in range(a+1):\n",
    "    if i%2!=0:\n",
    "        x=x-1\n",
    "        aa.append(i)\n",
    "        print((\" \"*x)+(\"*\"*i))\n",
    "try:\n",
    "    aa.remove(a)\n",
    "except:\n",
    "    next\n",
    "for i in aa[::-1]:\n",
    "    x=x+1\n",
    "    print((\" \"*x)+(\"*\"*i))\n",
    "    "
   ]
  },
  {
   "cell_type": "code",
   "execution_count": 2,
   "metadata": {},
   "outputs": [
    {
     "data": {
      "text/plain": [
       "[1, 3, 5]"
      ]
     },
     "execution_count": 2,
     "metadata": {},
     "output_type": "execute_result"
    }
   ],
   "source": [
    "aa"
   ]
  },
  {
   "cell_type": "code",
   "execution_count": 3,
   "metadata": {},
   "outputs": [
    {
     "data": {
      "text/plain": [
       "[5, 3, 1]"
      ]
     },
     "execution_count": 3,
     "metadata": {},
     "output_type": "execute_result"
    }
   ],
   "source": [
    "aa[::-1]"
   ]
  },
  {
   "cell_type": "markdown",
   "metadata": {},
   "source": [
    "2. Escriba un programa que permita crear una lista de palabras y que, a continuación, pida una palabra y diga cuántas veces aparece esa palabra en la lista."
   ]
  },
  {
   "cell_type": "code",
   "execution_count": 4,
   "metadata": {},
   "outputs": [
    {
     "name": "stdout",
     "output_type": "stream",
     "text": [
      "Dígame cuántas palabras tiene la lista: 3\n",
      "Dígame la palabra número 1: Da\n",
      "Dígame la palabra número 2: De\n",
      "Dígame la palabra número 3: Da\n",
      "Su lista de palabras es:  ['Da', 'De', 'Da']\n",
      "Digame una palabra: Da\n",
      "La palabra:  Da aparece 2 veces en su lista\n"
     ]
    }
   ],
   "source": [
    "numero = int(input(\"Dígame cuántas palabras tiene la lista: \"))\n",
    "while numero<=0:\n",
    "    numero = int(input(\"Por favor que sea un número mayor a 0!!: \"))\n",
    "lista=[]\n",
    "for i in range(numero):\n",
    "    palabra=input(\"Dígame la palabra número \"+str(i+1)+\": \")\n",
    "    lista.append(palabra)\n",
    "print(\"Su lista de palabras es: \", lista)\n",
    "palabra= input(\"Digame una palabra: \")\n",
    "contador = 0\n",
    "for i in lista:\n",
    "    if i == palabra:\n",
    "        contador = contador + 1\n",
    "if contador == 0:\n",
    "    print(\"La palabra: \", palabra, \"no aparece en su lista\")\n",
    "elif contador == 1:\n",
    "    print(\"La palabra: \", palabra, \"aparece una vez en su lista\")\n",
    "else:\n",
    "    print(\"La palabra: \", palabra, \"aparece\", contador, \"veces en su lista\")"
   ]
  },
  {
   "cell_type": "markdown",
   "metadata": {},
   "source": [
    "3. Escribir un programa que almacene en una lista los siguientes precios, 50, 75, 46, 22, 80, 65, 8, y muestre por pantalla el menor y el mayor de los precios."
   ]
  },
  {
   "cell_type": "code",
   "execution_count": 5,
   "metadata": {},
   "outputs": [
    {
     "name": "stdout",
     "output_type": "stream",
     "text": [
      "El mínimo es 8\n",
      "El máximo es 80\n"
     ]
    }
   ],
   "source": [
    "prices = [50, 75, 46, 22, 80, 65, 8]\n",
    "min1 = max1 = prices[0]\n",
    "for price in prices:\n",
    "    if price < min1:\n",
    "        min1 = price\n",
    "    elif price > max1:\n",
    "        max1 = price \n",
    "print(\"El mínimo es \" + str(min1)) \n",
    "print(\"El máximo es \" + str(max1))"
   ]
  },
  {
   "cell_type": "code",
   "execution_count": 6,
   "metadata": {},
   "outputs": [
    {
     "name": "stdout",
     "output_type": "stream",
     "text": [
      "El máximo es:  80\n",
      "El mínimo es:  8\n"
     ]
    }
   ],
   "source": [
    "numbers = [50, 75, 46, 22, 80, 65, 8]\n",
    "numbers.sort(reverse = True) \n",
    "print(\"El máximo es: \", numbers[0]) \n",
    "print(\"El mínimo es: \", numbers[-1]) "
   ]
  },
  {
   "cell_type": "code",
   "execution_count": 7,
   "metadata": {
    "scrolled": false
   },
   "outputs": [
    {
     "name": "stdout",
     "output_type": "stream",
     "text": [
      "El precio mínimo de la lista es 8 y el precio máximo es 80\n"
     ]
    }
   ],
   "source": [
    "lista2 = [50, 75, 46, 22, 80, 65, 8]\n",
    "print(f\"El precio mínimo de la lista es {min(lista2)} y el precio máximo es {max(lista2)}\")"
   ]
  },
  {
   "cell_type": "markdown",
   "metadata": {},
   "source": [
    "4. Escribir un programa que pregunte por una muestra de números, separados por comas, los guarde en una lista y muestre por pantalla su media y desviación típica."
   ]
  },
  {
   "cell_type": "code",
   "execution_count": 10,
   "metadata": {},
   "outputs": [
    {
     "name": "stdout",
     "output_type": "stream",
     "text": [
      "Introduce una muestra de números separados por comas: 2,3,4,5\n",
      "La media es 3.5 , y la desviación típica es 1.118033988749895\n"
     ]
    }
   ],
   "source": [
    "sample = input(\"Introduce una muestra de números separados por comas: \")\n",
    "sample = sample.split(',')\n",
    "n = len(sample)\n",
    "for i in range(n):\n",
    "    sample[i] = int(sample[i])\n",
    "sample = tuple(sample)\n",
    "suma = 0\n",
    "sumsq = 0\n",
    "for i in sample:\n",
    "    #Otra forma de sumar a un contador --> suma += i\n",
    "    suma = suma + i\n",
    "    sumsq += i**2\n",
    "mean = suma/n\n",
    "stdev = (sumsq/n-mean**2)**(1/2)\n",
    "print('La media es', mean, ', y la desviación típica es', stdev)"
   ]
  }
 ],
 "metadata": {
  "kernelspec": {
   "display_name": "Python 3",
   "language": "python",
   "name": "python3"
  },
  "language_info": {
   "codemirror_mode": {
    "name": "ipython",
    "version": 3
   },
   "file_extension": ".py",
   "mimetype": "text/x-python",
   "name": "python",
   "nbconvert_exporter": "python",
   "pygments_lexer": "ipython3",
   "version": "3.7.4"
  }
 },
 "nbformat": 4,
 "nbformat_minor": 2
}
